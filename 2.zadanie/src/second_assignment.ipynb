{
 "cells": [
  {
   "cell_type": "markdown",
   "id": "49715bb1",
   "metadata": {},
   "source": [
    "# CIFAR-10"
   ]
  },
  {
   "cell_type": "markdown",
   "id": "8f825f36",
   "metadata": {},
   "source": [
    "CIFAR-10 dataset: http://www.cs.toronto.edu/~kriz/cifar.html\n",
    "\n",
    "#### Cieľ zadania: Klasifikácia obrázku jednej z nasledujúcich tried:\n",
    "• 0: airplane\\\n",
    "• 1: automobile\\\n",
    "• 2: bird\\\n",
    "• 3: cat\\\n",
    "• 4: deer\\\n",
    "• 5: dog\\\n",
    "• 6: frog\\\n",
    "• 7: horse\\\n",
    "• 8: ship\\\n",
    "• 9: truck"
   ]
  },
  {
   "cell_type": "code",
   "execution_count": 1,
   "id": "90189306",
   "metadata": {},
   "outputs": [],
   "source": [
    "from matplotlib import pyplot\n",
    "from keras.datasets import cifar10\n",
    "\n",
    "import pandas as pd\n",
    "import numpy as np\n",
    "import matplotlib.pyplot as plt\n",
    "import seaborn as sns\n",
    "from sklearn.model_selection import train_test_split\n",
    "\n",
    "import wandb\n",
    "from wandb.keras import WandbCallback\n",
    "\n",
    "import tensorflow as tf\n",
    "from tensorflow import keras\n",
    "from tensorflow.keras import layers\n",
    "from tensorflow.keras.preprocessing.image import ImageDataGenerator\n",
    "from tensorflow.keras.layers import Add"
   ]
  },
  {
   "cell_type": "code",
   "execution_count": 2,
   "id": "30ffa9bb",
   "metadata": {},
   "outputs": [],
   "source": [
    "def countValues(data):\n",
    "    unique_vals, counts = np.unique(data, return_counts=True)\n",
    "\n",
    "    for val, count in zip(unique_vals, counts):\n",
    "        print(\"Class {}: {} records\".format(val, count))"
   ]
  },
  {
   "cell_type": "code",
   "execution_count": 3,
   "id": "1833371d",
   "metadata": {},
   "outputs": [],
   "source": [
    "def dataNormalisation(data):\n",
    "    return data.astype('float32') / 255.0"
   ]
  },
  {
   "cell_type": "code",
   "execution_count": 4,
   "id": "b214d330",
   "metadata": {},
   "outputs": [],
   "source": [
    "dataClass = [\n",
    "    'airplane',\n",
    "    'automobile',\n",
    "    'bird',\n",
    "    'cat',\n",
    "    'deer',\n",
    "    'dog',\n",
    "    'frog',\n",
    "    'horse',\n",
    "    'ship',\n",
    "    'truck'\n",
    "]"
   ]
  },
  {
   "cell_type": "code",
   "execution_count": 5,
   "id": "39c3bd45",
   "metadata": {},
   "outputs": [
    {
     "name": "stdout",
     "output_type": "stream",
     "text": [
      "Train dataset:\n",
      " X=(50000, 32, 32, 3)\n",
      " y=(50000, 1)\n",
      "\n",
      "Validation dataset:\n",
      " X=(10000, 32, 32, 3)\n",
      " y=(10000, 1)\n"
     ]
    }
   ],
   "source": [
    "(X_train, y_train), (X_val, y_val) = cifar10.load_data()\n",
    "\n",
    "print('Train dataset:\\n X=%s\\n y=%s\\n' % (X_train.shape, y_train.shape))\n",
    "print('Validation dataset:\\n X=%s\\n y=%s' % (X_val.shape, y_val.shape))"
   ]
  },
  {
   "cell_type": "code",
   "execution_count": 6,
   "id": "49052f10",
   "metadata": {},
   "outputs": [
    {
     "name": "stdout",
     "output_type": "stream",
     "text": [
      "Class 0: 5000 records\n",
      "Class 1: 5000 records\n",
      "Class 2: 5000 records\n",
      "Class 3: 5000 records\n",
      "Class 4: 5000 records\n",
      "Class 5: 5000 records\n",
      "Class 6: 5000 records\n",
      "Class 7: 5000 records\n",
      "Class 8: 5000 records\n",
      "Class 9: 5000 records\n"
     ]
    }
   ],
   "source": [
    "countValues(y_train)"
   ]
  },
  {
   "cell_type": "code",
   "execution_count": 7,
   "id": "3329964b",
   "metadata": {},
   "outputs": [
    {
     "name": "stdout",
     "output_type": "stream",
     "text": [
      "Class 0: 1000 records\n",
      "Class 1: 1000 records\n",
      "Class 2: 1000 records\n",
      "Class 3: 1000 records\n",
      "Class 4: 1000 records\n",
      "Class 5: 1000 records\n",
      "Class 6: 1000 records\n",
      "Class 7: 1000 records\n",
      "Class 8: 1000 records\n",
      "Class 9: 1000 records\n"
     ]
    }
   ],
   "source": [
    "countValues(y_val)"
   ]
  },
  {
   "cell_type": "markdown",
   "id": "792eee8e",
   "metadata": {},
   "source": [
    "Normalizacia dat do intervalu 0 - 1"
   ]
  },
  {
   "cell_type": "code",
   "execution_count": 8,
   "id": "2275ee6b",
   "metadata": {},
   "outputs": [],
   "source": [
    "X_train = dataNormalisation(X_train)\n",
    "X_val = dataNormalisation(X_val)\n",
    "\n",
    "X_val, X_test, y_val, y_test = train_test_split(X_val, y_val, test_size=0.5, random_state=25)"
   ]
  },
  {
   "cell_type": "code",
   "execution_count": 9,
   "id": "51a42427",
   "metadata": {},
   "outputs": [
    {
     "name": "stdout",
     "output_type": "stream",
     "text": [
      "Class 0: 497 records\n",
      "Class 1: 482 records\n",
      "Class 2: 507 records\n",
      "Class 3: 504 records\n",
      "Class 4: 500 records\n",
      "Class 5: 511 records\n",
      "Class 6: 494 records\n",
      "Class 7: 507 records\n",
      "Class 8: 494 records\n",
      "Class 9: 504 records\n"
     ]
    }
   ],
   "source": [
    "countValues(y_val)"
   ]
  },
  {
   "cell_type": "code",
   "execution_count": 10,
   "id": "b7bf461a",
   "metadata": {},
   "outputs": [
    {
     "name": "stdout",
     "output_type": "stream",
     "text": [
      "Class 0: 503 records\n",
      "Class 1: 518 records\n",
      "Class 2: 493 records\n",
      "Class 3: 496 records\n",
      "Class 4: 500 records\n",
      "Class 5: 489 records\n",
      "Class 6: 506 records\n",
      "Class 7: 493 records\n",
      "Class 8: 506 records\n",
      "Class 9: 496 records\n"
     ]
    }
   ],
   "source": [
    "countValues(y_test)"
   ]
  },
  {
   "cell_type": "markdown",
   "id": "2b5d94f9",
   "metadata": {},
   "source": [
    "### Dáta:\n",
    "• RGB obrázky v rozmeroch 32x32x3\\\n",
    "• obrázky rozdelené do 10 tried\n",
    "\n",
    "Trénovacích vzoriek: 50000 - každá trieda má 5000 vzoriek\\\n",
    "Validačných vzoriek: 10000 - každá trieda má 1000 vzoriek\\\n",
    "&emsp;&emsp;&emsp;    • validačný dataset - 5000 vzoriek\\\n",
    "&emsp;&emsp;&emsp;    • testovací dataset - 5000 vzoriek"
   ]
  },
  {
   "cell_type": "code",
   "execution_count": 11,
   "id": "fe79b7e7",
   "metadata": {},
   "outputs": [
    {
     "data": {
      "image/png": "[encoded data removed]",
      "text/plain": [
       "<Figure size 640x480 with 9 Axes>"
      ]
     },
     "metadata": {},
     "output_type": "display_data"
    }
   ],
   "source": [
    "for i in range(9):\n",
    "    plt.subplot(331 + i)\n",
    "    plt.imshow(X_train[i], aspect='auto')\n",
    "plt.show()"
   ]
  },
  {
   "cell_type": "code",
   "execution_count": 12,
   "id": "7cec4099",
   "metadata": {
    "scrolled": true
   },
   "outputs": [
    {
     "name": "stdout",
     "output_type": "stream",
     "text": [
      "Class:\n",
      "[6] - frog\n",
      "[9] - truck\n",
      "[9] - truck\n",
      "[4] - deer\n",
      "[1] - automobile\n",
      "[1] - automobile\n",
      "[2] - bird\n",
      "[7] - horse\n",
      "[8] - ship\n"
     ]
    }
   ],
   "source": [
    "print('Class:')\n",
    "for i in range(9):\n",
    "    print(y_train[i], '-', dataClass[y_train[i][0]])"
   ]
  },
  {
   "cell_type": "code",
   "execution_count": 13,
   "id": "2bacf0d6",
   "metadata": {},
   "outputs": [],
   "source": [
    "# one hot encoding\n",
    "y_train = tf.keras.utils.to_categorical(y_train)\n",
    "y_val = tf.keras.utils.to_categorical(y_val)\n",
    "y_test = tf.keras.utils.to_categorical(y_test)"
   ]
  },
  {
   "cell_type": "code",
   "execution_count": 14,
   "id": "2060e2fc",
   "metadata": {},
   "outputs": [
    {
     "name": "stdout",
     "output_type": "stream",
     "text": [
      "[0. 0. 0. 0. 0. 0. 0. 0. 0. 1.]\n"
     ]
    }
   ],
   "source": [
    "print(y_train[1])"
   ]
  },
  {
   "cell_type": "markdown",
   "id": "14561023",
   "metadata": {},
   "source": [
    "# Pokus 1"
   ]
  },
  {
   "cell_type": "code",
   "execution_count": 15,
   "id": "a1beb3bd",
   "metadata": {
    "scrolled": false
   },
   "outputs": [
    {
     "name": "stderr",
     "output_type": "stream",
     "text": [
      "\u001b[34m\u001b[1mwandb\u001b[0m: Currently logged in as: \u001b[33mandrejbelak0\u001b[0m (\u001b[33mneural-netwok-nn\u001b[0m). Use \u001b[1m`wandb login --relogin`\u001b[0m to force relogin\n"
     ]
    },
    {
     "data": {
      "text/html": [
       "wandb version 0.14.2 is available!  To upgrade, please run:\n",
       " $ pip install wandb --upgrade"
      ],
      "text/plain": [
       "<IPython.core.display.HTML object>"
      ]
     },
     "metadata": {},
     "output_type": "display_data"
    },
    {
     "data": {
      "text/html": [
       "Tracking run with wandb version 0.14.0"
      ],
      "text/plain": [
       "<IPython.core.display.HTML object>"
      ]
     },
     "metadata": {},
     "output_type": "display_data"
    },
    {
     "data": {
      "text/html": [
       "Run data is saved locally in <code>D:\\10.semester\\NN\\neural-networks\\2.zadanie\\src\\wandb\\run-20230411_234146-q1lovgfh</code>"
      ],
      "text/plain": [
       "<IPython.core.display.HTML object>"
      ]
     },
     "metadata": {},
     "output_type": "display_data"
    },
    {
     "data": {
      "text/html": [
       "Syncing run <strong><a href='https://wandb.ai/neural-netwok-nn/neural-network-assgiment2/runs/q1lovgfh' target=\"_blank\">logical-bee-1</a></strong> to <a href='https://wandb.ai/neural-netwok-nn/neural-network-assgiment2' target=\"_blank\">Weights & Biases</a> (<a href='https://wandb.me/run' target=\"_blank\">docs</a>)<br/>"
      ],
      "text/plain": [
       "<IPython.core.display.HTML object>"
      ]
     },
     "metadata": {},
     "output_type": "display_data"
    },
    {
     "data": {
      "text/html": [
       " View project at <a href='https://wandb.ai/neural-netwok-nn/neural-network-assgiment2' target=\"_blank\">https://wandb.ai/neural-netwok-nn/neural-network-assgiment2</a>"
      ],
      "text/plain": [
       "<IPython.core.display.HTML object>"
      ]
     },
     "metadata": {},
     "output_type": "display_data"
    },
    {
     "data": {
      "text/html": [
       " View run at <a href='https://wandb.ai/neural-netwok-nn/neural-network-assgiment2/runs/q1lovgfh' target=\"_blank\">https://wandb.ai/neural-netwok-nn/neural-network-assgiment2/runs/q1lovgfh</a>"
      ],
      "text/plain": [
       "<IPython.core.display.HTML object>"
      ]
     },
     "metadata": {},
     "output_type": "display_data"
    },
    {
     "name": "stderr",
     "output_type": "stream",
     "text": [
      "\u001b[34m\u001b[1mwandb\u001b[0m: \u001b[33mWARNING\u001b[0m The save_model argument by default saves the model in the HDF5 format that cannot save custom objects like subclassed models and custom layers. This behavior will be deprecated in a future release in favor of the SavedModel format. Meanwhile, the HDF5 model is saved as W&B files and the SavedModel as W&B Artifacts.\n"
     ]
    },
    {
     "name": "stdout",
     "output_type": "stream",
     "text": [
      "Epoch 1/20\n",
      "1563/1563 [==============================] - ETA: 0s - loss: 1.3254 - accuracy: 0.5263"
     ]
    },
    {
     "name": "stderr",
     "output_type": "stream",
     "text": [
      "WARNING:absl:Found untraced functions such as _jit_compiled_convolution_op, _jit_compiled_convolution_op, _update_step_xla while saving (showing 3 of 3). These functions will not be directly callable after loading.\n"
     ]
    },
    {
     "name": "stdout",
     "output_type": "stream",
     "text": [
      "INFO:tensorflow:Assets written to: D:\\10.semester\\NN\\neural-networks\\2.zadanie\\src\\wandb\\run-20230411_234146-q1lovgfh\\files\\model-best\\assets\n"
     ]
    },
    {
     "name": "stderr",
     "output_type": "stream",
     "text": [
      "INFO:tensorflow:Assets written to: D:\\10.semester\\NN\\neural-networks\\2.zadanie\\src\\wandb\\run-20230411_234146-q1lovgfh\\files\\model-best\\assets\n",
      "\u001b[34m\u001b[1mwandb\u001b[0m: Adding directory to artifact (D:\\10.semester\\NN\\neural-networks\\2.zadanie\\src\\wandb\\run-20230411_234146-q1lovgfh\\files\\model-best)... Done. 0.0s\n"
     ]
    },
    {
     "name": "stdout",
     "output_type": "stream",
     "text": [
      "1563/1563 [==============================] - 36s 23ms/step - loss: 1.3254 - accuracy: 0.5263 - val_loss: 1.0753 - val_accuracy: 0.6298 - lr: 0.0010\n",
      "Epoch 2/20\n",
      "1563/1563 [==============================] - ETA: 0s - loss: 0.9567 - accuracy: 0.6658"
     ]
    },
    {
     "name": "stderr",
     "output_type": "stream",
     "text": [
      "WARNING:absl:Found untraced functions such as _jit_compiled_convolution_op, _jit_compiled_convolution_op, _update_step_xla while saving (showing 3 of 3). These functions will not be directly callable after loading.\n"
     ]
    },
    {
     "name": "stdout",
     "output_type": "stream",
     "text": [
      "INFO:tensorflow:Assets written to: D:\\10.semester\\NN\\neural-networks\\2.zadanie\\src\\wandb\\run-20230411_234146-q1lovgfh\\files\\model-best\\assets\n"
     ]
    },
    {
     "name": "stderr",
     "output_type": "stream",
     "text": [
      "INFO:tensorflow:Assets written to: D:\\10.semester\\NN\\neural-networks\\2.zadanie\\src\\wandb\\run-20230411_234146-q1lovgfh\\files\\model-best\\assets\n",
      "\u001b[34m\u001b[1mwandb\u001b[0m: Adding directory to artifact (D:\\10.semester\\NN\\neural-networks\\2.zadanie\\src\\wandb\\run-20230411_234146-q1lovgfh\\files\\model-best)... Done. 0.0s\n"
     ]
    },
    {
     "name": "stdout",
     "output_type": "stream",
     "text": [
      "1563/1563 [==============================] - 34s 22ms/step - loss: 0.9567 - accuracy: 0.6658 - val_loss: 0.9738 - val_accuracy: 0.6712 - lr: 0.0010\n",
      "Epoch 3/20\n",
      "1561/1563 [============================>.] - ETA: 0s - loss: 0.7839 - accuracy: 0.7262"
     ]
    },
    {
     "name": "stderr",
     "output_type": "stream",
     "text": [
      "WARNING:absl:Found untraced functions such as _jit_compiled_convolution_op, _jit_compiled_convolution_op, _update_step_xla while saving (showing 3 of 3). These functions will not be directly callable after loading.\n"
     ]
    },
    {
     "name": "stdout",
     "output_type": "stream",
     "text": [
      "INFO:tensorflow:Assets written to: D:\\10.semester\\NN\\neural-networks\\2.zadanie\\src\\wandb\\run-20230411_234146-q1lovgfh\\files\\model-best\\assets\n"
     ]
    },
    {
     "name": "stderr",
     "output_type": "stream",
     "text": [
      "INFO:tensorflow:Assets written to: D:\\10.semester\\NN\\neural-networks\\2.zadanie\\src\\wandb\\run-20230411_234146-q1lovgfh\\files\\model-best\\assets\n",
      "\u001b[34m\u001b[1mwandb\u001b[0m: Adding directory to artifact (D:\\10.semester\\NN\\neural-networks\\2.zadanie\\src\\wandb\\run-20230411_234146-q1lovgfh\\files\\model-best)... Done. 0.0s\n"
     ]
    },
    {
     "name": "stdout",
     "output_type": "stream",
     "text": [
      "1563/1563 [==============================] - 33s 21ms/step - loss: 0.7838 - accuracy: 0.7262 - val_loss: 0.8857 - val_accuracy: 0.7000 - lr: 0.0010\n",
      "Epoch 4/20\n",
      "1563/1563 [==============================] - 32s 21ms/step - loss: 0.6341 - accuracy: 0.7784 - val_loss: 0.8903 - val_accuracy: 0.7084 - lr: 0.0010\n",
      "Epoch 5/20\n",
      "1563/1563 [==============================] - 33s 21ms/step - loss: 0.5051 - accuracy: 0.8233 - val_loss: 0.9224 - val_accuracy: 0.7128 - lr: 0.0010\n",
      "Epoch 6/20\n",
      "1563/1563 [==============================] - 33s 21ms/step - loss: 0.3794 - accuracy: 0.8684 - val_loss: 0.9714 - val_accuracy: 0.7196 - lr: 0.0010\n",
      "Epoch 7/20\n",
      "1563/1563 [==============================] - 33s 21ms/step - loss: 0.2716 - accuracy: 0.9068 - val_loss: 1.0497 - val_accuracy: 0.7224 - lr: 0.0010\n",
      "Epoch 8/20\n",
      "1563/1563 [==============================] - 34s 22ms/step - loss: 0.1937 - accuracy: 0.9345 - val_loss: 1.2452 - val_accuracy: 0.7086 - lr: 0.0010\n",
      "Epoch 9/20\n",
      "1563/1563 [==============================] - 34s 22ms/step - loss: 0.1091 - accuracy: 0.9643 - val_loss: 1.3733 - val_accuracy: 0.7130 - lr: 8.0000e-04\n",
      "Epoch 10/20\n",
      "1563/1563 [==============================] - 34s 22ms/step - loss: 0.0809 - accuracy: 0.9741 - val_loss: 1.5057 - val_accuracy: 0.7070 - lr: 8.0000e-04\n",
      "Epoch 11/20\n",
      "1563/1563 [==============================] - 35s 22ms/step - loss: 0.0684 - accuracy: 0.9776 - val_loss: 1.7418 - val_accuracy: 0.7042 - lr: 8.0000e-04\n",
      "Epoch 12/20\n",
      "1563/1563 [==============================] - 34s 22ms/step - loss: 0.0575 - accuracy: 0.9813 - val_loss: 1.8174 - val_accuracy: 0.7020 - lr: 8.0000e-04\n",
      "Epoch 13/20\n",
      "1563/1563 [==============================] - 35s 22ms/step - loss: 0.0607 - accuracy: 0.9800 - val_loss: 1.8540 - val_accuracy: 0.7094 - lr: 8.0000e-04\n",
      "157/157 - 1s - loss: 1.6917 - accuracy: 0.7266 - 739ms/epoch - 5ms/step\n",
      "Test accuracy: 0.7265999913215637\n",
      "Test loss: 1.6917054653167725\n"
     ]
    }
   ],
   "source": [
    "# Define the model architecture\n",
    "wandb.init(project=\"neural-network-assgiment2\")\n",
    "wandb.run.name = \"Pokus 1\"\n",
    "config = wandb.config\n",
    "config.learning_rate = 0.001\n",
    "config.batch_size = 32\n",
    "config.epochs = 20\n",
    "\n",
    "model = keras.Sequential([\n",
    "    layers.Conv2D(32, kernel_size=(3, 3), activation='relu', input_shape=(32, 32, 3)),\n",
    "    layers.MaxPooling2D(pool_size=(2, 2)),\n",
    "    layers.Conv2D(64, kernel_size=(3, 3), activation='relu'),\n",
    "    layers.MaxPooling2D(pool_size=(2, 2)),\n",
    "    layers.Flatten(),\n",
    "    layers.Dense(512, activation='relu'),\n",
    "    layers.Dense(10, activation='softmax')\n",
    "])\n",
    "\n",
    "optimizer = tf.keras.optimizers.Adam(learning_rate=config.learning_rate)\n",
    "\n",
    "model.compile(optimizer=optimizer, loss='categorical_crossentropy', metrics=['accuracy'])\n",
    "\n",
    "early_stop = tf.keras.callbacks.EarlyStopping(monitor='val_loss', patience=10)\n",
    "lr_scheduler = tf.keras.callbacks.ReduceLROnPlateau(monitor='val_loss', factor=0.8, patience=5, min_lr=0.000001)\n",
    "\n",
    "history = model.fit(X_train, y_train, epochs=config.epochs, batch_size=config.batch_size, validation_data=(X_val, y_val), callbacks=[lr_scheduler,early_stop,WandbCallback()])\n",
    "\n",
    "# Evaluate the model\n",
    "val_loss, val_acc = model.evaluate(X_test, y_test, verbose=2)\n",
    "print('Test accuracy:', val_acc)\n",
    "print('Test loss:', val_loss)\n",
    "\n",
    "# Evaluate the model on the val set and log the results\n",
    "wandb.log({'Test loss': val_loss, 'Test accuracy': val_acc})"
   ]
  },
  {
   "cell_type": "code",
   "execution_count": 16,
   "id": "c0fa3478",
   "metadata": {},
   "outputs": [
    {
     "name": "stdout",
     "output_type": "stream",
     "text": [
      "Model: \"sequential\"\n",
      "_________________________________________________________________\n",
      " Layer (type)                Output Shape              Param #   \n",
      "=================================================================\n",
      " conv2d (Conv2D)             (None, 30, 30, 32)        896       \n",
      "                                                                 \n",
      " max_pooling2d (MaxPooling2D  (None, 15, 15, 32)       0         \n",
      " )                                                               \n",
      "                                                                 \n",
      " conv2d_1 (Conv2D)           (None, 13, 13, 64)        18496     \n",
      "                                                                 \n",
      " max_pooling2d_1 (MaxPooling  (None, 6, 6, 64)         0         \n",
      " 2D)                                                             \n",
      "                                                                 \n",
      " flatten (Flatten)           (None, 2304)              0         \n",
      "                                                                 \n",
      " dense (Dense)               (None, 512)               1180160   \n",
      "                                                                 \n",
      " dense_1 (Dense)             (None, 10)                5130      \n",
      "                                                                 \n",
      "=================================================================\n",
      "Total params: 1,204,682\n",
      "Trainable params: 1,204,682\n",
      "Non-trainable params: 0\n",
      "_________________________________________________________________\n"
     ]
    }
   ],
   "source": [
    "model.summary()"
   ]
  },
  {
   "cell_type": "code",
   "execution_count": 17,
   "id": "3233f356",
   "metadata": {},
   "outputs": [
    {
     "data": {
      "image/png": "[encoded data removed]",
      "text/plain": [
       "<Figure size 640x480 with 1 Axes>"
      ]
     },
     "metadata": {},
     "output_type": "display_data"
    }
   ],
   "source": [
    "plt.plot(history.history['loss'], label='Training Loss')\n",
    "plt.plot(history.history['val_loss'], label='Validation Loss')\n",
    "plt.plot(history.history['accuracy'], label='Training Accuracy')\n",
    "plt.plot(history.history['val_accuracy'], label='Validation Accuracy')\n",
    "\n",
    "plt.xlabel('Epoch')\n",
    "plt.ylabel('Loss / Accuracy')\n",
    "plt.legend()\n",
    "plt.show()"
   ]
  },
  {
   "cell_type": "markdown",
   "id": "7c2fb062",
   "metadata": {},
   "source": [
    "# Pokus 2"
   ]
  },
  {
   "cell_type": "code",
   "execution_count": 18,
   "id": "725c2c26",
   "metadata": {
    "scrolled": true
   },
   "outputs": [
    {
     "data": {
      "text/html": [
       "Finishing last run (ID:q1lovgfh) before initializing another..."
      ],
      "text/plain": [
       "<IPython.core.display.HTML object>"
      ]
     },
     "metadata": {},
     "output_type": "display_data"
    },
    {
     "data": {
      "text/html": [
       "Waiting for W&B process to finish... <strong style=\"color:green\">(success).</strong>"
      ],
      "text/plain": [
       "<IPython.core.display.HTML object>"
      ]
     },
     "metadata": {},
     "output_type": "display_data"
    },
    {
     "data": {
      "text/html": [
       "<style>\n",
       "    table.wandb td:nth-child(1) { padding: 0 10px; text-align: left ; width: auto;} td:nth-child(2) {text-align: left ; width: 100%}\n",
       "    .wandb-row { display: flex; flex-direction: row; flex-wrap: wrap; justify-content: flex-start; width: 100% }\n",
       "    .wandb-col { display: flex; flex-direction: column; flex-basis: 100%; flex: 1; padding: 10px; }\n",
       "    </style>\n",
       "<div class=\"wandb-row\"><div class=\"wandb-col\"><h3>Run history:</h3><br/><table class=\"wandb\"><tr><td>Test accuracy</td><td>▁</td></tr><tr><td>Test loss</td><td>▁</td></tr><tr><td>accuracy</td><td>▁▃▄▅▆▆▇▇█████</td></tr><tr><td>epoch</td><td>▁▂▂▃▃▄▅▅▆▆▇▇█</td></tr><tr><td>loss</td><td>█▆▅▄▃▃▂▂▁▁▁▁▁</td></tr><tr><td>lr</td><td>████████▁▁▁▁▁</td></tr><tr><td>val_accuracy</td><td>▁▄▆▇▇██▇▇▇▇▆▇</td></tr><tr><td>val_loss</td><td>▂▂▁▁▁▂▂▄▅▅▇██</td></tr></table><br/></div><div class=\"wandb-col\"><h3>Run summary:</h3><br/><table class=\"wandb\"><tr><td>Test accuracy</td><td>0.7266</td></tr><tr><td>Test loss</td><td>1.69171</td></tr><tr><td>accuracy</td><td>0.97996</td></tr><tr><td>best_epoch</td><td>2</td></tr><tr><td>best_val_loss</td><td>0.88568</td></tr><tr><td>epoch</td><td>12</td></tr><tr><td>loss</td><td>0.06065</td></tr><tr><td>lr</td><td>0.0008</td></tr><tr><td>val_accuracy</td><td>0.7094</td></tr><tr><td>val_loss</td><td>1.85402</td></tr></table><br/></div></div>"
      ],
      "text/plain": [
       "<IPython.core.display.HTML object>"
      ]
     },
     "metadata": {},
     "output_type": "display_data"
    },
    {
     "data": {
      "text/html": [
       " View run <strong style=\"color:#cdcd00\">logical-bee-1</strong> at: <a href='https://wandb.ai/neural-netwok-nn/neural-network-assgiment2/runs/q1lovgfh' target=\"_blank\">https://wandb.ai/neural-netwok-nn/neural-network-assgiment2/runs/q1lovgfh</a><br/>Synced 5 W&B file(s), 1 media file(s), 15 artifact file(s) and 1 other file(s)"
      ],
      "text/plain": [
       "<IPython.core.display.HTML object>"
      ]
     },
     "metadata": {},
     "output_type": "display_data"
    },
    {
     "data": {
      "text/html": [
       "Find logs at: <code>.\\wandb\\run-20230411_234146-q1lovgfh\\logs</code>"
      ],
      "text/plain": [
       "<IPython.core.display.HTML object>"
      ]
     },
     "metadata": {},
     "output_type": "display_data"
    },
    {
     "data": {
      "text/html": [
       "Successfully finished last run (ID:q1lovgfh). Initializing new run:<br/>"
      ],
      "text/plain": [
       "<IPython.core.display.HTML object>"
      ]
     },
     "metadata": {},
     "output_type": "display_data"
    },
    {
     "data": {
      "application/vnd.jupyter.widget-view+json": {
       "model_id": "",
       "version_major": 2,
       "version_minor": 0
      },
      "text/plain": [
       "VBox(children=(Label(value='Waiting for wandb.init()...\\r'), FloatProgress(value=0.01693333333338766, max=1.0)…"
      ]
     },
     "metadata": {},
     "output_type": "display_data"
    },
    {
     "data": {
      "text/html": [
       "wandb version 0.14.2 is available!  To upgrade, please run:\n",
       " $ pip install wandb --upgrade"
      ],
      "text/plain": [
       "<IPython.core.display.HTML object>"
      ]
     },
     "metadata": {},
     "output_type": "display_data"
    },
    {
     "data": {
      "text/html": [
       "Tracking run with wandb version 0.14.0"
      ],
      "text/plain": [
       "<IPython.core.display.HTML object>"
      ]
     },
     "metadata": {},
     "output_type": "display_data"
    },
    {
     "data": {
      "text/html": [
       "Run data is saved locally in <code>D:\\10.semester\\NN\\neural-networks\\2.zadanie\\src\\wandb\\run-20230411_234911-dykhlofm</code>"
      ],
      "text/plain": [
       "<IPython.core.display.HTML object>"
      ]
     },
     "metadata": {},
     "output_type": "display_data"
    },
    {
     "data": {
      "text/html": [
       "Syncing run <strong><a href='https://wandb.ai/neural-netwok-nn/neural-network-assgiment2/runs/dykhlofm' target=\"_blank\">misunderstood-brook-2</a></strong> to <a href='https://wandb.ai/neural-netwok-nn/neural-network-assgiment2' target=\"_blank\">Weights & Biases</a> (<a href='https://wandb.me/run' target=\"_blank\">docs</a>)<br/>"
      ],
      "text/plain": [
       "<IPython.core.display.HTML object>"
      ]
     },
     "metadata": {},
     "output_type": "display_data"
    },
    {
     "data": {
      "text/html": [
       " View project at <a href='https://wandb.ai/neural-netwok-nn/neural-network-assgiment2' target=\"_blank\">https://wandb.ai/neural-netwok-nn/neural-network-assgiment2</a>"
      ],
      "text/plain": [
       "<IPython.core.display.HTML object>"
      ]
     },
     "metadata": {},
     "output_type": "display_data"
    },
    {
     "data": {
      "text/html": [
       " View run at <a href='https://wandb.ai/neural-netwok-nn/neural-network-assgiment2/runs/dykhlofm' target=\"_blank\">https://wandb.ai/neural-netwok-nn/neural-network-assgiment2/runs/dykhlofm</a>"
      ],
      "text/plain": [
       "<IPython.core.display.HTML object>"
      ]
     },
     "metadata": {},
     "output_type": "display_data"
    },
    {
     "name": "stdout",
     "output_type": "stream",
     "text": [
      "Epoch 1/20\n",
      "1562/1563 [============================>.] - ETA: 0s - loss: 1.4818 - accuracy: 0.4608"
     ]
    },
    {
     "name": "stderr",
     "output_type": "stream",
     "text": [
      "WARNING:absl:Found untraced functions such as _jit_compiled_convolution_op, _jit_compiled_convolution_op, _update_step_xla while saving (showing 3 of 3). These functions will not be directly callable after loading.\n"
     ]
    },
    {
     "name": "stdout",
     "output_type": "stream",
     "text": [
      "INFO:tensorflow:Assets written to: D:\\10.semester\\NN\\neural-networks\\2.zadanie\\src\\wandb\\run-20230411_234911-dykhlofm\\files\\model-best\\assets\n"
     ]
    },
    {
     "name": "stderr",
     "output_type": "stream",
     "text": [
      "INFO:tensorflow:Assets written to: D:\\10.semester\\NN\\neural-networks\\2.zadanie\\src\\wandb\\run-20230411_234911-dykhlofm\\files\\model-best\\assets\n",
      "\u001b[34m\u001b[1mwandb\u001b[0m: Adding directory to artifact (D:\\10.semester\\NN\\neural-networks\\2.zadanie\\src\\wandb\\run-20230411_234911-dykhlofm\\files\\model-best)... Done. 0.0s\n"
     ]
    },
    {
     "name": "stdout",
     "output_type": "stream",
     "text": [
      "1563/1563 [==============================] - 22s 14ms/step - loss: 1.4817 - accuracy: 0.4609 - val_loss: 1.2656 - val_accuracy: 0.5496 - lr: 0.0010\n",
      "Epoch 2/20\n",
      "1563/1563 [==============================] - ETA: 0s - loss: 1.1298 - accuracy: 0.6000"
     ]
    },
    {
     "name": "stderr",
     "output_type": "stream",
     "text": [
      "WARNING:absl:Found untraced functions such as _jit_compiled_convolution_op, _jit_compiled_convolution_op, _update_step_xla while saving (showing 3 of 3). These functions will not be directly callable after loading.\n"
     ]
    },
    {
     "name": "stdout",
     "output_type": "stream",
     "text": [
      "INFO:tensorflow:Assets written to: D:\\10.semester\\NN\\neural-networks\\2.zadanie\\src\\wandb\\run-20230411_234911-dykhlofm\\files\\model-best\\assets\n"
     ]
    },
    {
     "name": "stderr",
     "output_type": "stream",
     "text": [
      "INFO:tensorflow:Assets written to: D:\\10.semester\\NN\\neural-networks\\2.zadanie\\src\\wandb\\run-20230411_234911-dykhlofm\\files\\model-best\\assets\n",
      "\u001b[34m\u001b[1mwandb\u001b[0m: Adding directory to artifact (D:\\10.semester\\NN\\neural-networks\\2.zadanie\\src\\wandb\\run-20230411_234911-dykhlofm\\files\\model-best)... Done. 0.0s\n"
     ]
    },
    {
     "name": "stdout",
     "output_type": "stream",
     "text": [
      "1563/1563 [==============================] - 22s 14ms/step - loss: 1.1298 - accuracy: 0.6000 - val_loss: 1.0864 - val_accuracy: 0.6160 - lr: 0.0010\n",
      "Epoch 3/20\n",
      "1559/1563 [============================>.] - ETA: 0s - loss: 0.9973 - accuracy: 0.6515"
     ]
    },
    {
     "name": "stderr",
     "output_type": "stream",
     "text": [
      "WARNING:absl:Found untraced functions such as _jit_compiled_convolution_op, _jit_compiled_convolution_op, _update_step_xla while saving (showing 3 of 3). These functions will not be directly callable after loading.\n"
     ]
    },
    {
     "name": "stdout",
     "output_type": "stream",
     "text": [
      "INFO:tensorflow:Assets written to: D:\\10.semester\\NN\\neural-networks\\2.zadanie\\src\\wandb\\run-20230411_234911-dykhlofm\\files\\model-best\\assets\n"
     ]
    },
    {
     "name": "stderr",
     "output_type": "stream",
     "text": [
      "INFO:tensorflow:Assets written to: D:\\10.semester\\NN\\neural-networks\\2.zadanie\\src\\wandb\\run-20230411_234911-dykhlofm\\files\\model-best\\assets\n",
      "\u001b[34m\u001b[1mwandb\u001b[0m: Adding directory to artifact (D:\\10.semester\\NN\\neural-networks\\2.zadanie\\src\\wandb\\run-20230411_234911-dykhlofm\\files\\model-best)... Done. 0.0s\n"
     ]
    },
    {
     "name": "stdout",
     "output_type": "stream",
     "text": [
      "1563/1563 [==============================] - 23s 15ms/step - loss: 0.9972 - accuracy: 0.6516 - val_loss: 0.9985 - val_accuracy: 0.6504 - lr: 0.0010\n",
      "Epoch 4/20\n",
      "1562/1563 [============================>.] - ETA: 0s - loss: 0.9159 - accuracy: 0.6824"
     ]
    },
    {
     "name": "stderr",
     "output_type": "stream",
     "text": [
      "WARNING:absl:Found untraced functions such as _jit_compiled_convolution_op, _jit_compiled_convolution_op, _update_step_xla while saving (showing 3 of 3). These functions will not be directly callable after loading.\n"
     ]
    },
    {
     "name": "stdout",
     "output_type": "stream",
     "text": [
      "INFO:tensorflow:Assets written to: D:\\10.semester\\NN\\neural-networks\\2.zadanie\\src\\wandb\\run-20230411_234911-dykhlofm\\files\\model-best\\assets\n"
     ]
    },
    {
     "name": "stderr",
     "output_type": "stream",
     "text": [
      "INFO:tensorflow:Assets written to: D:\\10.semester\\NN\\neural-networks\\2.zadanie\\src\\wandb\\run-20230411_234911-dykhlofm\\files\\model-best\\assets\n",
      "\u001b[34m\u001b[1mwandb\u001b[0m: Adding directory to artifact (D:\\10.semester\\NN\\neural-networks\\2.zadanie\\src\\wandb\\run-20230411_234911-dykhlofm\\files\\model-best)... Done. 0.0s\n"
     ]
    },
    {
     "name": "stdout",
     "output_type": "stream",
     "text": [
      "1563/1563 [==============================] - 23s 14ms/step - loss: 0.9158 - accuracy: 0.6824 - val_loss: 0.9770 - val_accuracy: 0.6612 - lr: 0.0010\n",
      "Epoch 5/20\n",
      "1560/1563 [============================>.] - ETA: 0s - loss: 0.8502 - accuracy: 0.7058"
     ]
    },
    {
     "name": "stderr",
     "output_type": "stream",
     "text": [
      "WARNING:absl:Found untraced functions such as _jit_compiled_convolution_op, _jit_compiled_convolution_op, _update_step_xla while saving (showing 3 of 3). These functions will not be directly callable after loading.\n"
     ]
    },
    {
     "name": "stdout",
     "output_type": "stream",
     "text": [
      "INFO:tensorflow:Assets written to: D:\\10.semester\\NN\\neural-networks\\2.zadanie\\src\\wandb\\run-20230411_234911-dykhlofm\\files\\model-best\\assets\n"
     ]
    },
    {
     "name": "stderr",
     "output_type": "stream",
     "text": [
      "INFO:tensorflow:Assets written to: D:\\10.semester\\NN\\neural-networks\\2.zadanie\\src\\wandb\\run-20230411_234911-dykhlofm\\files\\model-best\\assets\n",
      "\u001b[34m\u001b[1mwandb\u001b[0m: Adding directory to artifact (D:\\10.semester\\NN\\neural-networks\\2.zadanie\\src\\wandb\\run-20230411_234911-dykhlofm\\files\\model-best)... Done. 0.0s\n"
     ]
    },
    {
     "name": "stdout",
     "output_type": "stream",
     "text": [
      "1563/1563 [==============================] - 24s 15ms/step - loss: 0.8504 - accuracy: 0.7058 - val_loss: 0.9304 - val_accuracy: 0.6728 - lr: 0.0010\n",
      "Epoch 6/20\n",
      "1563/1563 [==============================] - 23s 15ms/step - loss: 0.7972 - accuracy: 0.7228 - val_loss: 0.9628 - val_accuracy: 0.6664 - lr: 0.0010\n",
      "Epoch 7/20\n",
      "1559/1563 [============================>.] - ETA: 0s - loss: 0.7535 - accuracy: 0.7395"
     ]
    },
    {
     "name": "stderr",
     "output_type": "stream",
     "text": [
      "WARNING:absl:Found untraced functions such as _jit_compiled_convolution_op, _jit_compiled_convolution_op, _update_step_xla while saving (showing 3 of 3). These functions will not be directly callable after loading.\n"
     ]
    },
    {
     "name": "stdout",
     "output_type": "stream",
     "text": [
      "INFO:tensorflow:Assets written to: D:\\10.semester\\NN\\neural-networks\\2.zadanie\\src\\wandb\\run-20230411_234911-dykhlofm\\files\\model-best\\assets\n"
     ]
    },
    {
     "name": "stderr",
     "output_type": "stream",
     "text": [
      "INFO:tensorflow:Assets written to: D:\\10.semester\\NN\\neural-networks\\2.zadanie\\src\\wandb\\run-20230411_234911-dykhlofm\\files\\model-best\\assets\n",
      "\u001b[34m\u001b[1mwandb\u001b[0m: Adding directory to artifact (D:\\10.semester\\NN\\neural-networks\\2.zadanie\\src\\wandb\\run-20230411_234911-dykhlofm\\files\\model-best)... Done. 0.0s\n"
     ]
    },
    {
     "name": "stdout",
     "output_type": "stream",
     "text": [
      "1563/1563 [==============================] - 23s 15ms/step - loss: 0.7536 - accuracy: 0.7396 - val_loss: 0.9167 - val_accuracy: 0.6902 - lr: 0.0010\n",
      "Epoch 8/20\n",
      "1563/1563 [==============================] - 21s 13ms/step - loss: 0.7128 - accuracy: 0.7505 - val_loss: 0.9731 - val_accuracy: 0.6732 - lr: 0.0010\n",
      "Epoch 9/20\n",
      "1563/1563 [==============================] - 22s 14ms/step - loss: 0.6705 - accuracy: 0.7662 - val_loss: 0.9365 - val_accuracy: 0.6882 - lr: 0.0010\n",
      "Epoch 10/20\n",
      "1563/1563 [==============================] - 22s 14ms/step - loss: 0.6359 - accuracy: 0.7777 - val_loss: 0.9186 - val_accuracy: 0.6960 - lr: 0.0010\n",
      "Epoch 11/20\n",
      "1563/1563 [==============================] - 22s 14ms/step - loss: 0.6056 - accuracy: 0.7874 - val_loss: 0.9287 - val_accuracy: 0.6932 - lr: 0.0010\n",
      "Epoch 12/20\n",
      "1563/1563 [==============================] - 22s 14ms/step - loss: 0.5702 - accuracy: 0.8008 - val_loss: 0.9971 - val_accuracy: 0.6802 - lr: 0.0010\n",
      "Epoch 13/20\n",
      "1563/1563 [==============================] - 21s 14ms/step - loss: 0.5181 - accuracy: 0.8186 - val_loss: 0.9573 - val_accuracy: 0.6964 - lr: 8.0000e-04\n",
      "Epoch 14/20\n",
      "1563/1563 [==============================] - 21s 13ms/step - loss: 0.4893 - accuracy: 0.8284 - val_loss: 0.9909 - val_accuracy: 0.6882 - lr: 8.0000e-04\n",
      "Epoch 15/20\n",
      "1563/1563 [==============================] - 21s 13ms/step - loss: 0.4667 - accuracy: 0.8362 - val_loss: 1.0274 - val_accuracy: 0.6898 - lr: 8.0000e-04\n",
      "Epoch 16/20\n",
      "1563/1563 [==============================] - 21s 13ms/step - loss: 0.4454 - accuracy: 0.8440 - val_loss: 1.0483 - val_accuracy: 0.6918 - lr: 8.0000e-04\n",
      "Epoch 17/20\n",
      "1563/1563 [==============================] - 21s 13ms/step - loss: 0.4224 - accuracy: 0.8509 - val_loss: 1.0779 - val_accuracy: 0.6866 - lr: 8.0000e-04\n",
      "157/157 - 1s - loss: 1.0280 - accuracy: 0.7028 - 620ms/epoch - 4ms/step\n",
      "Test accuracy: 0.7027999758720398\n",
      "Test loss: 1.0279796123504639\n"
     ]
    }
   ],
   "source": [
    "# Define the model architecture\n",
    "wandb.init(project=\"neural-network-assgiment2\")\n",
    "wandb.run.name = \"Pokus 2\"\n",
    "config = wandb.config\n",
    "config.learning_rate = 0.001\n",
    "config.batch_size = 32\n",
    "config.epochs = 20\n",
    "\n",
    "\n",
    "model = keras.Sequential([\n",
    "    layers.Conv2D(32, kernel_size=(3, 3), activation='relu', input_shape=(32, 32, 3)),\n",
    "    layers.MaxPooling2D(pool_size=(2, 2)),\n",
    "    layers.Conv2D(64, kernel_size=(3, 3), activation='relu'),\n",
    "    layers.MaxPooling2D(pool_size=(2, 2)),\n",
    "    layers.Flatten(),\n",
    "    layers.Dense(64, activation='relu'),\n",
    "    layers.Dense(10, activation='softmax')\n",
    "])\n",
    "\n",
    "optimizer = tf.keras.optimizers.Adam(learning_rate=config.learning_rate)\n",
    "\n",
    "model.compile(optimizer=optimizer, loss='categorical_crossentropy', metrics=['accuracy'])\n",
    "\n",
    "early_stop = tf.keras.callbacks.EarlyStopping(monitor='val_loss', patience=10)\n",
    "lr_scheduler = tf.keras.callbacks.ReduceLROnPlateau(monitor='val_loss', factor=0.8, patience=5, min_lr=0.000001)\n",
    "\n",
    "history = model.fit(X_train, y_train, epochs=config.epochs, batch_size=config.batch_size, validation_data=(X_val, y_val), callbacks=[lr_scheduler,early_stop,WandbCallback()])\n",
    "\n",
    "# Evaluate the model\n",
    "val_loss, val_acc = model.evaluate(X_test, y_test, verbose=2)\n",
    "print('Test accuracy:', val_acc)\n",
    "print('Test loss:', val_loss)\n",
    "\n",
    "# Evaluate the model on the val set and log the results\n",
    "wandb.log({'Test loss': val_loss, 'Test accuracy': val_acc})"
   ]
  },
  {
   "cell_type": "code",
   "execution_count": 19,
   "id": "10e64eff",
   "metadata": {},
   "outputs": [
    {
     "name": "stdout",
     "output_type": "stream",
     "text": [
      "Model: \"sequential_1\"\n",
      "_________________________________________________________________\n",
      " Layer (type)                Output Shape              Param #   \n",
      "=================================================================\n",
      " conv2d_2 (Conv2D)           (None, 30, 30, 32)        896       \n",
      "                                                                 \n",
      " max_pooling2d_2 (MaxPooling  (None, 15, 15, 32)       0         \n",
      " 2D)                                                             \n",
      "                                                                 \n",
      " conv2d_3 (Conv2D)           (None, 13, 13, 64)        18496     \n",
      "                                                                 \n",
      " max_pooling2d_3 (MaxPooling  (None, 6, 6, 64)         0         \n",
      " 2D)                                                             \n",
      "                                                                 \n",
      " flatten_1 (Flatten)         (None, 2304)              0         \n",
      "                                                                 \n",
      " dense_2 (Dense)             (None, 64)                147520    \n",
      "                                                                 \n",
      " dense_3 (Dense)             (None, 10)                650       \n",
      "                                                                 \n",
      "=================================================================\n",
      "Total params: 167,562\n",
      "Trainable params: 167,562\n",
      "Non-trainable params: 0\n",
      "_________________________________________________________________\n"
     ]
    }
   ],
   "source": [
    "model.summary()"
   ]
  },
  {
   "cell_type": "code",
   "execution_count": 20,
   "id": "5ad7d23f",
   "metadata": {},
   "outputs": [
    {
     "data": {
      "image/png": "[encoded data removed]",
      "text/plain": [
       "<Figure size 640x480 with 1 Axes>"
      ]
     },
     "metadata": {},
     "output_type": "display_data"
    }
   ],
   "source": [
    "plt.plot(history.history['loss'], label='Training Loss')\n",
    "plt.plot(history.history['val_loss'], label='Validation Loss')\n",
    "plt.plot(history.history['accuracy'], label='Training Accuracy')\n",
    "plt.plot(history.history['val_accuracy'], label='Validation Accuracy')\n",
    "\n",
    "plt.xlabel('Epoch')\n",
    "plt.ylabel('Loss / Accuracy')\n",
    "plt.legend()\n",
    "plt.show()"
   ]
  },
  {
   "cell_type": "markdown",
   "id": "f9748923",
   "metadata": {},
   "source": [
    "# Pokus 3"
   ]
  },
  {
   "cell_type": "code",
   "execution_count": 21,
   "id": "3f9ccb91",
   "metadata": {},
   "outputs": [
    {
     "data": {
      "text/html": [
       "Finishing last run (ID:qhze63te) before initializing another..."
      ],
      "text/plain": [
       "<IPython.core.display.HTML object>"
      ]
     },
     "metadata": {},
     "output_type": "display_data"
    },
    {
     "data": {
      "text/html": [
       "Waiting for W&B process to finish... <strong style=\"color:green\">(success).</strong>"
      ],
      "text/plain": [
       "<IPython.core.display.HTML object>"
      ]
     },
     "metadata": {},
     "output_type": "display_data"
    },
    {
     "data": {
      "application/vnd.jupyter.widget-view+json": {
       "model_id": "b7a492f3dac841a484e04ce483d2aae4",
       "version_major": 2,
       "version_minor": 0
      },
      "text/plain": [
       "VBox(children=(Label(value='0.005 MB of 0.005 MB uploaded (0.000 MB deduped)\\r'), FloatProgress(value=1.0, max…"
      ]
     },
     "metadata": {},
     "output_type": "display_data"
    },
    {
     "data": {
      "text/html": [
       " View run <strong style=\"color:#cdcd00\">solar-shadow-4</strong> at: <a href='https://wandb.ai/neural-netwok-nn/neural-network-assgiment2/runs/qhze63te' target=\"_blank\">https://wandb.ai/neural-netwok-nn/neural-network-assgiment2/runs/qhze63te</a><br/>Synced 5 W&B file(s), 1 media file(s), 0 artifact file(s) and 0 other file(s)"
      ],
      "text/plain": [
       "<IPython.core.display.HTML object>"
      ]
     },
     "metadata": {},
     "output_type": "display_data"
    },
    {
     "data": {
      "text/html": [
       "Find logs at: <code>.\\wandb\\run-20230412_145750-qhze63te\\logs</code>"
      ],
      "text/plain": [
       "<IPython.core.display.HTML object>"
      ]
     },
     "metadata": {},
     "output_type": "display_data"
    },
    {
     "data": {
      "text/html": [
       "Successfully finished last run (ID:qhze63te). Initializing new run:<br/>"
      ],
      "text/plain": [
       "<IPython.core.display.HTML object>"
      ]
     },
     "metadata": {},
     "output_type": "display_data"
    },
    {
     "data": {
      "application/vnd.jupyter.widget-view+json": {
       "model_id": "082e80cd1185493797d83ae85a4dc92f",
       "version_major": 2,
       "version_minor": 0
      },
      "text/plain": [
       "VBox(children=(Label(value='Waiting for wandb.init()...\\r'), FloatProgress(value=0.01693333333338766, max=1.0)…"
      ]
     },
     "metadata": {},
     "output_type": "display_data"
    },
    {
     "data": {
      "text/html": [
       "wandb version 0.14.2 is available!  To upgrade, please run:\n",
       " $ pip install wandb --upgrade"
      ],
      "text/plain": [
       "<IPython.core.display.HTML object>"
      ]
     },
     "metadata": {},
     "output_type": "display_data"
    },
    {
     "data": {
      "text/html": [
       "Tracking run with wandb version 0.14.0"
      ],
      "text/plain": [
       "<IPython.core.display.HTML object>"
      ]
     },
     "metadata": {},
     "output_type": "display_data"
    },
    {
     "data": {
      "text/html": [
       "Run data is saved locally in <code>D:\\10.semester\\NN\\neural-networks\\2.zadanie\\src\\wandb\\run-20230412_145838-v5lq1n7h</code>"
      ],
      "text/plain": [
       "<IPython.core.display.HTML object>"
      ]
     },
     "metadata": {},
     "output_type": "display_data"
    },
    {
     "data": {
      "text/html": [
       "Syncing run <strong><a href='https://wandb.ai/neural-netwok-nn/neural-network-assgiment2/runs/v5lq1n7h' target=\"_blank\">dark-capybara-5</a></strong> to <a href='https://wandb.ai/neural-netwok-nn/neural-network-assgiment2' target=\"_blank\">Weights & Biases</a> (<a href='https://wandb.me/run' target=\"_blank\">docs</a>)<br/>"
      ],
      "text/plain": [
       "<IPython.core.display.HTML object>"
      ]
     },
     "metadata": {},
     "output_type": "display_data"
    },
    {
     "data": {
      "text/html": [
       " View project at <a href='https://wandb.ai/neural-netwok-nn/neural-network-assgiment2' target=\"_blank\">https://wandb.ai/neural-netwok-nn/neural-network-assgiment2</a>"
      ],
      "text/plain": [
       "<IPython.core.display.HTML object>"
      ]
     },
     "metadata": {},
     "output_type": "display_data"
    },
    {
     "data": {
      "text/html": [
       " View run at <a href='https://wandb.ai/neural-netwok-nn/neural-network-assgiment2/runs/v5lq1n7h' target=\"_blank\">https://wandb.ai/neural-netwok-nn/neural-network-assgiment2/runs/v5lq1n7h</a>"
      ],
      "text/plain": [
       "<IPython.core.display.HTML object>"
      ]
     },
     "metadata": {},
     "output_type": "display_data"
    },
    {
     "name": "stdout",
     "output_type": "stream",
     "text": [
      "Epoch 1/20\n",
      "781/782 [============================>.] - ETA: 0s - loss: 1.3521 - accuracy: 0.5153"
     ]
    },
    {
     "name": "stderr",
     "output_type": "stream",
     "text": [
      "WARNING:absl:Found untraced functions such as _jit_compiled_convolution_op, _jit_compiled_convolution_op, _jit_compiled_convolution_op, _update_step_xla while saving (showing 4 of 4). These functions will not be directly callable after loading.\n"
     ]
    },
    {
     "name": "stdout",
     "output_type": "stream",
     "text": [
      "INFO:tensorflow:Assets written to: D:\\10.semester\\NN\\neural-networks\\2.zadanie\\src\\wandb\\run-20230412_145838-v5lq1n7h\\files\\model-best\\assets\n"
     ]
    },
    {
     "name": "stderr",
     "output_type": "stream",
     "text": [
      "INFO:tensorflow:Assets written to: D:\\10.semester\\NN\\neural-networks\\2.zadanie\\src\\wandb\\run-20230412_145838-v5lq1n7h\\files\\model-best\\assets\n",
      "\u001b[34m\u001b[1mwandb\u001b[0m: Adding directory to artifact (D:\\10.semester\\NN\\neural-networks\\2.zadanie\\src\\wandb\\run-20230412_145838-v5lq1n7h\\files\\model-best)... Done. 0.1s\n"
     ]
    },
    {
     "name": "stdout",
     "output_type": "stream",
     "text": [
      "782/782 [==============================] - 75s 94ms/step - loss: 1.3520 - accuracy: 0.5153 - val_loss: 1.0572 - val_accuracy: 0.6286 - lr: 0.0010\n",
      "Epoch 2/20\n",
      "781/782 [============================>.] - ETA: 0s - loss: 0.8902 - accuracy: 0.6879"
     ]
    },
    {
     "name": "stderr",
     "output_type": "stream",
     "text": [
      "WARNING:absl:Found untraced functions such as _jit_compiled_convolution_op, _jit_compiled_convolution_op, _jit_compiled_convolution_op, _update_step_xla while saving (showing 4 of 4). These functions will not be directly callable after loading.\n"
     ]
    },
    {
     "name": "stdout",
     "output_type": "stream",
     "text": [
      "INFO:tensorflow:Assets written to: D:\\10.semester\\NN\\neural-networks\\2.zadanie\\src\\wandb\\run-20230412_145838-v5lq1n7h\\files\\model-best\\assets\n"
     ]
    },
    {
     "name": "stderr",
     "output_type": "stream",
     "text": [
      "INFO:tensorflow:Assets written to: D:\\10.semester\\NN\\neural-networks\\2.zadanie\\src\\wandb\\run-20230412_145838-v5lq1n7h\\files\\model-best\\assets\n",
      "\u001b[34m\u001b[1mwandb\u001b[0m: Adding directory to artifact (D:\\10.semester\\NN\\neural-networks\\2.zadanie\\src\\wandb\\run-20230412_145838-v5lq1n7h\\files\\model-best)... Done. 0.1s\n"
     ]
    },
    {
     "name": "stdout",
     "output_type": "stream",
     "text": [
      "782/782 [==============================] - 56s 72ms/step - loss: 0.8901 - accuracy: 0.6879 - val_loss: 0.8616 - val_accuracy: 0.7034 - lr: 0.0010\n",
      "Epoch 3/20\n",
      "781/782 [============================>.] - ETA: 0s - loss: 0.6889 - accuracy: 0.7617"
     ]
    },
    {
     "name": "stderr",
     "output_type": "stream",
     "text": [
      "WARNING:absl:Found untraced functions such as _jit_compiled_convolution_op, _jit_compiled_convolution_op, _jit_compiled_convolution_op, _update_step_xla while saving (showing 4 of 4). These functions will not be directly callable after loading.\n"
     ]
    },
    {
     "name": "stdout",
     "output_type": "stream",
     "text": [
      "INFO:tensorflow:Assets written to: D:\\10.semester\\NN\\neural-networks\\2.zadanie\\src\\wandb\\run-20230412_145838-v5lq1n7h\\files\\model-best\\assets\n"
     ]
    },
    {
     "name": "stderr",
     "output_type": "stream",
     "text": [
      "INFO:tensorflow:Assets written to: D:\\10.semester\\NN\\neural-networks\\2.zadanie\\src\\wandb\\run-20230412_145838-v5lq1n7h\\files\\model-best\\assets\n",
      "\u001b[34m\u001b[1mwandb\u001b[0m: Adding directory to artifact (D:\\10.semester\\NN\\neural-networks\\2.zadanie\\src\\wandb\\run-20230412_145838-v5lq1n7h\\files\\model-best)... Done. 0.1s\n"
     ]
    },
    {
     "name": "stdout",
     "output_type": "stream",
     "text": [
      "782/782 [==============================] - 57s 73ms/step - loss: 0.6887 - accuracy: 0.7617 - val_loss: 0.8089 - val_accuracy: 0.7224 - lr: 0.0010\n",
      "Epoch 4/20\n",
      "781/782 [============================>.] - ETA: 0s - loss: 0.5356 - accuracy: 0.8134"
     ]
    },
    {
     "name": "stderr",
     "output_type": "stream",
     "text": [
      "WARNING:absl:Found untraced functions such as _jit_compiled_convolution_op, _jit_compiled_convolution_op, _jit_compiled_convolution_op, _update_step_xla while saving (showing 4 of 4). These functions will not be directly callable after loading.\n"
     ]
    },
    {
     "name": "stdout",
     "output_type": "stream",
     "text": [
      "INFO:tensorflow:Assets written to: D:\\10.semester\\NN\\neural-networks\\2.zadanie\\src\\wandb\\run-20230412_145838-v5lq1n7h\\files\\model-best\\assets\n"
     ]
    },
    {
     "name": "stderr",
     "output_type": "stream",
     "text": [
      "INFO:tensorflow:Assets written to: D:\\10.semester\\NN\\neural-networks\\2.zadanie\\src\\wandb\\run-20230412_145838-v5lq1n7h\\files\\model-best\\assets\n",
      "\u001b[34m\u001b[1mwandb\u001b[0m: Adding directory to artifact (D:\\10.semester\\NN\\neural-networks\\2.zadanie\\src\\wandb\\run-20230412_145838-v5lq1n7h\\files\\model-best)... Done. 0.1s\n"
     ]
    },
    {
     "name": "stdout",
     "output_type": "stream",
     "text": [
      "782/782 [==============================] - 57s 74ms/step - loss: 0.5356 - accuracy: 0.8134 - val_loss: 0.7855 - val_accuracy: 0.7326 - lr: 0.0010\n",
      "Epoch 5/20\n",
      "782/782 [==============================] - 57s 73ms/step - loss: 0.3875 - accuracy: 0.8649 - val_loss: 0.8527 - val_accuracy: 0.7302 - lr: 0.0010\n",
      "Epoch 6/20\n",
      "782/782 [==============================] - 56s 72ms/step - loss: 0.2631 - accuracy: 0.9077 - val_loss: 0.9862 - val_accuracy: 0.7278 - lr: 0.0010\n",
      "Epoch 7/20\n",
      "782/782 [==============================] - 55s 70ms/step - loss: 0.1718 - accuracy: 0.9404 - val_loss: 1.1945 - val_accuracy: 0.7168 - lr: 0.0010\n",
      "Epoch 8/20\n",
      "782/782 [==============================] - 55s 70ms/step - loss: 0.1110 - accuracy: 0.9620 - val_loss: 1.3940 - val_accuracy: 0.7136 - lr: 0.0010\n",
      "Epoch 9/20\n",
      "782/782 [==============================] - 56s 71ms/step - loss: 0.0935 - accuracy: 0.9676 - val_loss: 1.4767 - val_accuracy: 0.7270 - lr: 0.0010\n",
      "Epoch 10/20\n",
      "782/782 [==============================] - 56s 72ms/step - loss: 0.0483 - accuracy: 0.9838 - val_loss: 1.5829 - val_accuracy: 0.7360 - lr: 8.0000e-04\n",
      "Epoch 11/20\n",
      "782/782 [==============================] - 58s 74ms/step - loss: 0.0426 - accuracy: 0.9856 - val_loss: 1.7024 - val_accuracy: 0.7194 - lr: 8.0000e-04\n",
      "Epoch 12/20\n",
      "782/782 [==============================] - 60s 77ms/step - loss: 0.0414 - accuracy: 0.9860 - val_loss: 1.8122 - val_accuracy: 0.7120 - lr: 8.0000e-04\n",
      "Epoch 13/20\n",
      "782/782 [==============================] - 56s 72ms/step - loss: 0.0479 - accuracy: 0.9834 - val_loss: 1.8705 - val_accuracy: 0.7190 - lr: 8.0000e-04\n",
      "Epoch 14/20\n",
      "782/782 [==============================] - 57s 72ms/step - loss: 0.0415 - accuracy: 0.9865 - val_loss: 1.9403 - val_accuracy: 0.7250 - lr: 8.0000e-04\n",
      "157/157 - 1s - loss: 1.8322 - accuracy: 0.7402 - 1s/epoch - 8ms/step\n",
      "Test accuracy: 0.7401999831199646\n",
      "Test loss: 1.8322135210037231\n"
     ]
    }
   ],
   "source": [
    "# Define the model architecture\n",
    "wandb.init(project=\"neural-network-assgiment2\")\n",
    "wandb.run.name = \"Pokus 3\"\n",
    "config = wandb.config\n",
    "config.learning_rate = 0.001\n",
    "config.batch_size = 64\n",
    "config.epochs = 20\n",
    "\n",
    "\n",
    "model = keras.Sequential([\n",
    "    layers.Conv2D(32, kernel_size=(3, 3), activation='relu', input_shape=(32, 32, 3)),\n",
    "    layers.Conv2D(64, kernel_size=(3, 3), activation='relu'),\n",
    "    layers.MaxPooling2D(pool_size=(2, 2)),\n",
    "    layers.Conv2D(128, (3, 3), strides=(2,2), activation='relu', padding='same'),\n",
    "    layers.Flatten(),\n",
    "    layers.Dense(256, activation='relu'),\n",
    "    layers.Dense(10, activation='softmax')\n",
    "])\n",
    "\n",
    "optimizer = tf.keras.optimizers.Adam(learning_rate=config.learning_rate)\n",
    "\n",
    "model.compile(optimizer=optimizer, loss='categorical_crossentropy', metrics=['accuracy'])\n",
    "\n",
    "early_stop = tf.keras.callbacks.EarlyStopping(monitor='val_loss', patience=10)\n",
    "lr_scheduler = tf.keras.callbacks.ReduceLROnPlateau(monitor='val_loss', factor=0.8, patience=5, min_lr=0.000001)\n",
    "\n",
    "history = model.fit(X_train, y_train, epochs=config.epochs, batch_size=config.batch_size, validation_data=(X_val, y_val), callbacks=[lr_scheduler,early_stop,WandbCallback()])\n",
    "\n",
    "# Evaluate the model\n",
    "val_loss, val_acc = model.evaluate(X_test, y_test, verbose=2)\n",
    "print('Test accuracy:', val_acc)\n",
    "print('Test loss:', val_loss)\n",
    "\n",
    "# Evaluate the model on the val set and log the results\n",
    "wandb.log({'Test loss': val_loss, 'Test accuracy': val_acc})"
   ]
  },
  {
   "cell_type": "code",
   "execution_count": 22,
   "id": "59fd1302",
   "metadata": {},
   "outputs": [
    {
     "name": "stdout",
     "output_type": "stream",
     "text": [
      "Model: \"sequential_1\"\n",
      "_________________________________________________________________\n",
      " Layer (type)                Output Shape              Param #   \n",
      "=================================================================\n",
      " conv2d_11 (Conv2D)          (None, 30, 30, 32)        896       \n",
      "                                                                 \n",
      " conv2d_12 (Conv2D)          (None, 28, 28, 64)        18496     \n",
      "                                                                 \n",
      " max_pooling2d_3 (MaxPooling  (None, 14, 14, 64)       0         \n",
      " 2D)                                                             \n",
      "                                                                 \n",
      " conv2d_13 (Conv2D)          (None, 7, 7, 128)         73856     \n",
      "                                                                 \n",
      " flatten_1 (Flatten)         (None, 6272)              0         \n",
      "                                                                 \n",
      " dense_3 (Dense)             (None, 256)               1605888   \n",
      "                                                                 \n",
      " dense_4 (Dense)             (None, 10)                2570      \n",
      "                                                                 \n",
      "=================================================================\n",
      "Total params: 1,701,706\n",
      "Trainable params: 1,701,706\n",
      "Non-trainable params: 0\n",
      "_________________________________________________________________\n"
     ]
    }
   ],
   "source": [
    "model.summary()"
   ]
  },
  {
   "cell_type": "code",
   "execution_count": 23,
   "id": "4e7342a0",
   "metadata": {},
   "outputs": [
    {
     "data": {
      "image/png": "[encoded data removed]",
      "text/plain": [
       "<Figure size 640x480 with 1 Axes>"
      ]
     },
     "metadata": {},
     "output_type": "display_data"
    }
   ],
   "source": [
    "plt.plot(history.history['loss'], label='Training Loss')\n",
    "plt.plot(history.history['val_loss'], label='Validation Loss')\n",
    "plt.plot(history.history['accuracy'], label='Training Accuracy')\n",
    "plt.plot(history.history['val_accuracy'], label='Validation Accuracy')\n",
    "\n",
    "plt.xlabel('Epoch')\n",
    "plt.ylabel('Loss / Accuracy')\n",
    "plt.legend()\n",
    "plt.show()"
   ]
  },
  {
   "cell_type": "markdown",
   "id": "fed713f0",
   "metadata": {},
   "source": [
    "# Pokus 4"
   ]
  },
  {
   "cell_type": "code",
   "execution_count": 24,
   "id": "4a0925c6",
   "metadata": {},
   "outputs": [
    {
     "data": {
      "text/html": [
       "Finishing last run (ID:v5lq1n7h) before initializing another..."
      ],
      "text/plain": [
       "<IPython.core.display.HTML object>"
      ]
     },
     "metadata": {},
     "output_type": "display_data"
    },
    {
     "data": {
      "text/html": [
       "Waiting for W&B process to finish... <strong style=\"color:green\">(success).</strong>"
      ],
      "text/plain": [
       "<IPython.core.display.HTML object>"
      ]
     },
     "metadata": {},
     "output_type": "display_data"
    },
    {
     "data": {
      "text/html": [
       "<style>\n",
       "    table.wandb td:nth-child(1) { padding: 0 10px; text-align: left ; width: auto;} td:nth-child(2) {text-align: left ; width: 100%}\n",
       "    .wandb-row { display: flex; flex-direction: row; flex-wrap: wrap; justify-content: flex-start; width: 100% }\n",
       "    .wandb-col { display: flex; flex-direction: column; flex-basis: 100%; flex: 1; padding: 10px; }\n",
       "    </style>\n",
       "<div class=\"wandb-row\"><div class=\"wandb-col\"><h3>Run history:</h3><br/><table class=\"wandb\"><tr><td>Test accuracy</td><td>▁</td></tr><tr><td>Test loss</td><td>▁</td></tr><tr><td>accuracy</td><td>▁▄▅▅▆▇▇███████</td></tr><tr><td>epoch</td><td>▁▂▂▃▃▄▄▅▅▆▆▇▇█</td></tr><tr><td>loss</td><td>█▆▄▄▃▂▂▁▁▁▁▁▁▁</td></tr><tr><td>lr</td><td>█████████▁▁▁▁▁</td></tr><tr><td>val_accuracy</td><td>▁▆▇██▇▇▇▇█▇▆▇▇</td></tr><tr><td>val_loss</td><td>▃▁▁▁▁▂▃▅▅▆▇▇██</td></tr></table><br/></div><div class=\"wandb-col\"><h3>Run summary:</h3><br/><table class=\"wandb\"><tr><td>Test accuracy</td><td>0.7402</td></tr><tr><td>Test loss</td><td>1.83221</td></tr><tr><td>accuracy</td><td>0.98648</td></tr><tr><td>best_epoch</td><td>3</td></tr><tr><td>best_val_loss</td><td>0.7855</td></tr><tr><td>epoch</td><td>13</td></tr><tr><td>loss</td><td>0.04153</td></tr><tr><td>lr</td><td>0.0008</td></tr><tr><td>val_accuracy</td><td>0.725</td></tr><tr><td>val_loss</td><td>1.94034</td></tr></table><br/></div></div>"
      ],
      "text/plain": [
       "<IPython.core.display.HTML object>"
      ]
     },
     "metadata": {},
     "output_type": "display_data"
    },
    {
     "data": {
      "text/html": [
       " View run <strong style=\"color:#cdcd00\">dark-capybara-5</strong> at: <a href='https://wandb.ai/neural-netwok-nn/neural-network-assgiment2/runs/v5lq1n7h' target=\"_blank\">https://wandb.ai/neural-netwok-nn/neural-network-assgiment2/runs/v5lq1n7h</a><br/>Synced 5 W&B file(s), 1 media file(s), 20 artifact file(s) and 1 other file(s)"
      ],
      "text/plain": [
       "<IPython.core.display.HTML object>"
      ]
     },
     "metadata": {},
     "output_type": "display_data"
    },
    {
     "data": {
      "text/html": [
       "Find logs at: <code>.\\wandb\\run-20230412_145838-v5lq1n7h\\logs</code>"
      ],
      "text/plain": [
       "<IPython.core.display.HTML object>"
      ]
     },
     "metadata": {},
     "output_type": "display_data"
    },
    {
     "data": {
      "text/html": [
       "Successfully finished last run (ID:v5lq1n7h). Initializing new run:<br/>"
      ],
      "text/plain": [
       "<IPython.core.display.HTML object>"
      ]
     },
     "metadata": {},
     "output_type": "display_data"
    },
    {
     "data": {
      "application/vnd.jupyter.widget-view+json": {
       "model_id": "93b2d0ca29c94bba86c5f89f753f08da",
       "version_major": 2,
       "version_minor": 0
      },
      "text/plain": [
       "VBox(children=(Label(value='Waiting for wandb.init()...\\r'), FloatProgress(value=0.01693333333338766, max=1.0)…"
      ]
     },
     "metadata": {},
     "output_type": "display_data"
    },
    {
     "data": {
      "text/html": [
       "wandb version 0.14.2 is available!  To upgrade, please run:\n",
       " $ pip install wandb --upgrade"
      ],
      "text/plain": [
       "<IPython.core.display.HTML object>"
      ]
     },
     "metadata": {},
     "output_type": "display_data"
    },
    {
     "data": {
      "text/html": [
       "Tracking run with wandb version 0.14.0"
      ],
      "text/plain": [
       "<IPython.core.display.HTML object>"
      ]
     },
     "metadata": {},
     "output_type": "display_data"
    },
    {
     "data": {
      "text/html": [
       "Run data is saved locally in <code>D:\\10.semester\\NN\\neural-networks\\2.zadanie\\src\\wandb\\run-20230412_151222-fp6gs1t5</code>"
      ],
      "text/plain": [
       "<IPython.core.display.HTML object>"
      ]
     },
     "metadata": {},
     "output_type": "display_data"
    },
    {
     "data": {
      "text/html": [
       "Syncing run <strong><a href='https://wandb.ai/neural-netwok-nn/neural-network-assgiment2/runs/fp6gs1t5' target=\"_blank\">fluent-fire-6</a></strong> to <a href='https://wandb.ai/neural-netwok-nn/neural-network-assgiment2' target=\"_blank\">Weights & Biases</a> (<a href='https://wandb.me/run' target=\"_blank\">docs</a>)<br/>"
      ],
      "text/plain": [
       "<IPython.core.display.HTML object>"
      ]
     },
     "metadata": {},
     "output_type": "display_data"
    },
    {
     "data": {
      "text/html": [
       " View project at <a href='https://wandb.ai/neural-netwok-nn/neural-network-assgiment2' target=\"_blank\">https://wandb.ai/neural-netwok-nn/neural-network-assgiment2</a>"
      ],
      "text/plain": [
       "<IPython.core.display.HTML object>"
      ]
     },
     "metadata": {},
     "output_type": "display_data"
    },
    {
     "data": {
      "text/html": [
       " View run at <a href='https://wandb.ai/neural-netwok-nn/neural-network-assgiment2/runs/fp6gs1t5' target=\"_blank\">https://wandb.ai/neural-netwok-nn/neural-network-assgiment2/runs/fp6gs1t5</a>"
      ],
      "text/plain": [
       "<IPython.core.display.HTML object>"
      ]
     },
     "metadata": {},
     "output_type": "display_data"
    },
    {
     "name": "stdout",
     "output_type": "stream",
     "text": [
      "Epoch 1/20\n",
      "1561/1563 [============================>.] - ETA: 0s - loss: 1.3036 - accuracy: 0.5559"
     ]
    },
    {
     "name": "stderr",
     "output_type": "stream",
     "text": [
      "WARNING:absl:Found untraced functions such as _jit_compiled_convolution_op, _jit_compiled_convolution_op, _update_step_xla while saving (showing 3 of 3). These functions will not be directly callable after loading.\n"
     ]
    },
    {
     "name": "stdout",
     "output_type": "stream",
     "text": [
      "INFO:tensorflow:Assets written to: D:\\10.semester\\NN\\neural-networks\\2.zadanie\\src\\wandb\\run-20230412_151222-fp6gs1t5\\files\\model-best\\assets\n"
     ]
    },
    {
     "name": "stderr",
     "output_type": "stream",
     "text": [
      "INFO:tensorflow:Assets written to: D:\\10.semester\\NN\\neural-networks\\2.zadanie\\src\\wandb\\run-20230412_151222-fp6gs1t5\\files\\model-best\\assets\n",
      "\u001b[34m\u001b[1mwandb\u001b[0m: Adding directory to artifact (D:\\10.semester\\NN\\neural-networks\\2.zadanie\\src\\wandb\\run-20230412_151222-fp6gs1t5\\files\\model-best)... Done. 0.0s\n"
     ]
    },
    {
     "name": "stdout",
     "output_type": "stream",
     "text": [
      "1563/1563 [==============================] - 50s 31ms/step - loss: 1.3035 - accuracy: 0.5559 - val_loss: 1.0962 - val_accuracy: 0.6108 - lr: 0.0010\n",
      "Epoch 2/20\n",
      "1563/1563 [==============================] - 46s 30ms/step - loss: 0.9113 - accuracy: 0.6812 - val_loss: 1.2485 - val_accuracy: 0.5844 - lr: 0.0010\n",
      "Epoch 3/20\n",
      "1561/1563 [============================>.] - ETA: 0s - loss: 0.7403 - accuracy: 0.7407"
     ]
    },
    {
     "name": "stderr",
     "output_type": "stream",
     "text": [
      "WARNING:absl:Found untraced functions such as _jit_compiled_convolution_op, _jit_compiled_convolution_op, _update_step_xla while saving (showing 3 of 3). These functions will not be directly callable after loading.\n"
     ]
    },
    {
     "name": "stdout",
     "output_type": "stream",
     "text": [
      "INFO:tensorflow:Assets written to: D:\\10.semester\\NN\\neural-networks\\2.zadanie\\src\\wandb\\run-20230412_151222-fp6gs1t5\\files\\model-best\\assets\n"
     ]
    },
    {
     "name": "stderr",
     "output_type": "stream",
     "text": [
      "INFO:tensorflow:Assets written to: D:\\10.semester\\NN\\neural-networks\\2.zadanie\\src\\wandb\\run-20230412_151222-fp6gs1t5\\files\\model-best\\assets\n",
      "\u001b[34m\u001b[1mwandb\u001b[0m: Adding directory to artifact (D:\\10.semester\\NN\\neural-networks\\2.zadanie\\src\\wandb\\run-20230412_151222-fp6gs1t5\\files\\model-best)... Done. 0.0s\n"
     ]
    },
    {
     "name": "stdout",
     "output_type": "stream",
     "text": [
      "1563/1563 [==============================] - 49s 31ms/step - loss: 0.7405 - accuracy: 0.7407 - val_loss: 0.9381 - val_accuracy: 0.6798 - lr: 0.0010\n",
      "Epoch 4/20\n",
      "1563/1563 [==============================] - 47s 30ms/step - loss: 0.5998 - accuracy: 0.7900 - val_loss: 1.1117 - val_accuracy: 0.6452 - lr: 0.0010\n",
      "Epoch 5/20\n",
      "1563/1563 [==============================] - 46s 30ms/step - loss: 0.4760 - accuracy: 0.8331 - val_loss: 1.3296 - val_accuracy: 0.6126 - lr: 0.0010\n",
      "Epoch 6/20\n",
      "1563/1563 [==============================] - 46s 30ms/step - loss: 0.3744 - accuracy: 0.8703 - val_loss: 1.1119 - val_accuracy: 0.6786 - lr: 0.0010\n",
      "Epoch 7/20\n",
      "1563/1563 [==============================] - 46s 30ms/step - loss: 0.2958 - accuracy: 0.8970 - val_loss: 1.1584 - val_accuracy: 0.6754 - lr: 0.0010\n",
      "Epoch 8/20\n",
      "1563/1563 [==============================] - 47s 30ms/step - loss: 0.2476 - accuracy: 0.9138 - val_loss: 1.8087 - val_accuracy: 0.5876 - lr: 0.0010\n",
      "Epoch 9/20\n",
      "1563/1563 [==============================] - 48s 31ms/step - loss: 0.1661 - accuracy: 0.9416 - val_loss: 1.5194 - val_accuracy: 0.6552 - lr: 8.0000e-04\n",
      "Epoch 10/20\n",
      "1563/1563 [==============================] - 46s 30ms/step - loss: 0.1335 - accuracy: 0.9551 - val_loss: 1.4017 - val_accuracy: 0.6798 - lr: 8.0000e-04\n",
      "Epoch 11/20\n",
      "1563/1563 [==============================] - 46s 30ms/step - loss: 0.1255 - accuracy: 0.9573 - val_loss: 1.8833 - val_accuracy: 0.6328 - lr: 8.0000e-04\n",
      "Epoch 12/20\n",
      "1563/1563 [==============================] - 46s 30ms/step - loss: 0.1099 - accuracy: 0.9627 - val_loss: 1.3337 - val_accuracy: 0.6946 - lr: 8.0000e-04\n",
      "Epoch 13/20\n",
      "1563/1563 [==============================] - 46s 30ms/step - loss: 0.1082 - accuracy: 0.9618 - val_loss: 1.4607 - val_accuracy: 0.6906 - lr: 8.0000e-04\n",
      "157/157 - 1s - loss: 1.3842 - accuracy: 0.7074 - 1s/epoch - 7ms/step\n",
      "Test accuracy: 0.7074000239372253\n",
      "Test loss: 1.3841862678527832\n"
     ]
    }
   ],
   "source": [
    "# Define the model architecture\n",
    "wandb.init(project=\"neural-network-assgiment2\")\n",
    "wandb.run.name = \"Pokus 4\"\n",
    "config = wandb.config\n",
    "config.learning_rate = 0.001\n",
    "config.batch_size = 32\n",
    "config.epochs = 20\n",
    "\n",
    "model = keras.Sequential([\n",
    "    layers.Conv2D(32, kernel_size=(3, 3), activation='relu', input_shape=(32, 32, 3)),\n",
    "    layers.BatchNormalization(),\n",
    "    layers.MaxPooling2D(pool_size=(2, 2)),\n",
    "    layers.BatchNormalization(),\n",
    "    layers.Conv2D(64, kernel_size=(3, 3), activation='relu'),\n",
    "    layers.BatchNormalization(),\n",
    "    layers.MaxPooling2D(pool_size=(2, 2)),\n",
    "    layers.BatchNormalization(),\n",
    "    layers.Flatten(),\n",
    "    layers.BatchNormalization(),\n",
    "    layers.Dense(512, activation='relu'),\n",
    "    layers.BatchNormalization(),\n",
    "    layers.Dense(10, activation='softmax')\n",
    "])\n",
    "\n",
    "optimizer = tf.keras.optimizers.Adam(learning_rate=config.learning_rate)\n",
    "\n",
    "model.compile(optimizer=optimizer, loss='categorical_crossentropy', metrics=['accuracy'])\n",
    "\n",
    "early_stop = tf.keras.callbacks.EarlyStopping(monitor='val_loss', patience=10)\n",
    "lr_scheduler = tf.keras.callbacks.ReduceLROnPlateau(monitor='val_loss', factor=0.8, patience=5, min_lr=0.000001)\n",
    "\n",
    "history = model.fit(X_train, y_train, epochs=config.epochs, batch_size=config.batch_size, validation_data=(X_val, y_val), callbacks=[lr_scheduler,early_stop,WandbCallback()])\n",
    "\n",
    "# Evaluate the model\n",
    "val_loss, val_acc = model.evaluate(X_test, y_test, verbose=2)\n",
    "print('Test accuracy:', val_acc)\n",
    "print('Test loss:', val_loss)\n",
    "\n",
    "# Evaluate the model on the val set and log the results\n",
    "wandb.log({'Test loss': val_loss, 'Test accuracy': val_acc})"
   ]
  },
  {
   "cell_type": "code",
   "execution_count": 25,
   "id": "60dc34f2",
   "metadata": {},
   "outputs": [
    {
     "name": "stdout",
     "output_type": "stream",
     "text": [
      "Model: \"sequential_2\"\n",
      "_________________________________________________________________\n",
      " Layer (type)                Output Shape              Param #   \n",
      "=================================================================\n",
      " conv2d_14 (Conv2D)          (None, 30, 30, 32)        896       \n",
      "                                                                 \n",
      " batch_normalization_4 (Batc  (None, 30, 30, 32)       128       \n",
      " hNormalization)                                                 \n",
      "                                                                 \n",
      " max_pooling2d_4 (MaxPooling  (None, 15, 15, 32)       0         \n",
      " 2D)                                                             \n",
      "                                                                 \n",
      " batch_normalization_5 (Batc  (None, 15, 15, 32)       128       \n",
      " hNormalization)                                                 \n",
      "                                                                 \n",
      " conv2d_15 (Conv2D)          (None, 13, 13, 64)        18496     \n",
      "                                                                 \n",
      " batch_normalization_6 (Batc  (None, 13, 13, 64)       256       \n",
      " hNormalization)                                                 \n",
      "                                                                 \n",
      " max_pooling2d_5 (MaxPooling  (None, 6, 6, 64)         0         \n",
      " 2D)                                                             \n",
      "                                                                 \n",
      " batch_normalization_7 (Batc  (None, 6, 6, 64)         256       \n",
      " hNormalization)                                                 \n",
      "                                                                 \n",
      " flatten_2 (Flatten)         (None, 2304)              0         \n",
      "                                                                 \n",
      " batch_normalization_8 (Batc  (None, 2304)             9216      \n",
      " hNormalization)                                                 \n",
      "                                                                 \n",
      " dense_5 (Dense)             (None, 512)               1180160   \n",
      "                                                                 \n",
      " batch_normalization_9 (Batc  (None, 512)              2048      \n",
      " hNormalization)                                                 \n",
      "                                                                 \n",
      " dense_6 (Dense)             (None, 10)                5130      \n",
      "                                                                 \n",
      "=================================================================\n",
      "Total params: 1,216,714\n",
      "Trainable params: 1,210,698\n",
      "Non-trainable params: 6,016\n",
      "_________________________________________________________________\n"
     ]
    }
   ],
   "source": [
    "model.summary()"
   ]
  },
  {
   "cell_type": "code",
   "execution_count": 26,
   "id": "0c4b42a2",
   "metadata": {},
   "outputs": [
    {
     "data": {
      "image/png": "[encoded data removed]",
      "text/plain": [
       "<Figure size 640x480 with 1 Axes>"
      ]
     },
     "metadata": {},
     "output_type": "display_data"
    }
   ],
   "source": [
    "plt.plot(history.history['loss'], label='Training Loss')\n",
    "plt.plot(history.history['val_loss'], label='Validation Loss')\n",
    "plt.plot(history.history['accuracy'], label='Training Accuracy')\n",
    "plt.plot(history.history['val_accuracy'], label='Validation Accuracy')\n",
    "\n",
    "plt.xlabel('Epoch')\n",
    "plt.ylabel('Loss / Accuracy')\n",
    "plt.legend()\n",
    "plt.show()"
   ]
  },
  {
   "cell_type": "markdown",
   "id": "33c5ad53",
   "metadata": {},
   "source": [
    "# Pokus 5"
   ]
  },
  {
   "cell_type": "code",
   "execution_count": 27,
   "id": "4453987d",
   "metadata": {},
   "outputs": [
    {
     "data": {
      "text/html": [
       "Finishing last run (ID:fp6gs1t5) before initializing another..."
      ],
      "text/plain": [
       "<IPython.core.display.HTML object>"
      ]
     },
     "metadata": {},
     "output_type": "display_data"
    },
    {
     "data": {
      "text/html": [
       "Waiting for W&B process to finish... <strong style=\"color:green\">(success).</strong>"
      ],
      "text/plain": [
       "<IPython.core.display.HTML object>"
      ]
     },
     "metadata": {},
     "output_type": "display_data"
    },
    {
     "data": {
      "text/html": [
       "<style>\n",
       "    table.wandb td:nth-child(1) { padding: 0 10px; text-align: left ; width: auto;} td:nth-child(2) {text-align: left ; width: 100%}\n",
       "    .wandb-row { display: flex; flex-direction: row; flex-wrap: wrap; justify-content: flex-start; width: 100% }\n",
       "    .wandb-col { display: flex; flex-direction: column; flex-basis: 100%; flex: 1; padding: 10px; }\n",
       "    </style>\n",
       "<div class=\"wandb-row\"><div class=\"wandb-col\"><h3>Run history:</h3><br/><table class=\"wandb\"><tr><td>Test accuracy</td><td>▁</td></tr><tr><td>Test loss</td><td>▁</td></tr><tr><td>accuracy</td><td>▁▃▄▅▆▆▇▇█████</td></tr><tr><td>epoch</td><td>▁▂▂▃▃▄▅▅▆▆▇▇█</td></tr><tr><td>loss</td><td>█▆▅▄▃▃▂▂▁▁▁▁▁</td></tr><tr><td>lr</td><td>████████▁▁▁▁▁</td></tr><tr><td>val_accuracy</td><td>▃▁▇▅▃▇▇▁▅▇▄██</td></tr><tr><td>val_loss</td><td>▂▃▁▂▄▂▃▇▅▄█▄▅</td></tr></table><br/></div><div class=\"wandb-col\"><h3>Run summary:</h3><br/><table class=\"wandb\"><tr><td>Test accuracy</td><td>0.7074</td></tr><tr><td>Test loss</td><td>1.38419</td></tr><tr><td>accuracy</td><td>0.96182</td></tr><tr><td>best_epoch</td><td>2</td></tr><tr><td>best_val_loss</td><td>0.93809</td></tr><tr><td>epoch</td><td>12</td></tr><tr><td>loss</td><td>0.10819</td></tr><tr><td>lr</td><td>0.0008</td></tr><tr><td>val_accuracy</td><td>0.6906</td></tr><tr><td>val_loss</td><td>1.46071</td></tr></table><br/></div></div>"
      ],
      "text/plain": [
       "<IPython.core.display.HTML object>"
      ]
     },
     "metadata": {},
     "output_type": "display_data"
    },
    {
     "data": {
      "text/html": [
       " View run <strong style=\"color:#cdcd00\">fluent-fire-6</strong> at: <a href='https://wandb.ai/neural-netwok-nn/neural-network-assgiment2/runs/fp6gs1t5' target=\"_blank\">https://wandb.ai/neural-netwok-nn/neural-network-assgiment2/runs/fp6gs1t5</a><br/>Synced 5 W&B file(s), 1 media file(s), 10 artifact file(s) and 1 other file(s)"
      ],
      "text/plain": [
       "<IPython.core.display.HTML object>"
      ]
     },
     "metadata": {},
     "output_type": "display_data"
    },
    {
     "data": {
      "text/html": [
       "Find logs at: <code>.\\wandb\\run-20230412_151222-fp6gs1t5\\logs</code>"
      ],
      "text/plain": [
       "<IPython.core.display.HTML object>"
      ]
     },
     "metadata": {},
     "output_type": "display_data"
    },
    {
     "data": {
      "text/html": [
       "Successfully finished last run (ID:fp6gs1t5). Initializing new run:<br/>"
      ],
      "text/plain": [
       "<IPython.core.display.HTML object>"
      ]
     },
     "metadata": {},
     "output_type": "display_data"
    },
    {
     "data": {
      "application/vnd.jupyter.widget-view+json": {
       "model_id": "92052258285c4262be18a346c09ccc5b",
       "version_major": 2,
       "version_minor": 0
      },
      "text/plain": [
       "VBox(children=(Label(value='Waiting for wandb.init()...\\r'), FloatProgress(value=0.016666666666666666, max=1.0…"
      ]
     },
     "metadata": {},
     "output_type": "display_data"
    },
    {
     "data": {
      "text/html": [
       "wandb version 0.14.2 is available!  To upgrade, please run:\n",
       " $ pip install wandb --upgrade"
      ],
      "text/plain": [
       "<IPython.core.display.HTML object>"
      ]
     },
     "metadata": {},
     "output_type": "display_data"
    },
    {
     "data": {
      "text/html": [
       "Tracking run with wandb version 0.14.0"
      ],
      "text/plain": [
       "<IPython.core.display.HTML object>"
      ]
     },
     "metadata": {},
     "output_type": "display_data"
    },
    {
     "data": {
      "text/html": [
       "Run data is saved locally in <code>D:\\10.semester\\NN\\neural-networks\\2.zadanie\\src\\wandb\\run-20230412_152250-crjiahm9</code>"
      ],
      "text/plain": [
       "<IPython.core.display.HTML object>"
      ]
     },
     "metadata": {},
     "output_type": "display_data"
    },
    {
     "data": {
      "text/html": [
       "Syncing run <strong><a href='https://wandb.ai/neural-netwok-nn/neural-network-assgiment2/runs/crjiahm9' target=\"_blank\">vague-darkness-7</a></strong> to <a href='https://wandb.ai/neural-netwok-nn/neural-network-assgiment2' target=\"_blank\">Weights & Biases</a> (<a href='https://wandb.me/run' target=\"_blank\">docs</a>)<br/>"
      ],
      "text/plain": [
       "<IPython.core.display.HTML object>"
      ]
     },
     "metadata": {},
     "output_type": "display_data"
    },
    {
     "data": {
      "text/html": [
       " View project at <a href='https://wandb.ai/neural-netwok-nn/neural-network-assgiment2' target=\"_blank\">https://wandb.ai/neural-netwok-nn/neural-network-assgiment2</a>"
      ],
      "text/plain": [
       "<IPython.core.display.HTML object>"
      ]
     },
     "metadata": {},
     "output_type": "display_data"
    },
    {
     "data": {
      "text/html": [
       " View run at <a href='https://wandb.ai/neural-netwok-nn/neural-network-assgiment2/runs/crjiahm9' target=\"_blank\">https://wandb.ai/neural-netwok-nn/neural-network-assgiment2/runs/crjiahm9</a>"
      ],
      "text/plain": [
       "<IPython.core.display.HTML object>"
      ]
     },
     "metadata": {},
     "output_type": "display_data"
    },
    {
     "name": "stdout",
     "output_type": "stream",
     "text": [
      "Epoch 1/20\n",
      "1562/1563 [============================>.] - ETA: 0s - loss: 1.5435 - accuracy: 0.4637"
     ]
    },
    {
     "name": "stderr",
     "output_type": "stream",
     "text": [
      "WARNING:absl:Found untraced functions such as _jit_compiled_convolution_op, _jit_compiled_convolution_op, _jit_compiled_convolution_op, _jit_compiled_convolution_op, _jit_compiled_convolution_op while saving (showing 5 of 20). These functions will not be directly callable after loading.\n"
     ]
    },
    {
     "name": "stdout",
     "output_type": "stream",
     "text": [
      "INFO:tensorflow:Assets written to: D:\\10.semester\\NN\\neural-networks\\2.zadanie\\src\\wandb\\run-20230412_152250-crjiahm9\\files\\model-best\\assets\n"
     ]
    },
    {
     "name": "stderr",
     "output_type": "stream",
     "text": [
      "INFO:tensorflow:Assets written to: D:\\10.semester\\NN\\neural-networks\\2.zadanie\\src\\wandb\\run-20230412_152250-crjiahm9\\files\\model-best\\assets\n",
      "\u001b[34m\u001b[1mwandb\u001b[0m: Adding directory to artifact (D:\\10.semester\\NN\\neural-networks\\2.zadanie\\src\\wandb\\run-20230412_152250-crjiahm9\\files\\model-best)... Done. 0.0s\n"
     ]
    },
    {
     "name": "stdout",
     "output_type": "stream",
     "text": [
      "1563/1563 [==============================] - 122s 77ms/step - loss: 1.5434 - accuracy: 0.4637 - val_loss: 1.2048 - val_accuracy: 0.5626 - lr: 0.0010\n",
      "Epoch 2/20\n",
      "1562/1563 [============================>.] - ETA: 0s - loss: 1.1141 - accuracy: 0.6074"
     ]
    },
    {
     "name": "stderr",
     "output_type": "stream",
     "text": [
      "WARNING:absl:Found untraced functions such as _jit_compiled_convolution_op, _jit_compiled_convolution_op, _jit_compiled_convolution_op, _jit_compiled_convolution_op, _jit_compiled_convolution_op while saving (showing 5 of 20). These functions will not be directly callable after loading.\n"
     ]
    },
    {
     "name": "stdout",
     "output_type": "stream",
     "text": [
      "INFO:tensorflow:Assets written to: D:\\10.semester\\NN\\neural-networks\\2.zadanie\\src\\wandb\\run-20230412_152250-crjiahm9\\files\\model-best\\assets\n"
     ]
    },
    {
     "name": "stderr",
     "output_type": "stream",
     "text": [
      "INFO:tensorflow:Assets written to: D:\\10.semester\\NN\\neural-networks\\2.zadanie\\src\\wandb\\run-20230412_152250-crjiahm9\\files\\model-best\\assets\n",
      "\u001b[34m\u001b[1mwandb\u001b[0m: Adding directory to artifact (D:\\10.semester\\NN\\neural-networks\\2.zadanie\\src\\wandb\\run-20230412_152250-crjiahm9\\files\\model-best)... Done. 0.0s\n"
     ]
    },
    {
     "name": "stdout",
     "output_type": "stream",
     "text": [
      "1563/1563 [==============================] - 130s 83ms/step - loss: 1.1140 - accuracy: 0.6074 - val_loss: 0.9820 - val_accuracy: 0.6462 - lr: 0.0010\n",
      "Epoch 3/20\n",
      " 266/1563 [====>.........................] - ETA: 1:40 - loss: 1.0168 - accuracy: 0.6472"
     ]
    }
   ],
   "source": [
    "# Define the model architecture\n",
    "wandb.init(project=\"neural-network-assgiment2\")\n",
    "wandb.run.name = \"Pokus 5\"\n",
    "config = wandb.config\n",
    "config.learning_rate = 0.001\n",
    "config.batch_size = 32\n",
    "config.epochs = 20\n",
    "\n",
    "\n",
    "model = keras.Sequential([\n",
    "    layers.Conv2D(32, kernel_size=(3, 3), activation='LeakyReLU', input_shape=(32, 32, 3)),\n",
    "    layers.Conv2D(32, kernel_size=(3, 3), activation='LeakyReLU'),\n",
    "    layers.BatchNormalization(),\n",
    "    \n",
    "    layers.Conv2D(64, kernel_size=(3, 3), activation='LeakyReLU'),\n",
    "    layers.MaxPooling2D(pool_size=(2, 2)),\n",
    "    layers.BatchNormalization(),\n",
    "    layers.Dropout(0.5),\n",
    "    \n",
    "    layers.Conv2D(128, kernel_size=(5, 5), activation='LeakyReLU'),\n",
    "    layers.Conv2D(128, kernel_size=(5, 5), strides=(2, 2), activation='LeakyReLU'),\n",
    "    layers.BatchNormalization(),\n",
    "    \n",
    "    layers.Flatten(),\n",
    "    layers.Dense(256, activation='LeakyReLU'),\n",
    "    layers.Dropout(0.5),\n",
    "    layers.Dense(128, activation='LeakyReLU'),\n",
    "    layers.Dense(10, activation='softmax')\n",
    "])\n",
    "\n",
    "optimizer = tf.keras.optimizers.Adam(learning_rate=config.learning_rate)\n",
    "\n",
    "model.compile(optimizer=optimizer, loss='categorical_crossentropy', metrics=['accuracy'])\n",
    "\n",
    "early_stop = tf.keras.callbacks.EarlyStopping(monitor='val_loss', patience=10)\n",
    "lr_scheduler = tf.keras.callbacks.ReduceLROnPlateau(monitor='val_loss', factor=0.8, patience=5, min_lr=0.000001)\n",
    "\n",
    "history = model.fit(X_train, y_train, epochs=config.epochs, batch_size=config.batch_size, validation_data=(X_val, y_val), callbacks=[lr_scheduler,early_stop,WandbCallback()])\n",
    "\n",
    "# Evaluate the model\n",
    "val_loss, val_acc = model.evaluate(X_test, y_test, verbose=2)\n",
    "print('Test accuracy:', val_acc)\n",
    "print('Test loss:', val_loss)\n",
    "\n",
    "# Evaluate the model on the val set and log the results\n",
    "wandb.log({'Test loss': val_loss, 'Test accuracy': val_acc})"
   ]
  },
  {
   "cell_type": "code",
   "execution_count": 28,
   "id": "d5e867fa",
   "metadata": {},
   "outputs": [],
   "source": [
    "model.summary()"
   ]
  },
  {
   "cell_type": "code",
   "execution_count": 29,
   "id": "c728eb3a",
   "metadata": {},
   "outputs": [],
   "source": [
    "plt.plot(history.history['loss'], label='Training Loss')\n",
    "plt.plot(history.history['val_loss'], label='Validation Loss')\n",
    "plt.plot(history.history['accuracy'], label='Training Accuracy')\n",
    "plt.plot(history.history['val_accuracy'], label='Validation Accuracy')\n",
    "\n",
    "plt.xlabel('Epoch')\n",
    "plt.ylabel('Loss / Accuracy')\n",
    "plt.legend()\n",
    "plt.show()"
   ]
  },
  {
   "cell_type": "markdown",
   "id": "be586e04",
   "metadata": {},
   "source": [
    "# Pokus 6"
   ]
  },
  {
   "cell_type": "code",
   "execution_count": 21,
   "id": "effb21b1",
   "metadata": {
    "scrolled": true
   },
   "outputs": [
    {
     "data": {
      "text/html": [
       "Finishing last run (ID:kp1fom2z) before initializing another..."
      ],
      "text/plain": [
       "<IPython.core.display.HTML object>"
      ]
     },
     "metadata": {},
     "output_type": "display_data"
    },
    {
     "data": {
      "text/html": [
       "Waiting for W&B process to finish... <strong style=\"color:green\">(success).</strong>"
      ],
      "text/plain": [
       "<IPython.core.display.HTML object>"
      ]
     },
     "metadata": {},
     "output_type": "display_data"
    },
    {
     "data": {
      "text/html": [
       "<style>\n",
       "    table.wandb td:nth-child(1) { padding: 0 10px; text-align: left ; width: auto;} td:nth-child(2) {text-align: left ; width: 100%}\n",
       "    .wandb-row { display: flex; flex-direction: row; flex-wrap: wrap; justify-content: flex-start; width: 100% }\n",
       "    .wandb-col { display: flex; flex-direction: column; flex-basis: 100%; flex: 1; padding: 10px; }\n",
       "    </style>\n",
       "<div class=\"wandb-row\"><div class=\"wandb-col\"><h3>Run history:</h3><br/><table class=\"wandb\"><tr><td>Test accuracy</td><td>▁</td></tr><tr><td>Test loss</td><td>▁</td></tr><tr><td>accuracy</td><td>▁▃▄▅▅▆▆▆▇▇▇▇▇▇▇█████</td></tr><tr><td>epoch</td><td>▁▁▂▂▂▃▃▄▄▄▅▅▅▆▆▇▇▇██</td></tr><tr><td>loss</td><td>█▆▅▄▄▃▃▃▃▂▂▂▂▂▂▁▁▁▁▁</td></tr><tr><td>lr</td><td>▁▁▁▁▁▁▁▁▁▁▁▁▁▁▁▁▁▁▁▁</td></tr><tr><td>val_accuracy</td><td>▂▁▅▅▅▆▅▅▇▇▇▇▇▆▇██▇██</td></tr><tr><td>val_loss</td><td>▆█▄▃▃▃▃▃▁▁▁▂▁▃▂▁▁▂▁▁</td></tr></table><br/></div><div class=\"wandb-col\"><h3>Run summary:</h3><br/><table class=\"wandb\"><tr><td>Test accuracy</td><td>0.762</td></tr><tr><td>Test loss</td><td>0.74382</td></tr><tr><td>accuracy</td><td>0.81822</td></tr><tr><td>best_epoch</td><td>19</td></tr><tr><td>best_val_loss</td><td>0.81276</td></tr><tr><td>epoch</td><td>19</td></tr><tr><td>loss</td><td>0.53528</td></tr><tr><td>lr</td><td>0.001</td></tr><tr><td>val_accuracy</td><td>0.743</td></tr><tr><td>val_loss</td><td>0.81276</td></tr></table><br/></div></div>"
      ],
      "text/plain": [
       "<IPython.core.display.HTML object>"
      ]
     },
     "metadata": {},
     "output_type": "display_data"
    },
    {
     "data": {
      "text/html": [
       " View run <strong style=\"color:#cdcd00\">desert-dragon-15</strong> at: <a href='https://wandb.ai/neural-netwok-nn/neural-network-assgiment2/runs/kp1fom2z' target=\"_blank\">https://wandb.ai/neural-netwok-nn/neural-network-assgiment2/runs/kp1fom2z</a><br/>Synced 5 W&B file(s), 1 media file(s), 50 artifact file(s) and 1 other file(s)"
      ],
      "text/plain": [
       "<IPython.core.display.HTML object>"
      ]
     },
     "metadata": {},
     "output_type": "display_data"
    },
    {
     "data": {
      "text/html": [
       "Find logs at: <code>.\\wandb\\run-20230412_224936-kp1fom2z\\logs</code>"
      ],
      "text/plain": [
       "<IPython.core.display.HTML object>"
      ]
     },
     "metadata": {},
     "output_type": "display_data"
    },
    {
     "data": {
      "text/html": [
       "Successfully finished last run (ID:kp1fom2z). Initializing new run:<br/>"
      ],
      "text/plain": [
       "<IPython.core.display.HTML object>"
      ]
     },
     "metadata": {},
     "output_type": "display_data"
    },
    {
     "data": {
      "application/vnd.jupyter.widget-view+json": {
       "model_id": "b9d5696904fd4f54810f858708458997",
       "version_major": 2,
       "version_minor": 0
      },
      "text/plain": [
       "VBox(children=(Label(value='Waiting for wandb.init()...\\r'), FloatProgress(value=0.016666666666666666, max=1.0…"
      ]
     },
     "metadata": {},
     "output_type": "display_data"
    },
    {
     "data": {
      "text/html": [
       "wandb version 0.14.2 is available!  To upgrade, please run:\n",
       " $ pip install wandb --upgrade"
      ],
      "text/plain": [
       "<IPython.core.display.HTML object>"
      ]
     },
     "metadata": {},
     "output_type": "display_data"
    },
    {
     "data": {
      "text/html": [
       "Tracking run with wandb version 0.14.0"
      ],
      "text/plain": [
       "<IPython.core.display.HTML object>"
      ]
     },
     "metadata": {},
     "output_type": "display_data"
    },
    {
     "data": {
      "text/html": [
       "Run data is saved locally in <code>D:\\10.semester\\NN\\neural-networks\\2.zadanie\\src\\wandb\\run-20230412_230357-zmxhzd3x</code>"
      ],
      "text/plain": [
       "<IPython.core.display.HTML object>"
      ]
     },
     "metadata": {},
     "output_type": "display_data"
    },
    {
     "data": {
      "text/html": [
       "Syncing run <strong><a href='https://wandb.ai/neural-netwok-nn/neural-network-assgiment2/runs/zmxhzd3x' target=\"_blank\">super-snow-16</a></strong> to <a href='https://wandb.ai/neural-netwok-nn/neural-network-assgiment2' target=\"_blank\">Weights & Biases</a> (<a href='https://wandb.me/run' target=\"_blank\">docs</a>)<br/>"
      ],
      "text/plain": [
       "<IPython.core.display.HTML object>"
      ]
     },
     "metadata": {},
     "output_type": "display_data"
    },
    {
     "data": {
      "text/html": [
       " View project at <a href='https://wandb.ai/neural-netwok-nn/neural-network-assgiment2' target=\"_blank\">https://wandb.ai/neural-netwok-nn/neural-network-assgiment2</a>"
      ],
      "text/plain": [
       "<IPython.core.display.HTML object>"
      ]
     },
     "metadata": {},
     "output_type": "display_data"
    },
    {
     "data": {
      "text/html": [
       " View run at <a href='https://wandb.ai/neural-netwok-nn/neural-network-assgiment2/runs/zmxhzd3x' target=\"_blank\">https://wandb.ai/neural-netwok-nn/neural-network-assgiment2/runs/zmxhzd3x</a>"
      ],
      "text/plain": [
       "<IPython.core.display.HTML object>"
      ]
     },
     "metadata": {},
     "output_type": "display_data"
    },
    {
     "name": "stdout",
     "output_type": "stream",
     "text": [
      "Epoch 1/20\n",
      "782/782 [==============================] - ETA: 0s - loss: 1.5963 - accuracy: 0.4475"
     ]
    },
    {
     "name": "stderr",
     "output_type": "stream",
     "text": [
      "WARNING:absl:Found untraced functions such as _jit_compiled_convolution_op, _jit_compiled_convolution_op, _jit_compiled_convolution_op, _jit_compiled_convolution_op, _jit_compiled_convolution_op while saving (showing 5 of 44). These functions will not be directly callable after loading.\n"
     ]
    },
    {
     "name": "stdout",
     "output_type": "stream",
     "text": [
      "INFO:tensorflow:Assets written to: D:\\10.semester\\NN\\neural-networks\\2.zadanie\\src\\wandb\\run-20230412_230357-zmxhzd3x\\files\\model-best\\assets\n"
     ]
    },
    {
     "name": "stderr",
     "output_type": "stream",
     "text": [
      "INFO:tensorflow:Assets written to: D:\\10.semester\\NN\\neural-networks\\2.zadanie\\src\\wandb\\run-20230412_230357-zmxhzd3x\\files\\model-best\\assets\n",
      "\u001b[34m\u001b[1mwandb\u001b[0m: Adding directory to artifact (D:\\10.semester\\NN\\neural-networks\\2.zadanie\\src\\wandb\\run-20230412_230357-zmxhzd3x\\files\\model-best)... Done. 0.0s\n"
     ]
    },
    {
     "name": "stdout",
     "output_type": "stream",
     "text": [
      "782/782 [==============================] - 315s 399ms/step - loss: 1.5963 - accuracy: 0.4475 - val_loss: 1.4061 - val_accuracy: 0.5194 - lr: 0.0010\n",
      "Epoch 2/20\n",
      "782/782 [==============================] - ETA: 0s - loss: 1.0265 - accuracy: 0.6378"
     ]
    },
    {
     "name": "stderr",
     "output_type": "stream",
     "text": [
      "WARNING:absl:Found untraced functions such as _jit_compiled_convolution_op, _jit_compiled_convolution_op, _jit_compiled_convolution_op, _jit_compiled_convolution_op, _jit_compiled_convolution_op while saving (showing 5 of 44). These functions will not be directly callable after loading.\n"
     ]
    },
    {
     "name": "stdout",
     "output_type": "stream",
     "text": [
      "INFO:tensorflow:Assets written to: D:\\10.semester\\NN\\neural-networks\\2.zadanie\\src\\wandb\\run-20230412_230357-zmxhzd3x\\files\\model-best\\assets\n"
     ]
    },
    {
     "name": "stderr",
     "output_type": "stream",
     "text": [
      "INFO:tensorflow:Assets written to: D:\\10.semester\\NN\\neural-networks\\2.zadanie\\src\\wandb\\run-20230412_230357-zmxhzd3x\\files\\model-best\\assets\n",
      "\u001b[34m\u001b[1mwandb\u001b[0m: Adding directory to artifact (D:\\10.semester\\NN\\neural-networks\\2.zadanie\\src\\wandb\\run-20230412_230357-zmxhzd3x\\files\\model-best)... Done. 0.0s\n"
     ]
    },
    {
     "name": "stdout",
     "output_type": "stream",
     "text": [
      "782/782 [==============================] - 311s 398ms/step - loss: 1.0265 - accuracy: 0.6378 - val_loss: 1.0151 - val_accuracy: 0.6524 - lr: 0.0010\n",
      "Epoch 3/20\n",
      "782/782 [==============================] - ETA: 0s - loss: 0.8339 - accuracy: 0.7085"
     ]
    },
    {
     "name": "stderr",
     "output_type": "stream",
     "text": [
      "WARNING:absl:Found untraced functions such as _jit_compiled_convolution_op, _jit_compiled_convolution_op, _jit_compiled_convolution_op, _jit_compiled_convolution_op, _jit_compiled_convolution_op while saving (showing 5 of 44). These functions will not be directly callable after loading.\n"
     ]
    },
    {
     "name": "stdout",
     "output_type": "stream",
     "text": [
      "INFO:tensorflow:Assets written to: D:\\10.semester\\NN\\neural-networks\\2.zadanie\\src\\wandb\\run-20230412_230357-zmxhzd3x\\files\\model-best\\assets\n"
     ]
    },
    {
     "name": "stderr",
     "output_type": "stream",
     "text": [
      "INFO:tensorflow:Assets written to: D:\\10.semester\\NN\\neural-networks\\2.zadanie\\src\\wandb\\run-20230412_230357-zmxhzd3x\\files\\model-best\\assets\n",
      "\u001b[34m\u001b[1mwandb\u001b[0m: Adding directory to artifact (D:\\10.semester\\NN\\neural-networks\\2.zadanie\\src\\wandb\\run-20230412_230357-zmxhzd3x\\files\\model-best)... Done. 0.0s\n"
     ]
    },
    {
     "name": "stdout",
     "output_type": "stream",
     "text": [
      "782/782 [==============================] - 290s 371ms/step - loss: 0.8339 - accuracy: 0.7085 - val_loss: 0.8810 - val_accuracy: 0.7044 - lr: 0.0010\n",
      "Epoch 4/20\n",
      "782/782 [==============================] - ETA: 0s - loss: 0.7323 - accuracy: 0.7458"
     ]
    },
    {
     "name": "stderr",
     "output_type": "stream",
     "text": [
      "WARNING:absl:Found untraced functions such as _jit_compiled_convolution_op, _jit_compiled_convolution_op, _jit_compiled_convolution_op, _jit_compiled_convolution_op, _jit_compiled_convolution_op while saving (showing 5 of 44). These functions will not be directly callable after loading.\n"
     ]
    },
    {
     "name": "stdout",
     "output_type": "stream",
     "text": [
      "INFO:tensorflow:Assets written to: D:\\10.semester\\NN\\neural-networks\\2.zadanie\\src\\wandb\\run-20230412_230357-zmxhzd3x\\files\\model-best\\assets\n"
     ]
    },
    {
     "name": "stderr",
     "output_type": "stream",
     "text": [
      "INFO:tensorflow:Assets written to: D:\\10.semester\\NN\\neural-networks\\2.zadanie\\src\\wandb\\run-20230412_230357-zmxhzd3x\\files\\model-best\\assets\n",
      "\u001b[34m\u001b[1mwandb\u001b[0m: Adding directory to artifact (D:\\10.semester\\NN\\neural-networks\\2.zadanie\\src\\wandb\\run-20230412_230357-zmxhzd3x\\files\\model-best)... Done. 0.0s\n"
     ]
    },
    {
     "name": "stdout",
     "output_type": "stream",
     "text": [
      "782/782 [==============================] - 291s 372ms/step - loss: 0.7323 - accuracy: 0.7458 - val_loss: 0.7569 - val_accuracy: 0.7456 - lr: 0.0010\n",
      "Epoch 5/20\n",
      "782/782 [==============================] - ETA: 0s - loss: 0.6638 - accuracy: 0.7705"
     ]
    },
    {
     "name": "stderr",
     "output_type": "stream",
     "text": [
      "WARNING:absl:Found untraced functions such as _jit_compiled_convolution_op, _jit_compiled_convolution_op, _jit_compiled_convolution_op, _jit_compiled_convolution_op, _jit_compiled_convolution_op while saving (showing 5 of 44). These functions will not be directly callable after loading.\n"
     ]
    },
    {
     "name": "stdout",
     "output_type": "stream",
     "text": [
      "INFO:tensorflow:Assets written to: D:\\10.semester\\NN\\neural-networks\\2.zadanie\\src\\wandb\\run-20230412_230357-zmxhzd3x\\files\\model-best\\assets\n"
     ]
    },
    {
     "name": "stderr",
     "output_type": "stream",
     "text": [
      "INFO:tensorflow:Assets written to: D:\\10.semester\\NN\\neural-networks\\2.zadanie\\src\\wandb\\run-20230412_230357-zmxhzd3x\\files\\model-best\\assets\n",
      "\u001b[34m\u001b[1mwandb\u001b[0m: Adding directory to artifact (D:\\10.semester\\NN\\neural-networks\\2.zadanie\\src\\wandb\\run-20230412_230357-zmxhzd3x\\files\\model-best)... Done. 0.0s\n"
     ]
    },
    {
     "name": "stdout",
     "output_type": "stream",
     "text": [
      "782/782 [==============================] - 316s 404ms/step - loss: 0.6638 - accuracy: 0.7705 - val_loss: 0.7209 - val_accuracy: 0.7534 - lr: 0.0010\n",
      "Epoch 6/20\n",
      "782/782 [==============================] - ETA: 0s - loss: 0.6030 - accuracy: 0.7921"
     ]
    },
    {
     "name": "stderr",
     "output_type": "stream",
     "text": [
      "WARNING:absl:Found untraced functions such as _jit_compiled_convolution_op, _jit_compiled_convolution_op, _jit_compiled_convolution_op, _jit_compiled_convolution_op, _jit_compiled_convolution_op while saving (showing 5 of 44). These functions will not be directly callable after loading.\n"
     ]
    },
    {
     "name": "stdout",
     "output_type": "stream",
     "text": [
      "INFO:tensorflow:Assets written to: D:\\10.semester\\NN\\neural-networks\\2.zadanie\\src\\wandb\\run-20230412_230357-zmxhzd3x\\files\\model-best\\assets\n"
     ]
    },
    {
     "name": "stderr",
     "output_type": "stream",
     "text": [
      "INFO:tensorflow:Assets written to: D:\\10.semester\\NN\\neural-networks\\2.zadanie\\src\\wandb\\run-20230412_230357-zmxhzd3x\\files\\model-best\\assets\n",
      "\u001b[34m\u001b[1mwandb\u001b[0m: Adding directory to artifact (D:\\10.semester\\NN\\neural-networks\\2.zadanie\\src\\wandb\\run-20230412_230357-zmxhzd3x\\files\\model-best)... Done. 0.1s\n"
     ]
    },
    {
     "name": "stdout",
     "output_type": "stream",
     "text": [
      "782/782 [==============================] - 385s 493ms/step - loss: 0.6030 - accuracy: 0.7921 - val_loss: 0.7186 - val_accuracy: 0.7608 - lr: 0.0010\n",
      "Epoch 7/20\n",
      "782/782 [==============================] - 813s 1s/step - loss: 0.5647 - accuracy: 0.8042 - val_loss: 0.7286 - val_accuracy: 0.7572 - lr: 0.0010\n",
      "Epoch 8/20\n",
      "782/782 [==============================] - 281s 359ms/step - loss: 0.5184 - accuracy: 0.8212 - val_loss: 0.7263 - val_accuracy: 0.7560 - lr: 0.0010\n",
      "Epoch 9/20\n",
      "782/782 [==============================] - ETA: 0s - loss: 0.4842 - accuracy: 0.8327"
     ]
    },
    {
     "name": "stderr",
     "output_type": "stream",
     "text": [
      "WARNING:absl:Found untraced functions such as _jit_compiled_convolution_op, _jit_compiled_convolution_op, _jit_compiled_convolution_op, _jit_compiled_convolution_op, _jit_compiled_convolution_op while saving (showing 5 of 44). These functions will not be directly callable after loading.\n"
     ]
    },
    {
     "name": "stdout",
     "output_type": "stream",
     "text": [
      "INFO:tensorflow:Assets written to: D:\\10.semester\\NN\\neural-networks\\2.zadanie\\src\\wandb\\run-20230412_230357-zmxhzd3x\\files\\model-best\\assets\n"
     ]
    },
    {
     "name": "stderr",
     "output_type": "stream",
     "text": [
      "INFO:tensorflow:Assets written to: D:\\10.semester\\NN\\neural-networks\\2.zadanie\\src\\wandb\\run-20230412_230357-zmxhzd3x\\files\\model-best\\assets\n",
      "\u001b[34m\u001b[1mwandb\u001b[0m: Adding directory to artifact (D:\\10.semester\\NN\\neural-networks\\2.zadanie\\src\\wandb\\run-20230412_230357-zmxhzd3x\\files\\model-best)... Done. 0.1s\n"
     ]
    },
    {
     "name": "stdout",
     "output_type": "stream",
     "text": [
      "782/782 [==============================] - 303s 388ms/step - loss: 0.4842 - accuracy: 0.8327 - val_loss: 0.6566 - val_accuracy: 0.7912 - lr: 0.0010\n",
      "Epoch 10/20\n",
      "782/782 [==============================] - 284s 363ms/step - loss: 0.4496 - accuracy: 0.8439 - val_loss: 0.6668 - val_accuracy: 0.7832 - lr: 0.0010\n",
      "Epoch 11/20\n",
      "782/782 [==============================] - ETA: 0s - loss: 0.4204 - accuracy: 0.8539"
     ]
    },
    {
     "name": "stderr",
     "output_type": "stream",
     "text": [
      "WARNING:absl:Found untraced functions such as _jit_compiled_convolution_op, _jit_compiled_convolution_op, _jit_compiled_convolution_op, _jit_compiled_convolution_op, _jit_compiled_convolution_op while saving (showing 5 of 44). These functions will not be directly callable after loading.\n"
     ]
    },
    {
     "name": "stdout",
     "output_type": "stream",
     "text": [
      "INFO:tensorflow:Assets written to: D:\\10.semester\\NN\\neural-networks\\2.zadanie\\src\\wandb\\run-20230412_230357-zmxhzd3x\\files\\model-best\\assets\n"
     ]
    },
    {
     "name": "stderr",
     "output_type": "stream",
     "text": [
      "INFO:tensorflow:Assets written to: D:\\10.semester\\NN\\neural-networks\\2.zadanie\\src\\wandb\\run-20230412_230357-zmxhzd3x\\files\\model-best\\assets\n",
      "\u001b[34m\u001b[1mwandb\u001b[0m: Adding directory to artifact (D:\\10.semester\\NN\\neural-networks\\2.zadanie\\src\\wandb\\run-20230412_230357-zmxhzd3x\\files\\model-best)... Done. 0.0s\n"
     ]
    },
    {
     "name": "stdout",
     "output_type": "stream",
     "text": [
      "782/782 [==============================] - 290s 371ms/step - loss: 0.4204 - accuracy: 0.8539 - val_loss: 0.5954 - val_accuracy: 0.7988 - lr: 0.0010\n",
      "Epoch 12/20\n",
      "782/782 [==============================] - 293s 375ms/step - loss: 0.3944 - accuracy: 0.8617 - val_loss: 0.6944 - val_accuracy: 0.7856 - lr: 0.0010\n",
      "Epoch 13/20\n",
      "782/782 [==============================] - 285s 365ms/step - loss: 0.3615 - accuracy: 0.8747 - val_loss: 0.6333 - val_accuracy: 0.8006 - lr: 0.0010\n",
      "Epoch 14/20\n",
      "782/782 [==============================] - 283s 362ms/step - loss: 0.3375 - accuracy: 0.8832 - val_loss: 0.6527 - val_accuracy: 0.7974 - lr: 0.0010\n",
      "Epoch 15/20\n",
      "782/782 [==============================] - 274s 351ms/step - loss: 0.3207 - accuracy: 0.8871 - val_loss: 0.6219 - val_accuracy: 0.8140 - lr: 0.0010\n",
      "Epoch 16/20\n",
      "782/782 [==============================] - 272s 348ms/step - loss: 0.2959 - accuracy: 0.8970 - val_loss: 0.6198 - val_accuracy: 0.8194 - lr: 0.0010\n",
      "Epoch 17/20\n",
      "782/782 [==============================] - 279s 357ms/step - loss: 0.2416 - accuracy: 0.9152 - val_loss: 0.6114 - val_accuracy: 0.8228 - lr: 8.0000e-04\n",
      "Epoch 18/20\n",
      "782/782 [==============================] - ETA: 0s - loss: 0.2278 - accuracy: 0.9194"
     ]
    },
    {
     "name": "stderr",
     "output_type": "stream",
     "text": [
      "WARNING:absl:Found untraced functions such as _jit_compiled_convolution_op, _jit_compiled_convolution_op, _jit_compiled_convolution_op, _jit_compiled_convolution_op, _jit_compiled_convolution_op while saving (showing 5 of 44). These functions will not be directly callable after loading.\n"
     ]
    },
    {
     "name": "stdout",
     "output_type": "stream",
     "text": [
      "INFO:tensorflow:Assets written to: D:\\10.semester\\NN\\neural-networks\\2.zadanie\\src\\wandb\\run-20230412_230357-zmxhzd3x\\files\\model-best\\assets\n"
     ]
    },
    {
     "name": "stderr",
     "output_type": "stream",
     "text": [
      "INFO:tensorflow:Assets written to: D:\\10.semester\\NN\\neural-networks\\2.zadanie\\src\\wandb\\run-20230412_230357-zmxhzd3x\\files\\model-best\\assets\n",
      "\u001b[34m\u001b[1mwandb\u001b[0m: Adding directory to artifact (D:\\10.semester\\NN\\neural-networks\\2.zadanie\\src\\wandb\\run-20230412_230357-zmxhzd3x\\files\\model-best)... Done. 0.0s\n"
     ]
    },
    {
     "name": "stdout",
     "output_type": "stream",
     "text": [
      "782/782 [==============================] - 284s 363ms/step - loss: 0.2278 - accuracy: 0.9194 - val_loss: 0.5836 - val_accuracy: 0.8278 - lr: 8.0000e-04\n",
      "Epoch 19/20\n",
      "782/782 [==============================] - 273s 349ms/step - loss: 0.2076 - accuracy: 0.9274 - val_loss: 0.6483 - val_accuracy: 0.8268 - lr: 8.0000e-04\n",
      "Epoch 20/20\n",
      "782/782 [==============================] - 273s 349ms/step - loss: 0.1952 - accuracy: 0.9303 - val_loss: 0.6435 - val_accuracy: 0.8200 - lr: 8.0000e-04\n",
      "157/157 - 7s - loss: 0.5999 - accuracy: 0.8294 - 7s/epoch - 43ms/step\n",
      "Test accuracy: 0.8294000029563904\n",
      "Test loss: 0.5999329090118408\n"
     ]
    }
   ],
   "source": [
    "# Define the model architecture\n",
    "wandb.init(project=\"neural-network-assgiment2\")\n",
    "wandb.run.name = \"Pokus 6\"\n",
    "config = wandb.config\n",
    "config.learning_rate = 0.001\n",
    "config.batch_size = 64\n",
    "config.epochs = 20\n",
    "\n",
    "\n",
    "\n",
    "def resnet_block(input_data, filters, conv_size):\n",
    "    x = layers.Conv2D(filters, conv_size, activation='LeakyReLU', padding='same')(input_data)\n",
    "    x = layers.Conv2D(filters, conv_size, activation='LeakyReLU', padding='same')(x)\n",
    "    x = layers.BatchNormalization()(x)\n",
    "    x = layers.Add()([x, input_data])\n",
    "    x = layers.Activation('LeakyReLU')(x)\n",
    "    return x\n",
    "\n",
    "input_layer = keras.Input(shape=(32, 32, 3))\n",
    "x = layers.Conv2D(32, kernel_size=(3, 3), activation='LeakyReLU')(input_layer)\n",
    "x = layers.Conv2D(32, kernel_size=(3, 3), activation='LeakyReLU')(x)\n",
    "x = layers.BatchNormalization()(x)\n",
    "\n",
    "x = resnet_block(x, filters=32, conv_size=(3, 3))\n",
    "x = resnet_block(x, filters=32, conv_size=(3, 3))\n",
    "\n",
    "x = layers.Conv2D(64, kernel_size=(3, 3), activation='LeakyReLU')(x)\n",
    "x = layers.MaxPooling2D(pool_size=(2, 2))(x)\n",
    "x = layers.BatchNormalization()(x)\n",
    "x = layers.Dropout(0.25)(x)\n",
    "\n",
    "x = resnet_block(x, filters=64, conv_size=(5, 5))\n",
    "\n",
    "x = layers.Conv2D(128, kernel_size=(5, 5), activation='LeakyReLU')(x)\n",
    "x = layers.Conv2D(128, kernel_size=(5, 5), strides=(2, 2), activation='LeakyReLU')(x)\n",
    "x = layers.BatchNormalization()(x)\n",
    "\n",
    "x = layers.Flatten()(x)\n",
    "x = layers.Dense(256, activation='LeakyReLU')(x)\n",
    "x = layers.Dropout(0.5)(x)\n",
    "x = layers.Dense(128, activation='LeakyReLU')(x)\n",
    "output_layer = layers.Dense(10, activation='softmax')(x)\n",
    "\n",
    "model = keras.Model(inputs=input_layer, outputs=output_layer)\n",
    "\n",
    "optimizer = tf.keras.optimizers.Adam(learning_rate=config.learning_rate)\n",
    "\n",
    "model.compile(optimizer=optimizer, loss='categorical_crossentropy', metrics=['accuracy'])\n",
    "\n",
    "early_stop = tf.keras.callbacks.EarlyStopping(monitor='val_loss', patience=10)\n",
    "lr_scheduler = tf.keras.callbacks.ReduceLROnPlateau(monitor='val_loss', factor=0.8, patience=5, min_lr=0.000001)\n",
    "\n",
    "history = model.fit(X_train, y_train, epochs=config.epochs, batch_size=config.batch_size, validation_data=(X_val, y_val), callbacks=[lr_scheduler,early_stop,WandbCallback()])\n",
    "\n",
    "# Evaluate the model\n",
    "val_loss, val_acc = model.evaluate(X_test, y_test, verbose=2)\n",
    "print('Test accuracy:', val_acc)\n",
    "print('Test loss:', val_loss)\n",
    "\n",
    "# Evaluate the model on the val set and log the results\n",
    "wandb.log({'Test loss': val_loss, 'Test accuracy': val_acc})\n"
   ]
  },
  {
   "cell_type": "code",
   "execution_count": 22,
   "id": "c1863d80",
   "metadata": {},
   "outputs": [
    {
     "name": "stdout",
     "output_type": "stream",
     "text": [
      "Model: \"model\"\n",
      "__________________________________________________________________________________________________\n",
      " Layer (type)                   Output Shape         Param #     Connected to                     \n",
      "==================================================================================================\n",
      " input_2 (InputLayer)           [(None, 32, 32, 3)]  0           []                               \n",
      "                                                                                                  \n",
      " conv2d_12 (Conv2D)             (None, 30, 30, 32)   896         ['input_2[0][0]']                \n",
      "                                                                                                  \n",
      " conv2d_13 (Conv2D)             (None, 28, 28, 32)   9248        ['conv2d_12[0][0]']              \n",
      "                                                                                                  \n",
      " batch_normalization_8 (BatchNo  (None, 28, 28, 32)  128         ['conv2d_13[0][0]']              \n",
      " rmalization)                                                                                     \n",
      "                                                                                                  \n",
      " conv2d_14 (Conv2D)             (None, 28, 28, 32)   9248        ['batch_normalization_8[0][0]']  \n",
      "                                                                                                  \n",
      " conv2d_15 (Conv2D)             (None, 28, 28, 32)   9248        ['conv2d_14[0][0]']              \n",
      "                                                                                                  \n",
      " batch_normalization_9 (BatchNo  (None, 28, 28, 32)  128         ['conv2d_15[0][0]']              \n",
      " rmalization)                                                                                     \n",
      "                                                                                                  \n",
      " add (Add)                      (None, 28, 28, 32)   0           ['batch_normalization_9[0][0]',  \n",
      "                                                                  'batch_normalization_8[0][0]']  \n",
      "                                                                                                  \n",
      " activation (Activation)        (None, 28, 28, 32)   0           ['add[0][0]']                    \n",
      "                                                                                                  \n",
      " conv2d_16 (Conv2D)             (None, 28, 28, 32)   9248        ['activation[0][0]']             \n",
      "                                                                                                  \n",
      " conv2d_17 (Conv2D)             (None, 28, 28, 32)   9248        ['conv2d_16[0][0]']              \n",
      "                                                                                                  \n",
      " batch_normalization_10 (BatchN  (None, 28, 28, 32)  128         ['conv2d_17[0][0]']              \n",
      " ormalization)                                                                                    \n",
      "                                                                                                  \n",
      " add_1 (Add)                    (None, 28, 28, 32)   0           ['batch_normalization_10[0][0]', \n",
      "                                                                  'activation[0][0]']             \n",
      "                                                                                                  \n",
      " activation_1 (Activation)      (None, 28, 28, 32)   0           ['add_1[0][0]']                  \n",
      "                                                                                                  \n",
      " conv2d_18 (Conv2D)             (None, 26, 26, 64)   18496       ['activation_1[0][0]']           \n",
      "                                                                                                  \n",
      " max_pooling2d_2 (MaxPooling2D)  (None, 13, 13, 64)  0           ['conv2d_18[0][0]']              \n",
      "                                                                                                  \n",
      " batch_normalization_11 (BatchN  (None, 13, 13, 64)  256         ['max_pooling2d_2[0][0]']        \n",
      " ormalization)                                                                                    \n",
      "                                                                                                  \n",
      " dropout_5 (Dropout)            (None, 13, 13, 64)   0           ['batch_normalization_11[0][0]'] \n",
      "                                                                                                  \n",
      " conv2d_19 (Conv2D)             (None, 13, 13, 64)   102464      ['dropout_5[0][0]']              \n",
      "                                                                                                  \n",
      " conv2d_20 (Conv2D)             (None, 13, 13, 64)   102464      ['conv2d_19[0][0]']              \n",
      "                                                                                                  \n",
      " batch_normalization_12 (BatchN  (None, 13, 13, 64)  256         ['conv2d_20[0][0]']              \n",
      " ormalization)                                                                                    \n",
      "                                                                                                  \n",
      " add_2 (Add)                    (None, 13, 13, 64)   0           ['batch_normalization_12[0][0]', \n",
      "                                                                  'dropout_5[0][0]']              \n",
      "                                                                                                  \n",
      " activation_2 (Activation)      (None, 13, 13, 64)   0           ['add_2[0][0]']                  \n",
      "                                                                                                  \n",
      " conv2d_21 (Conv2D)             (None, 9, 9, 128)    204928      ['activation_2[0][0]']           \n",
      "                                                                                                  \n",
      " conv2d_22 (Conv2D)             (None, 3, 3, 128)    409728      ['conv2d_21[0][0]']              \n",
      "                                                                                                  \n",
      " batch_normalization_13 (BatchN  (None, 3, 3, 128)   512         ['conv2d_22[0][0]']              \n",
      " ormalization)                                                                                    \n",
      "                                                                                                  \n",
      " flatten_2 (Flatten)            (None, 1152)         0           ['batch_normalization_13[0][0]'] \n",
      "                                                                                                  \n",
      " dense_5 (Dense)                (None, 256)          295168      ['flatten_2[0][0]']              \n",
      "                                                                                                  \n",
      " dropout_6 (Dropout)            (None, 256)          0           ['dense_5[0][0]']                \n",
      "                                                                                                  \n",
      " dense_6 (Dense)                (None, 128)          32896       ['dropout_6[0][0]']              \n",
      "                                                                                                  \n",
      " dense_7 (Dense)                (None, 10)           1290        ['dense_6[0][0]']                \n",
      "                                                                                                  \n",
      "==================================================================================================\n",
      "Total params: 1,215,978\n",
      "Trainable params: 1,215,274\n",
      "Non-trainable params: 704\n",
      "__________________________________________________________________________________________________\n"
     ]
    }
   ],
   "source": [
    "model.summary()"
   ]
  },
  {
   "cell_type": "code",
   "execution_count": 23,
   "id": "de12d431",
   "metadata": {},
   "outputs": [
    {
     "data": {
      "image/png": "[encoded data removed]",
      "text/plain": [
       "<Figure size 640x480 with 1 Axes>"
      ]
     },
     "metadata": {},
     "output_type": "display_data"
    }
   ],
   "source": [
    "plt.plot(history.history['loss'], label='Training Loss')\n",
    "plt.plot(history.history['val_loss'], label='Validation Loss')\n",
    "plt.plot(history.history['accuracy'], label='Training Accuracy')\n",
    "plt.plot(history.history['val_accuracy'], label='Validation Accuracy')\n",
    "\n",
    "plt.xlabel('Epoch')\n",
    "plt.ylabel('Loss / Accuracy')\n",
    "plt.legend()\n",
    "plt.show()"
   ]
  },
  {
   "cell_type": "code",
   "execution_count": 24,
   "id": "f414f7f7",
   "metadata": {},
   "outputs": [],
   "source": [
    "# Pokus 6 extended"
   ]
  },
  {
   "cell_type": "code",
   "execution_count": null,
   "id": "f8780f74",
   "metadata": {},
   "outputs": [
    {
     "data": {
      "text/html": [
       "Finishing last run (ID:zmxhzd3x) before initializing another..."
      ],
      "text/plain": [
       "<IPython.core.display.HTML object>"
      ]
     },
     "metadata": {},
     "output_type": "display_data"
    },
    {
     "data": {
      "text/html": [
       "Waiting for W&B process to finish... <strong style=\"color:green\">(success).</strong>"
      ],
      "text/plain": [
       "<IPython.core.display.HTML object>"
      ]
     },
     "metadata": {},
     "output_type": "display_data"
    }
   ],
   "source": [
    "# Define the model architecture\n",
    "wandb.init(project=\"neural-network-assgiment2\")\n",
    "wandb.run.name = \"Pokus 6 extended\"\n",
    "config = wandb.config\n",
    "config.learning_rate = 0.001\n",
    "config.batch_size = 64\n",
    "config.epochs = 40\n",
    "\n",
    "\n",
    "\n",
    "def resnet_block(input_data, filters, conv_size):\n",
    "    x = layers.Conv2D(filters, conv_size, activation='LeakyReLU', padding='same')(input_data)\n",
    "    x = layers.Conv2D(filters, conv_size, activation='LeakyReLU', padding='same')(x)\n",
    "    x = layers.BatchNormalization()(x)\n",
    "    x = layers.Add()([x, input_data])\n",
    "    x = layers.Activation('LeakyReLU')(x)\n",
    "    return x\n",
    "\n",
    "input_layer = keras.Input(shape=(32, 32, 3))\n",
    "x = layers.Conv2D(32, kernel_size=(3, 3), activation='LeakyReLU')(input_layer)\n",
    "x = layers.Conv2D(32, kernel_size=(3, 3), activation='LeakyReLU')(x)\n",
    "x = layers.BatchNormalization()(x)\n",
    "\n",
    "x = resnet_block(x, filters=32, conv_size=(3, 3))\n",
    "x = resnet_block(x, filters=32, conv_size=(3, 3))\n",
    "\n",
    "x = layers.Conv2D(64, kernel_size=(3, 3), activation='LeakyReLU')(x)\n",
    "x = layers.MaxPooling2D(pool_size=(2, 2))(x)\n",
    "x = layers.BatchNormalization()(x)\n",
    "x = layers.Dropout(0.25)(x)\n",
    "\n",
    "x = resnet_block(x, filters=64, conv_size=(5, 5))\n",
    "\n",
    "x = layers.Conv2D(128, kernel_size=(5, 5), activation='LeakyReLU')(x)\n",
    "x = layers.Conv2D(128, kernel_size=(5, 5), strides=(2, 2), activation='LeakyReLU')(x)\n",
    "x = layers.BatchNormalization()(x)\n",
    "\n",
    "x = layers.Flatten()(x)\n",
    "x = layers.Dense(256, activation='LeakyReLU')(x)\n",
    "x = layers.Dropout(0.5)(x)\n",
    "x = layers.Dense(128, activation='LeakyReLU')(x)\n",
    "output_layer = layers.Dense(10, activation='softmax')(x)\n",
    "\n",
    "model = keras.Model(inputs=input_layer, outputs=output_layer)\n",
    "\n",
    "optimizer = tf.keras.optimizers.Adam(learning_rate=config.learning_rate)\n",
    "\n",
    "model.compile(optimizer=optimizer, loss='categorical_crossentropy', metrics=['accuracy'])\n",
    "\n",
    "early_stop = tf.keras.callbacks.EarlyStopping(monitor='val_loss', patience=10)\n",
    "lr_scheduler = tf.keras.callbacks.ReduceLROnPlateau(monitor='val_loss', factor=0.8, patience=5, min_lr=0.000001)\n",
    "\n",
    "history = model.fit(X_train, y_train, epochs=config.epochs, batch_size=config.batch_size, validation_data=(X_val, y_val), callbacks=[lr_scheduler,early_stop,WandbCallback()])\n",
    "\n",
    "# Evaluate the model\n",
    "val_loss, val_acc = model.evaluate(X_test, y_test, verbose=2)\n",
    "print('Test accuracy:', val_acc)\n",
    "print('Test loss:', val_loss)\n",
    "\n",
    "# Evaluate the model on the val set and log the results\n",
    "wandb.log({'Test loss': val_loss, 'Test accuracy': val_acc})\n"
   ]
  },
  {
   "cell_type": "code",
   "execution_count": null,
   "id": "93b10130",
   "metadata": {},
   "outputs": [],
   "source": [
    "model.summary()"
   ]
  },
  {
   "cell_type": "code",
   "execution_count": null,
   "id": "1b6e0128",
   "metadata": {},
   "outputs": [],
   "source": [
    "plt.plot(history.history['loss'], label='Training Loss')\n",
    "plt.plot(history.history['val_loss'], label='Validation Loss')\n",
    "plt.plot(history.history['accuracy'], label='Training Accuracy')\n",
    "plt.plot(history.history['val_accuracy'], label='Validation Accuracy')\n",
    "\n",
    "plt.xlabel('Epoch')\n",
    "plt.ylabel('Loss / Accuracy')\n",
    "plt.legend()\n",
    "plt.show()"
   ]
  },
  {
   "cell_type": "markdown",
   "id": "49c1cb7e",
   "metadata": {},
   "source": [
    "# Pokus cislo 7"
   ]
  },
  {
   "cell_type": "code",
   "execution_count": 33,
   "id": "cc28299a",
   "metadata": {
    "scrolled": true
   },
   "outputs": [],
   "source": [
    "# Define the model architecture\n",
    "wandb.init(project=\"neural-network-assgiment2\")\n",
    "wandb.run.name = \"Pokus 7\"\n",
    "config = wandb.config\n",
    "config.learning_rate = 0.001\n",
    "config.batch_size = 32\n",
    "config.epochs = 20\n",
    "\n",
    "model = tf.keras.Sequential([\n",
    "    layers.Conv2D(32, (3, 3), activation='relu', input_shape=(32, 32, 3)),\n",
    "    layers.BatchNormalization(),\n",
    "    layers.MaxPooling2D((2, 2)),\n",
    "    layers.Dropout(0.25),\n",
    "    layers.Conv2D(64, (3, 3), activation='relu'),\n",
    "    layers.BatchNormalization(),\n",
    "    layers.MaxPooling2D((2, 2)),\n",
    "    layers.Dropout(0.25),\n",
    "    layers.Conv2D(128, (3, 3), activation='relu'),\n",
    "    layers.BatchNormalization(),\n",
    "    layers.MaxPooling2D((2, 2)),\n",
    "    layers.Dropout(0.25),\n",
    "    layers.Flatten(),\n",
    "    layers.Dense(64, activation='relu'),\n",
    "    layers.Dropout(0.5),\n",
    "    layers.Dense(10, activation='softmax')\n",
    "])\n",
    "\n",
    "\n",
    "\n",
    "optimizer = tf.keras.optimizers.Adam(learning_rate=config.learning_rate)\n",
    "\n",
    "model.compile(optimizer=optimizer, loss='categorical_crossentropy', metrics=['accuracy'])\n",
    "\n",
    "early_stop = tf.keras.callbacks.EarlyStopping(monitor='val_loss', patience=10)\n",
    "lr_scheduler = tf.keras.callbacks.ReduceLROnPlateau(monitor='val_loss', factor=0.8, patience=5, min_lr=0.000001)\n",
    "\n",
    "history = model.fit(X_train, y_train, epochs=config.epochs, batch_size=config.batch_size, validation_data=(X_val, y_val), callbacks=[lr_scheduler,early_stop,WandbCallback()])\n",
    "\n",
    "# Evaluate the model\n",
    "val_loss, val_acc = model.evaluate(X_test, y_test, verbose=2)\n",
    "print('Test accuracy:', val_acc)\n",
    "print('Test loss:', val_loss)\n",
    "\n",
    "# Evaluate the model on the val set and log the results\n",
    "wandb.log({'Test loss': val_loss, 'Test accuracy': val_acc})"
   ]
  },
  {
   "cell_type": "code",
   "execution_count": 34,
   "id": "5b8d47d2",
   "metadata": {},
   "outputs": [],
   "source": [
    "model.summary()"
   ]
  },
  {
   "cell_type": "code",
   "execution_count": 35,
   "id": "7db02457",
   "metadata": {},
   "outputs": [],
   "source": [
    "plt.plot(history.history['loss'], label='Training Loss')\n",
    "plt.plot(history.history['val_loss'], label='Validation Loss')\n",
    "plt.plot(history.history['accuracy'], label='Training Accuracy')\n",
    "plt.plot(history.history['val_accuracy'], label='Validation Accuracy')\n",
    "\n",
    "plt.xlabel('Epoch')\n",
    "plt.ylabel('Loss / Accuracy')\n",
    "plt.legend()\n",
    "plt.show()"
   ]
  },
  {
   "cell_type": "markdown",
   "id": "61f9629f",
   "metadata": {},
   "source": [
    "# Pokus cislo 8"
   ]
  },
  {
   "cell_type": "code",
   "execution_count": 36,
   "id": "c14c862f",
   "metadata": {},
   "outputs": [],
   "source": [
    "import tensorflow as tf\n",
    "\n",
    "\n",
    "# Define the model architecture\n",
    "wandb.init(project=\"neural-network-assgiment2\")\n",
    "wandb.run.name = \"Pokus 8\"\n",
    "config = wandb.config\n",
    "config.learning_rate = 0.001\n",
    "config.batch_size = 32\n",
    "config.epochs = 20\n",
    "\n",
    "# Define the residual block\n",
    "def residual_block(inputs, filters, stride=1):\n",
    "    shortcut = inputs\n",
    "\n",
    "    # First convolutional layer with 3x3 filters and ReLU activation\n",
    "    x = tf.keras.layers.Conv2D(filters=filters, kernel_size=(3, 3), strides=stride, padding='same', activation='relu')(inputs)\n",
    "    # Batch normalization layer\n",
    "    x = tf.keras.layers.BatchNormalization()(x)\n",
    "    # Second convolutional layer with 3x3 filters and ReLU activation\n",
    "    x = tf.keras.layers.Conv2D(filters=filters, kernel_size=(3, 3), strides=1, padding='same', activation='relu')(x)\n",
    "    # Batch normalization layer\n",
    "    x = tf.keras.layers.BatchNormalization()(x)\n",
    "\n",
    "    # Add the shortcut to the residual block output and apply ReLU activation\n",
    "    if shortcut.shape[-1] != filters or stride != 1:\n",
    "        shortcut = tf.keras.layers.Conv2D(filters=filters, kernel_size=(1, 1), strides=stride, padding='valid', activation='relu')(shortcut)\n",
    "        shortcut = tf.keras.layers.BatchNormalization()(shortcut)\n",
    "\n",
    "    x = tf.keras.layers.Add()([x, shortcut])\n",
    "    x = tf.keras.layers.Activation('relu')(x)\n",
    "\n",
    "    return x\n",
    "\n",
    "\n",
    "# Define the model architecture with residual blocks\n",
    "inputs = tf.keras.layers.Input(shape=(32, 32, 3))\n",
    "\n",
    "x = tf.keras.layers.Conv2D(filters=64, kernel_size=(3, 3), padding='same', activation='relu')(inputs)\n",
    "x = tf.keras.layers.BatchNormalization()(x)\n",
    "x = tf.keras.layers.MaxPooling2D(pool_size=(2, 2))(x)\n",
    "x = residual_block(x, filters=64)\n",
    "\n",
    "x = tf.keras.layers.Conv2D(filters=128, kernel_size=(3, 3), padding='same', activation='relu')(x)\n",
    "x = tf.keras.layers.BatchNormalization()(x)\n",
    "x = tf.keras.layers.MaxPooling2D(pool_size=(2, 2))(x)\n",
    "x = residual_block(x, filters=128)\n",
    "\n",
    "x = tf.keras.layers.Conv2D(filters=256, kernel_size=(3, 3), padding='same', activation='relu')(x)\n",
    "x = tf.keras.layers.BatchNormalization()(x)\n",
    "x = tf.keras.layers.MaxPooling2D(pool_size=(2, 2))(x)\n",
    "x = residual_block(x, filters=256)\n",
    "\n",
    "x = tf.keras.layers.GlobalAveragePooling2D()(x)\n",
    "outputs = tf.keras.layers.Dense(units=10, activation='softmax')(x)\n",
    "\n",
    "model = tf.keras.Model(inputs=inputs, outputs=outputs)\n",
    "\n",
    "optimizer = tf.keras.optimizers.Adam(learning_rate=config.learning_rate)\n",
    "\n",
    "model.compile(optimizer=optimizer, loss='categorical_crossentropy', metrics=['accuracy'])\n",
    "\n",
    "early_stop = tf.keras.callbacks.EarlyStopping(monitor='val_loss', patience=10)\n",
    "lr_scheduler = tf.keras.callbacks.ReduceLROnPlateau(monitor='val_loss', factor=0.8, patience=5, min_lr=0.000001)\n",
    "\n",
    "history = model.fit(X_train, y_train, epochs=config.epochs, batch_size=config.batch_size, validation_data=(X_val, y_val), callbacks=[lr_scheduler,early_stop,WandbCallback()])\n",
    "\n",
    "# Evaluate the model\n",
    "val_loss, val_acc = model.evaluate(X_test, y_test, verbose=2)\n",
    "print('Test accuracy:', val_acc)\n",
    "print('Test loss:', val_loss)\n",
    "\n",
    "# Evaluate the model on the val set and log the results\n",
    "wandb.log({'Test loss': val_loss, 'Test accuracy': val_acc})\n",
    "                                                 \n",
    "                                                 "
   ]
  },
  {
   "cell_type": "code",
   "execution_count": 37,
   "id": "2e0aa442",
   "metadata": {},
   "outputs": [],
   "source": [
    "model.summary()"
   ]
  },
  {
   "cell_type": "code",
   "execution_count": 38,
   "id": "e1dd24c6",
   "metadata": {},
   "outputs": [],
   "source": [
    "plt.plot(history.history['loss'], label='Training Loss')\n",
    "plt.plot(history.history['val_loss'], label='Validation Loss')\n",
    "plt.plot(history.history['accuracy'], label='Training Accuracy')\n",
    "plt.plot(history.history['val_accuracy'], label='Validation Accuracy')\n",
    "\n",
    "plt.xlabel('Epoch')\n",
    "plt.ylabel('Loss / Accuracy')\n",
    "plt.legend()\n",
    "plt.show()"
   ]
  },
  {
   "cell_type": "markdown",
   "id": "f23293bf",
   "metadata": {},
   "source": [
    "  # pokus cislo 9"
   ]
  },
  {
   "cell_type": "code",
   "execution_count": null,
   "id": "d8c8873e",
   "metadata": {},
   "outputs": [],
   "source": [
    "import tensorflow as tf\n",
    "\n",
    "\n",
    "# Define the model architecture\n",
    "wandb.init(project=\"neural-network-assgiment2\")\n",
    "wandb.run.name = \"Pokus 9 extended\"\n",
    "config = wandb.config\n",
    "config.learning_rate = 0.001\n",
    "config.batch_size = 64\n",
    "config.epochs = 40\n",
    "\n",
    "# Define the model architecture\n",
    "model = tf.keras.Sequential()\n",
    "\n",
    "# Add convolutional layers\n",
    "model.add(tf.keras.layers.Conv2D(32, (3, 3), padding='same', activation='relu', input_shape=(32, 32, 3)))\n",
    "model.add(tf.keras.layers.BatchNormalization())\n",
    "model.add(tf.keras.layers.Conv2D(32, (3, 3), padding='same', activation='relu'))\n",
    "model.add(tf.keras.layers.BatchNormalization())\n",
    "model.add(tf.keras.layers.MaxPooling2D(pool_size=(2, 2)))\n",
    "model.add(tf.keras.layers.Dropout(0.2))\n",
    "\n",
    "model.add(tf.keras.layers.Conv2D(64, (3, 3), padding='same', activation='relu'))\n",
    "model.add(tf.keras.layers.BatchNormalization())\n",
    "model.add(tf.keras.layers.Conv2D(64, (3, 3), padding='same', activation='relu'))\n",
    "model.add(tf.keras.layers.BatchNormalization())\n",
    "model.add(tf.keras.layers.MaxPooling2D(pool_size=(2, 2)))\n",
    "model.add(tf.keras.layers.Dropout(0.3))\n",
    "\n",
    "model.add(tf.keras.layers.Conv2D(128, (3, 3), padding='same', activation='relu'))\n",
    "model.add(tf.keras.layers.BatchNormalization())\n",
    "model.add(tf.keras.layers.Conv2D(128, (3, 3), padding='same', activation='relu'))\n",
    "model.add(tf.keras.layers.BatchNormalization())\n",
    "model.add(tf.keras.layers.MaxPooling2D(pool_size=(2, 2)))\n",
    "model.add(tf.keras.layers.Dropout(0.4))\n",
    "\n",
    "# Add dense layers\n",
    "model.add(tf.keras.layers.Flatten())\n",
    "model.add(tf.keras.layers.Dense(128, activation='relu'))\n",
    "model.add(tf.keras.layers.BatchNormalization())\n",
    "model.add(tf.keras.layers.Dropout(0.5))\n",
    "model.add(tf.keras.layers.Dense(10, activation='softmax'))\n",
    "\n",
    "optimizer = tf.keras.optimizers.Adam(learning_rate=config.learning_rate)\n",
    "\n",
    "model.compile(optimizer=optimizer, loss='categorical_crossentropy', metrics=['accuracy'])\n",
    "\n",
    "early_stop = tf.keras.callbacks.EarlyStopping(monitor='val_loss', patience=10)\n",
    "lr_scheduler = tf.keras.callbacks.ReduceLROnPlateau(monitor='val_loss', factor=0.8, patience=5, min_lr=0.000001)\n",
    "\n",
    "history = model.fit(X_train, y_train, epochs=config.epochs, batch_size=config.batch_size, validation_data=(X_val, y_val), callbacks=[lr_scheduler,early_stop,WandbCallback()])\n",
    "\n",
    "# Evaluate the model\n",
    "val_loss, val_acc = model.evaluate(X_test, y_test, verbose=2)\n",
    "print('Test accuracy:', val_acc)\n",
    "print('Test loss:', val_loss)\n",
    "\n",
    "# Evaluate the model on the val set and log the results\n",
    "wandb.log({'Test loss': val_loss, 'Test accuracy': val_acc})"
   ]
  },
  {
   "cell_type": "code",
   "execution_count": null,
   "id": "7e280e49",
   "metadata": {},
   "outputs": [],
   "source": [
    "model.summary()"
   ]
  },
  {
   "cell_type": "code",
   "execution_count": null,
   "id": "0075e699",
   "metadata": {},
   "outputs": [],
   "source": [
    "plt.plot(history.history['loss'], label='Training Loss')\n",
    "plt.plot(history.history['val_loss'], label='Validation Loss')\n",
    "plt.plot(history.history['accuracy'], label='Training Accuracy')\n",
    "plt.plot(history.history['val_accuracy'], label='Validation Accuracy')\n",
    "\n",
    "plt.xlabel('Epoch')\n",
    "plt.ylabel('Loss / Accuracy')\n",
    "plt.legend()\n",
    "plt.show()"
   ]
  },
  {
   "cell_type": "markdown",
   "id": "4db6fb70",
   "metadata": {},
   "source": [
    "# Pokus cislo 10"
   ]
  },
  {
   "cell_type": "code",
   "execution_count": null,
   "id": "65b4ba9c",
   "metadata": {},
   "outputs": [
    {
     "name": "stdout",
     "output_type": "stream",
     "text": [
      "782/782 [==============================] - ETA: 0s - loss: 0.6573 - accuracy: 0.7805"
     ]
    },
    {
     "name": "stderr",
     "output_type": "stream",
     "text": [
      "WARNING:absl:Found untraced functions such as _jit_compiled_convolution_op, _jit_compiled_convolution_op, _jit_compiled_convolution_op, _jit_compiled_convolution_op, _jit_compiled_convolution_op while saving (showing 5 of 13). These functions will not be directly callable after loading.\n"
     ]
    },
    {
     "name": "stdout",
     "output_type": "stream",
     "text": [
      "INFO:tensorflow:Assets written to: D:\\10.semester\\NN\\neural-networks\\2.zadanie\\src\\wandb\\run-20230412_194235-vahfuawd\\files\\model-best\\assets\n"
     ]
    },
    {
     "name": "stderr",
     "output_type": "stream",
     "text": [
      "INFO:tensorflow:Assets written to: D:\\10.semester\\NN\\neural-networks\\2.zadanie\\src\\wandb\\run-20230412_194235-vahfuawd\\files\\model-best\\assets\n",
      "\u001b[34m\u001b[1mwandb\u001b[0m: Adding directory to artifact (D:\\10.semester\\NN\\neural-networks\\2.zadanie\\src\\wandb\\run-20230412_194235-vahfuawd\\files\\model-best)... Done. 0.1s\n"
     ]
    },
    {
     "name": "stdout",
     "output_type": "stream",
     "text": [
      "782/782 [==============================] - 2037s 3s/step - loss: 0.6573 - accuracy: 0.7805 - val_loss: 0.7736 - val_accuracy: 0.7306 - lr: 0.0010\n",
      "Epoch 11/20\n",
      "782/782 [==============================] - ETA: 0s - loss: 0.6328 - accuracy: 0.7890"
     ]
    },
    {
     "name": "stderr",
     "output_type": "stream",
     "text": [
      "WARNING:absl:Found untraced functions such as _jit_compiled_convolution_op, _jit_compiled_convolution_op, _jit_compiled_convolution_op, _jit_compiled_convolution_op, _jit_compiled_convolution_op while saving (showing 5 of 13). These functions will not be directly callable after loading.\n"
     ]
    },
    {
     "name": "stdout",
     "output_type": "stream",
     "text": [
      "INFO:tensorflow:Assets written to: D:\\10.semester\\NN\\neural-networks\\2.zadanie\\src\\wandb\\run-20230412_194235-vahfuawd\\files\\model-best\\assets\n"
     ]
    },
    {
     "name": "stderr",
     "output_type": "stream",
     "text": [
      "INFO:tensorflow:Assets written to: D:\\10.semester\\NN\\neural-networks\\2.zadanie\\src\\wandb\\run-20230412_194235-vahfuawd\\files\\model-best\\assets\n",
      "\u001b[34m\u001b[1mwandb\u001b[0m: Adding directory to artifact (D:\\10.semester\\NN\\neural-networks\\2.zadanie\\src\\wandb\\run-20230412_194235-vahfuawd\\files\\model-best)... Done. 0.1s\n"
     ]
    },
    {
     "name": "stdout",
     "output_type": "stream",
     "text": [
      "782/782 [==============================] - 471s 602ms/step - loss: 0.6328 - accuracy: 0.7890 - val_loss: 0.6878 - val_accuracy: 0.7606 - lr: 0.0010\n",
      "Epoch 12/20\n",
      "265/782 [=========>....................] - ETA: 4:51 - loss: 0.5990 - accuracy: 0.7995"
     ]
    }
   ],
   "source": [
    "import tensorflow as tf\n",
    "\n",
    "# Define the model architecture\n",
    "wandb.init(project=\"neural-network-assgiment2\")\n",
    "wandb.run.name = \"Pokus 10\"\n",
    "config = wandb.config\n",
    "config.learning_rate = 0.001\n",
    "config.batch_size = 64\n",
    "config.epochs = 20\n",
    "\n",
    "# Define the model architecture\n",
    "model = tf.keras.models.Sequential([\n",
    "    tf.keras.layers.Conv2D(filters=16, kernel_size=3, padding='same', activation='relu', input_shape=(32, 32, 3)),\n",
    "    tf.keras.layers.BatchNormalization(),\n",
    "    tf.keras.layers.Conv2D(filters=16, kernel_size=3, padding='same', activation='relu'),\n",
    "    tf.keras.layers.BatchNormalization(),\n",
    "    tf.keras.layers.Conv2D(filters=16, kernel_size=3, padding='same', activation='relu'),\n",
    "    tf.keras.layers.BatchNormalization(),\n",
    "    tf.keras.layers.Conv2D(filters=16, kernel_size=3, padding='same', activation='relu'),\n",
    "    tf.keras.layers.MaxPooling2D(pool_size=2),\n",
    "    tf.keras.layers.Dropout(0.2),\n",
    "    \n",
    "    tf.keras.layers.Conv2D(filters=32, kernel_size=5, padding='same', activation='relu'),\n",
    "    tf.keras.layers.BatchNormalization(),\n",
    "    tf.keras.layers.Conv2D(filters=32, kernel_size=5, padding='same', activation='relu'),\n",
    "    tf.keras.layers.BatchNormalization(),\n",
    "    tf.keras.layers.Conv2D(filters=32, kernel_size=5, padding='same', activation='relu'),\n",
    "    tf.keras.layers.BatchNormalization(),\n",
    "    tf.keras.layers.Conv2D(filters=32, kernel_size=5, padding='same', activation='relu'),\n",
    "    tf.keras.layers.MaxPooling2D(pool_size=2),\n",
    "    tf.keras.layers.Dropout(0.3),\n",
    "    \n",
    "    tf.keras.layers.Conv2D(filters=128, kernel_size=7, padding='same', activation='relu'),\n",
    "    tf.keras.layers.Conv2D(filters=128, kernel_size=7, padding='same', activation='relu'),\n",
    "    tf.keras.layers.BatchNormalization(),\n",
    "    tf.keras.layers.Conv2D(filters=128, kernel_size=7, padding='same', activation='relu'),\n",
    "    tf.keras.layers.Conv2D(filters=128, kernel_size=7, padding='same', activation='relu'),\n",
    "    tf.keras.layers.MaxPooling2D(pool_size=2),\n",
    "    tf.keras.layers.Dropout(0.4),\n",
    "    \n",
    "    tf.keras.layers.Flatten(),\n",
    "    tf.keras.layers.Dense(units=128, activation='relu'),\n",
    "    tf.keras.layers.BatchNormalization(),\n",
    "    tf.keras.layers.Dropout(0.5),\n",
    "    tf.keras.layers.Dense(units=10, activation='softmax')\n",
    "])\n",
    "\n",
    "\n",
    "optimizer = tf.keras.optimizers.Adam(learning_rate=config.learning_rate)\n",
    "\n",
    "model.compile(optimizer=optimizer, loss='categorical_crossentropy', metrics=['accuracy'])\n",
    "\n",
    "early_stop = tf.keras.callbacks.EarlyStopping(monitor='val_loss', patience=10)\n",
    "lr_scheduler = tf.keras.callbacks.ReduceLROnPlateau(monitor='val_loss', factor=0.8, patience=5, min_lr=0.000001)\n",
    "\n",
    "history = model.fit(X_train, y_train, epochs=config.epochs, batch_size=config.batch_size, validation_data=(X_val, y_val), callbacks=[lr_scheduler,early_stop,WandbCallback()])\n",
    "\n",
    "# Evaluate the model\n",
    "val_loss, val_acc = model.evaluate(X_test, y_test, verbose=2)\n",
    "print('Test accuracy:', val_acc)\n",
    "print('Test loss:', val_loss)\n",
    "\n",
    "# Evaluate the model on the val set and log the results\n",
    "wandb.log({'Test loss': val_loss, 'Test accuracy': val_acc})\n"
   ]
  },
  {
   "cell_type": "code",
   "execution_count": null,
   "id": "9336846f",
   "metadata": {},
   "outputs": [],
   "source": [
    "model.summary()"
   ]
  },
  {
   "cell_type": "code",
   "execution_count": null,
   "id": "338aa0d6",
   "metadata": {},
   "outputs": [],
   "source": [
    "plt.plot(history.history['loss'], label='Training Loss')\n",
    "plt.plot(history.history['val_loss'], label='Validation Loss')\n",
    "plt.plot(history.history['accuracy'], label='Training Accuracy')\n",
    "plt.plot(history.history['val_accuracy'], label='Validation Accuracy')\n",
    "\n",
    "plt.xlabel('Epoch')\n",
    "plt.ylabel('Loss / Accuracy')\n",
    "plt.legend()\n",
    "plt.show()"
   ]
  },
  {
   "cell_type": "markdown",
   "id": "df9b070b",
   "metadata": {},
   "source": [
    "# Pokus cislo 11"
   ]
  },
  {
   "cell_type": "code",
   "execution_count": 15,
   "id": "39f3792f",
   "metadata": {},
   "outputs": [
    {
     "name": "stderr",
     "output_type": "stream",
     "text": [
      "\u001b[34m\u001b[1mwandb\u001b[0m: Currently logged in as: \u001b[33mandrejbelak0\u001b[0m (\u001b[33mneural-netwok-nn\u001b[0m). Use \u001b[1m`wandb login --relogin`\u001b[0m to force relogin\n"
     ]
    },
    {
     "data": {
      "text/html": [
       "wandb version 0.14.2 is available!  To upgrade, please run:\n",
       " $ pip install wandb --upgrade"
      ],
      "text/plain": [
       "<IPython.core.display.HTML object>"
      ]
     },
     "metadata": {},
     "output_type": "display_data"
    },
    {
     "data": {
      "text/html": [
       "Tracking run with wandb version 0.14.0"
      ],
      "text/plain": [
       "<IPython.core.display.HTML object>"
      ]
     },
     "metadata": {},
     "output_type": "display_data"
    },
    {
     "data": {
      "text/html": [
       "Run data is saved locally in <code>D:\\10.semester\\NN\\neural-networks\\2.zadanie\\src\\wandb\\run-20230412_224138-4rzaymfy</code>"
      ],
      "text/plain": [
       "<IPython.core.display.HTML object>"
      ]
     },
     "metadata": {},
     "output_type": "display_data"
    },
    {
     "data": {
      "text/html": [
       "Syncing run <strong><a href='https://wandb.ai/neural-netwok-nn/neural-network-assgiment2/runs/4rzaymfy' target=\"_blank\">copper-cosmos-14</a></strong> to <a href='https://wandb.ai/neural-netwok-nn/neural-network-assgiment2' target=\"_blank\">Weights & Biases</a> (<a href='https://wandb.me/run' target=\"_blank\">docs</a>)<br/>"
      ],
      "text/plain": [
       "<IPython.core.display.HTML object>"
      ]
     },
     "metadata": {},
     "output_type": "display_data"
    },
    {
     "data": {
      "text/html": [
       " View project at <a href='https://wandb.ai/neural-netwok-nn/neural-network-assgiment2' target=\"_blank\">https://wandb.ai/neural-netwok-nn/neural-network-assgiment2</a>"
      ],
      "text/plain": [
       "<IPython.core.display.HTML object>"
      ]
     },
     "metadata": {},
     "output_type": "display_data"
    },
    {
     "data": {
      "text/html": [
       " View run at <a href='https://wandb.ai/neural-netwok-nn/neural-network-assgiment2/runs/4rzaymfy' target=\"_blank\">https://wandb.ai/neural-netwok-nn/neural-network-assgiment2/runs/4rzaymfy</a>"
      ],
      "text/plain": [
       "<IPython.core.display.HTML object>"
      ]
     },
     "metadata": {},
     "output_type": "display_data"
    },
    {
     "name": "stderr",
     "output_type": "stream",
     "text": [
      "\u001b[34m\u001b[1mwandb\u001b[0m: \u001b[33mWARNING\u001b[0m The save_model argument by default saves the model in the HDF5 format that cannot save custom objects like subclassed models and custom layers. This behavior will be deprecated in a future release in favor of the SavedModel format. Meanwhile, the HDF5 model is saved as W&B files and the SavedModel as W&B Artifacts.\n"
     ]
    },
    {
     "name": "stdout",
     "output_type": "stream",
     "text": [
      "Epoch 1/20\n",
      "1561/1563 [============================>.] - ETA: 0s - loss: 1.5134 - accuracy: 0.4691"
     ]
    },
    {
     "name": "stderr",
     "output_type": "stream",
     "text": [
      "WARNING:absl:Found untraced functions such as _jit_compiled_convolution_op, _jit_compiled_convolution_op, _jit_compiled_convolution_op, _update_step_xla while saving (showing 4 of 4). These functions will not be directly callable after loading.\n"
     ]
    },
    {
     "name": "stdout",
     "output_type": "stream",
     "text": [
      "INFO:tensorflow:Assets written to: D:\\10.semester\\NN\\neural-networks\\2.zadanie\\src\\wandb\\run-20230412_224138-4rzaymfy\\files\\model-best\\assets\n"
     ]
    },
    {
     "name": "stderr",
     "output_type": "stream",
     "text": [
      "INFO:tensorflow:Assets written to: D:\\10.semester\\NN\\neural-networks\\2.zadanie\\src\\wandb\\run-20230412_224138-4rzaymfy\\files\\model-best\\assets\n",
      "\u001b[34m\u001b[1mwandb\u001b[0m: Adding directory to artifact (D:\\10.semester\\NN\\neural-networks\\2.zadanie\\src\\wandb\\run-20230412_224138-4rzaymfy\\files\\model-best)... Done. 0.0s\n"
     ]
    },
    {
     "name": "stdout",
     "output_type": "stream",
     "text": [
      "1563/1563 [==============================] - 32s 19ms/step - loss: 1.5132 - accuracy: 0.4692 - val_loss: 1.3608 - val_accuracy: 0.5246 - lr: 0.0010\n",
      "Epoch 2/20\n",
      "1561/1563 [============================>.] - ETA: 0s - loss: 1.1229 - accuracy: 0.6028"
     ]
    },
    {
     "name": "stderr",
     "output_type": "stream",
     "text": [
      "WARNING:absl:Found untraced functions such as _jit_compiled_convolution_op, _jit_compiled_convolution_op, _jit_compiled_convolution_op, _update_step_xla while saving (showing 4 of 4). These functions will not be directly callable after loading.\n"
     ]
    },
    {
     "name": "stdout",
     "output_type": "stream",
     "text": [
      "INFO:tensorflow:Assets written to: D:\\10.semester\\NN\\neural-networks\\2.zadanie\\src\\wandb\\run-20230412_224138-4rzaymfy\\files\\model-best\\assets\n"
     ]
    },
    {
     "name": "stderr",
     "output_type": "stream",
     "text": [
      "INFO:tensorflow:Assets written to: D:\\10.semester\\NN\\neural-networks\\2.zadanie\\src\\wandb\\run-20230412_224138-4rzaymfy\\files\\model-best\\assets\n",
      "\u001b[34m\u001b[1mwandb\u001b[0m: Adding directory to artifact (D:\\10.semester\\NN\\neural-networks\\2.zadanie\\src\\wandb\\run-20230412_224138-4rzaymfy\\files\\model-best)... Done. 0.0s\n"
     ]
    },
    {
     "name": "stdout",
     "output_type": "stream",
     "text": [
      "1563/1563 [==============================] - 30s 19ms/step - loss: 1.1226 - accuracy: 0.6029 - val_loss: 1.1787 - val_accuracy: 0.5830 - lr: 0.0010\n",
      "Epoch 3/20\n",
      "1561/1563 [============================>.] - ETA: 0s - loss: 0.9445 - accuracy: 0.6660"
     ]
    },
    {
     "name": "stderr",
     "output_type": "stream",
     "text": [
      "WARNING:absl:Found untraced functions such as _jit_compiled_convolution_op, _jit_compiled_convolution_op, _jit_compiled_convolution_op, _update_step_xla while saving (showing 4 of 4). These functions will not be directly callable after loading.\n"
     ]
    },
    {
     "name": "stdout",
     "output_type": "stream",
     "text": [
      "INFO:tensorflow:Assets written to: D:\\10.semester\\NN\\neural-networks\\2.zadanie\\src\\wandb\\run-20230412_224138-4rzaymfy\\files\\model-best\\assets\n"
     ]
    },
    {
     "name": "stderr",
     "output_type": "stream",
     "text": [
      "INFO:tensorflow:Assets written to: D:\\10.semester\\NN\\neural-networks\\2.zadanie\\src\\wandb\\run-20230412_224138-4rzaymfy\\files\\model-best\\assets\n",
      "\u001b[34m\u001b[1mwandb\u001b[0m: Adding directory to artifact (D:\\10.semester\\NN\\neural-networks\\2.zadanie\\src\\wandb\\run-20230412_224138-4rzaymfy\\files\\model-best)... Done. 0.0s\n"
     ]
    },
    {
     "name": "stdout",
     "output_type": "stream",
     "text": [
      "1563/1563 [==============================] - 30s 19ms/step - loss: 0.9444 - accuracy: 0.6660 - val_loss: 1.0916 - val_accuracy: 0.6318 - lr: 0.0010\n",
      "Epoch 4/20\n",
      "1561/1563 [============================>.] - ETA: 0s - loss: 0.8107 - accuracy: 0.7153"
     ]
    },
    {
     "name": "stderr",
     "output_type": "stream",
     "text": [
      "WARNING:absl:Found untraced functions such as _jit_compiled_convolution_op, _jit_compiled_convolution_op, _jit_compiled_convolution_op, _update_step_xla while saving (showing 4 of 4). These functions will not be directly callable after loading.\n"
     ]
    },
    {
     "name": "stdout",
     "output_type": "stream",
     "text": [
      "INFO:tensorflow:Assets written to: D:\\10.semester\\NN\\neural-networks\\2.zadanie\\src\\wandb\\run-20230412_224138-4rzaymfy\\files\\model-best\\assets\n"
     ]
    },
    {
     "name": "stderr",
     "output_type": "stream",
     "text": [
      "INFO:tensorflow:Assets written to: D:\\10.semester\\NN\\neural-networks\\2.zadanie\\src\\wandb\\run-20230412_224138-4rzaymfy\\files\\model-best\\assets\n",
      "\u001b[34m\u001b[1mwandb\u001b[0m: Adding directory to artifact (D:\\10.semester\\NN\\neural-networks\\2.zadanie\\src\\wandb\\run-20230412_224138-4rzaymfy\\files\\model-best)... Done. 0.0s\n"
     ]
    },
    {
     "name": "stdout",
     "output_type": "stream",
     "text": [
      "1563/1563 [==============================] - 31s 20ms/step - loss: 0.8106 - accuracy: 0.7153 - val_loss: 0.9744 - val_accuracy: 0.6718 - lr: 0.0010\n",
      "Epoch 5/20\n",
      "1560/1563 [============================>.] - ETA: 0s - loss: 0.7095 - accuracy: 0.7501"
     ]
    },
    {
     "name": "stderr",
     "output_type": "stream",
     "text": [
      "WARNING:absl:Found untraced functions such as _jit_compiled_convolution_op, _jit_compiled_convolution_op, _jit_compiled_convolution_op, _update_step_xla while saving (showing 4 of 4). These functions will not be directly callable after loading.\n"
     ]
    },
    {
     "name": "stdout",
     "output_type": "stream",
     "text": [
      "INFO:tensorflow:Assets written to: D:\\10.semester\\NN\\neural-networks\\2.zadanie\\src\\wandb\\run-20230412_224138-4rzaymfy\\files\\model-best\\assets\n"
     ]
    },
    {
     "name": "stderr",
     "output_type": "stream",
     "text": [
      "INFO:tensorflow:Assets written to: D:\\10.semester\\NN\\neural-networks\\2.zadanie\\src\\wandb\\run-20230412_224138-4rzaymfy\\files\\model-best\\assets\n",
      "\u001b[34m\u001b[1mwandb\u001b[0m: Adding directory to artifact (D:\\10.semester\\NN\\neural-networks\\2.zadanie\\src\\wandb\\run-20230412_224138-4rzaymfy\\files\\model-best)... Done. 0.0s\n"
     ]
    },
    {
     "name": "stdout",
     "output_type": "stream",
     "text": [
      "1563/1563 [==============================] - 31s 20ms/step - loss: 0.7093 - accuracy: 0.7501 - val_loss: 0.9365 - val_accuracy: 0.6862 - lr: 0.0010\n",
      "Epoch 6/20\n",
      "1560/1563 [============================>.] - ETA: 0s - loss: 0.6117 - accuracy: 0.7833"
     ]
    },
    {
     "name": "stderr",
     "output_type": "stream",
     "text": [
      "WARNING:absl:Found untraced functions such as _jit_compiled_convolution_op, _jit_compiled_convolution_op, _jit_compiled_convolution_op, _update_step_xla while saving (showing 4 of 4). These functions will not be directly callable after loading.\n"
     ]
    },
    {
     "name": "stdout",
     "output_type": "stream",
     "text": [
      "INFO:tensorflow:Assets written to: D:\\10.semester\\NN\\neural-networks\\2.zadanie\\src\\wandb\\run-20230412_224138-4rzaymfy\\files\\model-best\\assets\n"
     ]
    },
    {
     "name": "stderr",
     "output_type": "stream",
     "text": [
      "INFO:tensorflow:Assets written to: D:\\10.semester\\NN\\neural-networks\\2.zadanie\\src\\wandb\\run-20230412_224138-4rzaymfy\\files\\model-best\\assets\n",
      "\u001b[34m\u001b[1mwandb\u001b[0m: Adding directory to artifact (D:\\10.semester\\NN\\neural-networks\\2.zadanie\\src\\wandb\\run-20230412_224138-4rzaymfy\\files\\model-best)... Done. 0.0s\n"
     ]
    },
    {
     "name": "stdout",
     "output_type": "stream",
     "text": [
      "1563/1563 [==============================] - 31s 20ms/step - loss: 0.6119 - accuracy: 0.7833 - val_loss: 0.9010 - val_accuracy: 0.7118 - lr: 0.0010\n",
      "Epoch 7/20\n",
      "1563/1563 [==============================] - 29s 19ms/step - loss: 0.5321 - accuracy: 0.8120 - val_loss: 0.9645 - val_accuracy: 0.6894 - lr: 0.0010\n",
      "Epoch 8/20\n",
      "1563/1563 [==============================] - 30s 19ms/step - loss: 0.4609 - accuracy: 0.8358 - val_loss: 1.0105 - val_accuracy: 0.6850 - lr: 0.0010\n",
      "Epoch 9/20\n",
      "1563/1563 [==============================] - 30s 19ms/step - loss: 0.4034 - accuracy: 0.8585 - val_loss: 1.0805 - val_accuracy: 0.6892 - lr: 0.0010\n",
      "Epoch 10/20\n",
      "1563/1563 [==============================] - 32s 20ms/step - loss: 0.3499 - accuracy: 0.8757 - val_loss: 1.0843 - val_accuracy: 0.6954 - lr: 0.0010\n",
      "Epoch 11/20\n",
      "1563/1563 [==============================] - 28s 18ms/step - loss: 0.3154 - accuracy: 0.8884 - val_loss: 1.1607 - val_accuracy: 0.6832 - lr: 0.0010\n",
      "Epoch 12/20\n",
      "1563/1563 [==============================] - 28s 18ms/step - loss: 0.2389 - accuracy: 0.9156 - val_loss: 1.1112 - val_accuracy: 0.7088 - lr: 8.0000e-04\n",
      "Epoch 13/20\n",
      "1563/1563 [==============================] - 28s 18ms/step - loss: 0.2030 - accuracy: 0.9283 - val_loss: 1.2459 - val_accuracy: 0.6818 - lr: 8.0000e-04\n",
      "Epoch 14/20\n",
      "1563/1563 [==============================] - 28s 18ms/step - loss: 0.1946 - accuracy: 0.9310 - val_loss: 1.2525 - val_accuracy: 0.6988 - lr: 8.0000e-04\n",
      "Epoch 15/20\n",
      "1563/1563 [==============================] - 30s 19ms/step - loss: 0.1745 - accuracy: 0.9380 - val_loss: 1.2861 - val_accuracy: 0.7016 - lr: 8.0000e-04\n",
      "Epoch 16/20\n",
      "1563/1563 [==============================] - 29s 19ms/step - loss: 0.1631 - accuracy: 0.9419 - val_loss: 1.2980 - val_accuracy: 0.7036 - lr: 8.0000e-04\n",
      "157/157 - 1s - loss: 1.2001 - accuracy: 0.7222 - 697ms/epoch - 4ms/step\n",
      "Test accuracy: 0.7221999764442444\n",
      "Test loss: 1.2000718116760254\n"
     ]
    }
   ],
   "source": [
    "import tensorflow as tf\n",
    "\n",
    "# Define the model architecture\n",
    "wandb.init(project=\"neural-network-assgiment2\")\n",
    "wandb.run.name = \"Pokus 11\"\n",
    "config = wandb.config\n",
    "config.learning_rate = 0.001\n",
    "config.batch_size = 32\n",
    "config.epochs = 20\n",
    "\n",
    "# Define the model architecture\n",
    "model = tf.keras.Sequential([\n",
    "    tf.keras.layers.Input(shape=(32, 32, 3)),\n",
    "    tf.keras.layers.Conv2D(filters=32, kernel_size=(3, 3), strides=(2, 2), activation='relu', padding='same'),\n",
    "    tf.keras.layers.BatchNormalization(),\n",
    "    tf.keras.layers.Dropout(0.25),\n",
    "    tf.keras.layers.Conv2D(filters=64, kernel_size=(3, 3), strides=(2, 2), activation='relu', padding='same'),\n",
    "    tf.keras.layers.BatchNormalization(),\n",
    "    tf.keras.layers.Conv2D(filters=64, kernel_size=(3, 3), strides=(2, 2), activation='relu', padding='same'),\n",
    "    tf.keras.layers.BatchNormalization(),\n",
    "    tf.keras.layers.Flatten(),\n",
    "    tf.keras.layers.Dense(units=512, activation='relu'),\n",
    "    tf.keras.layers.BatchNormalization(),\n",
    "    tf.keras.layers.Dense(units=10, activation='softmax')\n",
    "])\n",
    "\n",
    "optimizer = tf.keras.optimizers.Adam(learning_rate=config.learning_rate)\n",
    "\n",
    "model.compile(optimizer=optimizer, loss='categorical_crossentropy', metrics=['accuracy'])\n",
    "\n",
    "early_stop = tf.keras.callbacks.EarlyStopping(monitor='val_loss', patience=10)\n",
    "lr_scheduler = tf.keras.callbacks.ReduceLROnPlateau(monitor='val_loss', factor=0.8, patience=5, min_lr=0.000001)\n",
    "\n",
    "history = model.fit(X_train, y_train, epochs=config.epochs, batch_size=config.batch_size, validation_data=(X_val, y_val), callbacks=[lr_scheduler,early_stop,WandbCallback()])\n",
    "\n",
    "# Evaluate the model\n",
    "val_loss, val_acc = model.evaluate(X_test, y_test, verbose=2)\n",
    "print('Test accuracy:', val_acc)\n",
    "print('Test loss:', val_loss)\n",
    "\n",
    "# Evaluate the model on the val set and log the results\n",
    "wandb.log({'Test loss': val_loss, 'Test accuracy': val_acc})"
   ]
  },
  {
   "cell_type": "code",
   "execution_count": 16,
   "id": "1e592e1e",
   "metadata": {},
   "outputs": [
    {
     "name": "stdout",
     "output_type": "stream",
     "text": [
      "Model: \"sequential\"\n",
      "_________________________________________________________________\n",
      " Layer (type)                Output Shape              Param #   \n",
      "=================================================================\n",
      " conv2d (Conv2D)             (None, 16, 16, 32)        896       \n",
      "                                                                 \n",
      " batch_normalization (BatchN  (None, 16, 16, 32)       128       \n",
      " ormalization)                                                   \n",
      "                                                                 \n",
      " dropout (Dropout)           (None, 16, 16, 32)        0         \n",
      "                                                                 \n",
      " conv2d_1 (Conv2D)           (None, 8, 8, 64)          18496     \n",
      "                                                                 \n",
      " batch_normalization_1 (Batc  (None, 8, 8, 64)         256       \n",
      " hNormalization)                                                 \n",
      "                                                                 \n",
      " conv2d_2 (Conv2D)           (None, 4, 4, 64)          36928     \n",
      "                                                                 \n",
      " batch_normalization_2 (Batc  (None, 4, 4, 64)         256       \n",
      " hNormalization)                                                 \n",
      "                                                                 \n",
      " flatten (Flatten)           (None, 1024)              0         \n",
      "                                                                 \n",
      " dense (Dense)               (None, 512)               524800    \n",
      "                                                                 \n",
      " batch_normalization_3 (Batc  (None, 512)              2048      \n",
      " hNormalization)                                                 \n",
      "                                                                 \n",
      " dense_1 (Dense)             (None, 10)                5130      \n",
      "                                                                 \n",
      "=================================================================\n",
      "Total params: 588,938\n",
      "Trainable params: 587,594\n",
      "Non-trainable params: 1,344\n",
      "_________________________________________________________________\n"
     ]
    }
   ],
   "source": [
    "model.summary()"
   ]
  },
  {
   "cell_type": "code",
   "execution_count": 17,
   "id": "3e88c014",
   "metadata": {},
   "outputs": [
    {
     "data": {
      "image/png": "[encoded data removed]",
      "text/plain": [
       "<Figure size 640x480 with 1 Axes>"
      ]
     },
     "metadata": {},
     "output_type": "display_data"
    }
   ],
   "source": [
    "plt.plot(history.history['loss'], label='Training Loss')\n",
    "plt.plot(history.history['val_loss'], label='Validation Loss')\n",
    "plt.plot(history.history['accuracy'], label='Training Accuracy')\n",
    "plt.plot(history.history['val_accuracy'], label='Validation Accuracy')\n",
    "\n",
    "plt.xlabel('Epoch')\n",
    "plt.ylabel('Loss / Accuracy')\n",
    "plt.legend()\n",
    "plt.show()"
   ]
  },
  {
   "cell_type": "markdown",
   "id": "3ab0fe2f",
   "metadata": {},
   "source": [
    "# Pokus 12"
   ]
  },
  {
   "cell_type": "code",
   "execution_count": 18,
   "id": "797f5cef",
   "metadata": {},
   "outputs": [
    {
     "data": {
      "text/html": [
       "Finishing last run (ID:4rzaymfy) before initializing another..."
      ],
      "text/plain": [
       "<IPython.core.display.HTML object>"
      ]
     },
     "metadata": {},
     "output_type": "display_data"
    },
    {
     "data": {
      "text/html": [
       "Waiting for W&B process to finish... <strong style=\"color:green\">(success).</strong>"
      ],
      "text/plain": [
       "<IPython.core.display.HTML object>"
      ]
     },
     "metadata": {},
     "output_type": "display_data"
    },
    {
     "data": {
      "text/html": [
       "<style>\n",
       "    table.wandb td:nth-child(1) { padding: 0 10px; text-align: left ; width: auto;} td:nth-child(2) {text-align: left ; width: 100%}\n",
       "    .wandb-row { display: flex; flex-direction: row; flex-wrap: wrap; justify-content: flex-start; width: 100% }\n",
       "    .wandb-col { display: flex; flex-direction: column; flex-basis: 100%; flex: 1; padding: 10px; }\n",
       "    </style>\n",
       "<div class=\"wandb-row\"><div class=\"wandb-col\"><h3>Run history:</h3><br/><table class=\"wandb\"><tr><td>Test accuracy</td><td>▁</td></tr><tr><td>Test loss</td><td>▁</td></tr><tr><td>accuracy</td><td>▁▃▄▅▅▆▆▆▇▇▇█████</td></tr><tr><td>epoch</td><td>▁▁▂▂▃▃▄▄▅▅▆▆▇▇██</td></tr><tr><td>loss</td><td>█▆▅▄▄▃▃▃▂▂▂▁▁▁▁▁</td></tr><tr><td>lr</td><td>███████████▁▁▁▁▁</td></tr><tr><td>val_accuracy</td><td>▁▃▅▇▇█▇▇▇▇▇█▇███</td></tr><tr><td>val_loss</td><td>█▅▄▂▂▁▂▃▄▄▅▄▆▆▇▇</td></tr></table><br/></div><div class=\"wandb-col\"><h3>Run summary:</h3><br/><table class=\"wandb\"><tr><td>Test accuracy</td><td>0.7222</td></tr><tr><td>Test loss</td><td>1.20007</td></tr><tr><td>accuracy</td><td>0.9419</td></tr><tr><td>best_epoch</td><td>5</td></tr><tr><td>best_val_loss</td><td>0.90095</td></tr><tr><td>epoch</td><td>15</td></tr><tr><td>loss</td><td>0.16306</td></tr><tr><td>lr</td><td>0.0008</td></tr><tr><td>val_accuracy</td><td>0.7036</td></tr><tr><td>val_loss</td><td>1.29796</td></tr></table><br/></div></div>"
      ],
      "text/plain": [
       "<IPython.core.display.HTML object>"
      ]
     },
     "metadata": {},
     "output_type": "display_data"
    },
    {
     "data": {
      "text/html": [
       " View run <strong style=\"color:#cdcd00\">copper-cosmos-14</strong> at: <a href='https://wandb.ai/neural-netwok-nn/neural-network-assgiment2/runs/4rzaymfy' target=\"_blank\">https://wandb.ai/neural-netwok-nn/neural-network-assgiment2/runs/4rzaymfy</a><br/>Synced 5 W&B file(s), 1 media file(s), 30 artifact file(s) and 1 other file(s)"
      ],
      "text/plain": [
       "<IPython.core.display.HTML object>"
      ]
     },
     "metadata": {},
     "output_type": "display_data"
    },
    {
     "data": {
      "text/html": [
       "Find logs at: <code>.\\wandb\\run-20230412_224138-4rzaymfy\\logs</code>"
      ],
      "text/plain": [
       "<IPython.core.display.HTML object>"
      ]
     },
     "metadata": {},
     "output_type": "display_data"
    },
    {
     "data": {
      "text/html": [
       "Successfully finished last run (ID:4rzaymfy). Initializing new run:<br/>"
      ],
      "text/plain": [
       "<IPython.core.display.HTML object>"
      ]
     },
     "metadata": {},
     "output_type": "display_data"
    },
    {
     "data": {
      "application/vnd.jupyter.widget-view+json": {
       "model_id": "f1e8aaec6fd543c7becf13dde2133f47",
       "version_major": 2,
       "version_minor": 0
      },
      "text/plain": [
       "VBox(children=(Label(value='Waiting for wandb.init()...\\r'), FloatProgress(value=0.01693333333338766, max=1.0)…"
      ]
     },
     "metadata": {},
     "output_type": "display_data"
    },
    {
     "data": {
      "text/html": [
       "wandb version 0.14.2 is available!  To upgrade, please run:\n",
       " $ pip install wandb --upgrade"
      ],
      "text/plain": [
       "<IPython.core.display.HTML object>"
      ]
     },
     "metadata": {},
     "output_type": "display_data"
    },
    {
     "data": {
      "text/html": [
       "Tracking run with wandb version 0.14.0"
      ],
      "text/plain": [
       "<IPython.core.display.HTML object>"
      ]
     },
     "metadata": {},
     "output_type": "display_data"
    },
    {
     "data": {
      "text/html": [
       "Run data is saved locally in <code>D:\\10.semester\\NN\\neural-networks\\2.zadanie\\src\\wandb\\run-20230412_224936-kp1fom2z</code>"
      ],
      "text/plain": [
       "<IPython.core.display.HTML object>"
      ]
     },
     "metadata": {},
     "output_type": "display_data"
    },
    {
     "data": {
      "text/html": [
       "Syncing run <strong><a href='https://wandb.ai/neural-netwok-nn/neural-network-assgiment2/runs/kp1fom2z' target=\"_blank\">desert-dragon-15</a></strong> to <a href='https://wandb.ai/neural-netwok-nn/neural-network-assgiment2' target=\"_blank\">Weights & Biases</a> (<a href='https://wandb.me/run' target=\"_blank\">docs</a>)<br/>"
      ],
      "text/plain": [
       "<IPython.core.display.HTML object>"
      ]
     },
     "metadata": {},
     "output_type": "display_data"
    },
    {
     "data": {
      "text/html": [
       " View project at <a href='https://wandb.ai/neural-netwok-nn/neural-network-assgiment2' target=\"_blank\">https://wandb.ai/neural-netwok-nn/neural-network-assgiment2</a>"
      ],
      "text/plain": [
       "<IPython.core.display.HTML object>"
      ]
     },
     "metadata": {},
     "output_type": "display_data"
    },
    {
     "data": {
      "text/html": [
       " View run at <a href='https://wandb.ai/neural-netwok-nn/neural-network-assgiment2/runs/kp1fom2z' target=\"_blank\">https://wandb.ai/neural-netwok-nn/neural-network-assgiment2/runs/kp1fom2z</a>"
      ],
      "text/plain": [
       "<IPython.core.display.HTML object>"
      ]
     },
     "metadata": {},
     "output_type": "display_data"
    },
    {
     "name": "stdout",
     "output_type": "stream",
     "text": [
      "Epoch 1/20\n",
      "781/782 [============================>.] - ETA: 0s - loss: 1.8277 - accuracy: 0.3285"
     ]
    },
    {
     "name": "stderr",
     "output_type": "stream",
     "text": [
      "WARNING:absl:Found untraced functions such as _jit_compiled_convolution_op, _jit_compiled_convolution_op, _jit_compiled_convolution_op, _jit_compiled_convolution_op, _jit_compiled_convolution_op while saving (showing 5 of 10). These functions will not be directly callable after loading.\n"
     ]
    },
    {
     "name": "stdout",
     "output_type": "stream",
     "text": [
      "INFO:tensorflow:Assets written to: D:\\10.semester\\NN\\neural-networks\\2.zadanie\\src\\wandb\\run-20230412_224936-kp1fom2z\\files\\model-best\\assets\n"
     ]
    },
    {
     "name": "stderr",
     "output_type": "stream",
     "text": [
      "INFO:tensorflow:Assets written to: D:\\10.semester\\NN\\neural-networks\\2.zadanie\\src\\wandb\\run-20230412_224936-kp1fom2z\\files\\model-best\\assets\n",
      "\u001b[34m\u001b[1mwandb\u001b[0m: Adding directory to artifact (D:\\10.semester\\NN\\neural-networks\\2.zadanie\\src\\wandb\\run-20230412_224936-kp1fom2z\\files\\model-best)... Done. 0.0s\n"
     ]
    },
    {
     "name": "stdout",
     "output_type": "stream",
     "text": [
      "782/782 [==============================] - 46s 56ms/step - loss: 1.8276 - accuracy: 0.3285 - val_loss: 1.5540 - val_accuracy: 0.4324 - lr: 0.0010\n",
      "Epoch 2/20\n",
      "782/782 [==============================] - 47s 60ms/step - loss: 1.4397 - accuracy: 0.4814 - val_loss: 1.8685 - val_accuracy: 0.4000 - lr: 0.0010\n",
      "Epoch 3/20\n",
      "781/782 [============================>.] - ETA: 0s - loss: 1.2665 - accuracy: 0.5494"
     ]
    },
    {
     "name": "stderr",
     "output_type": "stream",
     "text": [
      "WARNING:absl:Found untraced functions such as _jit_compiled_convolution_op, _jit_compiled_convolution_op, _jit_compiled_convolution_op, _jit_compiled_convolution_op, _jit_compiled_convolution_op while saving (showing 5 of 10). These functions will not be directly callable after loading.\n"
     ]
    },
    {
     "name": "stdout",
     "output_type": "stream",
     "text": [
      "INFO:tensorflow:Assets written to: D:\\10.semester\\NN\\neural-networks\\2.zadanie\\src\\wandb\\run-20230412_224936-kp1fom2z\\files\\model-best\\assets\n"
     ]
    },
    {
     "name": "stderr",
     "output_type": "stream",
     "text": [
      "INFO:tensorflow:Assets written to: D:\\10.semester\\NN\\neural-networks\\2.zadanie\\src\\wandb\\run-20230412_224936-kp1fom2z\\files\\model-best\\assets\n",
      "\u001b[34m\u001b[1mwandb\u001b[0m: Adding directory to artifact (D:\\10.semester\\NN\\neural-networks\\2.zadanie\\src\\wandb\\run-20230412_224936-kp1fom2z\\files\\model-best)... Done. 0.0s\n"
     ]
    },
    {
     "name": "stdout",
     "output_type": "stream",
     "text": [
      "782/782 [==============================] - 45s 58ms/step - loss: 1.2665 - accuracy: 0.5494 - val_loss: 1.2111 - val_accuracy: 0.5754 - lr: 0.0010\n",
      "Epoch 4/20\n",
      "781/782 [============================>.] - ETA: 0s - loss: 1.1560 - accuracy: 0.5959"
     ]
    },
    {
     "name": "stderr",
     "output_type": "stream",
     "text": [
      "WARNING:absl:Found untraced functions such as _jit_compiled_convolution_op, _jit_compiled_convolution_op, _jit_compiled_convolution_op, _jit_compiled_convolution_op, _jit_compiled_convolution_op while saving (showing 5 of 10). These functions will not be directly callable after loading.\n"
     ]
    },
    {
     "name": "stdout",
     "output_type": "stream",
     "text": [
      "INFO:tensorflow:Assets written to: D:\\10.semester\\NN\\neural-networks\\2.zadanie\\src\\wandb\\run-20230412_224936-kp1fom2z\\files\\model-best\\assets\n"
     ]
    },
    {
     "name": "stderr",
     "output_type": "stream",
     "text": [
      "INFO:tensorflow:Assets written to: D:\\10.semester\\NN\\neural-networks\\2.zadanie\\src\\wandb\\run-20230412_224936-kp1fom2z\\files\\model-best\\assets\n",
      "\u001b[34m\u001b[1mwandb\u001b[0m: Adding directory to artifact (D:\\10.semester\\NN\\neural-networks\\2.zadanie\\src\\wandb\\run-20230412_224936-kp1fom2z\\files\\model-best)... Done. 0.0s\n"
     ]
    },
    {
     "name": "stdout",
     "output_type": "stream",
     "text": [
      "782/782 [==============================] - 44s 57ms/step - loss: 1.1562 - accuracy: 0.5959 - val_loss: 1.1701 - val_accuracy: 0.5914 - lr: 0.0010\n",
      "Epoch 5/20\n",
      "781/782 [============================>.] - ETA: 0s - loss: 1.0652 - accuracy: 0.6321"
     ]
    },
    {
     "name": "stderr",
     "output_type": "stream",
     "text": [
      "WARNING:absl:Found untraced functions such as _jit_compiled_convolution_op, _jit_compiled_convolution_op, _jit_compiled_convolution_op, _jit_compiled_convolution_op, _jit_compiled_convolution_op while saving (showing 5 of 10). These functions will not be directly callable after loading.\n"
     ]
    },
    {
     "name": "stdout",
     "output_type": "stream",
     "text": [
      "INFO:tensorflow:Assets written to: D:\\10.semester\\NN\\neural-networks\\2.zadanie\\src\\wandb\\run-20230412_224936-kp1fom2z\\files\\model-best\\assets\n"
     ]
    },
    {
     "name": "stderr",
     "output_type": "stream",
     "text": [
      "INFO:tensorflow:Assets written to: D:\\10.semester\\NN\\neural-networks\\2.zadanie\\src\\wandb\\run-20230412_224936-kp1fom2z\\files\\model-best\\assets\n",
      "\u001b[34m\u001b[1mwandb\u001b[0m: Adding directory to artifact (D:\\10.semester\\NN\\neural-networks\\2.zadanie\\src\\wandb\\run-20230412_224936-kp1fom2z\\files\\model-best)... Done. 0.0s\n"
     ]
    },
    {
     "name": "stdout",
     "output_type": "stream",
     "text": [
      "782/782 [==============================] - 46s 59ms/step - loss: 1.0652 - accuracy: 0.6321 - val_loss: 1.1558 - val_accuracy: 0.6066 - lr: 0.0010\n",
      "Epoch 6/20\n",
      "782/782 [==============================] - ETA: 0s - loss: 0.9900 - accuracy: 0.6577"
     ]
    },
    {
     "name": "stderr",
     "output_type": "stream",
     "text": [
      "WARNING:absl:Found untraced functions such as _jit_compiled_convolution_op, _jit_compiled_convolution_op, _jit_compiled_convolution_op, _jit_compiled_convolution_op, _jit_compiled_convolution_op while saving (showing 5 of 10). These functions will not be directly callable after loading.\n"
     ]
    },
    {
     "name": "stdout",
     "output_type": "stream",
     "text": [
      "INFO:tensorflow:Assets written to: D:\\10.semester\\NN\\neural-networks\\2.zadanie\\src\\wandb\\run-20230412_224936-kp1fom2z\\files\\model-best\\assets\n"
     ]
    },
    {
     "name": "stderr",
     "output_type": "stream",
     "text": [
      "INFO:tensorflow:Assets written to: D:\\10.semester\\NN\\neural-networks\\2.zadanie\\src\\wandb\\run-20230412_224936-kp1fom2z\\files\\model-best\\assets\n",
      "\u001b[34m\u001b[1mwandb\u001b[0m: Adding directory to artifact (D:\\10.semester\\NN\\neural-networks\\2.zadanie\\src\\wandb\\run-20230412_224936-kp1fom2z\\files\\model-best)... Done. 0.0s\n"
     ]
    },
    {
     "name": "stdout",
     "output_type": "stream",
     "text": [
      "782/782 [==============================] - 44s 56ms/step - loss: 0.9900 - accuracy: 0.6577 - val_loss: 1.0634 - val_accuracy: 0.6412 - lr: 0.0010\n",
      "Epoch 7/20\n",
      "782/782 [==============================] - 40s 51ms/step - loss: 0.9314 - accuracy: 0.6805 - val_loss: 1.1086 - val_accuracy: 0.6120 - lr: 0.0010\n",
      "Epoch 8/20\n",
      "782/782 [==============================] - 40s 51ms/step - loss: 0.8791 - accuracy: 0.6999 - val_loss: 1.1207 - val_accuracy: 0.6122 - lr: 0.0010\n",
      "Epoch 9/20\n",
      "781/782 [============================>.] - ETA: 0s - loss: 0.8286 - accuracy: 0.7160"
     ]
    },
    {
     "name": "stderr",
     "output_type": "stream",
     "text": [
      "WARNING:absl:Found untraced functions such as _jit_compiled_convolution_op, _jit_compiled_convolution_op, _jit_compiled_convolution_op, _jit_compiled_convolution_op, _jit_compiled_convolution_op while saving (showing 5 of 10). These functions will not be directly callable after loading.\n"
     ]
    },
    {
     "name": "stdout",
     "output_type": "stream",
     "text": [
      "INFO:tensorflow:Assets written to: D:\\10.semester\\NN\\neural-networks\\2.zadanie\\src\\wandb\\run-20230412_224936-kp1fom2z\\files\\model-best\\assets\n"
     ]
    },
    {
     "name": "stderr",
     "output_type": "stream",
     "text": [
      "INFO:tensorflow:Assets written to: D:\\10.semester\\NN\\neural-networks\\2.zadanie\\src\\wandb\\run-20230412_224936-kp1fom2z\\files\\model-best\\assets\n",
      "\u001b[34m\u001b[1mwandb\u001b[0m: Adding directory to artifact (D:\\10.semester\\NN\\neural-networks\\2.zadanie\\src\\wandb\\run-20230412_224936-kp1fom2z\\files\\model-best)... Done. 0.0s\n"
     ]
    },
    {
     "name": "stdout",
     "output_type": "stream",
     "text": [
      "782/782 [==============================] - 43s 55ms/step - loss: 0.8286 - accuracy: 0.7160 - val_loss: 0.8703 - val_accuracy: 0.7062 - lr: 0.0010\n",
      "Epoch 10/20\n",
      "782/782 [==============================] - 39s 50ms/step - loss: 0.7882 - accuracy: 0.7315 - val_loss: 0.8750 - val_accuracy: 0.7040 - lr: 0.0010\n",
      "Epoch 11/20\n",
      "781/782 [============================>.] - ETA: 0s - loss: 0.7494 - accuracy: 0.7447"
     ]
    },
    {
     "name": "stderr",
     "output_type": "stream",
     "text": [
      "WARNING:absl:Found untraced functions such as _jit_compiled_convolution_op, _jit_compiled_convolution_op, _jit_compiled_convolution_op, _jit_compiled_convolution_op, _jit_compiled_convolution_op while saving (showing 5 of 10). These functions will not be directly callable after loading.\n"
     ]
    },
    {
     "name": "stdout",
     "output_type": "stream",
     "text": [
      "INFO:tensorflow:Assets written to: D:\\10.semester\\NN\\neural-networks\\2.zadanie\\src\\wandb\\run-20230412_224936-kp1fom2z\\files\\model-best\\assets\n"
     ]
    },
    {
     "name": "stderr",
     "output_type": "stream",
     "text": [
      "INFO:tensorflow:Assets written to: D:\\10.semester\\NN\\neural-networks\\2.zadanie\\src\\wandb\\run-20230412_224936-kp1fom2z\\files\\model-best\\assets\n",
      "\u001b[34m\u001b[1mwandb\u001b[0m: Adding directory to artifact (D:\\10.semester\\NN\\neural-networks\\2.zadanie\\src\\wandb\\run-20230412_224936-kp1fom2z\\files\\model-best)... Done. 0.0s\n"
     ]
    },
    {
     "name": "stdout",
     "output_type": "stream",
     "text": [
      "782/782 [==============================] - 43s 55ms/step - loss: 0.7494 - accuracy: 0.7447 - val_loss: 0.8566 - val_accuracy: 0.6954 - lr: 0.0010\n",
      "Epoch 12/20\n",
      "782/782 [==============================] - 39s 50ms/step - loss: 0.7164 - accuracy: 0.7572 - val_loss: 0.9091 - val_accuracy: 0.6980 - lr: 0.0010\n",
      "Epoch 13/20\n",
      "781/782 [============================>.] - ETA: 0s - loss: 0.6920 - accuracy: 0.7639"
     ]
    },
    {
     "name": "stderr",
     "output_type": "stream",
     "text": [
      "WARNING:absl:Found untraced functions such as _jit_compiled_convolution_op, _jit_compiled_convolution_op, _jit_compiled_convolution_op, _jit_compiled_convolution_op, _jit_compiled_convolution_op while saving (showing 5 of 10). These functions will not be directly callable after loading.\n"
     ]
    },
    {
     "name": "stdout",
     "output_type": "stream",
     "text": [
      "INFO:tensorflow:Assets written to: D:\\10.semester\\NN\\neural-networks\\2.zadanie\\src\\wandb\\run-20230412_224936-kp1fom2z\\files\\model-best\\assets\n"
     ]
    },
    {
     "name": "stderr",
     "output_type": "stream",
     "text": [
      "INFO:tensorflow:Assets written to: D:\\10.semester\\NN\\neural-networks\\2.zadanie\\src\\wandb\\run-20230412_224936-kp1fom2z\\files\\model-best\\assets\n",
      "\u001b[34m\u001b[1mwandb\u001b[0m: Adding directory to artifact (D:\\10.semester\\NN\\neural-networks\\2.zadanie\\src\\wandb\\run-20230412_224936-kp1fom2z\\files\\model-best)... Done. 0.0s\n"
     ]
    },
    {
     "name": "stdout",
     "output_type": "stream",
     "text": [
      "782/782 [==============================] - 42s 53ms/step - loss: 0.6921 - accuracy: 0.7638 - val_loss: 0.8490 - val_accuracy: 0.7148 - lr: 0.0010\n",
      "Epoch 14/20\n",
      "782/782 [==============================] - 39s 49ms/step - loss: 0.6615 - accuracy: 0.7745 - val_loss: 1.1559 - val_accuracy: 0.6494 - lr: 0.0010\n",
      "Epoch 15/20\n",
      "782/782 [==============================] - 39s 50ms/step - loss: 0.6349 - accuracy: 0.7811 - val_loss: 0.9851 - val_accuracy: 0.6888 - lr: 0.0010\n",
      "Epoch 16/20\n",
      "781/782 [============================>.] - ETA: 0s - loss: 0.6156 - accuracy: 0.7885"
     ]
    },
    {
     "name": "stderr",
     "output_type": "stream",
     "text": [
      "WARNING:absl:Found untraced functions such as _jit_compiled_convolution_op, _jit_compiled_convolution_op, _jit_compiled_convolution_op, _jit_compiled_convolution_op, _jit_compiled_convolution_op while saving (showing 5 of 10). These functions will not be directly callable after loading.\n"
     ]
    },
    {
     "name": "stdout",
     "output_type": "stream",
     "text": [
      "INFO:tensorflow:Assets written to: D:\\10.semester\\NN\\neural-networks\\2.zadanie\\src\\wandb\\run-20230412_224936-kp1fom2z\\files\\model-best\\assets\n"
     ]
    },
    {
     "name": "stderr",
     "output_type": "stream",
     "text": [
      "INFO:tensorflow:Assets written to: D:\\10.semester\\NN\\neural-networks\\2.zadanie\\src\\wandb\\run-20230412_224936-kp1fom2z\\files\\model-best\\assets\n",
      "\u001b[34m\u001b[1mwandb\u001b[0m: Adding directory to artifact (D:\\10.semester\\NN\\neural-networks\\2.zadanie\\src\\wandb\\run-20230412_224936-kp1fom2z\\files\\model-best)... Done. 0.0s\n"
     ]
    },
    {
     "name": "stdout",
     "output_type": "stream",
     "text": [
      "782/782 [==============================] - 45s 57ms/step - loss: 0.6156 - accuracy: 0.7884 - val_loss: 0.8257 - val_accuracy: 0.7298 - lr: 0.0010\n",
      "Epoch 17/20\n",
      "782/782 [==============================] - 41s 52ms/step - loss: 0.5902 - accuracy: 0.7984 - val_loss: 0.8374 - val_accuracy: 0.7254 - lr: 0.0010\n",
      "Epoch 18/20\n",
      "782/782 [==============================] - 40s 52ms/step - loss: 0.5705 - accuracy: 0.8049 - val_loss: 0.9022 - val_accuracy: 0.7080 - lr: 0.0010\n",
      "Epoch 19/20\n",
      "782/782 [==============================] - 40s 51ms/step - loss: 0.5548 - accuracy: 0.8112 - val_loss: 0.8259 - val_accuracy: 0.7392 - lr: 0.0010\n",
      "Epoch 20/20\n",
      "781/782 [============================>.] - ETA: 0s - loss: 0.5353 - accuracy: 0.8182"
     ]
    },
    {
     "name": "stderr",
     "output_type": "stream",
     "text": [
      "WARNING:absl:Found untraced functions such as _jit_compiled_convolution_op, _jit_compiled_convolution_op, _jit_compiled_convolution_op, _jit_compiled_convolution_op, _jit_compiled_convolution_op while saving (showing 5 of 10). These functions will not be directly callable after loading.\n"
     ]
    },
    {
     "name": "stdout",
     "output_type": "stream",
     "text": [
      "INFO:tensorflow:Assets written to: D:\\10.semester\\NN\\neural-networks\\2.zadanie\\src\\wandb\\run-20230412_224936-kp1fom2z\\files\\model-best\\assets\n"
     ]
    },
    {
     "name": "stderr",
     "output_type": "stream",
     "text": [
      "INFO:tensorflow:Assets written to: D:\\10.semester\\NN\\neural-networks\\2.zadanie\\src\\wandb\\run-20230412_224936-kp1fom2z\\files\\model-best\\assets\n",
      "\u001b[34m\u001b[1mwandb\u001b[0m: Adding directory to artifact (D:\\10.semester\\NN\\neural-networks\\2.zadanie\\src\\wandb\\run-20230412_224936-kp1fom2z\\files\\model-best)... Done. 0.0s\n"
     ]
    },
    {
     "name": "stdout",
     "output_type": "stream",
     "text": [
      "782/782 [==============================] - 45s 58ms/step - loss: 0.5353 - accuracy: 0.8182 - val_loss: 0.8128 - val_accuracy: 0.7430 - lr: 0.0010\n",
      "157/157 - 1s - loss: 0.7438 - accuracy: 0.7620 - 1s/epoch - 8ms/step\n",
      "Test accuracy: 0.7620000243186951\n",
      "Test loss: 0.7438197731971741\n"
     ]
    }
   ],
   "source": [
    "import tensorflow as tf\n",
    "\n",
    "# Define the model architecture\n",
    "wandb.init(project=\"neural-network-assgiment2\")\n",
    "wandb.run.name = \"Pokus 12\"\n",
    "config = wandb.config\n",
    "config.learning_rate = 0.001\n",
    "config.batch_size = 64\n",
    "config.epochs = 20\n",
    "\n",
    "# Define the model architecture\n",
    "model = tf.keras.models.Sequential([\n",
    "    # First Convolutional layer\n",
    "    tf.keras.layers.Conv2D(32, (3, 3), strides=(2,2), activation='relu', input_shape=(32, 32, 3), padding='same'),\n",
    "    tf.keras.layers.Conv2D(32, (3, 3), activation='relu', padding='same'),\n",
    "    tf.keras.layers.Conv2D(32, (3, 3), activation='relu', padding='same'),\n",
    "    tf.keras.layers.BatchNormalization(),\n",
    "    tf.keras.layers.MaxPooling2D((2, 2)),\n",
    "    tf.keras.layers.Dropout(0.25),\n",
    "\n",
    "    # Second Convolutional layer\n",
    "    tf.keras.layers.Conv2D(64, (3, 3), strides=(2,2), activation='relu', padding='same'),\n",
    "    tf.keras.layers.Conv2D(64, (3, 3), activation='relu', padding='same'),\n",
    "    tf.keras.layers.Conv2D(64, (3, 3), activation='relu', padding='same'),\n",
    "    tf.keras.layers.BatchNormalization(),\n",
    "    tf.keras.layers.Dropout(0.25),\n",
    "\n",
    "    # Third Convolutional layer\n",
    "    tf.keras.layers.Conv2D(128, (3, 3), strides=(2,2), activation='relu', padding='same'),\n",
    "    tf.keras.layers.Conv2D(128, (3, 3), activation='relu', padding='same'),\n",
    "    tf.keras.layers.Conv2D(128, (3, 3), activation='relu', padding='same'),\n",
    "    tf.keras.layers.BatchNormalization(),\n",
    "    tf.keras.layers.MaxPooling2D((2, 2)),\n",
    "    tf.keras.layers.Dropout(0.25),\n",
    "\n",
    "    # Flatten the output from the convolutional layers\n",
    "    tf.keras.layers.Flatten(),\n",
    "\n",
    "    # Dense layer\n",
    "    tf.keras.layers.Dense(256, activation='relu'),\n",
    "    tf.keras.layers.BatchNormalization(),\n",
    "    tf.keras.layers.Dense(64, activation='relu'),\n",
    "    tf.keras.layers.Dropout(0.25),\n",
    "\n",
    "    # Output layer\n",
    "    tf.keras.layers.Dense(10, activation='softmax')\n",
    "])\n",
    "\n",
    "optimizer = tf.keras.optimizers.Adam(learning_rate=config.learning_rate)\n",
    "\n",
    "model.compile(optimizer=optimizer, loss='categorical_crossentropy', metrics=['accuracy'])\n",
    "\n",
    "early_stop = tf.keras.callbacks.EarlyStopping(monitor='val_loss', patience=10)\n",
    "lr_scheduler = tf.keras.callbacks.ReduceLROnPlateau(monitor='val_loss', factor=0.8, patience=5, min_lr=0.000001)\n",
    "\n",
    "history = model.fit(X_train, y_train, epochs=config.epochs, batch_size=config.batch_size, validation_data=(X_val, y_val), callbacks=[lr_scheduler,early_stop,WandbCallback()])\n",
    "\n",
    "# Evaluate the model\n",
    "val_loss, val_acc = model.evaluate(X_test, y_test, verbose=2)\n",
    "print('Test accuracy:', val_acc)\n",
    "print('Test loss:', val_loss)\n",
    "\n",
    "# Evaluate the model on the val set and log the results\n",
    "wandb.log({'Test loss': val_loss, 'Test accuracy': val_acc})"
   ]
  },
  {
   "cell_type": "code",
   "execution_count": 19,
   "id": "39683b30",
   "metadata": {},
   "outputs": [
    {
     "name": "stdout",
     "output_type": "stream",
     "text": [
      "Model: \"sequential_1\"\n",
      "_________________________________________________________________\n",
      " Layer (type)                Output Shape              Param #   \n",
      "=================================================================\n",
      " conv2d_3 (Conv2D)           (None, 16, 16, 32)        896       \n",
      "                                                                 \n",
      " conv2d_4 (Conv2D)           (None, 16, 16, 32)        9248      \n",
      "                                                                 \n",
      " conv2d_5 (Conv2D)           (None, 16, 16, 32)        9248      \n",
      "                                                                 \n",
      " batch_normalization_4 (Batc  (None, 16, 16, 32)       128       \n",
      " hNormalization)                                                 \n",
      "                                                                 \n",
      " max_pooling2d (MaxPooling2D  (None, 8, 8, 32)         0         \n",
      " )                                                               \n",
      "                                                                 \n",
      " dropout_1 (Dropout)         (None, 8, 8, 32)          0         \n",
      "                                                                 \n",
      " conv2d_6 (Conv2D)           (None, 4, 4, 64)          18496     \n",
      "                                                                 \n",
      " conv2d_7 (Conv2D)           (None, 4, 4, 64)          36928     \n",
      "                                                                 \n",
      " conv2d_8 (Conv2D)           (None, 4, 4, 64)          36928     \n",
      "                                                                 \n",
      " batch_normalization_5 (Batc  (None, 4, 4, 64)         256       \n",
      " hNormalization)                                                 \n",
      "                                                                 \n",
      " dropout_2 (Dropout)         (None, 4, 4, 64)          0         \n",
      "                                                                 \n",
      " conv2d_9 (Conv2D)           (None, 2, 2, 128)         73856     \n",
      "                                                                 \n",
      " conv2d_10 (Conv2D)          (None, 2, 2, 128)         147584    \n",
      "                                                                 \n",
      " conv2d_11 (Conv2D)          (None, 2, 2, 128)         147584    \n",
      "                                                                 \n",
      " batch_normalization_6 (Batc  (None, 2, 2, 128)        512       \n",
      " hNormalization)                                                 \n",
      "                                                                 \n",
      " max_pooling2d_1 (MaxPooling  (None, 1, 1, 128)        0         \n",
      " 2D)                                                             \n",
      "                                                                 \n",
      " dropout_3 (Dropout)         (None, 1, 1, 128)         0         \n",
      "                                                                 \n",
      " flatten_1 (Flatten)         (None, 128)               0         \n",
      "                                                                 \n",
      " dense_2 (Dense)             (None, 256)               33024     \n",
      "                                                                 \n",
      " batch_normalization_7 (Batc  (None, 256)              1024      \n",
      " hNormalization)                                                 \n",
      "                                                                 \n",
      " dense_3 (Dense)             (None, 64)                16448     \n",
      "                                                                 \n",
      " dropout_4 (Dropout)         (None, 64)                0         \n",
      "                                                                 \n",
      " dense_4 (Dense)             (None, 10)                650       \n",
      "                                                                 \n",
      "=================================================================\n",
      "Total params: 532,810\n",
      "Trainable params: 531,850\n",
      "Non-trainable params: 960\n",
      "_________________________________________________________________\n"
     ]
    }
   ],
   "source": [
    "model.summary()"
   ]
  },
  {
   "cell_type": "code",
   "execution_count": 20,
   "id": "0cc3d672",
   "metadata": {},
   "outputs": [
    {
     "data": {
      "image/png": "[encoded data removed]",
      "text/plain": [
       "<Figure size 640x480 with 1 Axes>"
      ]
     },
     "metadata": {},
     "output_type": "display_data"
    }
   ],
   "source": [
    "plt.plot(history.history['loss'], label='Training Loss')\n",
    "plt.plot(history.history['val_loss'], label='Validation Loss')\n",
    "plt.plot(history.history['accuracy'], label='Training Accuracy')\n",
    "plt.plot(history.history['val_accuracy'], label='Validation Accuracy')\n",
    "\n",
    "plt.xlabel('Epoch')\n",
    "plt.ylabel('Loss / Accuracy')\n",
    "plt.legend()\n",
    "plt.show()"
   ]
  },
  {
   "cell_type": "markdown",
   "id": "bea411ec",
   "metadata": {},
   "source": [
    "#### Augmentovany a normalizovany dataset"
   ]
  },
  {
   "cell_type": "code",
   "execution_count": null,
   "id": "92c407a2",
   "metadata": {},
   "outputs": [],
   "source": [
    "(X_train, y_train), (X_val, y_val) = cifar10.load_data()\n",
    "\n",
    "X_train = dataNormalisation(X_train)\n",
    "X_val = dataNormalisation(X_val)\n",
    "\n",
    "X_val, X_test, y_val, y_test = train_test_split(X_val, y_val, test_size=0.5, random_state=25)"
   ]
  },
  {
   "cell_type": "markdown",
   "id": "36dc62b4",
   "metadata": {},
   "source": [
    "Augmentacia dat, zvysenie poctu obrazkov o dvojnasobok"
   ]
  },
  {
   "cell_type": "code",
   "execution_count": null,
   "id": "d1ffd23e",
   "metadata": {},
   "outputs": [],
   "source": [
    "# Define the data augmentation generator\n",
    "datagen = ImageDataGenerator(\n",
    "    rotation_range=20,\n",
    "    width_shift_range=0.1,\n",
    "    height_shift_range=0.1,\n",
    "    horizontal_flip=True,\n",
    "    zoom_range=0.1)\n",
    "\n",
    "# Generate augmented images and labels\n",
    "augmented_images = []\n",
    "augmented_labels = []\n",
    "for i in range(X_train.shape[0]):\n",
    "    # Generate augmented image\n",
    "    augmented_image = datagen.random_transform(X_train[i])\n",
    "    # Append augmented image to list of augmented images\n",
    "    augmented_images.append(augmented_image)\n",
    "    # Append corresponding label to list of augmented labels\n",
    "    augmented_labels.append(y_train[i])\n",
    "\n",
    "# Convert the list of augmented images and labels to numpy arrays\n",
    "augmented_images = np.array(augmented_images)\n",
    "augmented_labels = np.array(augmented_labels)\n",
    "\n",
    "# Concatenate original images and labels with augmented images and labels\n",
    "X_train = np.concatenate((X_train, augmented_images))\n",
    "y_train = np.concatenate((y_train, augmented_labels))\n",
    "\n",
    "# Plot the original and augmented images\n",
    "fig, axes = plt.subplots(5, 2, figsize=(8, 20))\n",
    "for i in range(5):\n",
    "    # Plot the original image\n",
    "    axes[i, 0].imshow(X_train[i])\n",
    "    axes[i, 0].set_title(f\"Original image (class {y_train[i][0]})\")\n",
    "\n",
    "    # Plot the augmented image\n",
    "    axes[i, 1].imshow(augmented_images[i])\n",
    "    axes[i, 1].set_title(\"Augmented image\")\n",
    "plt.show()"
   ]
  },
  {
   "cell_type": "code",
   "execution_count": null,
   "id": "2441f15f",
   "metadata": {},
   "outputs": [],
   "source": [
    "print(X_train.shape)\n",
    "print(y_train.shape)"
   ]
  },
  {
   "cell_type": "code",
   "execution_count": null,
   "id": "89b93407",
   "metadata": {},
   "outputs": [],
   "source": [
    "# one hot encoding\n",
    "y_train = tf.keras.utils.to_categorical(y_train)\n",
    "y_val = tf.keras.utils.to_categorical(y_val)\n",
    "y_test = tf.keras.utils.to_categorical(y_test)"
   ]
  },
  {
   "cell_type": "code",
   "execution_count": null,
   "id": "e3566b86",
   "metadata": {},
   "outputs": [],
   "source": [
    "model = keras.Sequential([\n",
    "    layers.Conv2D(32, kernel_size=(3, 3), activation='relu', input_shape=(32, 32, 3)),\n",
    "    layers.MaxPooling2D(pool_size=(2, 2)),\n",
    "    layers.Conv2D(64, kernel_size=(3, 3), activation='relu'),\n",
    "    layers.MaxPooling2D(pool_size=(2, 2)),\n",
    "    layers.Flatten(),\n",
    "    layers.Dense(512, activation='relu'),\n",
    "    layers.Dense(10, activation='softmax')\n",
    "])\n",
    "\n",
    "model.compile(optimizer='adam', loss='sparse_categorical_crossentropy', metrics=['accuracy'])\n",
    "\n",
    "history = model.fit(X_train, y_train, epochs=5, validation_data=(X_val, y_val))\n",
    "\n",
    "test_loss, test_acc = model.evaluate(X_test, y_test)"
   ]
  },
  {
   "cell_type": "code",
   "execution_count": null,
   "id": "023dd6eb",
   "metadata": {},
   "outputs": [],
   "source": [
    "print('Test loss:', test_loss)\n",
    "print('Test accuracy:', test_acc)"
   ]
  },
  {
   "cell_type": "code",
   "execution_count": null,
   "id": "59b8abe1",
   "metadata": {},
   "outputs": [],
   "source": [
    "plt.plot(history.history['loss'], label='Training Loss')\n",
    "plt.plot(history.history['val_loss'], label='Validation Loss')\n",
    "plt.plot(history.history['accuracy'], label='Training Accuracy')\n",
    "plt.plot(history.history['val_accuracy'], label='Validation Accuracy')\n",
    "\n",
    "plt.xlabel('Epoch')\n",
    "plt.ylabel('Loss / Accuracy')\n",
    "plt.legend()\n",
    "plt.show()"
   ]
  }
 ],
 "metadata": {
  "kernelspec": {
   "display_name": "Python 3 (ipykernel)",
   "language": "python",
   "name": "python3"
  },
  "language_info": {
   "codemirror_mode": {
    "name": "ipython",
    "version": 3
   },
   "file_extension": ".py",
   "mimetype": "text/x-python",
   "name": "python",
   "nbconvert_exporter": "python",
   "pygments_lexer": "ipython3",
   "version": "3.10.7"
  }
 },
 "nbformat": 4,
 "nbformat_minor": 5
}
