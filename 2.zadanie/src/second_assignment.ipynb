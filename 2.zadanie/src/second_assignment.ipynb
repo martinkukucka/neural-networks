{
 "cells": [
  {
   "cell_type": "markdown",
   "id": "49715bb1",
   "metadata": {},
   "source": [
    "# CIFAR-10"
   ]
  },
  {
   "cell_type": "markdown",
   "id": "8f825f36",
   "metadata": {},
   "source": [
    "CIFAR-10 dataset: http://www.cs.toronto.edu/~kriz/cifar.html\n",
    "\n",
    "#### Cieľ zadania: Klasifikácia obrázku jednej z nasledujúcich tried:\n",
    "• 0: airplane\\\n",
    "• 1: automobile\\\n",
    "• 2: bird\\\n",
    "• 3: cat\\\n",
    "• 4: deer\\\n",
    "• 5: dog\\\n",
    "• 6: frog\\\n",
    "• 7: horse\\\n",
    "• 8: ship\\\n",
    "• 9: truck"
   ]
  },
  {
   "cell_type": "code",
   "execution_count": 2,
   "id": "90189306",
   "metadata": {},
   "outputs": [],
   "source": [
    "from matplotlib import pyplot\n",
    "from keras.datasets import cifar10\n",
    "\n",
    "import pandas as pd\n",
    "import numpy as np\n",
    "import matplotlib.pyplot as plt\n",
    "import seaborn as sns\n",
    "from sklearn.model_selection import train_test_split\n",
    "\n",
    "import wandb\n",
    "from wandb.keras import WandbCallback\n",
    "\n",
    "import tensorflow as tf\n",
    "from tensorflow import keras\n",
    "from tensorflow.keras import layers\n",
    "from tensorflow.keras.preprocessing.image import ImageDataGenerator\n",
    "from tensorflow.keras.layers import Add"
   ]
  },
  {
   "cell_type": "code",
   "execution_count": 3,
   "id": "30ffa9bb",
   "metadata": {},
   "outputs": [],
   "source": [
    "def countValues(data):\n",
    "    unique_vals, counts = np.unique(data, return_counts=True)\n",
    "\n",
    "    for val, count in zip(unique_vals, counts):\n",
    "        print(\"Class {}: {} records\".format(val, count))"
   ]
  },
  {
   "cell_type": "code",
   "execution_count": 4,
   "id": "1833371d",
   "metadata": {},
   "outputs": [],
   "source": [
    "def dataNormalisation(data):\n",
    "    return data.astype('float32') / 255.0"
   ]
  },
  {
   "cell_type": "code",
   "execution_count": 5,
   "id": "b214d330",
   "metadata": {},
   "outputs": [],
   "source": [
    "dataClass = [\n",
    "    'airplane',\n",
    "    'automobile',\n",
    "    'bird',\n",
    "    'cat',\n",
    "    'deer',\n",
    "    'dog',\n",
    "    'frog',\n",
    "    'horse',\n",
    "    'ship',\n",
    "    'truck'\n",
    "]"
   ]
  },
  {
   "cell_type": "code",
   "execution_count": 6,
   "id": "39c3bd45",
   "metadata": {},
   "outputs": [
    {
     "name": "stdout",
     "output_type": "stream",
     "text": [
      "Train dataset:\n",
      " X=(50000, 32, 32, 3)\n",
      " y=(50000, 1)\n",
      "\n",
      "Validation dataset:\n",
      " X=(10000, 32, 32, 3)\n",
      " y=(10000, 1)\n"
     ]
    }
   ],
   "source": [
    "(X_train, y_train), (X_val, y_val) = cifar10.load_data()\n",
    "\n",
    "print('Train dataset:\\n X=%s\\n y=%s\\n' % (X_train.shape, y_train.shape))\n",
    "print('Validation dataset:\\n X=%s\\n y=%s' % (X_val.shape, y_val.shape))"
   ]
  },
  {
   "cell_type": "code",
   "execution_count": 7,
   "id": "49052f10",
   "metadata": {},
   "outputs": [
    {
     "name": "stdout",
     "output_type": "stream",
     "text": [
      "Class 0: 5000 records\n",
      "Class 1: 5000 records\n",
      "Class 2: 5000 records\n",
      "Class 3: 5000 records\n",
      "Class 4: 5000 records\n",
      "Class 5: 5000 records\n",
      "Class 6: 5000 records\n",
      "Class 7: 5000 records\n",
      "Class 8: 5000 records\n",
      "Class 9: 5000 records\n"
     ]
    }
   ],
   "source": [
    "countValues(y_train)"
   ]
  },
  {
   "cell_type": "code",
   "execution_count": 8,
   "id": "3329964b",
   "metadata": {},
   "outputs": [
    {
     "name": "stdout",
     "output_type": "stream",
     "text": [
      "Class 0: 1000 records\n",
      "Class 1: 1000 records\n",
      "Class 2: 1000 records\n",
      "Class 3: 1000 records\n",
      "Class 4: 1000 records\n",
      "Class 5: 1000 records\n",
      "Class 6: 1000 records\n",
      "Class 7: 1000 records\n",
      "Class 8: 1000 records\n",
      "Class 9: 1000 records\n"
     ]
    }
   ],
   "source": [
    "countValues(y_val)"
   ]
  },
  {
   "cell_type": "markdown",
   "id": "792eee8e",
   "metadata": {},
   "source": [
    "Normalizacia dat do intervalu 0 - 1"
   ]
  },
  {
   "cell_type": "code",
   "execution_count": 9,
   "id": "2275ee6b",
   "metadata": {},
   "outputs": [],
   "source": [
    "X_train = dataNormalisation(X_train)\n",
    "X_val = dataNormalisation(X_val)\n",
    "\n",
    "X_val, X_test, y_val, y_test = train_test_split(X_val, y_val, test_size=0.5, random_state=25)"
   ]
  },
  {
   "cell_type": "code",
   "execution_count": 10,
   "id": "51a42427",
   "metadata": {},
   "outputs": [
    {
     "name": "stdout",
     "output_type": "stream",
     "text": [
      "Class 0: 497 records\n",
      "Class 1: 482 records\n",
      "Class 2: 507 records\n",
      "Class 3: 504 records\n",
      "Class 4: 500 records\n",
      "Class 5: 511 records\n",
      "Class 6: 494 records\n",
      "Class 7: 507 records\n",
      "Class 8: 494 records\n",
      "Class 9: 504 records\n"
     ]
    }
   ],
   "source": [
    "countValues(y_val)"
   ]
  },
  {
   "cell_type": "code",
   "execution_count": 11,
   "id": "b7bf461a",
   "metadata": {},
   "outputs": [
    {
     "name": "stdout",
     "output_type": "stream",
     "text": [
      "Class 0: 503 records\n",
      "Class 1: 518 records\n",
      "Class 2: 493 records\n",
      "Class 3: 496 records\n",
      "Class 4: 500 records\n",
      "Class 5: 489 records\n",
      "Class 6: 506 records\n",
      "Class 7: 493 records\n",
      "Class 8: 506 records\n",
      "Class 9: 496 records\n"
     ]
    }
   ],
   "source": [
    "countValues(y_test)"
   ]
  },
  {
   "cell_type": "markdown",
   "id": "2b5d94f9",
   "metadata": {},
   "source": [
    "### Dáta:\n",
    "• RGB obrázky v rozmeroch 32x32x3\\\n",
    "• obrázky rozdelené do 10 tried\n",
    "\n",
    "Trénovacích vzoriek: 50000 - každá trieda má 5000 vzoriek\\\n",
    "Validačných vzoriek: 10000 - každá trieda má 1000 vzoriek\\\n",
    "&emsp;&emsp;&emsp;    • validačný dataset - 5000 vzoriek\\\n",
    "&emsp;&emsp;&emsp;    • testovací dataset - 5000 vzoriek"
   ]
  },
  {
   "cell_type": "code",
   "execution_count": 12,
   "id": "fe79b7e7",
   "metadata": {},
   "outputs": [
    {
     "data": {
      "image/png": "[encoded data removed]",
      "text/plain": [
       "<Figure size 432x288 with 9 Axes>"
      ]
     },
     "metadata": {
      "needs_background": "light"
     },
     "output_type": "display_data"
    }
   ],
   "source": [
    "for i in range(9):\n",
    "    plt.subplot(331 + i)\n",
    "    plt.imshow(X_train[i], aspect='auto')\n",
    "plt.show()"
   ]
  },
  {
   "cell_type": "code",
   "execution_count": 13,
   "id": "7cec4099",
   "metadata": {
    "scrolled": true
   },
   "outputs": [
    {
     "name": "stdout",
     "output_type": "stream",
     "text": [
      "Class:\n",
      "[6] - frog\n",
      "[9] - truck\n",
      "[9] - truck\n",
      "[4] - deer\n",
      "[1] - automobile\n",
      "[1] - automobile\n",
      "[2] - bird\n",
      "[7] - horse\n",
      "[8] - ship\n"
     ]
    }
   ],
   "source": [
    "print('Class:')\n",
    "for i in range(9):\n",
    "    print(y_train[i], '-', dataClass[y_train[i][0]])"
   ]
  },
  {
   "cell_type": "code",
   "execution_count": 14,
   "id": "2bacf0d6",
   "metadata": {},
   "outputs": [],
   "source": [
    "# one hot encoding\n",
    "y_train = tf.keras.utils.to_categorical(y_train)\n",
    "y_val = tf.keras.utils.to_categorical(y_val)\n",
    "y_test = tf.keras.utils.to_categorical(y_test)"
   ]
  },
  {
   "cell_type": "code",
   "execution_count": 15,
   "id": "2060e2fc",
   "metadata": {},
   "outputs": [
    {
     "name": "stdout",
     "output_type": "stream",
     "text": [
      "[0. 0. 0. 0. 0. 0. 0. 0. 0. 1.]\n"
     ]
    }
   ],
   "source": [
    "print(y_train[1])"
   ]
  },
  {
   "cell_type": "markdown",
   "id": "547b24b9",
   "metadata": {},
   "source": [
    "# Models\n",
    "\n",
    "- adaptivny learning rate\n",
    "- minimalna hranica learning rate-u (0.000001)\n",
    "- early stopping\n",
    "- pocet epoch 20\n",
    "- batch size 32, obcas 64"
   ]
  },
  {
   "cell_type": "markdown",
   "id": "14561023",
   "metadata": {},
   "source": [
    "## Pokus 1\n",
    "\n",
    "__Test accuracy: 0.7266__\\\n",
    "__Test loss: 1.692__"
   ]
  },
  {
   "cell_type": "code",
   "execution_count": 15,
   "id": "a1beb3bd",
   "metadata": {
    "scrolled": false
   },
   "outputs": [
    {
     "name": "stderr",
     "output_type": "stream",
     "text": [
      "\u001b[34m\u001b[1mwandb\u001b[0m: Currently logged in as: \u001b[33mandrejbelak0\u001b[0m (\u001b[33mneural-netwok-nn\u001b[0m). Use \u001b[1m`wandb login --relogin`\u001b[0m to force relogin\n"
     ]
    },
    {
     "data": {
      "text/html": [
       "wandb version 0.14.2 is available!  To upgrade, please run:\n",
       " $ pip install wandb --upgrade"
      ],
      "text/plain": [
       "<IPython.core.display.HTML object>"
      ]
     },
     "metadata": {},
     "output_type": "display_data"
    },
    {
     "data": {
      "text/html": [
       "Tracking run with wandb version 0.14.0"
      ],
      "text/plain": [
       "<IPython.core.display.HTML object>"
      ]
     },
     "metadata": {},
     "output_type": "display_data"
    },
    {
     "data": {
      "text/html": [
       "Run data is saved locally in <code>D:\\10.semester\\NN\\neural-networks\\2.zadanie\\src\\wandb\\run-20230411_234146-q1lovgfh</code>"
      ],
      "text/plain": [
       "<IPython.core.display.HTML object>"
      ]
     },
     "metadata": {},
     "output_type": "display_data"
    },
    {
     "data": {
      "text/html": [
       "Syncing run <strong><a href='https://wandb.ai/neural-netwok-nn/neural-network-assgiment2/runs/q1lovgfh' target=\"_blank\">logical-bee-1</a></strong> to <a href='https://wandb.ai/neural-netwok-nn/neural-network-assgiment2' target=\"_blank\">Weights & Biases</a> (<a href='https://wandb.me/run' target=\"_blank\">docs</a>)<br/>"
      ],
      "text/plain": [
       "<IPython.core.display.HTML object>"
      ]
     },
     "metadata": {},
     "output_type": "display_data"
    },
    {
     "data": {
      "text/html": [
       " View project at <a href='https://wandb.ai/neural-netwok-nn/neural-network-assgiment2' target=\"_blank\">https://wandb.ai/neural-netwok-nn/neural-network-assgiment2</a>"
      ],
      "text/plain": [
       "<IPython.core.display.HTML object>"
      ]
     },
     "metadata": {},
     "output_type": "display_data"
    },
    {
     "data": {
      "text/html": [
       " View run at <a href='https://wandb.ai/neural-netwok-nn/neural-network-assgiment2/runs/q1lovgfh' target=\"_blank\">https://wandb.ai/neural-netwok-nn/neural-network-assgiment2/runs/q1lovgfh</a>"
      ],
      "text/plain": [
       "<IPython.core.display.HTML object>"
      ]
     },
     "metadata": {},
     "output_type": "display_data"
    },
    {
     "name": "stderr",
     "output_type": "stream",
     "text": [
      "\u001b[34m\u001b[1mwandb\u001b[0m: \u001b[33mWARNING\u001b[0m The save_model argument by default saves the model in the HDF5 format that cannot save custom objects like subclassed models and custom layers. This behavior will be deprecated in a future release in favor of the SavedModel format. Meanwhile, the HDF5 model is saved as W&B files and the SavedModel as W&B Artifacts.\n"
     ]
    },
    {
     "name": "stdout",
     "output_type": "stream",
     "text": [
      "Epoch 1/20\n",
      "1563/1563 [==============================] - ETA: 0s - loss: 1.3254 - accuracy: 0.5263"
     ]
    },
    {
     "name": "stderr",
     "output_type": "stream",
     "text": [
      "WARNING:absl:Found untraced functions such as _jit_compiled_convolution_op, _jit_compiled_convolution_op, _update_step_xla while saving (showing 3 of 3). These functions will not be directly callable after loading.\n"
     ]
    },
    {
     "name": "stdout",
     "output_type": "stream",
     "text": [
      "INFO:tensorflow:Assets written to: D:\\10.semester\\NN\\neural-networks\\2.zadanie\\src\\wandb\\run-20230411_234146-q1lovgfh\\files\\model-best\\assets\n"
     ]
    },
    {
     "name": "stderr",
     "output_type": "stream",
     "text": [
      "INFO:tensorflow:Assets written to: D:\\10.semester\\NN\\neural-networks\\2.zadanie\\src\\wandb\\run-20230411_234146-q1lovgfh\\files\\model-best\\assets\n",
      "\u001b[34m\u001b[1mwandb\u001b[0m: Adding directory to artifact (D:\\10.semester\\NN\\neural-networks\\2.zadanie\\src\\wandb\\run-20230411_234146-q1lovgfh\\files\\model-best)... Done. 0.0s\n"
     ]
    },
    {
     "name": "stdout",
     "output_type": "stream",
     "text": [
      "1563/1563 [==============================] - 36s 23ms/step - loss: 1.3254 - accuracy: 0.5263 - val_loss: 1.0753 - val_accuracy: 0.6298 - lr: 0.0010\n",
      "Epoch 2/20\n",
      "1563/1563 [==============================] - ETA: 0s - loss: 0.9567 - accuracy: 0.6658"
     ]
    },
    {
     "name": "stderr",
     "output_type": "stream",
     "text": [
      "WARNING:absl:Found untraced functions such as _jit_compiled_convolution_op, _jit_compiled_convolution_op, _update_step_xla while saving (showing 3 of 3). These functions will not be directly callable after loading.\n"
     ]
    },
    {
     "name": "stdout",
     "output_type": "stream",
     "text": [
      "INFO:tensorflow:Assets written to: D:\\10.semester\\NN\\neural-networks\\2.zadanie\\src\\wandb\\run-20230411_234146-q1lovgfh\\files\\model-best\\assets\n"
     ]
    },
    {
     "name": "stderr",
     "output_type": "stream",
     "text": [
      "INFO:tensorflow:Assets written to: D:\\10.semester\\NN\\neural-networks\\2.zadanie\\src\\wandb\\run-20230411_234146-q1lovgfh\\files\\model-best\\assets\n",
      "\u001b[34m\u001b[1mwandb\u001b[0m: Adding directory to artifact (D:\\10.semester\\NN\\neural-networks\\2.zadanie\\src\\wandb\\run-20230411_234146-q1lovgfh\\files\\model-best)... Done. 0.0s\n"
     ]
    },
    {
     "name": "stdout",
     "output_type": "stream",
     "text": [
      "1563/1563 [==============================] - 34s 22ms/step - loss: 0.9567 - accuracy: 0.6658 - val_loss: 0.9738 - val_accuracy: 0.6712 - lr: 0.0010\n",
      "Epoch 3/20\n",
      "1561/1563 [============================>.] - ETA: 0s - loss: 0.7839 - accuracy: 0.7262"
     ]
    },
    {
     "name": "stderr",
     "output_type": "stream",
     "text": [
      "WARNING:absl:Found untraced functions such as _jit_compiled_convolution_op, _jit_compiled_convolution_op, _update_step_xla while saving (showing 3 of 3). These functions will not be directly callable after loading.\n"
     ]
    },
    {
     "name": "stdout",
     "output_type": "stream",
     "text": [
      "INFO:tensorflow:Assets written to: D:\\10.semester\\NN\\neural-networks\\2.zadanie\\src\\wandb\\run-20230411_234146-q1lovgfh\\files\\model-best\\assets\n"
     ]
    },
    {
     "name": "stderr",
     "output_type": "stream",
     "text": [
      "INFO:tensorflow:Assets written to: D:\\10.semester\\NN\\neural-networks\\2.zadanie\\src\\wandb\\run-20230411_234146-q1lovgfh\\files\\model-best\\assets\n",
      "\u001b[34m\u001b[1mwandb\u001b[0m: Adding directory to artifact (D:\\10.semester\\NN\\neural-networks\\2.zadanie\\src\\wandb\\run-20230411_234146-q1lovgfh\\files\\model-best)... Done. 0.0s\n"
     ]
    },
    {
     "name": "stdout",
     "output_type": "stream",
     "text": [
      "1563/1563 [==============================] - 33s 21ms/step - loss: 0.7838 - accuracy: 0.7262 - val_loss: 0.8857 - val_accuracy: 0.7000 - lr: 0.0010\n",
      "Epoch 4/20\n",
      "1563/1563 [==============================] - 32s 21ms/step - loss: 0.6341 - accuracy: 0.7784 - val_loss: 0.8903 - val_accuracy: 0.7084 - lr: 0.0010\n",
      "Epoch 5/20\n",
      "1563/1563 [==============================] - 33s 21ms/step - loss: 0.5051 - accuracy: 0.8233 - val_loss: 0.9224 - val_accuracy: 0.7128 - lr: 0.0010\n",
      "Epoch 6/20\n",
      "1563/1563 [==============================] - 33s 21ms/step - loss: 0.3794 - accuracy: 0.8684 - val_loss: 0.9714 - val_accuracy: 0.7196 - lr: 0.0010\n",
      "Epoch 7/20\n",
      "1563/1563 [==============================] - 33s 21ms/step - loss: 0.2716 - accuracy: 0.9068 - val_loss: 1.0497 - val_accuracy: 0.7224 - lr: 0.0010\n",
      "Epoch 8/20\n",
      "1563/1563 [==============================] - 34s 22ms/step - loss: 0.1937 - accuracy: 0.9345 - val_loss: 1.2452 - val_accuracy: 0.7086 - lr: 0.0010\n",
      "Epoch 9/20\n",
      "1563/1563 [==============================] - 34s 22ms/step - loss: 0.1091 - accuracy: 0.9643 - val_loss: 1.3733 - val_accuracy: 0.7130 - lr: 8.0000e-04\n",
      "Epoch 10/20\n",
      "1563/1563 [==============================] - 34s 22ms/step - loss: 0.0809 - accuracy: 0.9741 - val_loss: 1.5057 - val_accuracy: 0.7070 - lr: 8.0000e-04\n",
      "Epoch 11/20\n",
      "1563/1563 [==============================] - 35s 22ms/step - loss: 0.0684 - accuracy: 0.9776 - val_loss: 1.7418 - val_accuracy: 0.7042 - lr: 8.0000e-04\n",
      "Epoch 12/20\n",
      "1563/1563 [==============================] - 34s 22ms/step - loss: 0.0575 - accuracy: 0.9813 - val_loss: 1.8174 - val_accuracy: 0.7020 - lr: 8.0000e-04\n",
      "Epoch 13/20\n",
      "1563/1563 [==============================] - 35s 22ms/step - loss: 0.0607 - accuracy: 0.9800 - val_loss: 1.8540 - val_accuracy: 0.7094 - lr: 8.0000e-04\n",
      "157/157 - 1s - loss: 1.6917 - accuracy: 0.7266 - 739ms/epoch - 5ms/step\n",
      "Test accuracy: 0.7265999913215637\n",
      "Test loss: 1.6917054653167725\n"
     ]
    }
   ],
   "source": [
    "wandb.init(project=\"neural-network-assgiment2\")\n",
    "wandb.run.name = \"Pokus 1\"\n",
    "config = wandb.config\n",
    "config.learning_rate = 0.001\n",
    "config.batch_size = 32\n",
    "config.epochs = 20\n",
    "\n",
    "model = keras.Sequential([\n",
    "    layers.Conv2D(32, kernel_size=(3, 3), activation='relu', input_shape=(32, 32, 3)),\n",
    "    layers.MaxPooling2D(pool_size=(2, 2)),\n",
    "    layers.Conv2D(64, kernel_size=(3, 3), activation='relu'),\n",
    "    layers.MaxPooling2D(pool_size=(2, 2)),\n",
    "    layers.Flatten(),\n",
    "    layers.Dense(512, activation='relu'),\n",
    "    layers.Dense(10, activation='softmax')\n",
    "])\n",
    "\n",
    "optimizer = tf.keras.optimizers.Adam(learning_rate=config.learning_rate)\n",
    "\n",
    "model.compile(optimizer=optimizer, loss='categorical_crossentropy', metrics=['accuracy'])\n",
    "\n",
    "early_stop = tf.keras.callbacks.EarlyStopping(monitor='val_loss', patience=10)\n",
    "lr_scheduler = tf.keras.callbacks.ReduceLROnPlateau(monitor='val_loss', factor=0.8, patience=5, min_lr=0.000001)\n",
    "\n",
    "history = model.fit(X_train, y_train, epochs=config.epochs, batch_size=config.batch_size, validation_data=(X_val, y_val), callbacks=[lr_scheduler,early_stop,WandbCallback()])\n",
    "\n",
    "# Evaluate the model\n",
    "val_loss, val_acc = model.evaluate(X_test, y_test, verbose=2)\n",
    "print('Test accuracy:', val_acc)\n",
    "print('Test loss:', val_loss)\n",
    "\n",
    "# Evaluate the model on the val set and log the results\n",
    "wandb.log({'Test loss': val_loss, 'Test accuracy': val_acc})"
   ]
  },
  {
   "cell_type": "code",
   "execution_count": 16,
   "id": "c0fa3478",
   "metadata": {},
   "outputs": [
    {
     "name": "stdout",
     "output_type": "stream",
     "text": [
      "Model: \"sequential\"\n",
      "_________________________________________________________________\n",
      " Layer (type)                Output Shape              Param #   \n",
      "=================================================================\n",
      " conv2d (Conv2D)             (None, 30, 30, 32)        896       \n",
      "                                                                 \n",
      " max_pooling2d (MaxPooling2D  (None, 15, 15, 32)       0         \n",
      " )                                                               \n",
      "                                                                 \n",
      " conv2d_1 (Conv2D)           (None, 13, 13, 64)        18496     \n",
      "                                                                 \n",
      " max_pooling2d_1 (MaxPooling  (None, 6, 6, 64)         0         \n",
      " 2D)                                                             \n",
      "                                                                 \n",
      " flatten (Flatten)           (None, 2304)              0         \n",
      "                                                                 \n",
      " dense (Dense)               (None, 512)               1180160   \n",
      "                                                                 \n",
      " dense_1 (Dense)             (None, 10)                5130      \n",
      "                                                                 \n",
      "=================================================================\n",
      "Total params: 1,204,682\n",
      "Trainable params: 1,204,682\n",
      "Non-trainable params: 0\n",
      "_________________________________________________________________\n"
     ]
    }
   ],
   "source": [
    "model.summary()"
   ]
  },
  {
   "cell_type": "code",
   "execution_count": 17,
   "id": "3233f356",
   "metadata": {},
   "outputs": [
    {
     "data": {
      "image/png": "[encoded data removed]",
      "text/plain": [
       "<Figure size 640x480 with 1 Axes>"
      ]
     },
     "metadata": {},
     "output_type": "display_data"
    }
   ],
   "source": [
    "plt.plot(history.history['loss'], label='Training Loss')\n",
    "plt.plot(history.history['val_loss'], label='Validation Loss')\n",
    "plt.plot(history.history['accuracy'], label='Training Accuracy')\n",
    "plt.plot(history.history['val_accuracy'], label='Validation Accuracy')\n",
    "\n",
    "plt.xlabel('Epoch')\n",
    "plt.ylabel('Loss / Accuracy')\n",
    "plt.legend()\n",
    "plt.show()"
   ]
  },
  {
   "cell_type": "markdown",
   "id": "7c2fb062",
   "metadata": {},
   "source": [
    "## Pokus 2\n",
    "\n",
    "- znizeny pocet vstupov pre dense layer\n",
    "\n",
    "__Test accuracy: 0.7028__\\\n",
    "__Test loss: 1.028__"
   ]
  },
  {
   "cell_type": "code",
   "execution_count": 18,
   "id": "725c2c26",
   "metadata": {
    "scrolled": true
   },
   "outputs": [
    {
     "data": {
      "text/html": [
       "Finishing last run (ID:q1lovgfh) before initializing another..."
      ],
      "text/plain": [
       "<IPython.core.display.HTML object>"
      ]
     },
     "metadata": {},
     "output_type": "display_data"
    },
    {
     "data": {
      "text/html": [
       "Waiting for W&B process to finish... <strong style=\"color:green\">(success).</strong>"
      ],
      "text/plain": [
       "<IPython.core.display.HTML object>"
      ]
     },
     "metadata": {},
     "output_type": "display_data"
    },
    {
     "data": {
      "text/html": [
       "<style>\n",
       "    table.wandb td:nth-child(1) { padding: 0 10px; text-align: left ; width: auto;} td:nth-child(2) {text-align: left ; width: 100%}\n",
       "    .wandb-row { display: flex; flex-direction: row; flex-wrap: wrap; justify-content: flex-start; width: 100% }\n",
       "    .wandb-col { display: flex; flex-direction: column; flex-basis: 100%; flex: 1; padding: 10px; }\n",
       "    </style>\n",
       "<div class=\"wandb-row\"><div class=\"wandb-col\"><h3>Run history:</h3><br/><table class=\"wandb\"><tr><td>Test accuracy</td><td>▁</td></tr><tr><td>Test loss</td><td>▁</td></tr><tr><td>accuracy</td><td>▁▃▄▅▆▆▇▇█████</td></tr><tr><td>epoch</td><td>▁▂▂▃▃▄▅▅▆▆▇▇█</td></tr><tr><td>loss</td><td>█▆▅▄▃▃▂▂▁▁▁▁▁</td></tr><tr><td>lr</td><td>████████▁▁▁▁▁</td></tr><tr><td>val_accuracy</td><td>▁▄▆▇▇██▇▇▇▇▆▇</td></tr><tr><td>val_loss</td><td>▂▂▁▁▁▂▂▄▅▅▇██</td></tr></table><br/></div><div class=\"wandb-col\"><h3>Run summary:</h3><br/><table class=\"wandb\"><tr><td>Test accuracy</td><td>0.7266</td></tr><tr><td>Test loss</td><td>1.69171</td></tr><tr><td>accuracy</td><td>0.97996</td></tr><tr><td>best_epoch</td><td>2</td></tr><tr><td>best_val_loss</td><td>0.88568</td></tr><tr><td>epoch</td><td>12</td></tr><tr><td>loss</td><td>0.06065</td></tr><tr><td>lr</td><td>0.0008</td></tr><tr><td>val_accuracy</td><td>0.7094</td></tr><tr><td>val_loss</td><td>1.85402</td></tr></table><br/></div></div>"
      ],
      "text/plain": [
       "<IPython.core.display.HTML object>"
      ]
     },
     "metadata": {},
     "output_type": "display_data"
    },
    {
     "data": {
      "text/html": [
       " View run <strong style=\"color:#cdcd00\">logical-bee-1</strong> at: <a href='https://wandb.ai/neural-netwok-nn/neural-network-assgiment2/runs/q1lovgfh' target=\"_blank\">https://wandb.ai/neural-netwok-nn/neural-network-assgiment2/runs/q1lovgfh</a><br/>Synced 5 W&B file(s), 1 media file(s), 15 artifact file(s) and 1 other file(s)"
      ],
      "text/plain": [
       "<IPython.core.display.HTML object>"
      ]
     },
     "metadata": {},
     "output_type": "display_data"
    },
    {
     "data": {
      "text/html": [
       "Find logs at: <code>.\\wandb\\run-20230411_234146-q1lovgfh\\logs</code>"
      ],
      "text/plain": [
       "<IPython.core.display.HTML object>"
      ]
     },
     "metadata": {},
     "output_type": "display_data"
    },
    {
     "data": {
      "text/html": [
       "Successfully finished last run (ID:q1lovgfh). Initializing new run:<br/>"
      ],
      "text/plain": [
       "<IPython.core.display.HTML object>"
      ]
     },
     "metadata": {},
     "output_type": "display_data"
    },
    {
     "data": {
      "application/vnd.jupyter.widget-view+json": {
       "model_id": "",
       "version_major": 2,
       "version_minor": 0
      },
      "text/plain": [
       "VBox(children=(Label(value='Waiting for wandb.init()...\\r'), FloatProgress(value=0.01693333333338766, max=1.0)…"
      ]
     },
     "metadata": {},
     "output_type": "display_data"
    },
    {
     "data": {
      "text/html": [
       "wandb version 0.14.2 is available!  To upgrade, please run:\n",
       " $ pip install wandb --upgrade"
      ],
      "text/plain": [
       "<IPython.core.display.HTML object>"
      ]
     },
     "metadata": {},
     "output_type": "display_data"
    },
    {
     "data": {
      "text/html": [
       "Tracking run with wandb version 0.14.0"
      ],
      "text/plain": [
       "<IPython.core.display.HTML object>"
      ]
     },
     "metadata": {},
     "output_type": "display_data"
    },
    {
     "data": {
      "text/html": [
       "Run data is saved locally in <code>D:\\10.semester\\NN\\neural-networks\\2.zadanie\\src\\wandb\\run-20230411_234911-dykhlofm</code>"
      ],
      "text/plain": [
       "<IPython.core.display.HTML object>"
      ]
     },
     "metadata": {},
     "output_type": "display_data"
    },
    {
     "data": {
      "text/html": [
       "Syncing run <strong><a href='https://wandb.ai/neural-netwok-nn/neural-network-assgiment2/runs/dykhlofm' target=\"_blank\">misunderstood-brook-2</a></strong> to <a href='https://wandb.ai/neural-netwok-nn/neural-network-assgiment2' target=\"_blank\">Weights & Biases</a> (<a href='https://wandb.me/run' target=\"_blank\">docs</a>)<br/>"
      ],
      "text/plain": [
       "<IPython.core.display.HTML object>"
      ]
     },
     "metadata": {},
     "output_type": "display_data"
    },
    {
     "data": {
      "text/html": [
       " View project at <a href='https://wandb.ai/neural-netwok-nn/neural-network-assgiment2' target=\"_blank\">https://wandb.ai/neural-netwok-nn/neural-network-assgiment2</a>"
      ],
      "text/plain": [
       "<IPython.core.display.HTML object>"
      ]
     },
     "metadata": {},
     "output_type": "display_data"
    },
    {
     "data": {
      "text/html": [
       " View run at <a href='https://wandb.ai/neural-netwok-nn/neural-network-assgiment2/runs/dykhlofm' target=\"_blank\">https://wandb.ai/neural-netwok-nn/neural-network-assgiment2/runs/dykhlofm</a>"
      ],
      "text/plain": [
       "<IPython.core.display.HTML object>"
      ]
     },
     "metadata": {},
     "output_type": "display_data"
    },
    {
     "name": "stdout",
     "output_type": "stream",
     "text": [
      "Epoch 1/20\n",
      "1562/1563 [============================>.] - ETA: 0s - loss: 1.4818 - accuracy: 0.4608"
     ]
    },
    {
     "name": "stderr",
     "output_type": "stream",
     "text": [
      "WARNING:absl:Found untraced functions such as _jit_compiled_convolution_op, _jit_compiled_convolution_op, _update_step_xla while saving (showing 3 of 3). These functions will not be directly callable after loading.\n"
     ]
    },
    {
     "name": "stdout",
     "output_type": "stream",
     "text": [
      "INFO:tensorflow:Assets written to: D:\\10.semester\\NN\\neural-networks\\2.zadanie\\src\\wandb\\run-20230411_234911-dykhlofm\\files\\model-best\\assets\n"
     ]
    },
    {
     "name": "stderr",
     "output_type": "stream",
     "text": [
      "INFO:tensorflow:Assets written to: D:\\10.semester\\NN\\neural-networks\\2.zadanie\\src\\wandb\\run-20230411_234911-dykhlofm\\files\\model-best\\assets\n",
      "\u001b[34m\u001b[1mwandb\u001b[0m: Adding directory to artifact (D:\\10.semester\\NN\\neural-networks\\2.zadanie\\src\\wandb\\run-20230411_234911-dykhlofm\\files\\model-best)... Done. 0.0s\n"
     ]
    },
    {
     "name": "stdout",
     "output_type": "stream",
     "text": [
      "1563/1563 [==============================] - 22s 14ms/step - loss: 1.4817 - accuracy: 0.4609 - val_loss: 1.2656 - val_accuracy: 0.5496 - lr: 0.0010\n",
      "Epoch 2/20\n",
      "1563/1563 [==============================] - ETA: 0s - loss: 1.1298 - accuracy: 0.6000"
     ]
    },
    {
     "name": "stderr",
     "output_type": "stream",
     "text": [
      "WARNING:absl:Found untraced functions such as _jit_compiled_convolution_op, _jit_compiled_convolution_op, _update_step_xla while saving (showing 3 of 3). These functions will not be directly callable after loading.\n"
     ]
    },
    {
     "name": "stdout",
     "output_type": "stream",
     "text": [
      "INFO:tensorflow:Assets written to: D:\\10.semester\\NN\\neural-networks\\2.zadanie\\src\\wandb\\run-20230411_234911-dykhlofm\\files\\model-best\\assets\n"
     ]
    },
    {
     "name": "stderr",
     "output_type": "stream",
     "text": [
      "INFO:tensorflow:Assets written to: D:\\10.semester\\NN\\neural-networks\\2.zadanie\\src\\wandb\\run-20230411_234911-dykhlofm\\files\\model-best\\assets\n",
      "\u001b[34m\u001b[1mwandb\u001b[0m: Adding directory to artifact (D:\\10.semester\\NN\\neural-networks\\2.zadanie\\src\\wandb\\run-20230411_234911-dykhlofm\\files\\model-best)... Done. 0.0s\n"
     ]
    },
    {
     "name": "stdout",
     "output_type": "stream",
     "text": [
      "1563/1563 [==============================] - 22s 14ms/step - loss: 1.1298 - accuracy: 0.6000 - val_loss: 1.0864 - val_accuracy: 0.6160 - lr: 0.0010\n",
      "Epoch 3/20\n",
      "1559/1563 [============================>.] - ETA: 0s - loss: 0.9973 - accuracy: 0.6515"
     ]
    },
    {
     "name": "stderr",
     "output_type": "stream",
     "text": [
      "WARNING:absl:Found untraced functions such as _jit_compiled_convolution_op, _jit_compiled_convolution_op, _update_step_xla while saving (showing 3 of 3). These functions will not be directly callable after loading.\n"
     ]
    },
    {
     "name": "stdout",
     "output_type": "stream",
     "text": [
      "INFO:tensorflow:Assets written to: D:\\10.semester\\NN\\neural-networks\\2.zadanie\\src\\wandb\\run-20230411_234911-dykhlofm\\files\\model-best\\assets\n"
     ]
    },
    {
     "name": "stderr",
     "output_type": "stream",
     "text": [
      "INFO:tensorflow:Assets written to: D:\\10.semester\\NN\\neural-networks\\2.zadanie\\src\\wandb\\run-20230411_234911-dykhlofm\\files\\model-best\\assets\n",
      "\u001b[34m\u001b[1mwandb\u001b[0m: Adding directory to artifact (D:\\10.semester\\NN\\neural-networks\\2.zadanie\\src\\wandb\\run-20230411_234911-dykhlofm\\files\\model-best)... Done. 0.0s\n"
     ]
    },
    {
     "name": "stdout",
     "output_type": "stream",
     "text": [
      "1563/1563 [==============================] - 23s 15ms/step - loss: 0.9972 - accuracy: 0.6516 - val_loss: 0.9985 - val_accuracy: 0.6504 - lr: 0.0010\n",
      "Epoch 4/20\n",
      "1562/1563 [============================>.] - ETA: 0s - loss: 0.9159 - accuracy: 0.6824"
     ]
    },
    {
     "name": "stderr",
     "output_type": "stream",
     "text": [
      "WARNING:absl:Found untraced functions such as _jit_compiled_convolution_op, _jit_compiled_convolution_op, _update_step_xla while saving (showing 3 of 3). These functions will not be directly callable after loading.\n"
     ]
    },
    {
     "name": "stdout",
     "output_type": "stream",
     "text": [
      "INFO:tensorflow:Assets written to: D:\\10.semester\\NN\\neural-networks\\2.zadanie\\src\\wandb\\run-20230411_234911-dykhlofm\\files\\model-best\\assets\n"
     ]
    },
    {
     "name": "stderr",
     "output_type": "stream",
     "text": [
      "INFO:tensorflow:Assets written to: D:\\10.semester\\NN\\neural-networks\\2.zadanie\\src\\wandb\\run-20230411_234911-dykhlofm\\files\\model-best\\assets\n",
      "\u001b[34m\u001b[1mwandb\u001b[0m: Adding directory to artifact (D:\\10.semester\\NN\\neural-networks\\2.zadanie\\src\\wandb\\run-20230411_234911-dykhlofm\\files\\model-best)... Done. 0.0s\n"
     ]
    },
    {
     "name": "stdout",
     "output_type": "stream",
     "text": [
      "1563/1563 [==============================] - 23s 14ms/step - loss: 0.9158 - accuracy: 0.6824 - val_loss: 0.9770 - val_accuracy: 0.6612 - lr: 0.0010\n",
      "Epoch 5/20\n",
      "1560/1563 [============================>.] - ETA: 0s - loss: 0.8502 - accuracy: 0.7058"
     ]
    },
    {
     "name": "stderr",
     "output_type": "stream",
     "text": [
      "WARNING:absl:Found untraced functions such as _jit_compiled_convolution_op, _jit_compiled_convolution_op, _update_step_xla while saving (showing 3 of 3). These functions will not be directly callable after loading.\n"
     ]
    },
    {
     "name": "stdout",
     "output_type": "stream",
     "text": [
      "INFO:tensorflow:Assets written to: D:\\10.semester\\NN\\neural-networks\\2.zadanie\\src\\wandb\\run-20230411_234911-dykhlofm\\files\\model-best\\assets\n"
     ]
    },
    {
     "name": "stderr",
     "output_type": "stream",
     "text": [
      "INFO:tensorflow:Assets written to: D:\\10.semester\\NN\\neural-networks\\2.zadanie\\src\\wandb\\run-20230411_234911-dykhlofm\\files\\model-best\\assets\n",
      "\u001b[34m\u001b[1mwandb\u001b[0m: Adding directory to artifact (D:\\10.semester\\NN\\neural-networks\\2.zadanie\\src\\wandb\\run-20230411_234911-dykhlofm\\files\\model-best)... Done. 0.0s\n"
     ]
    },
    {
     "name": "stdout",
     "output_type": "stream",
     "text": [
      "1563/1563 [==============================] - 24s 15ms/step - loss: 0.8504 - accuracy: 0.7058 - val_loss: 0.9304 - val_accuracy: 0.6728 - lr: 0.0010\n",
      "Epoch 6/20\n",
      "1563/1563 [==============================] - 23s 15ms/step - loss: 0.7972 - accuracy: 0.7228 - val_loss: 0.9628 - val_accuracy: 0.6664 - lr: 0.0010\n",
      "Epoch 7/20\n",
      "1559/1563 [============================>.] - ETA: 0s - loss: 0.7535 - accuracy: 0.7395"
     ]
    },
    {
     "name": "stderr",
     "output_type": "stream",
     "text": [
      "WARNING:absl:Found untraced functions such as _jit_compiled_convolution_op, _jit_compiled_convolution_op, _update_step_xla while saving (showing 3 of 3). These functions will not be directly callable after loading.\n"
     ]
    },
    {
     "name": "stdout",
     "output_type": "stream",
     "text": [
      "INFO:tensorflow:Assets written to: D:\\10.semester\\NN\\neural-networks\\2.zadanie\\src\\wandb\\run-20230411_234911-dykhlofm\\files\\model-best\\assets\n"
     ]
    },
    {
     "name": "stderr",
     "output_type": "stream",
     "text": [
      "INFO:tensorflow:Assets written to: D:\\10.semester\\NN\\neural-networks\\2.zadanie\\src\\wandb\\run-20230411_234911-dykhlofm\\files\\model-best\\assets\n",
      "\u001b[34m\u001b[1mwandb\u001b[0m: Adding directory to artifact (D:\\10.semester\\NN\\neural-networks\\2.zadanie\\src\\wandb\\run-20230411_234911-dykhlofm\\files\\model-best)... Done. 0.0s\n"
     ]
    },
    {
     "name": "stdout",
     "output_type": "stream",
     "text": [
      "1563/1563 [==============================] - 23s 15ms/step - loss: 0.7536 - accuracy: 0.7396 - val_loss: 0.9167 - val_accuracy: 0.6902 - lr: 0.0010\n",
      "Epoch 8/20\n",
      "1563/1563 [==============================] - 21s 13ms/step - loss: 0.7128 - accuracy: 0.7505 - val_loss: 0.9731 - val_accuracy: 0.6732 - lr: 0.0010\n",
      "Epoch 9/20\n",
      "1563/1563 [==============================] - 22s 14ms/step - loss: 0.6705 - accuracy: 0.7662 - val_loss: 0.9365 - val_accuracy: 0.6882 - lr: 0.0010\n",
      "Epoch 10/20\n",
      "1563/1563 [==============================] - 22s 14ms/step - loss: 0.6359 - accuracy: 0.7777 - val_loss: 0.9186 - val_accuracy: 0.6960 - lr: 0.0010\n",
      "Epoch 11/20\n",
      "1563/1563 [==============================] - 22s 14ms/step - loss: 0.6056 - accuracy: 0.7874 - val_loss: 0.9287 - val_accuracy: 0.6932 - lr: 0.0010\n",
      "Epoch 12/20\n",
      "1563/1563 [==============================] - 22s 14ms/step - loss: 0.5702 - accuracy: 0.8008 - val_loss: 0.9971 - val_accuracy: 0.6802 - lr: 0.0010\n",
      "Epoch 13/20\n",
      "1563/1563 [==============================] - 21s 14ms/step - loss: 0.5181 - accuracy: 0.8186 - val_loss: 0.9573 - val_accuracy: 0.6964 - lr: 8.0000e-04\n",
      "Epoch 14/20\n",
      "1563/1563 [==============================] - 21s 13ms/step - loss: 0.4893 - accuracy: 0.8284 - val_loss: 0.9909 - val_accuracy: 0.6882 - lr: 8.0000e-04\n",
      "Epoch 15/20\n",
      "1563/1563 [==============================] - 21s 13ms/step - loss: 0.4667 - accuracy: 0.8362 - val_loss: 1.0274 - val_accuracy: 0.6898 - lr: 8.0000e-04\n",
      "Epoch 16/20\n",
      "1563/1563 [==============================] - 21s 13ms/step - loss: 0.4454 - accuracy: 0.8440 - val_loss: 1.0483 - val_accuracy: 0.6918 - lr: 8.0000e-04\n",
      "Epoch 17/20\n",
      "1563/1563 [==============================] - 21s 13ms/step - loss: 0.4224 - accuracy: 0.8509 - val_loss: 1.0779 - val_accuracy: 0.6866 - lr: 8.0000e-04\n",
      "157/157 - 1s - loss: 1.0280 - accuracy: 0.7028 - 620ms/epoch - 4ms/step\n",
      "Test accuracy: 0.7027999758720398\n",
      "Test loss: 1.0279796123504639\n"
     ]
    }
   ],
   "source": [
    "wandb.init(project=\"neural-network-assgiment2\")\n",
    "wandb.run.name = \"Pokus 2\"\n",
    "config = wandb.config\n",
    "config.learning_rate = 0.001\n",
    "config.batch_size = 32\n",
    "config.epochs = 20\n",
    "\n",
    "\n",
    "model = keras.Sequential([\n",
    "    layers.Conv2D(32, kernel_size=(3, 3), activation='relu', input_shape=(32, 32, 3)),\n",
    "    layers.MaxPooling2D(pool_size=(2, 2)),\n",
    "    layers.Conv2D(64, kernel_size=(3, 3), activation='relu'),\n",
    "    layers.MaxPooling2D(pool_size=(2, 2)),\n",
    "    layers.Flatten(),\n",
    "    layers.Dense(64, activation='relu'),\n",
    "    layers.Dense(10, activation='softmax')\n",
    "])\n",
    "\n",
    "optimizer = tf.keras.optimizers.Adam(learning_rate=config.learning_rate)\n",
    "\n",
    "model.compile(optimizer=optimizer, loss='categorical_crossentropy', metrics=['accuracy'])\n",
    "\n",
    "early_stop = tf.keras.callbacks.EarlyStopping(monitor='val_loss', patience=10)\n",
    "lr_scheduler = tf.keras.callbacks.ReduceLROnPlateau(monitor='val_loss', factor=0.8, patience=5, min_lr=0.000001)\n",
    "\n",
    "history = model.fit(X_train, y_train, epochs=config.epochs, batch_size=config.batch_size, validation_data=(X_val, y_val), callbacks=[lr_scheduler,early_stop,WandbCallback()])\n",
    "\n",
    "# Evaluate the model\n",
    "val_loss, val_acc = model.evaluate(X_test, y_test, verbose=2)\n",
    "print('Test accuracy:', val_acc)\n",
    "print('Test loss:', val_loss)\n",
    "\n",
    "# Evaluate the model on the val set and log the results\n",
    "wandb.log({'Test loss': val_loss, 'Test accuracy': val_acc})"
   ]
  },
  {
   "cell_type": "code",
   "execution_count": 19,
   "id": "10e64eff",
   "metadata": {},
   "outputs": [
    {
     "name": "stdout",
     "output_type": "stream",
     "text": [
      "Model: \"sequential_1\"\n",
      "_________________________________________________________________\n",
      " Layer (type)                Output Shape              Param #   \n",
      "=================================================================\n",
      " conv2d_2 (Conv2D)           (None, 30, 30, 32)        896       \n",
      "                                                                 \n",
      " max_pooling2d_2 (MaxPooling  (None, 15, 15, 32)       0         \n",
      " 2D)                                                             \n",
      "                                                                 \n",
      " conv2d_3 (Conv2D)           (None, 13, 13, 64)        18496     \n",
      "                                                                 \n",
      " max_pooling2d_3 (MaxPooling  (None, 6, 6, 64)         0         \n",
      " 2D)                                                             \n",
      "                                                                 \n",
      " flatten_1 (Flatten)         (None, 2304)              0         \n",
      "                                                                 \n",
      " dense_2 (Dense)             (None, 64)                147520    \n",
      "                                                                 \n",
      " dense_3 (Dense)             (None, 10)                650       \n",
      "                                                                 \n",
      "=================================================================\n",
      "Total params: 167,562\n",
      "Trainable params: 167,562\n",
      "Non-trainable params: 0\n",
      "_________________________________________________________________\n"
     ]
    }
   ],
   "source": [
    "model.summary()"
   ]
  },
  {
   "cell_type": "code",
   "execution_count": 20,
   "id": "5ad7d23f",
   "metadata": {},
   "outputs": [
    {
     "data": {
      "image/png": "[encoded data removed]",
      "text/plain": [
       "<Figure size 640x480 with 1 Axes>"
      ]
     },
     "metadata": {},
     "output_type": "display_data"
    }
   ],
   "source": [
    "plt.plot(history.history['loss'], label='Training Loss')\n",
    "plt.plot(history.history['val_loss'], label='Validation Loss')\n",
    "plt.plot(history.history['accuracy'], label='Training Accuracy')\n",
    "plt.plot(history.history['val_accuracy'], label='Validation Accuracy')\n",
    "\n",
    "plt.xlabel('Epoch')\n",
    "plt.ylabel('Loss / Accuracy')\n",
    "plt.legend()\n",
    "plt.show()"
   ]
  },
  {
   "cell_type": "markdown",
   "id": "f9748923",
   "metadata": {},
   "source": [
    "## Pokus 3\n",
    "\n",
    "- pridana dalsia konvolucna vrstva\n",
    "- zvyseny batch size\n",
    "- uprava vstupov pre dense layer\n",
    "- pridany stride po poslednej konvolucnej vrstve\n",
    "\n",
    "__Test accuracy: 0.7402__\\\n",
    "__Test loss: 1.832__"
   ]
  },
  {
   "cell_type": "code",
   "execution_count": 21,
   "id": "3f9ccb91",
   "metadata": {},
   "outputs": [
    {
     "data": {
      "text/html": [
       "Finishing last run (ID:qhze63te) before initializing another..."
      ],
      "text/plain": [
       "<IPython.core.display.HTML object>"
      ]
     },
     "metadata": {},
     "output_type": "display_data"
    },
    {
     "data": {
      "text/html": [
       "Waiting for W&B process to finish... <strong style=\"color:green\">(success).</strong>"
      ],
      "text/plain": [
       "<IPython.core.display.HTML object>"
      ]
     },
     "metadata": {},
     "output_type": "display_data"
    },
    {
     "data": {
      "application/vnd.jupyter.widget-view+json": {
       "model_id": "b7a492f3dac841a484e04ce483d2aae4",
       "version_major": 2,
       "version_minor": 0
      },
      "text/plain": [
       "VBox(children=(Label(value='0.005 MB of 0.005 MB uploaded (0.000 MB deduped)\\r'), FloatProgress(value=1.0, max…"
      ]
     },
     "metadata": {},
     "output_type": "display_data"
    },
    {
     "data": {
      "text/html": [
       " View run <strong style=\"color:#cdcd00\">solar-shadow-4</strong> at: <a href='https://wandb.ai/neural-netwok-nn/neural-network-assgiment2/runs/qhze63te' target=\"_blank\">https://wandb.ai/neural-netwok-nn/neural-network-assgiment2/runs/qhze63te</a><br/>Synced 5 W&B file(s), 1 media file(s), 0 artifact file(s) and 0 other file(s)"
      ],
      "text/plain": [
       "<IPython.core.display.HTML object>"
      ]
     },
     "metadata": {},
     "output_type": "display_data"
    },
    {
     "data": {
      "text/html": [
       "Find logs at: <code>.\\wandb\\run-20230412_145750-qhze63te\\logs</code>"
      ],
      "text/plain": [
       "<IPython.core.display.HTML object>"
      ]
     },
     "metadata": {},
     "output_type": "display_data"
    },
    {
     "data": {
      "text/html": [
       "Successfully finished last run (ID:qhze63te). Initializing new run:<br/>"
      ],
      "text/plain": [
       "<IPython.core.display.HTML object>"
      ]
     },
     "metadata": {},
     "output_type": "display_data"
    },
    {
     "data": {
      "application/vnd.jupyter.widget-view+json": {
       "model_id": "082e80cd1185493797d83ae85a4dc92f",
       "version_major": 2,
       "version_minor": 0
      },
      "text/plain": [
       "VBox(children=(Label(value='Waiting for wandb.init()...\\r'), FloatProgress(value=0.01693333333338766, max=1.0)…"
      ]
     },
     "metadata": {},
     "output_type": "display_data"
    },
    {
     "data": {
      "text/html": [
       "wandb version 0.14.2 is available!  To upgrade, please run:\n",
       " $ pip install wandb --upgrade"
      ],
      "text/plain": [
       "<IPython.core.display.HTML object>"
      ]
     },
     "metadata": {},
     "output_type": "display_data"
    },
    {
     "data": {
      "text/html": [
       "Tracking run with wandb version 0.14.0"
      ],
      "text/plain": [
       "<IPython.core.display.HTML object>"
      ]
     },
     "metadata": {},
     "output_type": "display_data"
    },
    {
     "data": {
      "text/html": [
       "Run data is saved locally in <code>D:\\10.semester\\NN\\neural-networks\\2.zadanie\\src\\wandb\\run-20230412_145838-v5lq1n7h</code>"
      ],
      "text/plain": [
       "<IPython.core.display.HTML object>"
      ]
     },
     "metadata": {},
     "output_type": "display_data"
    },
    {
     "data": {
      "text/html": [
       "Syncing run <strong><a href='https://wandb.ai/neural-netwok-nn/neural-network-assgiment2/runs/v5lq1n7h' target=\"_blank\">dark-capybara-5</a></strong> to <a href='https://wandb.ai/neural-netwok-nn/neural-network-assgiment2' target=\"_blank\">Weights & Biases</a> (<a href='https://wandb.me/run' target=\"_blank\">docs</a>)<br/>"
      ],
      "text/plain": [
       "<IPython.core.display.HTML object>"
      ]
     },
     "metadata": {},
     "output_type": "display_data"
    },
    {
     "data": {
      "text/html": [
       " View project at <a href='https://wandb.ai/neural-netwok-nn/neural-network-assgiment2' target=\"_blank\">https://wandb.ai/neural-netwok-nn/neural-network-assgiment2</a>"
      ],
      "text/plain": [
       "<IPython.core.display.HTML object>"
      ]
     },
     "metadata": {},
     "output_type": "display_data"
    },
    {
     "data": {
      "text/html": [
       " View run at <a href='https://wandb.ai/neural-netwok-nn/neural-network-assgiment2/runs/v5lq1n7h' target=\"_blank\">https://wandb.ai/neural-netwok-nn/neural-network-assgiment2/runs/v5lq1n7h</a>"
      ],
      "text/plain": [
       "<IPython.core.display.HTML object>"
      ]
     },
     "metadata": {},
     "output_type": "display_data"
    },
    {
     "name": "stdout",
     "output_type": "stream",
     "text": [
      "Epoch 1/20\n",
      "781/782 [============================>.] - ETA: 0s - loss: 1.3521 - accuracy: 0.5153"
     ]
    },
    {
     "name": "stderr",
     "output_type": "stream",
     "text": [
      "WARNING:absl:Found untraced functions such as _jit_compiled_convolution_op, _jit_compiled_convolution_op, _jit_compiled_convolution_op, _update_step_xla while saving (showing 4 of 4). These functions will not be directly callable after loading.\n"
     ]
    },
    {
     "name": "stdout",
     "output_type": "stream",
     "text": [
      "INFO:tensorflow:Assets written to: D:\\10.semester\\NN\\neural-networks\\2.zadanie\\src\\wandb\\run-20230412_145838-v5lq1n7h\\files\\model-best\\assets\n"
     ]
    },
    {
     "name": "stderr",
     "output_type": "stream",
     "text": [
      "INFO:tensorflow:Assets written to: D:\\10.semester\\NN\\neural-networks\\2.zadanie\\src\\wandb\\run-20230412_145838-v5lq1n7h\\files\\model-best\\assets\n",
      "\u001b[34m\u001b[1mwandb\u001b[0m: Adding directory to artifact (D:\\10.semester\\NN\\neural-networks\\2.zadanie\\src\\wandb\\run-20230412_145838-v5lq1n7h\\files\\model-best)... Done. 0.1s\n"
     ]
    },
    {
     "name": "stdout",
     "output_type": "stream",
     "text": [
      "782/782 [==============================] - 75s 94ms/step - loss: 1.3520 - accuracy: 0.5153 - val_loss: 1.0572 - val_accuracy: 0.6286 - lr: 0.0010\n",
      "Epoch 2/20\n",
      "781/782 [============================>.] - ETA: 0s - loss: 0.8902 - accuracy: 0.6879"
     ]
    },
    {
     "name": "stderr",
     "output_type": "stream",
     "text": [
      "WARNING:absl:Found untraced functions such as _jit_compiled_convolution_op, _jit_compiled_convolution_op, _jit_compiled_convolution_op, _update_step_xla while saving (showing 4 of 4). These functions will not be directly callable after loading.\n"
     ]
    },
    {
     "name": "stdout",
     "output_type": "stream",
     "text": [
      "INFO:tensorflow:Assets written to: D:\\10.semester\\NN\\neural-networks\\2.zadanie\\src\\wandb\\run-20230412_145838-v5lq1n7h\\files\\model-best\\assets\n"
     ]
    },
    {
     "name": "stderr",
     "output_type": "stream",
     "text": [
      "INFO:tensorflow:Assets written to: D:\\10.semester\\NN\\neural-networks\\2.zadanie\\src\\wandb\\run-20230412_145838-v5lq1n7h\\files\\model-best\\assets\n",
      "\u001b[34m\u001b[1mwandb\u001b[0m: Adding directory to artifact (D:\\10.semester\\NN\\neural-networks\\2.zadanie\\src\\wandb\\run-20230412_145838-v5lq1n7h\\files\\model-best)... Done. 0.1s\n"
     ]
    },
    {
     "name": "stdout",
     "output_type": "stream",
     "text": [
      "782/782 [==============================] - 56s 72ms/step - loss: 0.8901 - accuracy: 0.6879 - val_loss: 0.8616 - val_accuracy: 0.7034 - lr: 0.0010\n",
      "Epoch 3/20\n",
      "781/782 [============================>.] - ETA: 0s - loss: 0.6889 - accuracy: 0.7617"
     ]
    },
    {
     "name": "stderr",
     "output_type": "stream",
     "text": [
      "WARNING:absl:Found untraced functions such as _jit_compiled_convolution_op, _jit_compiled_convolution_op, _jit_compiled_convolution_op, _update_step_xla while saving (showing 4 of 4). These functions will not be directly callable after loading.\n"
     ]
    },
    {
     "name": "stdout",
     "output_type": "stream",
     "text": [
      "INFO:tensorflow:Assets written to: D:\\10.semester\\NN\\neural-networks\\2.zadanie\\src\\wandb\\run-20230412_145838-v5lq1n7h\\files\\model-best\\assets\n"
     ]
    },
    {
     "name": "stderr",
     "output_type": "stream",
     "text": [
      "INFO:tensorflow:Assets written to: D:\\10.semester\\NN\\neural-networks\\2.zadanie\\src\\wandb\\run-20230412_145838-v5lq1n7h\\files\\model-best\\assets\n",
      "\u001b[34m\u001b[1mwandb\u001b[0m: Adding directory to artifact (D:\\10.semester\\NN\\neural-networks\\2.zadanie\\src\\wandb\\run-20230412_145838-v5lq1n7h\\files\\model-best)... Done. 0.1s\n"
     ]
    },
    {
     "name": "stdout",
     "output_type": "stream",
     "text": [
      "782/782 [==============================] - 57s 73ms/step - loss: 0.6887 - accuracy: 0.7617 - val_loss: 0.8089 - val_accuracy: 0.7224 - lr: 0.0010\n",
      "Epoch 4/20\n",
      "781/782 [============================>.] - ETA: 0s - loss: 0.5356 - accuracy: 0.8134"
     ]
    },
    {
     "name": "stderr",
     "output_type": "stream",
     "text": [
      "WARNING:absl:Found untraced functions such as _jit_compiled_convolution_op, _jit_compiled_convolution_op, _jit_compiled_convolution_op, _update_step_xla while saving (showing 4 of 4). These functions will not be directly callable after loading.\n"
     ]
    },
    {
     "name": "stdout",
     "output_type": "stream",
     "text": [
      "INFO:tensorflow:Assets written to: D:\\10.semester\\NN\\neural-networks\\2.zadanie\\src\\wandb\\run-20230412_145838-v5lq1n7h\\files\\model-best\\assets\n"
     ]
    },
    {
     "name": "stderr",
     "output_type": "stream",
     "text": [
      "INFO:tensorflow:Assets written to: D:\\10.semester\\NN\\neural-networks\\2.zadanie\\src\\wandb\\run-20230412_145838-v5lq1n7h\\files\\model-best\\assets\n",
      "\u001b[34m\u001b[1mwandb\u001b[0m: Adding directory to artifact (D:\\10.semester\\NN\\neural-networks\\2.zadanie\\src\\wandb\\run-20230412_145838-v5lq1n7h\\files\\model-best)... Done. 0.1s\n"
     ]
    },
    {
     "name": "stdout",
     "output_type": "stream",
     "text": [
      "782/782 [==============================] - 57s 74ms/step - loss: 0.5356 - accuracy: 0.8134 - val_loss: 0.7855 - val_accuracy: 0.7326 - lr: 0.0010\n",
      "Epoch 5/20\n",
      "782/782 [==============================] - 57s 73ms/step - loss: 0.3875 - accuracy: 0.8649 - val_loss: 0.8527 - val_accuracy: 0.7302 - lr: 0.0010\n",
      "Epoch 6/20\n",
      "782/782 [==============================] - 56s 72ms/step - loss: 0.2631 - accuracy: 0.9077 - val_loss: 0.9862 - val_accuracy: 0.7278 - lr: 0.0010\n",
      "Epoch 7/20\n",
      "782/782 [==============================] - 55s 70ms/step - loss: 0.1718 - accuracy: 0.9404 - val_loss: 1.1945 - val_accuracy: 0.7168 - lr: 0.0010\n",
      "Epoch 8/20\n",
      "782/782 [==============================] - 55s 70ms/step - loss: 0.1110 - accuracy: 0.9620 - val_loss: 1.3940 - val_accuracy: 0.7136 - lr: 0.0010\n",
      "Epoch 9/20\n",
      "782/782 [==============================] - 56s 71ms/step - loss: 0.0935 - accuracy: 0.9676 - val_loss: 1.4767 - val_accuracy: 0.7270 - lr: 0.0010\n",
      "Epoch 10/20\n",
      "782/782 [==============================] - 56s 72ms/step - loss: 0.0483 - accuracy: 0.9838 - val_loss: 1.5829 - val_accuracy: 0.7360 - lr: 8.0000e-04\n",
      "Epoch 11/20\n",
      "782/782 [==============================] - 58s 74ms/step - loss: 0.0426 - accuracy: 0.9856 - val_loss: 1.7024 - val_accuracy: 0.7194 - lr: 8.0000e-04\n",
      "Epoch 12/20\n",
      "782/782 [==============================] - 60s 77ms/step - loss: 0.0414 - accuracy: 0.9860 - val_loss: 1.8122 - val_accuracy: 0.7120 - lr: 8.0000e-04\n",
      "Epoch 13/20\n",
      "782/782 [==============================] - 56s 72ms/step - loss: 0.0479 - accuracy: 0.9834 - val_loss: 1.8705 - val_accuracy: 0.7190 - lr: 8.0000e-04\n",
      "Epoch 14/20\n",
      "782/782 [==============================] - 57s 72ms/step - loss: 0.0415 - accuracy: 0.9865 - val_loss: 1.9403 - val_accuracy: 0.7250 - lr: 8.0000e-04\n",
      "157/157 - 1s - loss: 1.8322 - accuracy: 0.7402 - 1s/epoch - 8ms/step\n",
      "Test accuracy: 0.7401999831199646\n",
      "Test loss: 1.8322135210037231\n"
     ]
    }
   ],
   "source": [
    "wandb.init(project=\"neural-network-assgiment2\")\n",
    "wandb.run.name = \"Pokus 3\"\n",
    "config = wandb.config\n",
    "config.learning_rate = 0.001\n",
    "config.batch_size = 64\n",
    "config.epochs = 20\n",
    "\n",
    "\n",
    "model = keras.Sequential([\n",
    "    layers.Conv2D(32, kernel_size=(3, 3), activation='relu', input_shape=(32, 32, 3)),\n",
    "    layers.Conv2D(64, kernel_size=(3, 3), activation='relu'),\n",
    "    layers.MaxPooling2D(pool_size=(2, 2)),\n",
    "    layers.Conv2D(128, (3, 3), strides=(2,2), activation='relu', padding='same'),\n",
    "    layers.Flatten(),\n",
    "    layers.Dense(256, activation='relu'),\n",
    "    layers.Dense(10, activation='softmax')\n",
    "])\n",
    "\n",
    "optimizer = tf.keras.optimizers.Adam(learning_rate=config.learning_rate)\n",
    "\n",
    "model.compile(optimizer=optimizer, loss='categorical_crossentropy', metrics=['accuracy'])\n",
    "\n",
    "early_stop = tf.keras.callbacks.EarlyStopping(monitor='val_loss', patience=10)\n",
    "lr_scheduler = tf.keras.callbacks.ReduceLROnPlateau(monitor='val_loss', factor=0.8, patience=5, min_lr=0.000001)\n",
    "\n",
    "history = model.fit(X_train, y_train, epochs=config.epochs, batch_size=config.batch_size, validation_data=(X_val, y_val), callbacks=[lr_scheduler,early_stop,WandbCallback()])\n",
    "\n",
    "# Evaluate the model\n",
    "val_loss, val_acc = model.evaluate(X_test, y_test, verbose=2)\n",
    "print('Test accuracy:', val_acc)\n",
    "print('Test loss:', val_loss)\n",
    "\n",
    "# Evaluate the model on the val set and log the results\n",
    "wandb.log({'Test loss': val_loss, 'Test accuracy': val_acc})"
   ]
  },
  {
   "cell_type": "code",
   "execution_count": 22,
   "id": "59fd1302",
   "metadata": {},
   "outputs": [
    {
     "name": "stdout",
     "output_type": "stream",
     "text": [
      "Model: \"sequential_1\"\n",
      "_________________________________________________________________\n",
      " Layer (type)                Output Shape              Param #   \n",
      "=================================================================\n",
      " conv2d_11 (Conv2D)          (None, 30, 30, 32)        896       \n",
      "                                                                 \n",
      " conv2d_12 (Conv2D)          (None, 28, 28, 64)        18496     \n",
      "                                                                 \n",
      " max_pooling2d_3 (MaxPooling  (None, 14, 14, 64)       0         \n",
      " 2D)                                                             \n",
      "                                                                 \n",
      " conv2d_13 (Conv2D)          (None, 7, 7, 128)         73856     \n",
      "                                                                 \n",
      " flatten_1 (Flatten)         (None, 6272)              0         \n",
      "                                                                 \n",
      " dense_3 (Dense)             (None, 256)               1605888   \n",
      "                                                                 \n",
      " dense_4 (Dense)             (None, 10)                2570      \n",
      "                                                                 \n",
      "=================================================================\n",
      "Total params: 1,701,706\n",
      "Trainable params: 1,701,706\n",
      "Non-trainable params: 0\n",
      "_________________________________________________________________\n"
     ]
    }
   ],
   "source": [
    "model.summary()"
   ]
  },
  {
   "cell_type": "code",
   "execution_count": 23,
   "id": "4e7342a0",
   "metadata": {},
   "outputs": [
    {
     "data": {
      "image/png": "[encoded data removed]",
      "text/plain": [
       "<Figure size 640x480 with 1 Axes>"
      ]
     },
     "metadata": {},
     "output_type": "display_data"
    }
   ],
   "source": [
    "plt.plot(history.history['loss'], label='Training Loss')\n",
    "plt.plot(history.history['val_loss'], label='Validation Loss')\n",
    "plt.plot(history.history['accuracy'], label='Training Accuracy')\n",
    "plt.plot(history.history['val_accuracy'], label='Validation Accuracy')\n",
    "\n",
    "plt.xlabel('Epoch')\n",
    "plt.ylabel('Loss / Accuracy')\n",
    "plt.legend()\n",
    "plt.show()"
   ]
  },
  {
   "cell_type": "markdown",
   "id": "fed713f0",
   "metadata": {},
   "source": [
    "## Pokus 4\n",
    "\n",
    "- pridana BatchNormalization\n",
    "\n",
    "__Test accuracy: 0.7074__\\\n",
    "__Test loss: 1.384__"
   ]
  },
  {
   "cell_type": "code",
   "execution_count": 24,
   "id": "4a0925c6",
   "metadata": {},
   "outputs": [
    {
     "data": {
      "text/html": [
       "Finishing last run (ID:v5lq1n7h) before initializing another..."
      ],
      "text/plain": [
       "<IPython.core.display.HTML object>"
      ]
     },
     "metadata": {},
     "output_type": "display_data"
    },
    {
     "data": {
      "text/html": [
       "Waiting for W&B process to finish... <strong style=\"color:green\">(success).</strong>"
      ],
      "text/plain": [
       "<IPython.core.display.HTML object>"
      ]
     },
     "metadata": {},
     "output_type": "display_data"
    },
    {
     "data": {
      "text/html": [
       "<style>\n",
       "    table.wandb td:nth-child(1) { padding: 0 10px; text-align: left ; width: auto;} td:nth-child(2) {text-align: left ; width: 100%}\n",
       "    .wandb-row { display: flex; flex-direction: row; flex-wrap: wrap; justify-content: flex-start; width: 100% }\n",
       "    .wandb-col { display: flex; flex-direction: column; flex-basis: 100%; flex: 1; padding: 10px; }\n",
       "    </style>\n",
       "<div class=\"wandb-row\"><div class=\"wandb-col\"><h3>Run history:</h3><br/><table class=\"wandb\"><tr><td>Test accuracy</td><td>▁</td></tr><tr><td>Test loss</td><td>▁</td></tr><tr><td>accuracy</td><td>▁▄▅▅▆▇▇███████</td></tr><tr><td>epoch</td><td>▁▂▂▃▃▄▄▅▅▆▆▇▇█</td></tr><tr><td>loss</td><td>█▆▄▄▃▂▂▁▁▁▁▁▁▁</td></tr><tr><td>lr</td><td>█████████▁▁▁▁▁</td></tr><tr><td>val_accuracy</td><td>▁▆▇██▇▇▇▇█▇▆▇▇</td></tr><tr><td>val_loss</td><td>▃▁▁▁▁▂▃▅▅▆▇▇██</td></tr></table><br/></div><div class=\"wandb-col\"><h3>Run summary:</h3><br/><table class=\"wandb\"><tr><td>Test accuracy</td><td>0.7402</td></tr><tr><td>Test loss</td><td>1.83221</td></tr><tr><td>accuracy</td><td>0.98648</td></tr><tr><td>best_epoch</td><td>3</td></tr><tr><td>best_val_loss</td><td>0.7855</td></tr><tr><td>epoch</td><td>13</td></tr><tr><td>loss</td><td>0.04153</td></tr><tr><td>lr</td><td>0.0008</td></tr><tr><td>val_accuracy</td><td>0.725</td></tr><tr><td>val_loss</td><td>1.94034</td></tr></table><br/></div></div>"
      ],
      "text/plain": [
       "<IPython.core.display.HTML object>"
      ]
     },
     "metadata": {},
     "output_type": "display_data"
    },
    {
     "data": {
      "text/html": [
       " View run <strong style=\"color:#cdcd00\">dark-capybara-5</strong> at: <a href='https://wandb.ai/neural-netwok-nn/neural-network-assgiment2/runs/v5lq1n7h' target=\"_blank\">https://wandb.ai/neural-netwok-nn/neural-network-assgiment2/runs/v5lq1n7h</a><br/>Synced 5 W&B file(s), 1 media file(s), 20 artifact file(s) and 1 other file(s)"
      ],
      "text/plain": [
       "<IPython.core.display.HTML object>"
      ]
     },
     "metadata": {},
     "output_type": "display_data"
    },
    {
     "data": {
      "text/html": [
       "Find logs at: <code>.\\wandb\\run-20230412_145838-v5lq1n7h\\logs</code>"
      ],
      "text/plain": [
       "<IPython.core.display.HTML object>"
      ]
     },
     "metadata": {},
     "output_type": "display_data"
    },
    {
     "data": {
      "text/html": [
       "Successfully finished last run (ID:v5lq1n7h). Initializing new run:<br/>"
      ],
      "text/plain": [
       "<IPython.core.display.HTML object>"
      ]
     },
     "metadata": {},
     "output_type": "display_data"
    },
    {
     "data": {
      "application/vnd.jupyter.widget-view+json": {
       "model_id": "93b2d0ca29c94bba86c5f89f753f08da",
       "version_major": 2,
       "version_minor": 0
      },
      "text/plain": [
       "VBox(children=(Label(value='Waiting for wandb.init()...\\r'), FloatProgress(value=0.01693333333338766, max=1.0)…"
      ]
     },
     "metadata": {},
     "output_type": "display_data"
    },
    {
     "data": {
      "text/html": [
       "wandb version 0.14.2 is available!  To upgrade, please run:\n",
       " $ pip install wandb --upgrade"
      ],
      "text/plain": [
       "<IPython.core.display.HTML object>"
      ]
     },
     "metadata": {},
     "output_type": "display_data"
    },
    {
     "data": {
      "text/html": [
       "Tracking run with wandb version 0.14.0"
      ],
      "text/plain": [
       "<IPython.core.display.HTML object>"
      ]
     },
     "metadata": {},
     "output_type": "display_data"
    },
    {
     "data": {
      "text/html": [
       "Run data is saved locally in <code>D:\\10.semester\\NN\\neural-networks\\2.zadanie\\src\\wandb\\run-20230412_151222-fp6gs1t5</code>"
      ],
      "text/plain": [
       "<IPython.core.display.HTML object>"
      ]
     },
     "metadata": {},
     "output_type": "display_data"
    },
    {
     "data": {
      "text/html": [
       "Syncing run <strong><a href='https://wandb.ai/neural-netwok-nn/neural-network-assgiment2/runs/fp6gs1t5' target=\"_blank\">fluent-fire-6</a></strong> to <a href='https://wandb.ai/neural-netwok-nn/neural-network-assgiment2' target=\"_blank\">Weights & Biases</a> (<a href='https://wandb.me/run' target=\"_blank\">docs</a>)<br/>"
      ],
      "text/plain": [
       "<IPython.core.display.HTML object>"
      ]
     },
     "metadata": {},
     "output_type": "display_data"
    },
    {
     "data": {
      "text/html": [
       " View project at <a href='https://wandb.ai/neural-netwok-nn/neural-network-assgiment2' target=\"_blank\">https://wandb.ai/neural-netwok-nn/neural-network-assgiment2</a>"
      ],
      "text/plain": [
       "<IPython.core.display.HTML object>"
      ]
     },
     "metadata": {},
     "output_type": "display_data"
    },
    {
     "data": {
      "text/html": [
       " View run at <a href='https://wandb.ai/neural-netwok-nn/neural-network-assgiment2/runs/fp6gs1t5' target=\"_blank\">https://wandb.ai/neural-netwok-nn/neural-network-assgiment2/runs/fp6gs1t5</a>"
      ],
      "text/plain": [
       "<IPython.core.display.HTML object>"
      ]
     },
     "metadata": {},
     "output_type": "display_data"
    },
    {
     "name": "stdout",
     "output_type": "stream",
     "text": [
      "Epoch 1/20\n",
      "1561/1563 [============================>.] - ETA: 0s - loss: 1.3036 - accuracy: 0.5559"
     ]
    },
    {
     "name": "stderr",
     "output_type": "stream",
     "text": [
      "WARNING:absl:Found untraced functions such as _jit_compiled_convolution_op, _jit_compiled_convolution_op, _update_step_xla while saving (showing 3 of 3). These functions will not be directly callable after loading.\n"
     ]
    },
    {
     "name": "stdout",
     "output_type": "stream",
     "text": [
      "INFO:tensorflow:Assets written to: D:\\10.semester\\NN\\neural-networks\\2.zadanie\\src\\wandb\\run-20230412_151222-fp6gs1t5\\files\\model-best\\assets\n"
     ]
    },
    {
     "name": "stderr",
     "output_type": "stream",
     "text": [
      "INFO:tensorflow:Assets written to: D:\\10.semester\\NN\\neural-networks\\2.zadanie\\src\\wandb\\run-20230412_151222-fp6gs1t5\\files\\model-best\\assets\n",
      "\u001b[34m\u001b[1mwandb\u001b[0m: Adding directory to artifact (D:\\10.semester\\NN\\neural-networks\\2.zadanie\\src\\wandb\\run-20230412_151222-fp6gs1t5\\files\\model-best)... Done. 0.0s\n"
     ]
    },
    {
     "name": "stdout",
     "output_type": "stream",
     "text": [
      "1563/1563 [==============================] - 50s 31ms/step - loss: 1.3035 - accuracy: 0.5559 - val_loss: 1.0962 - val_accuracy: 0.6108 - lr: 0.0010\n",
      "Epoch 2/20\n",
      "1563/1563 [==============================] - 46s 30ms/step - loss: 0.9113 - accuracy: 0.6812 - val_loss: 1.2485 - val_accuracy: 0.5844 - lr: 0.0010\n",
      "Epoch 3/20\n",
      "1561/1563 [============================>.] - ETA: 0s - loss: 0.7403 - accuracy: 0.7407"
     ]
    },
    {
     "name": "stderr",
     "output_type": "stream",
     "text": [
      "WARNING:absl:Found untraced functions such as _jit_compiled_convolution_op, _jit_compiled_convolution_op, _update_step_xla while saving (showing 3 of 3). These functions will not be directly callable after loading.\n"
     ]
    },
    {
     "name": "stdout",
     "output_type": "stream",
     "text": [
      "INFO:tensorflow:Assets written to: D:\\10.semester\\NN\\neural-networks\\2.zadanie\\src\\wandb\\run-20230412_151222-fp6gs1t5\\files\\model-best\\assets\n"
     ]
    },
    {
     "name": "stderr",
     "output_type": "stream",
     "text": [
      "INFO:tensorflow:Assets written to: D:\\10.semester\\NN\\neural-networks\\2.zadanie\\src\\wandb\\run-20230412_151222-fp6gs1t5\\files\\model-best\\assets\n",
      "\u001b[34m\u001b[1mwandb\u001b[0m: Adding directory to artifact (D:\\10.semester\\NN\\neural-networks\\2.zadanie\\src\\wandb\\run-20230412_151222-fp6gs1t5\\files\\model-best)... Done. 0.0s\n"
     ]
    },
    {
     "name": "stdout",
     "output_type": "stream",
     "text": [
      "1563/1563 [==============================] - 49s 31ms/step - loss: 0.7405 - accuracy: 0.7407 - val_loss: 0.9381 - val_accuracy: 0.6798 - lr: 0.0010\n",
      "Epoch 4/20\n",
      "1563/1563 [==============================] - 47s 30ms/step - loss: 0.5998 - accuracy: 0.7900 - val_loss: 1.1117 - val_accuracy: 0.6452 - lr: 0.0010\n",
      "Epoch 5/20\n",
      "1563/1563 [==============================] - 46s 30ms/step - loss: 0.4760 - accuracy: 0.8331 - val_loss: 1.3296 - val_accuracy: 0.6126 - lr: 0.0010\n",
      "Epoch 6/20\n",
      "1563/1563 [==============================] - 46s 30ms/step - loss: 0.3744 - accuracy: 0.8703 - val_loss: 1.1119 - val_accuracy: 0.6786 - lr: 0.0010\n",
      "Epoch 7/20\n",
      "1563/1563 [==============================] - 46s 30ms/step - loss: 0.2958 - accuracy: 0.8970 - val_loss: 1.1584 - val_accuracy: 0.6754 - lr: 0.0010\n",
      "Epoch 8/20\n",
      "1563/1563 [==============================] - 47s 30ms/step - loss: 0.2476 - accuracy: 0.9138 - val_loss: 1.8087 - val_accuracy: 0.5876 - lr: 0.0010\n",
      "Epoch 9/20\n",
      "1563/1563 [==============================] - 48s 31ms/step - loss: 0.1661 - accuracy: 0.9416 - val_loss: 1.5194 - val_accuracy: 0.6552 - lr: 8.0000e-04\n",
      "Epoch 10/20\n",
      "1563/1563 [==============================] - 46s 30ms/step - loss: 0.1335 - accuracy: 0.9551 - val_loss: 1.4017 - val_accuracy: 0.6798 - lr: 8.0000e-04\n",
      "Epoch 11/20\n",
      "1563/1563 [==============================] - 46s 30ms/step - loss: 0.1255 - accuracy: 0.9573 - val_loss: 1.8833 - val_accuracy: 0.6328 - lr: 8.0000e-04\n",
      "Epoch 12/20\n",
      "1563/1563 [==============================] - 46s 30ms/step - loss: 0.1099 - accuracy: 0.9627 - val_loss: 1.3337 - val_accuracy: 0.6946 - lr: 8.0000e-04\n",
      "Epoch 13/20\n",
      "1563/1563 [==============================] - 46s 30ms/step - loss: 0.1082 - accuracy: 0.9618 - val_loss: 1.4607 - val_accuracy: 0.6906 - lr: 8.0000e-04\n",
      "157/157 - 1s - loss: 1.3842 - accuracy: 0.7074 - 1s/epoch - 7ms/step\n",
      "Test accuracy: 0.7074000239372253\n",
      "Test loss: 1.3841862678527832\n"
     ]
    }
   ],
   "source": [
    "wandb.init(project=\"neural-network-assgiment2\")\n",
    "wandb.run.name = \"Pokus 4\"\n",
    "config = wandb.config\n",
    "config.learning_rate = 0.001\n",
    "config.batch_size = 32\n",
    "config.epochs = 20\n",
    "\n",
    "\n",
    "model = keras.Sequential([\n",
    "    layers.Conv2D(32, kernel_size=(3, 3), activation='relu', input_shape=(32, 32, 3)),\n",
    "    layers.BatchNormalization(),\n",
    "    layers.MaxPooling2D(pool_size=(2, 2)),\n",
    "    layers.BatchNormalization(),\n",
    "    layers.Conv2D(64, kernel_size=(3, 3), activation='relu'),\n",
    "    layers.BatchNormalization(),\n",
    "    layers.MaxPooling2D(pool_size=(2, 2)),\n",
    "    layers.BatchNormalization(),\n",
    "    layers.Flatten(),\n",
    "    layers.BatchNormalization(),\n",
    "    layers.Dense(512, activation='relu'),\n",
    "    layers.BatchNormalization(),\n",
    "    layers.Dense(10, activation='softmax')\n",
    "])\n",
    "\n",
    "optimizer = tf.keras.optimizers.Adam(learning_rate=config.learning_rate)\n",
    "\n",
    "model.compile(optimizer=optimizer, loss='categorical_crossentropy', metrics=['accuracy'])\n",
    "\n",
    "early_stop = tf.keras.callbacks.EarlyStopping(monitor='val_loss', patience=10)\n",
    "lr_scheduler = tf.keras.callbacks.ReduceLROnPlateau(monitor='val_loss', factor=0.8, patience=5, min_lr=0.000001)\n",
    "\n",
    "history = model.fit(X_train, y_train, epochs=config.epochs, batch_size=config.batch_size, validation_data=(X_val, y_val), callbacks=[lr_scheduler,early_stop,WandbCallback()])\n",
    "\n",
    "# Evaluate the model\n",
    "val_loss, val_acc = model.evaluate(X_test, y_test, verbose=2)\n",
    "print('Test accuracy:', val_acc)\n",
    "print('Test loss:', val_loss)\n",
    "\n",
    "# Evaluate the model on the val set and log the results\n",
    "wandb.log({'Test loss': val_loss, 'Test accuracy': val_acc})"
   ]
  },
  {
   "cell_type": "code",
   "execution_count": 25,
   "id": "60dc34f2",
   "metadata": {},
   "outputs": [
    {
     "name": "stdout",
     "output_type": "stream",
     "text": [
      "Model: \"sequential_2\"\n",
      "_________________________________________________________________\n",
      " Layer (type)                Output Shape              Param #   \n",
      "=================================================================\n",
      " conv2d_14 (Conv2D)          (None, 30, 30, 32)        896       \n",
      "                                                                 \n",
      " batch_normalization_4 (Batc  (None, 30, 30, 32)       128       \n",
      " hNormalization)                                                 \n",
      "                                                                 \n",
      " max_pooling2d_4 (MaxPooling  (None, 15, 15, 32)       0         \n",
      " 2D)                                                             \n",
      "                                                                 \n",
      " batch_normalization_5 (Batc  (None, 15, 15, 32)       128       \n",
      " hNormalization)                                                 \n",
      "                                                                 \n",
      " conv2d_15 (Conv2D)          (None, 13, 13, 64)        18496     \n",
      "                                                                 \n",
      " batch_normalization_6 (Batc  (None, 13, 13, 64)       256       \n",
      " hNormalization)                                                 \n",
      "                                                                 \n",
      " max_pooling2d_5 (MaxPooling  (None, 6, 6, 64)         0         \n",
      " 2D)                                                             \n",
      "                                                                 \n",
      " batch_normalization_7 (Batc  (None, 6, 6, 64)         256       \n",
      " hNormalization)                                                 \n",
      "                                                                 \n",
      " flatten_2 (Flatten)         (None, 2304)              0         \n",
      "                                                                 \n",
      " batch_normalization_8 (Batc  (None, 2304)             9216      \n",
      " hNormalization)                                                 \n",
      "                                                                 \n",
      " dense_5 (Dense)             (None, 512)               1180160   \n",
      "                                                                 \n",
      " batch_normalization_9 (Batc  (None, 512)              2048      \n",
      " hNormalization)                                                 \n",
      "                                                                 \n",
      " dense_6 (Dense)             (None, 10)                5130      \n",
      "                                                                 \n",
      "=================================================================\n",
      "Total params: 1,216,714\n",
      "Trainable params: 1,210,698\n",
      "Non-trainable params: 6,016\n",
      "_________________________________________________________________\n"
     ]
    }
   ],
   "source": [
    "model.summary()"
   ]
  },
  {
   "cell_type": "code",
   "execution_count": 26,
   "id": "0c4b42a2",
   "metadata": {},
   "outputs": [
    {
     "data": {
      "image/png": "[encoded data removed]",
      "text/plain": [
       "<Figure size 640x480 with 1 Axes>"
      ]
     },
     "metadata": {},
     "output_type": "display_data"
    }
   ],
   "source": [
    "plt.plot(history.history['loss'], label='Training Loss')\n",
    "plt.plot(history.history['val_loss'], label='Validation Loss')\n",
    "plt.plot(history.history['accuracy'], label='Training Accuracy')\n",
    "plt.plot(history.history['val_accuracy'], label='Validation Accuracy')\n",
    "\n",
    "plt.xlabel('Epoch')\n",
    "plt.ylabel('Loss / Accuracy')\n",
    "plt.legend()\n",
    "plt.show()"
   ]
  },
  {
   "cell_type": "markdown",
   "id": "33c5ad53",
   "metadata": {},
   "source": [
    "## Pokus 5\n",
    "\n",
    "- viac konvolucnych vrstiev za sebou\n",
    "- dropout\n",
    "- zvyseny kernel_size na poslednych konvolucnych vrstvach\n",
    "- viac dense vrstiev\n",
    "- zmena aktivacnej funkcue na LeakyReLU\n",
    "\n",
    "__Test accuracy: 0.8086__\\\n",
    "__Test loss: 0.5782__"
   ]
  },
  {
   "cell_type": "code",
   "execution_count": 27,
   "id": "4453987d",
   "metadata": {},
   "outputs": [
    {
     "data": {
      "text/html": [
       "Finishing last run (ID:fp6gs1t5) before initializing another..."
      ],
      "text/plain": [
       "<IPython.core.display.HTML object>"
      ]
     },
     "metadata": {},
     "output_type": "display_data"
    },
    {
     "data": {
      "text/html": [
       "Waiting for W&B process to finish... <strong style=\"color:green\">(success).</strong>"
      ],
      "text/plain": [
       "<IPython.core.display.HTML object>"
      ]
     },
     "metadata": {},
     "output_type": "display_data"
    },
    {
     "data": {
      "text/html": [
       "<style>\n",
       "    table.wandb td:nth-child(1) { padding: 0 10px; text-align: left ; width: auto;} td:nth-child(2) {text-align: left ; width: 100%}\n",
       "    .wandb-row { display: flex; flex-direction: row; flex-wrap: wrap; justify-content: flex-start; width: 100% }\n",
       "    .wandb-col { display: flex; flex-direction: column; flex-basis: 100%; flex: 1; padding: 10px; }\n",
       "    </style>\n",
       "<div class=\"wandb-row\"><div class=\"wandb-col\"><h3>Run history:</h3><br/><table class=\"wandb\"><tr><td>Test accuracy</td><td>▁</td></tr><tr><td>Test loss</td><td>▁</td></tr><tr><td>accuracy</td><td>▁▃▄▅▆▆▇▇█████</td></tr><tr><td>epoch</td><td>▁▂▂▃▃▄▅▅▆▆▇▇█</td></tr><tr><td>loss</td><td>█▆▅▄▃▃▂▂▁▁▁▁▁</td></tr><tr><td>lr</td><td>████████▁▁▁▁▁</td></tr><tr><td>val_accuracy</td><td>▃▁▇▅▃▇▇▁▅▇▄██</td></tr><tr><td>val_loss</td><td>▂▃▁▂▄▂▃▇▅▄█▄▅</td></tr></table><br/></div><div class=\"wandb-col\"><h3>Run summary:</h3><br/><table class=\"wandb\"><tr><td>Test accuracy</td><td>0.7074</td></tr><tr><td>Test loss</td><td>1.38419</td></tr><tr><td>accuracy</td><td>0.96182</td></tr><tr><td>best_epoch</td><td>2</td></tr><tr><td>best_val_loss</td><td>0.93809</td></tr><tr><td>epoch</td><td>12</td></tr><tr><td>loss</td><td>0.10819</td></tr><tr><td>lr</td><td>0.0008</td></tr><tr><td>val_accuracy</td><td>0.6906</td></tr><tr><td>val_loss</td><td>1.46071</td></tr></table><br/></div></div>"
      ],
      "text/plain": [
       "<IPython.core.display.HTML object>"
      ]
     },
     "metadata": {},
     "output_type": "display_data"
    },
    {
     "data": {
      "text/html": [
       " View run <strong style=\"color:#cdcd00\">fluent-fire-6</strong> at: <a href='https://wandb.ai/neural-netwok-nn/neural-network-assgiment2/runs/fp6gs1t5' target=\"_blank\">https://wandb.ai/neural-netwok-nn/neural-network-assgiment2/runs/fp6gs1t5</a><br/>Synced 5 W&B file(s), 1 media file(s), 10 artifact file(s) and 1 other file(s)"
      ],
      "text/plain": [
       "<IPython.core.display.HTML object>"
      ]
     },
     "metadata": {},
     "output_type": "display_data"
    },
    {
     "data": {
      "text/html": [
       "Find logs at: <code>.\\wandb\\run-20230412_151222-fp6gs1t5\\logs</code>"
      ],
      "text/plain": [
       "<IPython.core.display.HTML object>"
      ]
     },
     "metadata": {},
     "output_type": "display_data"
    },
    {
     "data": {
      "text/html": [
       "Successfully finished last run (ID:fp6gs1t5). Initializing new run:<br/>"
      ],
      "text/plain": [
       "<IPython.core.display.HTML object>"
      ]
     },
     "metadata": {},
     "output_type": "display_data"
    },
    {
     "data": {
      "application/vnd.jupyter.widget-view+json": {
       "model_id": "92052258285c4262be18a346c09ccc5b",
       "version_major": 2,
       "version_minor": 0
      },
      "text/plain": [
       "VBox(children=(Label(value='Waiting for wandb.init()...\\r'), FloatProgress(value=0.016666666666666666, max=1.0…"
      ]
     },
     "metadata": {},
     "output_type": "display_data"
    },
    {
     "data": {
      "text/html": [
       "wandb version 0.14.2 is available!  To upgrade, please run:\n",
       " $ pip install wandb --upgrade"
      ],
      "text/plain": [
       "<IPython.core.display.HTML object>"
      ]
     },
     "metadata": {},
     "output_type": "display_data"
    },
    {
     "data": {
      "text/html": [
       "Tracking run with wandb version 0.14.0"
      ],
      "text/plain": [
       "<IPython.core.display.HTML object>"
      ]
     },
     "metadata": {},
     "output_type": "display_data"
    },
    {
     "data": {
      "text/html": [
       "Run data is saved locally in <code>D:\\10.semester\\NN\\neural-networks\\2.zadanie\\src\\wandb\\run-20230412_152250-crjiahm9</code>"
      ],
      "text/plain": [
       "<IPython.core.display.HTML object>"
      ]
     },
     "metadata": {},
     "output_type": "display_data"
    },
    {
     "data": {
      "text/html": [
       "Syncing run <strong><a href='https://wandb.ai/neural-netwok-nn/neural-network-assgiment2/runs/crjiahm9' target=\"_blank\">vague-darkness-7</a></strong> to <a href='https://wandb.ai/neural-netwok-nn/neural-network-assgiment2' target=\"_blank\">Weights & Biases</a> (<a href='https://wandb.me/run' target=\"_blank\">docs</a>)<br/>"
      ],
      "text/plain": [
       "<IPython.core.display.HTML object>"
      ]
     },
     "metadata": {},
     "output_type": "display_data"
    },
    {
     "data": {
      "text/html": [
       " View project at <a href='https://wandb.ai/neural-netwok-nn/neural-network-assgiment2' target=\"_blank\">https://wandb.ai/neural-netwok-nn/neural-network-assgiment2</a>"
      ],
      "text/plain": [
       "<IPython.core.display.HTML object>"
      ]
     },
     "metadata": {},
     "output_type": "display_data"
    },
    {
     "data": {
      "text/html": [
       " View run at <a href='https://wandb.ai/neural-netwok-nn/neural-network-assgiment2/runs/crjiahm9' target=\"_blank\">https://wandb.ai/neural-netwok-nn/neural-network-assgiment2/runs/crjiahm9</a>"
      ],
      "text/plain": [
       "<IPython.core.display.HTML object>"
      ]
     },
     "metadata": {},
     "output_type": "display_data"
    },
    {
     "name": "stdout",
     "output_type": "stream",
     "text": [
      "Epoch 1/20\n",
      "1562/1563 [============================>.] - ETA: 0s - loss: 1.5435 - accuracy: 0.4637"
     ]
    },
    {
     "name": "stderr",
     "output_type": "stream",
     "text": [
      "WARNING:absl:Found untraced functions such as _jit_compiled_convolution_op, _jit_compiled_convolution_op, _jit_compiled_convolution_op, _jit_compiled_convolution_op, _jit_compiled_convolution_op while saving (showing 5 of 20). These functions will not be directly callable after loading.\n"
     ]
    },
    {
     "name": "stdout",
     "output_type": "stream",
     "text": [
      "INFO:tensorflow:Assets written to: D:\\10.semester\\NN\\neural-networks\\2.zadanie\\src\\wandb\\run-20230412_152250-crjiahm9\\files\\model-best\\assets\n"
     ]
    },
    {
     "name": "stderr",
     "output_type": "stream",
     "text": [
      "INFO:tensorflow:Assets written to: D:\\10.semester\\NN\\neural-networks\\2.zadanie\\src\\wandb\\run-20230412_152250-crjiahm9\\files\\model-best\\assets\n",
      "\u001b[34m\u001b[1mwandb\u001b[0m: Adding directory to artifact (D:\\10.semester\\NN\\neural-networks\\2.zadanie\\src\\wandb\\run-20230412_152250-crjiahm9\\files\\model-best)... Done. 0.0s\n"
     ]
    },
    {
     "name": "stdout",
     "output_type": "stream",
     "text": [
      "1563/1563 [==============================] - 122s 77ms/step - loss: 1.5434 - accuracy: 0.4637 - val_loss: 1.2048 - val_accuracy: 0.5626 - lr: 0.0010\n",
      "Epoch 2/20\n",
      "1562/1563 [============================>.] - ETA: 0s - loss: 1.1141 - accuracy: 0.6074"
     ]
    },
    {
     "name": "stderr",
     "output_type": "stream",
     "text": [
      "WARNING:absl:Found untraced functions such as _jit_compiled_convolution_op, _jit_compiled_convolution_op, _jit_compiled_convolution_op, _jit_compiled_convolution_op, _jit_compiled_convolution_op while saving (showing 5 of 20). These functions will not be directly callable after loading.\n"
     ]
    },
    {
     "name": "stdout",
     "output_type": "stream",
     "text": [
      "INFO:tensorflow:Assets written to: D:\\10.semester\\NN\\neural-networks\\2.zadanie\\src\\wandb\\run-20230412_152250-crjiahm9\\files\\model-best\\assets\n"
     ]
    },
    {
     "name": "stderr",
     "output_type": "stream",
     "text": [
      "INFO:tensorflow:Assets written to: D:\\10.semester\\NN\\neural-networks\\2.zadanie\\src\\wandb\\run-20230412_152250-crjiahm9\\files\\model-best\\assets\n",
      "\u001b[34m\u001b[1mwandb\u001b[0m: Adding directory to artifact (D:\\10.semester\\NN\\neural-networks\\2.zadanie\\src\\wandb\\run-20230412_152250-crjiahm9\\files\\model-best)... Done. 0.0s\n"
     ]
    },
    {
     "name": "stdout",
     "output_type": "stream",
     "text": [
      "1563/1563 [==============================] - 130s 83ms/step - loss: 1.1140 - accuracy: 0.6074 - val_loss: 0.9820 - val_accuracy: 0.6462 - lr: 0.0010\n",
      "Epoch 3/20\n",
      " 266/1563 [====>.........................] - ETA: 1:40 - loss: 1.0168 - accuracy: 0.6472"
     ]
    }
   ],
   "source": [
    "wandb.init(project=\"neural-network-assgiment2\")\n",
    "wandb.run.name = \"Pokus 5\"\n",
    "config = wandb.config\n",
    "config.learning_rate = 0.001\n",
    "config.batch_size = 32\n",
    "config.epochs = 20\n",
    "\n",
    "\n",
    "model = keras.Sequential([\n",
    "    layers.Conv2D(32, kernel_size=(3, 3), activation='LeakyReLU', input_shape=(32, 32, 3)),\n",
    "    layers.Conv2D(32, kernel_size=(3, 3), activation='LeakyReLU'),\n",
    "    layers.BatchNormalization(),\n",
    "    \n",
    "    layers.Conv2D(64, kernel_size=(3, 3), activation='LeakyReLU'),\n",
    "    layers.MaxPooling2D(pool_size=(2, 2)),\n",
    "    layers.BatchNormalization(),\n",
    "    layers.Dropout(0.5),\n",
    "    \n",
    "    layers.Conv2D(128, kernel_size=(5, 5), activation='LeakyReLU'),\n",
    "    layers.Conv2D(128, kernel_size=(5, 5), strides=(2, 2), activation='LeakyReLU'),\n",
    "    layers.BatchNormalization(),\n",
    "    \n",
    "    layers.Flatten(),\n",
    "    layers.Dense(256, activation='LeakyReLU'),\n",
    "    layers.Dropout(0.5),\n",
    "    layers.Dense(128, activation='LeakyReLU'),\n",
    "    layers.Dense(10, activation='softmax')\n",
    "])\n",
    "\n",
    "optimizer = tf.keras.optimizers.Adam(learning_rate=config.learning_rate)\n",
    "\n",
    "model.compile(optimizer=optimizer, loss='categorical_crossentropy', metrics=['accuracy'])\n",
    "\n",
    "early_stop = tf.keras.callbacks.EarlyStopping(monitor='val_loss', patience=10)\n",
    "lr_scheduler = tf.keras.callbacks.ReduceLROnPlateau(monitor='val_loss', factor=0.8, patience=5, min_lr=0.000001)\n",
    "\n",
    "history = model.fit(X_train, y_train, epochs=config.epochs, batch_size=config.batch_size, validation_data=(X_val, y_val), callbacks=[lr_scheduler,early_stop,WandbCallback()])\n",
    "\n",
    "# Evaluate the model\n",
    "val_loss, val_acc = model.evaluate(X_test, y_test, verbose=2)\n",
    "print('Test accuracy:', val_acc)\n",
    "print('Test loss:', val_loss)\n",
    "\n",
    "# Evaluate the model on the val set and log the results\n",
    "wandb.log({'Test loss': val_loss, 'Test accuracy': val_acc})"
   ]
  },
  {
   "cell_type": "code",
   "execution_count": 18,
   "id": "d5e867fa",
   "metadata": {},
   "outputs": [
    {
     "name": "stdout",
     "output_type": "stream",
     "text": [
      "Model: \"sequential_1\"\n",
      "_________________________________________________________________\n",
      " Layer (type)                Output Shape              Param #   \n",
      "=================================================================\n",
      " conv2d_5 (Conv2D)           (None, 30, 30, 32)        896       \n",
      "                                                                 \n",
      " conv2d_6 (Conv2D)           (None, 28, 28, 32)        9248      \n",
      "                                                                 \n",
      " batch_normalization_3 (Batc  (None, 28, 28, 32)       128       \n",
      " hNormalization)                                                 \n",
      "                                                                 \n",
      " conv2d_7 (Conv2D)           (None, 26, 26, 64)        18496     \n",
      "                                                                 \n",
      " max_pooling2d_1 (MaxPooling  (None, 13, 13, 64)       0         \n",
      " 2D)                                                             \n",
      "                                                                 \n",
      " batch_normalization_4 (Batc  (None, 13, 13, 64)       256       \n",
      " hNormalization)                                                 \n",
      "                                                                 \n",
      " dropout_2 (Dropout)         (None, 13, 13, 64)        0         \n",
      "                                                                 \n",
      " conv2d_8 (Conv2D)           (None, 9, 9, 128)         204928    \n",
      "                                                                 \n",
      " conv2d_9 (Conv2D)           (None, 3, 3, 128)         409728    \n",
      "                                                                 \n",
      " batch_normalization_5 (Batc  (None, 3, 3, 128)        512       \n",
      " hNormalization)                                                 \n",
      "                                                                 \n",
      " flatten_1 (Flatten)         (None, 1152)              0         \n",
      "                                                                 \n",
      " dense_3 (Dense)             (None, 256)               295168    \n",
      "                                                                 \n",
      " dropout_3 (Dropout)         (None, 256)               0         \n",
      "                                                                 \n",
      " dense_4 (Dense)             (None, 128)               32896     \n",
      "                                                                 \n",
      " dense_5 (Dense)             (None, 10)                1290      \n",
      "                                                                 \n",
      "=================================================================\n",
      "Total params: 973,546\n",
      "Trainable params: 973,098\n",
      "Non-trainable params: 448\n",
      "_________________________________________________________________\n"
     ]
    }
   ],
   "source": [
    "model.summary()"
   ]
  },
  {
   "cell_type": "code",
   "execution_count": 29,
   "id": "c728eb3a",
   "metadata": {},
   "outputs": [],
   "source": [
    "plt.plot(history.history['loss'], label='Training Loss')\n",
    "plt.plot(history.history['val_loss'], label='Validation Loss')\n",
    "plt.plot(history.history['accuracy'], label='Training Accuracy')\n",
    "plt.plot(history.history['val_accuracy'], label='Validation Accuracy')\n",
    "\n",
    "plt.xlabel('Epoch')\n",
    "plt.ylabel('Loss / Accuracy')\n",
    "plt.legend()\n",
    "plt.show()"
   ]
  },
  {
   "cell_type": "markdown",
   "id": "be586e04",
   "metadata": {},
   "source": [
    "## Pokus 6\n",
    "\n",
    "- pridane rezidualne blocky\n",
    "\n",
    "__Test accuracy: 0.8444__\\\n",
    "__Test loss: 0.5287__\n",
    "\n",
    "- viac epoch\n",
    "\n",
    "__Test accuracy: 0.8422__\\\n",
    "__Test loss: 0.5959__"
   ]
  },
  {
   "cell_type": "code",
   "execution_count": 15,
   "id": "effb21b1",
   "metadata": {
    "scrolled": true
   },
   "outputs": [
    {
     "name": "stderr",
     "output_type": "stream",
     "text": [
      "\u001b[34m\u001b[1mwandb\u001b[0m: Currently logged in as: \u001b[33mandrejbelak0\u001b[0m (\u001b[33mneural-netwok-nn\u001b[0m). Use \u001b[1m`wandb login --relogin`\u001b[0m to force relogin\n"
     ]
    },
    {
     "data": {
      "text/html": [
       "wandb version 0.14.2 is available!  To upgrade, please run:\n",
       " $ pip install wandb --upgrade"
      ],
      "text/plain": [
       "<IPython.core.display.HTML object>"
      ]
     },
     "metadata": {},
     "output_type": "display_data"
    },
    {
     "data": {
      "text/html": [
       "Tracking run with wandb version 0.14.0"
      ],
      "text/plain": [
       "<IPython.core.display.HTML object>"
      ]
     },
     "metadata": {},
     "output_type": "display_data"
    },
    {
     "data": {
      "text/html": [
       "Run data is saved locally in <code>D:\\10.semester\\NN\\neural-networks\\2.zadanie\\src\\wandb\\run-20230413_092104-ur16zc7d</code>"
      ],
      "text/plain": [
       "<IPython.core.display.HTML object>"
      ]
     },
     "metadata": {},
     "output_type": "display_data"
    },
    {
     "data": {
      "text/html": [
       "Syncing run <strong><a href='https://wandb.ai/neural-netwok-nn/neural-network-assgiment2/runs/ur16zc7d' target=\"_blank\">fine-cloud-20</a></strong> to <a href='https://wandb.ai/neural-netwok-nn/neural-network-assgiment2' target=\"_blank\">Weights & Biases</a> (<a href='https://wandb.me/run' target=\"_blank\">docs</a>)<br/>"
      ],
      "text/plain": [
       "<IPython.core.display.HTML object>"
      ]
     },
     "metadata": {},
     "output_type": "display_data"
    },
    {
     "data": {
      "text/html": [
       " View project at <a href='https://wandb.ai/neural-netwok-nn/neural-network-assgiment2' target=\"_blank\">https://wandb.ai/neural-netwok-nn/neural-network-assgiment2</a>"
      ],
      "text/plain": [
       "<IPython.core.display.HTML object>"
      ]
     },
     "metadata": {},
     "output_type": "display_data"
    },
    {
     "data": {
      "text/html": [
       " View run at <a href='https://wandb.ai/neural-netwok-nn/neural-network-assgiment2/runs/ur16zc7d' target=\"_blank\">https://wandb.ai/neural-netwok-nn/neural-network-assgiment2/runs/ur16zc7d</a>"
      ],
      "text/plain": [
       "<IPython.core.display.HTML object>"
      ]
     },
     "metadata": {},
     "output_type": "display_data"
    },
    {
     "name": "stderr",
     "output_type": "stream",
     "text": [
      "\u001b[34m\u001b[1mwandb\u001b[0m: \u001b[33mWARNING\u001b[0m The save_model argument by default saves the model in the HDF5 format that cannot save custom objects like subclassed models and custom layers. This behavior will be deprecated in a future release in favor of the SavedModel format. Meanwhile, the HDF5 model is saved as W&B files and the SavedModel as W&B Artifacts.\n"
     ]
    },
    {
     "name": "stdout",
     "output_type": "stream",
     "text": [
      "Epoch 1/20\n",
      "251/782 [========>.....................] - ETA: 2:55 - loss: 1.9637 - accuracy: 0.3390"
     ]
    },
    {
     "ename": "KeyboardInterrupt",
     "evalue": "",
     "output_type": "error",
     "traceback": [
      "\u001b[1;31m---------------------------------------------------------------------------\u001b[0m",
      "\u001b[1;31mKeyboardInterrupt\u001b[0m                         Traceback (most recent call last)",
      "Cell \u001b[1;32mIn[15], line 53\u001b[0m\n\u001b[0;32m     50\u001b[0m early_stop \u001b[38;5;241m=\u001b[39m tf\u001b[38;5;241m.\u001b[39mkeras\u001b[38;5;241m.\u001b[39mcallbacks\u001b[38;5;241m.\u001b[39mEarlyStopping(monitor\u001b[38;5;241m=\u001b[39m\u001b[38;5;124m'\u001b[39m\u001b[38;5;124mval_loss\u001b[39m\u001b[38;5;124m'\u001b[39m, patience\u001b[38;5;241m=\u001b[39m\u001b[38;5;241m10\u001b[39m)\n\u001b[0;32m     51\u001b[0m lr_scheduler \u001b[38;5;241m=\u001b[39m tf\u001b[38;5;241m.\u001b[39mkeras\u001b[38;5;241m.\u001b[39mcallbacks\u001b[38;5;241m.\u001b[39mReduceLROnPlateau(monitor\u001b[38;5;241m=\u001b[39m\u001b[38;5;124m'\u001b[39m\u001b[38;5;124mval_loss\u001b[39m\u001b[38;5;124m'\u001b[39m, factor\u001b[38;5;241m=\u001b[39m\u001b[38;5;241m0.8\u001b[39m, patience\u001b[38;5;241m=\u001b[39m\u001b[38;5;241m5\u001b[39m, min_lr\u001b[38;5;241m=\u001b[39m\u001b[38;5;241m0.000001\u001b[39m)\n\u001b[1;32m---> 53\u001b[0m history \u001b[38;5;241m=\u001b[39m \u001b[43mmodel\u001b[49m\u001b[38;5;241;43m.\u001b[39;49m\u001b[43mfit\u001b[49m\u001b[43m(\u001b[49m\u001b[43mX_train\u001b[49m\u001b[43m,\u001b[49m\u001b[43m \u001b[49m\u001b[43my_train\u001b[49m\u001b[43m,\u001b[49m\u001b[43m \u001b[49m\u001b[43mepochs\u001b[49m\u001b[38;5;241;43m=\u001b[39;49m\u001b[43mconfig\u001b[49m\u001b[38;5;241;43m.\u001b[39;49m\u001b[43mepochs\u001b[49m\u001b[43m,\u001b[49m\u001b[43m \u001b[49m\u001b[43mbatch_size\u001b[49m\u001b[38;5;241;43m=\u001b[39;49m\u001b[43mconfig\u001b[49m\u001b[38;5;241;43m.\u001b[39;49m\u001b[43mbatch_size\u001b[49m\u001b[43m,\u001b[49m\u001b[43m \u001b[49m\u001b[43mvalidation_data\u001b[49m\u001b[38;5;241;43m=\u001b[39;49m\u001b[43m(\u001b[49m\u001b[43mX_val\u001b[49m\u001b[43m,\u001b[49m\u001b[43m \u001b[49m\u001b[43my_val\u001b[49m\u001b[43m)\u001b[49m\u001b[43m,\u001b[49m\u001b[43m \u001b[49m\u001b[43mcallbacks\u001b[49m\u001b[38;5;241;43m=\u001b[39;49m\u001b[43m[\u001b[49m\u001b[43mlr_scheduler\u001b[49m\u001b[43m,\u001b[49m\u001b[43mearly_stop\u001b[49m\u001b[43m,\u001b[49m\u001b[43mWandbCallback\u001b[49m\u001b[43m(\u001b[49m\u001b[43m)\u001b[49m\u001b[43m]\u001b[49m\u001b[43m)\u001b[49m\n\u001b[0;32m     55\u001b[0m \u001b[38;5;66;03m# Evaluate the model\u001b[39;00m\n\u001b[0;32m     56\u001b[0m val_loss, val_acc \u001b[38;5;241m=\u001b[39m model\u001b[38;5;241m.\u001b[39mevaluate(X_test, y_test, verbose\u001b[38;5;241m=\u001b[39m\u001b[38;5;241m2\u001b[39m)\n",
      "File \u001b[1;32md:\\programs\\pyhtonprograms\\bettscrapper\\venv\\lib\\site-packages\\wandb\\integration\\keras\\keras.py:174\u001b[0m, in \u001b[0;36mpatch_tf_keras.<locals>.new_v2\u001b[1;34m(*args, **kwargs)\u001b[0m\n\u001b[0;32m    172\u001b[0m     \u001b[38;5;28;01mfor\u001b[39;00m cbk \u001b[38;5;129;01min\u001b[39;00m cbks:\n\u001b[0;32m    173\u001b[0m         set_wandb_attrs(cbk, val_data)\n\u001b[1;32m--> 174\u001b[0m \u001b[38;5;28;01mreturn\u001b[39;00m old_v2(\u001b[38;5;241m*\u001b[39margs, \u001b[38;5;241m*\u001b[39m\u001b[38;5;241m*\u001b[39mkwargs)\n",
      "File \u001b[1;32md:\\programs\\pyhtonprograms\\bettscrapper\\venv\\lib\\site-packages\\wandb\\integration\\keras\\keras.py:174\u001b[0m, in \u001b[0;36mpatch_tf_keras.<locals>.new_v2\u001b[1;34m(*args, **kwargs)\u001b[0m\n\u001b[0;32m    172\u001b[0m     \u001b[38;5;28;01mfor\u001b[39;00m cbk \u001b[38;5;129;01min\u001b[39;00m cbks:\n\u001b[0;32m    173\u001b[0m         set_wandb_attrs(cbk, val_data)\n\u001b[1;32m--> 174\u001b[0m \u001b[38;5;28;01mreturn\u001b[39;00m old_v2(\u001b[38;5;241m*\u001b[39margs, \u001b[38;5;241m*\u001b[39m\u001b[38;5;241m*\u001b[39mkwargs)\n",
      "File \u001b[1;32md:\\programs\\pyhtonprograms\\bettscrapper\\venv\\lib\\site-packages\\wandb\\integration\\keras\\keras.py:174\u001b[0m, in \u001b[0;36mpatch_tf_keras.<locals>.new_v2\u001b[1;34m(*args, **kwargs)\u001b[0m\n\u001b[0;32m    172\u001b[0m     \u001b[38;5;28;01mfor\u001b[39;00m cbk \u001b[38;5;129;01min\u001b[39;00m cbks:\n\u001b[0;32m    173\u001b[0m         set_wandb_attrs(cbk, val_data)\n\u001b[1;32m--> 174\u001b[0m \u001b[38;5;28;01mreturn\u001b[39;00m old_v2(\u001b[38;5;241m*\u001b[39margs, \u001b[38;5;241m*\u001b[39m\u001b[38;5;241m*\u001b[39mkwargs)\n",
      "File \u001b[1;32md:\\programs\\pyhtonprograms\\bettscrapper\\venv\\lib\\site-packages\\keras\\utils\\traceback_utils.py:65\u001b[0m, in \u001b[0;36mfilter_traceback.<locals>.error_handler\u001b[1;34m(*args, **kwargs)\u001b[0m\n\u001b[0;32m     63\u001b[0m filtered_tb \u001b[38;5;241m=\u001b[39m \u001b[38;5;28;01mNone\u001b[39;00m\n\u001b[0;32m     64\u001b[0m \u001b[38;5;28;01mtry\u001b[39;00m:\n\u001b[1;32m---> 65\u001b[0m     \u001b[38;5;28;01mreturn\u001b[39;00m fn(\u001b[38;5;241m*\u001b[39margs, \u001b[38;5;241m*\u001b[39m\u001b[38;5;241m*\u001b[39mkwargs)\n\u001b[0;32m     66\u001b[0m \u001b[38;5;28;01mexcept\u001b[39;00m \u001b[38;5;167;01mException\u001b[39;00m \u001b[38;5;28;01mas\u001b[39;00m e:\n\u001b[0;32m     67\u001b[0m     filtered_tb \u001b[38;5;241m=\u001b[39m _process_traceback_frames(e\u001b[38;5;241m.\u001b[39m__traceback__)\n",
      "File \u001b[1;32md:\\programs\\pyhtonprograms\\bettscrapper\\venv\\lib\\site-packages\\keras\\engine\\training.py:1685\u001b[0m, in \u001b[0;36mModel.fit\u001b[1;34m(self, x, y, batch_size, epochs, verbose, callbacks, validation_split, validation_data, shuffle, class_weight, sample_weight, initial_epoch, steps_per_epoch, validation_steps, validation_batch_size, validation_freq, max_queue_size, workers, use_multiprocessing)\u001b[0m\n\u001b[0;32m   1677\u001b[0m \u001b[38;5;28;01mwith\u001b[39;00m tf\u001b[38;5;241m.\u001b[39mprofiler\u001b[38;5;241m.\u001b[39mexperimental\u001b[38;5;241m.\u001b[39mTrace(\n\u001b[0;32m   1678\u001b[0m     \u001b[38;5;124m\"\u001b[39m\u001b[38;5;124mtrain\u001b[39m\u001b[38;5;124m\"\u001b[39m,\n\u001b[0;32m   1679\u001b[0m     epoch_num\u001b[38;5;241m=\u001b[39mepoch,\n\u001b[1;32m   (...)\u001b[0m\n\u001b[0;32m   1682\u001b[0m     _r\u001b[38;5;241m=\u001b[39m\u001b[38;5;241m1\u001b[39m,\n\u001b[0;32m   1683\u001b[0m ):\n\u001b[0;32m   1684\u001b[0m     callbacks\u001b[38;5;241m.\u001b[39mon_train_batch_begin(step)\n\u001b[1;32m-> 1685\u001b[0m     tmp_logs \u001b[38;5;241m=\u001b[39m \u001b[38;5;28;43mself\u001b[39;49m\u001b[38;5;241;43m.\u001b[39;49m\u001b[43mtrain_function\u001b[49m\u001b[43m(\u001b[49m\u001b[43miterator\u001b[49m\u001b[43m)\u001b[49m\n\u001b[0;32m   1686\u001b[0m     \u001b[38;5;28;01mif\u001b[39;00m data_handler\u001b[38;5;241m.\u001b[39mshould_sync:\n\u001b[0;32m   1687\u001b[0m         context\u001b[38;5;241m.\u001b[39masync_wait()\n",
      "File \u001b[1;32md:\\programs\\pyhtonprograms\\bettscrapper\\venv\\lib\\site-packages\\tensorflow\\python\\util\\traceback_utils.py:150\u001b[0m, in \u001b[0;36mfilter_traceback.<locals>.error_handler\u001b[1;34m(*args, **kwargs)\u001b[0m\n\u001b[0;32m    148\u001b[0m filtered_tb \u001b[38;5;241m=\u001b[39m \u001b[38;5;28;01mNone\u001b[39;00m\n\u001b[0;32m    149\u001b[0m \u001b[38;5;28;01mtry\u001b[39;00m:\n\u001b[1;32m--> 150\u001b[0m   \u001b[38;5;28;01mreturn\u001b[39;00m fn(\u001b[38;5;241m*\u001b[39margs, \u001b[38;5;241m*\u001b[39m\u001b[38;5;241m*\u001b[39mkwargs)\n\u001b[0;32m    151\u001b[0m \u001b[38;5;28;01mexcept\u001b[39;00m \u001b[38;5;167;01mException\u001b[39;00m \u001b[38;5;28;01mas\u001b[39;00m e:\n\u001b[0;32m    152\u001b[0m   filtered_tb \u001b[38;5;241m=\u001b[39m _process_traceback_frames(e\u001b[38;5;241m.\u001b[39m__traceback__)\n",
      "File \u001b[1;32md:\\programs\\pyhtonprograms\\bettscrapper\\venv\\lib\\site-packages\\tensorflow\\python\\eager\\polymorphic_function\\polymorphic_function.py:894\u001b[0m, in \u001b[0;36mFunction.__call__\u001b[1;34m(self, *args, **kwds)\u001b[0m\n\u001b[0;32m    891\u001b[0m compiler \u001b[38;5;241m=\u001b[39m \u001b[38;5;124m\"\u001b[39m\u001b[38;5;124mxla\u001b[39m\u001b[38;5;124m\"\u001b[39m \u001b[38;5;28;01mif\u001b[39;00m \u001b[38;5;28mself\u001b[39m\u001b[38;5;241m.\u001b[39m_jit_compile \u001b[38;5;28;01melse\u001b[39;00m \u001b[38;5;124m\"\u001b[39m\u001b[38;5;124mnonXla\u001b[39m\u001b[38;5;124m\"\u001b[39m\n\u001b[0;32m    893\u001b[0m \u001b[38;5;28;01mwith\u001b[39;00m OptionalXlaContext(\u001b[38;5;28mself\u001b[39m\u001b[38;5;241m.\u001b[39m_jit_compile):\n\u001b[1;32m--> 894\u001b[0m   result \u001b[38;5;241m=\u001b[39m \u001b[38;5;28mself\u001b[39m\u001b[38;5;241m.\u001b[39m_call(\u001b[38;5;241m*\u001b[39margs, \u001b[38;5;241m*\u001b[39m\u001b[38;5;241m*\u001b[39mkwds)\n\u001b[0;32m    896\u001b[0m new_tracing_count \u001b[38;5;241m=\u001b[39m \u001b[38;5;28mself\u001b[39m\u001b[38;5;241m.\u001b[39mexperimental_get_tracing_count()\n\u001b[0;32m    897\u001b[0m without_tracing \u001b[38;5;241m=\u001b[39m (tracing_count \u001b[38;5;241m==\u001b[39m new_tracing_count)\n",
      "File \u001b[1;32md:\\programs\\pyhtonprograms\\bettscrapper\\venv\\lib\\site-packages\\tensorflow\\python\\eager\\polymorphic_function\\polymorphic_function.py:926\u001b[0m, in \u001b[0;36mFunction._call\u001b[1;34m(self, *args, **kwds)\u001b[0m\n\u001b[0;32m    923\u001b[0m   \u001b[38;5;28mself\u001b[39m\u001b[38;5;241m.\u001b[39m_lock\u001b[38;5;241m.\u001b[39mrelease()\n\u001b[0;32m    924\u001b[0m   \u001b[38;5;66;03m# In this case we have created variables on the first call, so we run the\u001b[39;00m\n\u001b[0;32m    925\u001b[0m   \u001b[38;5;66;03m# defunned version which is guaranteed to never create variables.\u001b[39;00m\n\u001b[1;32m--> 926\u001b[0m   \u001b[38;5;28;01mreturn\u001b[39;00m \u001b[38;5;28mself\u001b[39m\u001b[38;5;241m.\u001b[39m_no_variable_creation_fn(\u001b[38;5;241m*\u001b[39margs, \u001b[38;5;241m*\u001b[39m\u001b[38;5;241m*\u001b[39mkwds)  \u001b[38;5;66;03m# pylint: disable=not-callable\u001b[39;00m\n\u001b[0;32m    927\u001b[0m \u001b[38;5;28;01melif\u001b[39;00m \u001b[38;5;28mself\u001b[39m\u001b[38;5;241m.\u001b[39m_variable_creation_fn \u001b[38;5;129;01mis\u001b[39;00m \u001b[38;5;129;01mnot\u001b[39;00m \u001b[38;5;28;01mNone\u001b[39;00m:\n\u001b[0;32m    928\u001b[0m   \u001b[38;5;66;03m# Release the lock early so that multiple threads can perform the call\u001b[39;00m\n\u001b[0;32m    929\u001b[0m   \u001b[38;5;66;03m# in parallel.\u001b[39;00m\n\u001b[0;32m    930\u001b[0m   \u001b[38;5;28mself\u001b[39m\u001b[38;5;241m.\u001b[39m_lock\u001b[38;5;241m.\u001b[39mrelease()\n",
      "File \u001b[1;32md:\\programs\\pyhtonprograms\\bettscrapper\\venv\\lib\\site-packages\\tensorflow\\python\\eager\\polymorphic_function\\tracing_compiler.py:143\u001b[0m, in \u001b[0;36mTracingCompiler.__call__\u001b[1;34m(self, *args, **kwargs)\u001b[0m\n\u001b[0;32m    140\u001b[0m \u001b[38;5;28;01mwith\u001b[39;00m \u001b[38;5;28mself\u001b[39m\u001b[38;5;241m.\u001b[39m_lock:\n\u001b[0;32m    141\u001b[0m   (concrete_function,\n\u001b[0;32m    142\u001b[0m    filtered_flat_args) \u001b[38;5;241m=\u001b[39m \u001b[38;5;28mself\u001b[39m\u001b[38;5;241m.\u001b[39m_maybe_define_function(args, kwargs)\n\u001b[1;32m--> 143\u001b[0m \u001b[38;5;28;01mreturn\u001b[39;00m \u001b[43mconcrete_function\u001b[49m\u001b[38;5;241;43m.\u001b[39;49m\u001b[43m_call_flat\u001b[49m\u001b[43m(\u001b[49m\n\u001b[0;32m    144\u001b[0m \u001b[43m    \u001b[49m\u001b[43mfiltered_flat_args\u001b[49m\u001b[43m,\u001b[49m\u001b[43m \u001b[49m\u001b[43mcaptured_inputs\u001b[49m\u001b[38;5;241;43m=\u001b[39;49m\u001b[43mconcrete_function\u001b[49m\u001b[38;5;241;43m.\u001b[39;49m\u001b[43mcaptured_inputs\u001b[49m\u001b[43m)\u001b[49m\n",
      "File \u001b[1;32md:\\programs\\pyhtonprograms\\bettscrapper\\venv\\lib\\site-packages\\tensorflow\\python\\eager\\polymorphic_function\\monomorphic_function.py:1757\u001b[0m, in \u001b[0;36mConcreteFunction._call_flat\u001b[1;34m(self, args, captured_inputs, cancellation_manager)\u001b[0m\n\u001b[0;32m   1753\u001b[0m possible_gradient_type \u001b[38;5;241m=\u001b[39m gradients_util\u001b[38;5;241m.\u001b[39mPossibleTapeGradientTypes(args)\n\u001b[0;32m   1754\u001b[0m \u001b[38;5;28;01mif\u001b[39;00m (possible_gradient_type \u001b[38;5;241m==\u001b[39m gradients_util\u001b[38;5;241m.\u001b[39mPOSSIBLE_GRADIENT_TYPES_NONE\n\u001b[0;32m   1755\u001b[0m     \u001b[38;5;129;01mand\u001b[39;00m executing_eagerly):\n\u001b[0;32m   1756\u001b[0m   \u001b[38;5;66;03m# No tape is watching; skip to running the function.\u001b[39;00m\n\u001b[1;32m-> 1757\u001b[0m   \u001b[38;5;28;01mreturn\u001b[39;00m \u001b[38;5;28mself\u001b[39m\u001b[38;5;241m.\u001b[39m_build_call_outputs(\u001b[38;5;28;43mself\u001b[39;49m\u001b[38;5;241;43m.\u001b[39;49m\u001b[43m_inference_function\u001b[49m\u001b[38;5;241;43m.\u001b[39;49m\u001b[43mcall\u001b[49m\u001b[43m(\u001b[49m\n\u001b[0;32m   1758\u001b[0m \u001b[43m      \u001b[49m\u001b[43mctx\u001b[49m\u001b[43m,\u001b[49m\u001b[43m \u001b[49m\u001b[43margs\u001b[49m\u001b[43m,\u001b[49m\u001b[43m \u001b[49m\u001b[43mcancellation_manager\u001b[49m\u001b[38;5;241;43m=\u001b[39;49m\u001b[43mcancellation_manager\u001b[49m\u001b[43m)\u001b[49m)\n\u001b[0;32m   1759\u001b[0m forward_backward \u001b[38;5;241m=\u001b[39m \u001b[38;5;28mself\u001b[39m\u001b[38;5;241m.\u001b[39m_select_forward_and_backward_functions(\n\u001b[0;32m   1760\u001b[0m     args,\n\u001b[0;32m   1761\u001b[0m     possible_gradient_type,\n\u001b[0;32m   1762\u001b[0m     executing_eagerly)\n\u001b[0;32m   1763\u001b[0m forward_function, args_with_tangents \u001b[38;5;241m=\u001b[39m forward_backward\u001b[38;5;241m.\u001b[39mforward()\n",
      "File \u001b[1;32md:\\programs\\pyhtonprograms\\bettscrapper\\venv\\lib\\site-packages\\tensorflow\\python\\eager\\polymorphic_function\\monomorphic_function.py:381\u001b[0m, in \u001b[0;36m_EagerDefinedFunction.call\u001b[1;34m(self, ctx, args, cancellation_manager)\u001b[0m\n\u001b[0;32m    379\u001b[0m \u001b[38;5;28;01mwith\u001b[39;00m _InterpolateFunctionError(\u001b[38;5;28mself\u001b[39m):\n\u001b[0;32m    380\u001b[0m   \u001b[38;5;28;01mif\u001b[39;00m cancellation_manager \u001b[38;5;129;01mis\u001b[39;00m \u001b[38;5;28;01mNone\u001b[39;00m:\n\u001b[1;32m--> 381\u001b[0m     outputs \u001b[38;5;241m=\u001b[39m \u001b[43mexecute\u001b[49m\u001b[38;5;241;43m.\u001b[39;49m\u001b[43mexecute\u001b[49m\u001b[43m(\u001b[49m\n\u001b[0;32m    382\u001b[0m \u001b[43m        \u001b[49m\u001b[38;5;28;43mstr\u001b[39;49m\u001b[43m(\u001b[49m\u001b[38;5;28;43mself\u001b[39;49m\u001b[38;5;241;43m.\u001b[39;49m\u001b[43msignature\u001b[49m\u001b[38;5;241;43m.\u001b[39;49m\u001b[43mname\u001b[49m\u001b[43m)\u001b[49m\u001b[43m,\u001b[49m\n\u001b[0;32m    383\u001b[0m \u001b[43m        \u001b[49m\u001b[43mnum_outputs\u001b[49m\u001b[38;5;241;43m=\u001b[39;49m\u001b[38;5;28;43mself\u001b[39;49m\u001b[38;5;241;43m.\u001b[39;49m\u001b[43m_num_outputs\u001b[49m\u001b[43m,\u001b[49m\n\u001b[0;32m    384\u001b[0m \u001b[43m        \u001b[49m\u001b[43minputs\u001b[49m\u001b[38;5;241;43m=\u001b[39;49m\u001b[43margs\u001b[49m\u001b[43m,\u001b[49m\n\u001b[0;32m    385\u001b[0m \u001b[43m        \u001b[49m\u001b[43mattrs\u001b[49m\u001b[38;5;241;43m=\u001b[39;49m\u001b[43mattrs\u001b[49m\u001b[43m,\u001b[49m\n\u001b[0;32m    386\u001b[0m \u001b[43m        \u001b[49m\u001b[43mctx\u001b[49m\u001b[38;5;241;43m=\u001b[39;49m\u001b[43mctx\u001b[49m\u001b[43m)\u001b[49m\n\u001b[0;32m    387\u001b[0m   \u001b[38;5;28;01melse\u001b[39;00m:\n\u001b[0;32m    388\u001b[0m     outputs \u001b[38;5;241m=\u001b[39m execute\u001b[38;5;241m.\u001b[39mexecute_with_cancellation(\n\u001b[0;32m    389\u001b[0m         \u001b[38;5;28mstr\u001b[39m(\u001b[38;5;28mself\u001b[39m\u001b[38;5;241m.\u001b[39msignature\u001b[38;5;241m.\u001b[39mname),\n\u001b[0;32m    390\u001b[0m         num_outputs\u001b[38;5;241m=\u001b[39m\u001b[38;5;28mself\u001b[39m\u001b[38;5;241m.\u001b[39m_num_outputs,\n\u001b[1;32m   (...)\u001b[0m\n\u001b[0;32m    393\u001b[0m         ctx\u001b[38;5;241m=\u001b[39mctx,\n\u001b[0;32m    394\u001b[0m         cancellation_manager\u001b[38;5;241m=\u001b[39mcancellation_manager)\n",
      "File \u001b[1;32md:\\programs\\pyhtonprograms\\bettscrapper\\venv\\lib\\site-packages\\tensorflow\\python\\eager\\execute.py:52\u001b[0m, in \u001b[0;36mquick_execute\u001b[1;34m(op_name, num_outputs, inputs, attrs, ctx, name)\u001b[0m\n\u001b[0;32m     50\u001b[0m \u001b[38;5;28;01mtry\u001b[39;00m:\n\u001b[0;32m     51\u001b[0m   ctx\u001b[38;5;241m.\u001b[39mensure_initialized()\n\u001b[1;32m---> 52\u001b[0m   tensors \u001b[38;5;241m=\u001b[39m \u001b[43mpywrap_tfe\u001b[49m\u001b[38;5;241;43m.\u001b[39;49m\u001b[43mTFE_Py_Execute\u001b[49m\u001b[43m(\u001b[49m\u001b[43mctx\u001b[49m\u001b[38;5;241;43m.\u001b[39;49m\u001b[43m_handle\u001b[49m\u001b[43m,\u001b[49m\u001b[43m \u001b[49m\u001b[43mdevice_name\u001b[49m\u001b[43m,\u001b[49m\u001b[43m \u001b[49m\u001b[43mop_name\u001b[49m\u001b[43m,\u001b[49m\n\u001b[0;32m     53\u001b[0m \u001b[43m                                      \u001b[49m\u001b[43minputs\u001b[49m\u001b[43m,\u001b[49m\u001b[43m \u001b[49m\u001b[43mattrs\u001b[49m\u001b[43m,\u001b[49m\u001b[43m \u001b[49m\u001b[43mnum_outputs\u001b[49m\u001b[43m)\u001b[49m\n\u001b[0;32m     54\u001b[0m \u001b[38;5;28;01mexcept\u001b[39;00m core\u001b[38;5;241m.\u001b[39m_NotOkStatusException \u001b[38;5;28;01mas\u001b[39;00m e:\n\u001b[0;32m     55\u001b[0m   \u001b[38;5;28;01mif\u001b[39;00m name \u001b[38;5;129;01mis\u001b[39;00m \u001b[38;5;129;01mnot\u001b[39;00m \u001b[38;5;28;01mNone\u001b[39;00m:\n",
      "\u001b[1;31mKeyboardInterrupt\u001b[0m: "
     ]
    }
   ],
   "source": [
    "wandb.init(project=\"neural-network-assgiment2\")\n",
    "wandb.run.name = \"Pokus 6\"\n",
    "config = wandb.config\n",
    "config.learning_rate = 0.001\n",
    "config.batch_size = 64\n",
    "config.epochs = 20\n",
    "\n",
    "\n",
    "def resnet_block(input_data, filters, conv_size):\n",
    "    x = layers.Conv2D(filters, conv_size, activation='LeakyReLU', padding='same')(input_data)\n",
    "    x = layers.Conv2D(filters, conv_size, activation='LeakyReLU', padding='same')(x)\n",
    "    x = layers.BatchNormalization()(x)\n",
    "    x = layers.Add()([x, input_data])\n",
    "    x = layers.Activation('LeakyReLU')(x)\n",
    "    return x\n",
    "\n",
    "input_layer = keras.Input(shape=(32, 32, 3))\n",
    "x = layers.Conv2D(32, kernel_size=(3, 3), activation='LeakyReLU')(input_layer)\n",
    "x = layers.Conv2D(32, kernel_size=(3, 3), activation='LeakyReLU')(x)\n",
    "x = layers.BatchNormalization()(x)\n",
    "\n",
    "x = resnet_block(x, filters=32, conv_size=(3, 3))\n",
    "x = resnet_block(x, filters=32, conv_size=(3, 3))\n",
    "\n",
    "x = layers.Conv2D(64, kernel_size=(3, 3), activation='LeakyReLU')(x)\n",
    "x = layers.MaxPooling2D(pool_size=(2, 2))(x)\n",
    "x = layers.BatchNormalization()(x)\n",
    "x = layers.Dropout(0.25)(x)\n",
    "\n",
    "x = resnet_block(x, filters=64, conv_size=(5, 5))\n",
    "\n",
    "x = layers.Conv2D(128, kernel_size=(5, 5), activation='LeakyReLU')(x)\n",
    "x = layers.Conv2D(128, kernel_size=(5, 5), strides=(2, 2), activation='LeakyReLU')(x)\n",
    "x = layers.BatchNormalization()(x)\n",
    "\n",
    "x = layers.Flatten()(x)\n",
    "x = layers.Dense(256, activation='LeakyReLU')(x)\n",
    "x = layers.Dropout(0.5)(x)\n",
    "x = layers.Dense(128, activation='LeakyReLU')(x)\n",
    "output_layer = layers.Dense(10, activation='softmax')(x)\n",
    "\n",
    "model = keras.Model(inputs=input_layer, outputs=output_layer)\n",
    "\n",
    "optimizer = tf.keras.optimizers.Adam(learning_rate=config.learning_rate)\n",
    "\n",
    "model.compile(optimizer=optimizer, loss='categorical_crossentropy', metrics=['accuracy'])\n",
    "\n",
    "early_stop = tf.keras.callbacks.EarlyStopping(monitor='val_loss', patience=10)\n",
    "lr_scheduler = tf.keras.callbacks.ReduceLROnPlateau(monitor='val_loss', factor=0.8, patience=5, min_lr=0.000001)\n",
    "\n",
    "history = model.fit(X_train, y_train, epochs=config.epochs, batch_size=config.batch_size, validation_data=(X_val, y_val), callbacks=[lr_scheduler,early_stop,WandbCallback()])\n",
    "\n",
    "# Evaluate the model\n",
    "val_loss, val_acc = model.evaluate(X_test, y_test, verbose=2)\n",
    "print('Test accuracy:', val_acc)\n",
    "print('Test loss:', val_loss)\n",
    "\n",
    "# Evaluate the model on the val set and log the results\n",
    "wandb.log({'Test loss': val_loss, 'Test accuracy': val_acc})\n"
   ]
  },
  {
   "cell_type": "code",
   "execution_count": 20,
   "id": "c1863d80",
   "metadata": {},
   "outputs": [
    {
     "name": "stdout",
     "output_type": "stream",
     "text": [
      "Model: \"model\"\n",
      "__________________________________________________________________________________________________\n",
      " Layer (type)                   Output Shape         Param #     Connected to                     \n",
      "==================================================================================================\n",
      " input_1 (InputLayer)           [(None, 32, 32, 3)]  0           []                               \n",
      "                                                                                                  \n",
      " conv2d_10 (Conv2D)             (None, 30, 30, 32)   896         ['input_1[0][0]']                \n",
      "                                                                                                  \n",
      " conv2d_11 (Conv2D)             (None, 28, 28, 32)   9248        ['conv2d_10[0][0]']              \n",
      "                                                                                                  \n",
      " batch_normalization_6 (BatchNo  (None, 28, 28, 32)  128         ['conv2d_11[0][0]']              \n",
      " rmalization)                                                                                     \n",
      "                                                                                                  \n",
      " conv2d_12 (Conv2D)             (None, 28, 28, 32)   9248        ['batch_normalization_6[0][0]']  \n",
      "                                                                                                  \n",
      " conv2d_13 (Conv2D)             (None, 28, 28, 32)   9248        ['conv2d_12[0][0]']              \n",
      "                                                                                                  \n",
      " batch_normalization_7 (BatchNo  (None, 28, 28, 32)  128         ['conv2d_13[0][0]']              \n",
      " rmalization)                                                                                     \n",
      "                                                                                                  \n",
      " add (Add)                      (None, 28, 28, 32)   0           ['batch_normalization_7[0][0]',  \n",
      "                                                                  'batch_normalization_6[0][0]']  \n",
      "                                                                                                  \n",
      " activation (Activation)        (None, 28, 28, 32)   0           ['add[0][0]']                    \n",
      "                                                                                                  \n",
      " conv2d_14 (Conv2D)             (None, 28, 28, 32)   9248        ['activation[0][0]']             \n",
      "                                                                                                  \n",
      " conv2d_15 (Conv2D)             (None, 28, 28, 32)   9248        ['conv2d_14[0][0]']              \n",
      "                                                                                                  \n",
      " batch_normalization_8 (BatchNo  (None, 28, 28, 32)  128         ['conv2d_15[0][0]']              \n",
      " rmalization)                                                                                     \n",
      "                                                                                                  \n",
      " add_1 (Add)                    (None, 28, 28, 32)   0           ['batch_normalization_8[0][0]',  \n",
      "                                                                  'activation[0][0]']             \n",
      "                                                                                                  \n",
      " activation_1 (Activation)      (None, 28, 28, 32)   0           ['add_1[0][0]']                  \n",
      "                                                                                                  \n",
      " conv2d_16 (Conv2D)             (None, 26, 26, 64)   18496       ['activation_1[0][0]']           \n",
      "                                                                                                  \n",
      " max_pooling2d_2 (MaxPooling2D)  (None, 13, 13, 64)  0           ['conv2d_16[0][0]']              \n",
      "                                                                                                  \n",
      " batch_normalization_9 (BatchNo  (None, 13, 13, 64)  256         ['max_pooling2d_2[0][0]']        \n",
      " rmalization)                                                                                     \n",
      "                                                                                                  \n",
      " dropout_4 (Dropout)            (None, 13, 13, 64)   0           ['batch_normalization_9[0][0]']  \n",
      "                                                                                                  \n",
      " conv2d_17 (Conv2D)             (None, 13, 13, 64)   102464      ['dropout_4[0][0]']              \n",
      "                                                                                                  \n",
      " conv2d_18 (Conv2D)             (None, 13, 13, 64)   102464      ['conv2d_17[0][0]']              \n",
      "                                                                                                  \n",
      " batch_normalization_10 (BatchN  (None, 13, 13, 64)  256         ['conv2d_18[0][0]']              \n",
      " ormalization)                                                                                    \n",
      "                                                                                                  \n",
      " add_2 (Add)                    (None, 13, 13, 64)   0           ['batch_normalization_10[0][0]', \n",
      "                                                                  'dropout_4[0][0]']              \n",
      "                                                                                                  \n",
      " activation_2 (Activation)      (None, 13, 13, 64)   0           ['add_2[0][0]']                  \n",
      "                                                                                                  \n",
      " conv2d_19 (Conv2D)             (None, 9, 9, 128)    204928      ['activation_2[0][0]']           \n",
      "                                                                                                  \n",
      " conv2d_20 (Conv2D)             (None, 3, 3, 128)    409728      ['conv2d_19[0][0]']              \n",
      "                                                                                                  \n",
      " batch_normalization_11 (BatchN  (None, 3, 3, 128)   512         ['conv2d_20[0][0]']              \n",
      " ormalization)                                                                                    \n",
      "                                                                                                  \n",
      " flatten_2 (Flatten)            (None, 1152)         0           ['batch_normalization_11[0][0]'] \n",
      "                                                                                                  \n",
      " dense_6 (Dense)                (None, 256)          295168      ['flatten_2[0][0]']              \n",
      "                                                                                                  \n",
      " dropout_5 (Dropout)            (None, 256)          0           ['dense_6[0][0]']                \n",
      "                                                                                                  \n",
      " dense_7 (Dense)                (None, 128)          32896       ['dropout_5[0][0]']              \n",
      "                                                                                                  \n",
      " dense_8 (Dense)                (None, 10)           1290        ['dense_7[0][0]']                \n",
      "                                                                                                  \n",
      "==================================================================================================\n",
      "Total params: 1,215,978\n",
      "Trainable params: 1,215,274\n",
      "Non-trainable params: 704\n",
      "__________________________________________________________________________________________________\n"
     ]
    }
   ],
   "source": [
    "model.summary()"
   ]
  },
  {
   "cell_type": "code",
   "execution_count": 19,
   "id": "1b6e0128",
   "metadata": {},
   "outputs": [
    {
     "data": {
      "image/png": "[encoded data removed]",
      "text/plain": [
       "<Figure size 640x480 with 1 Axes>"
      ]
     },
     "metadata": {},
     "output_type": "display_data"
    }
   ],
   "source": [
    "plt.plot(history.history['loss'], label='Training Loss')\n",
    "plt.plot(history.history['val_loss'], label='Validation Loss')\n",
    "plt.plot(history.history['accuracy'], label='Training Accuracy')\n",
    "plt.plot(history.history['val_accuracy'], label='Validation Accuracy')\n",
    "\n",
    "plt.xlabel('Epoch')\n",
    "plt.ylabel('Loss / Accuracy')\n",
    "plt.legend()\n",
    "plt.show()"
   ]
  },
  {
   "cell_type": "markdown",
   "id": "49c1cb7e",
   "metadata": {},
   "source": [
    "## Pokus cislo 7\n",
    "\n",
    "__Test accuracy: 0.721__\\\n",
    "__Test loss: 0.818__"
   ]
  },
  {
   "cell_type": "code",
   "execution_count": 33,
   "id": "cc28299a",
   "metadata": {
    "scrolled": true
   },
   "outputs": [],
   "source": [
    "wandb.init(project=\"neural-network-assgiment2\")\n",
    "wandb.run.name = \"Pokus 7\"\n",
    "config = wandb.config\n",
    "config.learning_rate = 0.001\n",
    "config.batch_size = 32\n",
    "config.epochs = 20\n",
    "\n",
    "model = tf.keras.Sequential([\n",
    "    layers.Conv2D(32, (3, 3), activation='relu', input_shape=(32, 32, 3)),\n",
    "    layers.BatchNormalization(),\n",
    "    layers.MaxPooling2D((2, 2)),\n",
    "    layers.Dropout(0.25),\n",
    "    layers.Conv2D(64, (3, 3), activation='relu'),\n",
    "    layers.BatchNormalization(),\n",
    "    layers.MaxPooling2D((2, 2)),\n",
    "    layers.Dropout(0.25),\n",
    "    layers.Conv2D(128, (3, 3), activation='relu'),\n",
    "    layers.BatchNormalization(),\n",
    "    layers.MaxPooling2D((2, 2)),\n",
    "    layers.Dropout(0.25),\n",
    "    layers.Flatten(),\n",
    "    layers.Dense(64, activation='relu'),\n",
    "    layers.Dropout(0.5),\n",
    "    layers.Dense(10, activation='softmax')\n",
    "])\n",
    "\n",
    "\n",
    "\n",
    "optimizer = tf.keras.optimizers.Adam(learning_rate=config.learning_rate)\n",
    "\n",
    "model.compile(optimizer=optimizer, loss='categorical_crossentropy', metrics=['accuracy'])\n",
    "\n",
    "early_stop = tf.keras.callbacks.EarlyStopping(monitor='val_loss', patience=10)\n",
    "lr_scheduler = tf.keras.callbacks.ReduceLROnPlateau(monitor='val_loss', factor=0.8, patience=5, min_lr=0.000001)\n",
    "\n",
    "history = model.fit(X_train, y_train, epochs=config.epochs, batch_size=config.batch_size, validation_data=(X_val, y_val), callbacks=[lr_scheduler,early_stop,WandbCallback()])\n",
    "\n",
    "# Evaluate the model\n",
    "val_loss, val_acc = model.evaluate(X_test, y_test, verbose=2)\n",
    "print('Test accuracy:', val_acc)\n",
    "print('Test loss:', val_loss)\n",
    "\n",
    "# Evaluate the model on the val set and log the results\n",
    "wandb.log({'Test loss': val_loss, 'Test accuracy': val_acc})"
   ]
  },
  {
   "cell_type": "code",
   "execution_count": 22,
   "id": "5b8d47d2",
   "metadata": {},
   "outputs": [
    {
     "name": "stdout",
     "output_type": "stream",
     "text": [
      "Model: \"sequential_2\"\n",
      "_________________________________________________________________\n",
      " Layer (type)                Output Shape              Param #   \n",
      "=================================================================\n",
      " conv2d_21 (Conv2D)          (None, 30, 30, 32)        896       \n",
      "                                                                 \n",
      " batch_normalization_12 (Bat  (None, 30, 30, 32)       128       \n",
      " chNormalization)                                                \n",
      "                                                                 \n",
      " max_pooling2d_3 (MaxPooling  (None, 15, 15, 32)       0         \n",
      " 2D)                                                             \n",
      "                                                                 \n",
      " dropout_6 (Dropout)         (None, 15, 15, 32)        0         \n",
      "                                                                 \n",
      " conv2d_22 (Conv2D)          (None, 13, 13, 64)        18496     \n",
      "                                                                 \n",
      " batch_normalization_13 (Bat  (None, 13, 13, 64)       256       \n",
      " chNormalization)                                                \n",
      "                                                                 \n",
      " max_pooling2d_4 (MaxPooling  (None, 6, 6, 64)         0         \n",
      " 2D)                                                             \n",
      "                                                                 \n",
      " dropout_7 (Dropout)         (None, 6, 6, 64)          0         \n",
      "                                                                 \n",
      " conv2d_23 (Conv2D)          (None, 4, 4, 128)         73856     \n",
      "                                                                 \n",
      " batch_normalization_14 (Bat  (None, 4, 4, 128)        512       \n",
      " chNormalization)                                                \n",
      "                                                                 \n",
      " max_pooling2d_5 (MaxPooling  (None, 2, 2, 128)        0         \n",
      " 2D)                                                             \n",
      "                                                                 \n",
      " dropout_8 (Dropout)         (None, 2, 2, 128)         0         \n",
      "                                                                 \n",
      " flatten_3 (Flatten)         (None, 512)               0         \n",
      "                                                                 \n",
      " dense_9 (Dense)             (None, 64)                32832     \n",
      "                                                                 \n",
      " dropout_9 (Dropout)         (None, 64)                0         \n",
      "                                                                 \n",
      " dense_10 (Dense)            (None, 10)                650       \n",
      "                                                                 \n",
      "=================================================================\n",
      "Total params: 127,626\n",
      "Trainable params: 127,178\n",
      "Non-trainable params: 448\n",
      "_________________________________________________________________\n"
     ]
    }
   ],
   "source": [
    "model.summary()"
   ]
  },
  {
   "cell_type": "code",
   "execution_count": 35,
   "id": "7db02457",
   "metadata": {},
   "outputs": [],
   "source": [
    "plt.plot(history.history['loss'], label='Training Loss')\n",
    "plt.plot(history.history['val_loss'], label='Validation Loss')\n",
    "plt.plot(history.history['accuracy'], label='Training Accuracy')\n",
    "plt.plot(history.history['val_accuracy'], label='Validation Accuracy')\n",
    "\n",
    "plt.xlabel('Epoch')\n",
    "plt.ylabel('Loss / Accuracy')\n",
    "plt.legend()\n",
    "plt.show()"
   ]
  },
  {
   "cell_type": "markdown",
   "id": "61f9629f",
   "metadata": {},
   "source": [
    "## Pokus 8\n",
    "\n",
    "__Test accuracy: 0.828__\\\n",
    "__Test loss: 0.8417__"
   ]
  },
  {
   "cell_type": "code",
   "execution_count": 36,
   "id": "c14c862f",
   "metadata": {},
   "outputs": [],
   "source": [
    "import tensorflow as tf\n",
    "\n",
    "\n",
    "# Define the model architecture\n",
    "wandb.init(project=\"neural-network-assgiment2\")\n",
    "wandb.run.name = \"Pokus 8\"\n",
    "config = wandb.config\n",
    "config.learning_rate = 0.001\n",
    "config.batch_size = 32\n",
    "config.epochs = 20\n",
    "\n",
    "# Define the residual block\n",
    "def residual_block(inputs, filters, stride=1):\n",
    "    shortcut = inputs\n",
    "\n",
    "    x = tf.keras.layers.Conv2D(filters=filters, kernel_size=(3, 3), strides=stride, padding='same', activation='relu')(inputs)\n",
    "    x = tf.keras.layers.BatchNormalization()(x)\n",
    "    x = tf.keras.layers.Conv2D(filters=filters, kernel_size=(3, 3), strides=1, padding='same', activation='relu')(x)\n",
    "    x = tf.keras.layers.BatchNormalization()(x)\n",
    "\n",
    "    # Add the shortcut to the residual block output and apply ReLU activation\n",
    "    if shortcut.shape[-1] != filters or stride != 1:\n",
    "        shortcut = tf.keras.layers.Conv2D(filters=filters, kernel_size=(1, 1), strides=stride, padding='valid', activation='relu')(shortcut)\n",
    "        shortcut = tf.keras.layers.BatchNormalization()(shortcut)\n",
    "\n",
    "    x = tf.keras.layers.Add()([x, shortcut])\n",
    "    x = tf.keras.layers.Activation('relu')(x)\n",
    "\n",
    "    return x\n",
    "\n",
    "\n",
    "# Define the model architecture with residual blocks\n",
    "inputs = tf.keras.layers.Input(shape=(32, 32, 3))\n",
    "\n",
    "x = tf.keras.layers.Conv2D(filters=64, kernel_size=(3, 3), padding='same', activation='relu')(inputs)\n",
    "x = tf.keras.layers.BatchNormalization()(x)\n",
    "x = tf.keras.layers.MaxPooling2D(pool_size=(2, 2))(x)\n",
    "x = residual_block(x, filters=64)\n",
    "\n",
    "x = tf.keras.layers.Conv2D(filters=128, kernel_size=(3, 3), padding='same', activation='relu')(x)\n",
    "x = tf.keras.layers.BatchNormalization()(x)\n",
    "x = tf.keras.layers.MaxPooling2D(pool_size=(2, 2))(x)\n",
    "x = residual_block(x, filters=128)\n",
    "\n",
    "x = tf.keras.layers.Conv2D(filters=256, kernel_size=(3, 3), padding='same', activation='relu')(x)\n",
    "x = tf.keras.layers.BatchNormalization()(x)\n",
    "x = tf.keras.layers.MaxPooling2D(pool_size=(2, 2))(x)\n",
    "x = residual_block(x, filters=256)\n",
    "\n",
    "x = tf.keras.layers.GlobalAveragePooling2D()(x)\n",
    "outputs = tf.keras.layers.Dense(units=10, activation='softmax')(x)\n",
    "\n",
    "model = tf.keras.Model(inputs=inputs, outputs=outputs)\n",
    "\n",
    "optimizer = tf.keras.optimizers.Adam(learning_rate=config.learning_rate)\n",
    "\n",
    "model.compile(optimizer=optimizer, loss='categorical_crossentropy', metrics=['accuracy'])\n",
    "\n",
    "early_stop = tf.keras.callbacks.EarlyStopping(monitor='val_loss', patience=10)\n",
    "lr_scheduler = tf.keras.callbacks.ReduceLROnPlateau(monitor='val_loss', factor=0.8, patience=5, min_lr=0.000001)\n",
    "\n",
    "history = model.fit(X_train, y_train, epochs=config.epochs, batch_size=config.batch_size, validation_data=(X_val, y_val), callbacks=[lr_scheduler,early_stop,WandbCallback()])\n",
    "\n",
    "# Evaluate the model\n",
    "val_loss, val_acc = model.evaluate(X_test, y_test, verbose=2)\n",
    "print('Test accuracy:', val_acc)\n",
    "print('Test loss:', val_loss)\n",
    "\n",
    "# Evaluate the model on the val set and log the results\n",
    "wandb.log({'Test loss': val_loss, 'Test accuracy': val_acc})"
   ]
  },
  {
   "cell_type": "code",
   "execution_count": 24,
   "id": "2e0aa442",
   "metadata": {},
   "outputs": [
    {
     "name": "stdout",
     "output_type": "stream",
     "text": [
      "Model: \"model_1\"\n",
      "__________________________________________________________________________________________________\n",
      " Layer (type)                   Output Shape         Param #     Connected to                     \n",
      "==================================================================================================\n",
      " input_2 (InputLayer)           [(None, 32, 32, 3)]  0           []                               \n",
      "                                                                                                  \n",
      " conv2d_24 (Conv2D)             (None, 32, 32, 64)   1792        ['input_2[0][0]']                \n",
      "                                                                                                  \n",
      " batch_normalization_15 (BatchN  (None, 32, 32, 64)  256         ['conv2d_24[0][0]']              \n",
      " ormalization)                                                                                    \n",
      "                                                                                                  \n",
      " max_pooling2d_6 (MaxPooling2D)  (None, 16, 16, 64)  0           ['batch_normalization_15[0][0]'] \n",
      "                                                                                                  \n",
      " conv2d_25 (Conv2D)             (None, 16, 16, 64)   36928       ['max_pooling2d_6[0][0]']        \n",
      "                                                                                                  \n",
      " batch_normalization_16 (BatchN  (None, 16, 16, 64)  256         ['conv2d_25[0][0]']              \n",
      " ormalization)                                                                                    \n",
      "                                                                                                  \n",
      " conv2d_26 (Conv2D)             (None, 16, 16, 64)   36928       ['batch_normalization_16[0][0]'] \n",
      "                                                                                                  \n",
      " batch_normalization_17 (BatchN  (None, 16, 16, 64)  256         ['conv2d_26[0][0]']              \n",
      " ormalization)                                                                                    \n",
      "                                                                                                  \n",
      " add_3 (Add)                    (None, 16, 16, 64)   0           ['batch_normalization_17[0][0]', \n",
      "                                                                  'max_pooling2d_6[0][0]']        \n",
      "                                                                                                  \n",
      " activation_3 (Activation)      (None, 16, 16, 64)   0           ['add_3[0][0]']                  \n",
      "                                                                                                  \n",
      " conv2d_27 (Conv2D)             (None, 16, 16, 128)  73856       ['activation_3[0][0]']           \n",
      "                                                                                                  \n",
      " batch_normalization_18 (BatchN  (None, 16, 16, 128)  512        ['conv2d_27[0][0]']              \n",
      " ormalization)                                                                                    \n",
      "                                                                                                  \n",
      " max_pooling2d_7 (MaxPooling2D)  (None, 8, 8, 128)   0           ['batch_normalization_18[0][0]'] \n",
      "                                                                                                  \n",
      " conv2d_28 (Conv2D)             (None, 8, 8, 128)    147584      ['max_pooling2d_7[0][0]']        \n",
      "                                                                                                  \n",
      " batch_normalization_19 (BatchN  (None, 8, 8, 128)   512         ['conv2d_28[0][0]']              \n",
      " ormalization)                                                                                    \n",
      "                                                                                                  \n",
      " conv2d_29 (Conv2D)             (None, 8, 8, 128)    147584      ['batch_normalization_19[0][0]'] \n",
      "                                                                                                  \n",
      " batch_normalization_20 (BatchN  (None, 8, 8, 128)   512         ['conv2d_29[0][0]']              \n",
      " ormalization)                                                                                    \n",
      "                                                                                                  \n",
      " add_4 (Add)                    (None, 8, 8, 128)    0           ['batch_normalization_20[0][0]', \n",
      "                                                                  'max_pooling2d_7[0][0]']        \n",
      "                                                                                                  \n",
      " activation_4 (Activation)      (None, 8, 8, 128)    0           ['add_4[0][0]']                  \n",
      "                                                                                                  \n",
      " conv2d_30 (Conv2D)             (None, 8, 8, 256)    295168      ['activation_4[0][0]']           \n",
      "                                                                                                  \n",
      " batch_normalization_21 (BatchN  (None, 8, 8, 256)   1024        ['conv2d_30[0][0]']              \n",
      " ormalization)                                                                                    \n",
      "                                                                                                  \n",
      " max_pooling2d_8 (MaxPooling2D)  (None, 4, 4, 256)   0           ['batch_normalization_21[0][0]'] \n",
      "                                                                                                  \n",
      " conv2d_31 (Conv2D)             (None, 4, 4, 256)    590080      ['max_pooling2d_8[0][0]']        \n",
      "                                                                                                  \n",
      " batch_normalization_22 (BatchN  (None, 4, 4, 256)   1024        ['conv2d_31[0][0]']              \n",
      " ormalization)                                                                                    \n",
      "                                                                                                  \n",
      " conv2d_32 (Conv2D)             (None, 4, 4, 256)    590080      ['batch_normalization_22[0][0]'] \n",
      "                                                                                                  \n",
      " batch_normalization_23 (BatchN  (None, 4, 4, 256)   1024        ['conv2d_32[0][0]']              \n",
      " ormalization)                                                                                    \n",
      "                                                                                                  \n",
      " add_5 (Add)                    (None, 4, 4, 256)    0           ['batch_normalization_23[0][0]', \n",
      "                                                                  'max_pooling2d_8[0][0]']        \n",
      "                                                                                                  \n",
      " activation_5 (Activation)      (None, 4, 4, 256)    0           ['add_5[0][0]']                  \n",
      "                                                                                                  \n",
      " global_average_pooling2d (Glob  (None, 256)         0           ['activation_5[0][0]']           \n",
      " alAveragePooling2D)                                                                              \n",
      "                                                                                                  \n",
      " dense_11 (Dense)               (None, 10)           2570        ['global_average_pooling2d[0][0]'\n",
      "                                                                 ]                                \n",
      "                                                                                                  \n",
      "==================================================================================================\n",
      "Total params: 1,927,946\n",
      "Trainable params: 1,925,258\n",
      "Non-trainable params: 2,688\n",
      "__________________________________________________________________________________________________\n"
     ]
    }
   ],
   "source": [
    "model.summary()"
   ]
  },
  {
   "cell_type": "code",
   "execution_count": 38,
   "id": "e1dd24c6",
   "metadata": {},
   "outputs": [],
   "source": [
    "plt.plot(history.history['loss'], label='Training Loss')\n",
    "plt.plot(history.history['val_loss'], label='Validation Loss')\n",
    "plt.plot(history.history['accuracy'], label='Training Accuracy')\n",
    "plt.plot(history.history['val_accuracy'], label='Validation Accuracy')\n",
    "\n",
    "plt.xlabel('Epoch')\n",
    "plt.ylabel('Loss / Accuracy')\n",
    "plt.legend()\n",
    "plt.show()"
   ]
  },
  {
   "cell_type": "markdown",
   "id": "f23293bf",
   "metadata": {},
   "source": [
    "## Pokus 9\n",
    "  \n",
    "__Test accuracy: 0.8316__\\\n",
    "__Test loss: 0.5235__\n",
    "\n",
    "- viac epoch\n",
    "\n",
    "__Test accuracy: 0.866__\\\n",
    "__Test loss: 0.4276__"
   ]
  },
  {
   "cell_type": "code",
   "execution_count": 20,
   "id": "d8c8873e",
   "metadata": {},
   "outputs": [
    {
     "data": {
      "text/html": [
       "Finishing last run (ID:x63byeyg) before initializing another..."
      ],
      "text/plain": [
       "<IPython.core.display.HTML object>"
      ]
     },
     "metadata": {},
     "output_type": "display_data"
    },
    {
     "data": {
      "text/html": [
       "Waiting for W&B process to finish... <strong style=\"color:green\">(success).</strong>"
      ],
      "text/plain": [
       "<IPython.core.display.HTML object>"
      ]
     },
     "metadata": {},
     "output_type": "display_data"
    },
    {
     "data": {
      "application/vnd.jupyter.widget-view+json": {
       "model_id": "8418ad31c25b4ef2a1cbc2dfc4247dd6",
       "version_major": 2,
       "version_minor": 0
      },
      "text/plain": [
       "VBox(children=(Label(value='132.189 MB of 132.189 MB uploaded (0.563 MB deduped)\\r'), FloatProgress(value=1.0,…"
      ]
     },
     "metadata": {},
     "output_type": "display_data"
    },
    {
     "data": {
      "text/html": [
       "<style>\n",
       "    table.wandb td:nth-child(1) { padding: 0 10px; text-align: left ; width: auto;} td:nth-child(2) {text-align: left ; width: 100%}\n",
       "    .wandb-row { display: flex; flex-direction: row; flex-wrap: wrap; justify-content: flex-start; width: 100% }\n",
       "    .wandb-col { display: flex; flex-direction: column; flex-basis: 100%; flex: 1; padding: 10px; }\n",
       "    </style>\n",
       "<div class=\"wandb-row\"><div class=\"wandb-col\"><h3>Run history:</h3><br/><table class=\"wandb\"><tr><td>Test accuracy</td><td>▁</td></tr><tr><td>Test loss</td><td>▁</td></tr><tr><td>accuracy</td><td>▁▄▄▅▅▆▆▆▆▇▇▇▇▇▇▇▇▇█████</td></tr><tr><td>epoch</td><td>▁▁▂▂▂▃▃▃▄▄▄▅▅▅▅▆▆▆▇▇▇██</td></tr><tr><td>loss</td><td>█▅▅▄▄▃▃▃▃▃▂▂▂▂▂▂▂▂▁▁▁▁▁</td></tr><tr><td>lr</td><td>██████████████████▁▁▁▁▁</td></tr><tr><td>val_accuracy</td><td>▁▁▄▄▄▆▆▆▇▆▇▇▇▇▇▇▇▇█████</td></tr><tr><td>val_loss</td><td>▇█▄▄▄▃▃▂▁▃▁▂▁▂▂▂▂▂▁▁▁▂▂</td></tr></table><br/></div><div class=\"wandb-col\"><h3>Run summary:</h3><br/><table class=\"wandb\"><tr><td>Test accuracy</td><td>0.8422</td></tr><tr><td>Test loss</td><td>0.59594</td></tr><tr><td>accuracy</td><td>0.94434</td></tr><tr><td>best_epoch</td><td>12</td></tr><tr><td>best_val_loss</td><td>0.58345</td></tr><tr><td>epoch</td><td>22</td></tr><tr><td>loss</td><td>0.15599</td></tr><tr><td>lr</td><td>0.0008</td></tr><tr><td>val_accuracy</td><td>0.8236</td></tr><tr><td>val_loss</td><td>0.69149</td></tr></table><br/></div></div>"
      ],
      "text/plain": [
       "<IPython.core.display.HTML object>"
      ]
     },
     "metadata": {},
     "output_type": "display_data"
    },
    {
     "data": {
      "text/html": [
       " View run <strong style=\"color:#cdcd00\">neat-star-21</strong> at: <a href='https://wandb.ai/neural-netwok-nn/neural-network-assgiment2/runs/x63byeyg' target=\"_blank\">https://wandb.ai/neural-netwok-nn/neural-network-assgiment2/runs/x63byeyg</a><br/>Synced 5 W&B file(s), 1 media file(s), 40 artifact file(s) and 1 other file(s)"
      ],
      "text/plain": [
       "<IPython.core.display.HTML object>"
      ]
     },
     "metadata": {},
     "output_type": "display_data"
    },
    {
     "data": {
      "text/html": [
       "Find logs at: <code>.\\wandb\\run-20230413_092246-x63byeyg\\logs</code>"
      ],
      "text/plain": [
       "<IPython.core.display.HTML object>"
      ]
     },
     "metadata": {},
     "output_type": "display_data"
    },
    {
     "data": {
      "text/html": [
       "Successfully finished last run (ID:x63byeyg). Initializing new run:<br/>"
      ],
      "text/plain": [
       "<IPython.core.display.HTML object>"
      ]
     },
     "metadata": {},
     "output_type": "display_data"
    },
    {
     "data": {
      "application/vnd.jupyter.widget-view+json": {
       "model_id": "55a5e91cdb7446528fe1964cc26d8134",
       "version_major": 2,
       "version_minor": 0
      },
      "text/plain": [
       "VBox(children=(Label(value='Waiting for wandb.init()...\\r'), FloatProgress(value=0.01693333333338766, max=1.0)…"
      ]
     },
     "metadata": {},
     "output_type": "display_data"
    },
    {
     "data": {
      "text/html": [
       "wandb version 0.14.2 is available!  To upgrade, please run:\n",
       " $ pip install wandb --upgrade"
      ],
      "text/plain": [
       "<IPython.core.display.HTML object>"
      ]
     },
     "metadata": {},
     "output_type": "display_data"
    },
    {
     "data": {
      "text/html": [
       "Tracking run with wandb version 0.14.0"
      ],
      "text/plain": [
       "<IPython.core.display.HTML object>"
      ]
     },
     "metadata": {},
     "output_type": "display_data"
    },
    {
     "data": {
      "text/html": [
       "Run data is saved locally in <code>D:\\10.semester\\NN\\neural-networks\\2.zadanie\\src\\wandb\\run-20230413_110638-djymcad9</code>"
      ],
      "text/plain": [
       "<IPython.core.display.HTML object>"
      ]
     },
     "metadata": {},
     "output_type": "display_data"
    },
    {
     "data": {
      "text/html": [
       "Syncing run <strong><a href='https://wandb.ai/neural-netwok-nn/neural-network-assgiment2/runs/djymcad9' target=\"_blank\">sunny-terrain-22</a></strong> to <a href='https://wandb.ai/neural-netwok-nn/neural-network-assgiment2' target=\"_blank\">Weights & Biases</a> (<a href='https://wandb.me/run' target=\"_blank\">docs</a>)<br/>"
      ],
      "text/plain": [
       "<IPython.core.display.HTML object>"
      ]
     },
     "metadata": {},
     "output_type": "display_data"
    },
    {
     "data": {
      "text/html": [
       " View project at <a href='https://wandb.ai/neural-netwok-nn/neural-network-assgiment2' target=\"_blank\">https://wandb.ai/neural-netwok-nn/neural-network-assgiment2</a>"
      ],
      "text/plain": [
       "<IPython.core.display.HTML object>"
      ]
     },
     "metadata": {},
     "output_type": "display_data"
    },
    {
     "data": {
      "text/html": [
       " View run at <a href='https://wandb.ai/neural-netwok-nn/neural-network-assgiment2/runs/djymcad9' target=\"_blank\">https://wandb.ai/neural-netwok-nn/neural-network-assgiment2/runs/djymcad9</a>"
      ],
      "text/plain": [
       "<IPython.core.display.HTML object>"
      ]
     },
     "metadata": {},
     "output_type": "display_data"
    },
    {
     "name": "stdout",
     "output_type": "stream",
     "text": [
      "Epoch 1/40\n",
      "781/782 [============================>.] - ETA: 0s - loss: 1.6128 - accuracy: 0.4500"
     ]
    },
    {
     "name": "stderr",
     "output_type": "stream",
     "text": [
      "WARNING:absl:Found untraced functions such as _jit_compiled_convolution_op, _jit_compiled_convolution_op, _jit_compiled_convolution_op, _jit_compiled_convolution_op, _jit_compiled_convolution_op while saving (showing 5 of 7). These functions will not be directly callable after loading.\n"
     ]
    },
    {
     "name": "stdout",
     "output_type": "stream",
     "text": [
      "INFO:tensorflow:Assets written to: D:\\10.semester\\NN\\neural-networks\\2.zadanie\\src\\wandb\\run-20230413_110638-djymcad9\\files\\model-best\\assets\n"
     ]
    },
    {
     "name": "stderr",
     "output_type": "stream",
     "text": [
      "INFO:tensorflow:Assets written to: D:\\10.semester\\NN\\neural-networks\\2.zadanie\\src\\wandb\\run-20230413_110638-djymcad9\\files\\model-best\\assets\n",
      "\u001b[34m\u001b[1mwandb\u001b[0m: Adding directory to artifact (D:\\10.semester\\NN\\neural-networks\\2.zadanie\\src\\wandb\\run-20230413_110638-djymcad9\\files\\model-best)... Done. 0.0s\n"
     ]
    },
    {
     "name": "stdout",
     "output_type": "stream",
     "text": [
      "782/782 [==============================] - 126s 158ms/step - loss: 1.6126 - accuracy: 0.4501 - val_loss: 1.2595 - val_accuracy: 0.5640 - lr: 0.0010\n",
      "Epoch 2/40\n",
      "782/782 [==============================] - ETA: 0s - loss: 1.0306 - accuracy: 0.6376"
     ]
    },
    {
     "name": "stderr",
     "output_type": "stream",
     "text": [
      "WARNING:absl:Found untraced functions such as _jit_compiled_convolution_op, _jit_compiled_convolution_op, _jit_compiled_convolution_op, _jit_compiled_convolution_op, _jit_compiled_convolution_op while saving (showing 5 of 7). These functions will not be directly callable after loading.\n"
     ]
    },
    {
     "name": "stdout",
     "output_type": "stream",
     "text": [
      "INFO:tensorflow:Assets written to: D:\\10.semester\\NN\\neural-networks\\2.zadanie\\src\\wandb\\run-20230413_110638-djymcad9\\files\\model-best\\assets\n"
     ]
    },
    {
     "name": "stderr",
     "output_type": "stream",
     "text": [
      "INFO:tensorflow:Assets written to: D:\\10.semester\\NN\\neural-networks\\2.zadanie\\src\\wandb\\run-20230413_110638-djymcad9\\files\\model-best\\assets\n",
      "\u001b[34m\u001b[1mwandb\u001b[0m: Adding directory to artifact (D:\\10.semester\\NN\\neural-networks\\2.zadanie\\src\\wandb\\run-20230413_110638-djymcad9\\files\\model-best)... Done. 0.0s\n"
     ]
    },
    {
     "name": "stdout",
     "output_type": "stream",
     "text": [
      "782/782 [==============================] - 127s 162ms/step - loss: 1.0306 - accuracy: 0.6376 - val_loss: 0.8962 - val_accuracy: 0.6896 - lr: 0.0010\n",
      "Epoch 3/40\n",
      "782/782 [==============================] - 119s 152ms/step - loss: 0.8695 - accuracy: 0.6953 - val_loss: 1.1081 - val_accuracy: 0.6456 - lr: 0.0010\n",
      "Epoch 4/40\n",
      "781/782 [============================>.] - ETA: 0s - loss: 0.7744 - accuracy: 0.7307"
     ]
    },
    {
     "name": "stderr",
     "output_type": "stream",
     "text": [
      "WARNING:absl:Found untraced functions such as _jit_compiled_convolution_op, _jit_compiled_convolution_op, _jit_compiled_convolution_op, _jit_compiled_convolution_op, _jit_compiled_convolution_op while saving (showing 5 of 7). These functions will not be directly callable after loading.\n"
     ]
    },
    {
     "name": "stdout",
     "output_type": "stream",
     "text": [
      "INFO:tensorflow:Assets written to: D:\\10.semester\\NN\\neural-networks\\2.zadanie\\src\\wandb\\run-20230413_110638-djymcad9\\files\\model-best\\assets\n"
     ]
    },
    {
     "name": "stderr",
     "output_type": "stream",
     "text": [
      "INFO:tensorflow:Assets written to: D:\\10.semester\\NN\\neural-networks\\2.zadanie\\src\\wandb\\run-20230413_110638-djymcad9\\files\\model-best\\assets\n",
      "\u001b[34m\u001b[1mwandb\u001b[0m: Adding directory to artifact (D:\\10.semester\\NN\\neural-networks\\2.zadanie\\src\\wandb\\run-20230413_110638-djymcad9\\files\\model-best)... Done. 0.0s\n"
     ]
    },
    {
     "name": "stdout",
     "output_type": "stream",
     "text": [
      "782/782 [==============================] - 121s 155ms/step - loss: 0.7746 - accuracy: 0.7306 - val_loss: 0.7995 - val_accuracy: 0.7214 - lr: 0.0010\n",
      "Epoch 5/40\n",
      "781/782 [============================>.] - ETA: 0s - loss: 0.7031 - accuracy: 0.7567"
     ]
    },
    {
     "name": "stderr",
     "output_type": "stream",
     "text": [
      "WARNING:absl:Found untraced functions such as _jit_compiled_convolution_op, _jit_compiled_convolution_op, _jit_compiled_convolution_op, _jit_compiled_convolution_op, _jit_compiled_convolution_op while saving (showing 5 of 7). These functions will not be directly callable after loading.\n"
     ]
    },
    {
     "name": "stdout",
     "output_type": "stream",
     "text": [
      "INFO:tensorflow:Assets written to: D:\\10.semester\\NN\\neural-networks\\2.zadanie\\src\\wandb\\run-20230413_110638-djymcad9\\files\\model-best\\assets\n"
     ]
    },
    {
     "name": "stderr",
     "output_type": "stream",
     "text": [
      "INFO:tensorflow:Assets written to: D:\\10.semester\\NN\\neural-networks\\2.zadanie\\src\\wandb\\run-20230413_110638-djymcad9\\files\\model-best\\assets\n",
      "\u001b[34m\u001b[1mwandb\u001b[0m: Adding directory to artifact (D:\\10.semester\\NN\\neural-networks\\2.zadanie\\src\\wandb\\run-20230413_110638-djymcad9\\files\\model-best)... Done. 0.0s\n"
     ]
    },
    {
     "name": "stdout",
     "output_type": "stream",
     "text": [
      "782/782 [==============================] - 119s 153ms/step - loss: 0.7034 - accuracy: 0.7566 - val_loss: 0.6756 - val_accuracy: 0.7714 - lr: 0.0010\n",
      "Epoch 6/40\n",
      "782/782 [==============================] - 122s 156ms/step - loss: 0.6461 - accuracy: 0.7782 - val_loss: 0.7322 - val_accuracy: 0.7524 - lr: 0.0010\n",
      "Epoch 7/40\n",
      "782/782 [==============================] - ETA: 0s - loss: 0.5984 - accuracy: 0.7962"
     ]
    },
    {
     "name": "stderr",
     "output_type": "stream",
     "text": [
      "WARNING:absl:Found untraced functions such as _jit_compiled_convolution_op, _jit_compiled_convolution_op, _jit_compiled_convolution_op, _jit_compiled_convolution_op, _jit_compiled_convolution_op while saving (showing 5 of 7). These functions will not be directly callable after loading.\n"
     ]
    },
    {
     "name": "stdout",
     "output_type": "stream",
     "text": [
      "INFO:tensorflow:Assets written to: D:\\10.semester\\NN\\neural-networks\\2.zadanie\\src\\wandb\\run-20230413_110638-djymcad9\\files\\model-best\\assets\n"
     ]
    },
    {
     "name": "stderr",
     "output_type": "stream",
     "text": [
      "INFO:tensorflow:Assets written to: D:\\10.semester\\NN\\neural-networks\\2.zadanie\\src\\wandb\\run-20230413_110638-djymcad9\\files\\model-best\\assets\n",
      "\u001b[34m\u001b[1mwandb\u001b[0m: Adding directory to artifact (D:\\10.semester\\NN\\neural-networks\\2.zadanie\\src\\wandb\\run-20230413_110638-djymcad9\\files\\model-best)... Done. 0.0s\n"
     ]
    },
    {
     "name": "stdout",
     "output_type": "stream",
     "text": [
      "782/782 [==============================] - 122s 156ms/step - loss: 0.5984 - accuracy: 0.7962 - val_loss: 0.6135 - val_accuracy: 0.7892 - lr: 0.0010\n",
      "Epoch 8/40\n",
      "782/782 [==============================] - 117s 149ms/step - loss: 0.5674 - accuracy: 0.8051 - val_loss: 0.6723 - val_accuracy: 0.7730 - lr: 0.0010\n",
      "Epoch 9/40\n",
      "781/782 [============================>.] - ETA: 0s - loss: 0.5343 - accuracy: 0.8176"
     ]
    },
    {
     "name": "stderr",
     "output_type": "stream",
     "text": [
      "WARNING:absl:Found untraced functions such as _jit_compiled_convolution_op, _jit_compiled_convolution_op, _jit_compiled_convolution_op, _jit_compiled_convolution_op, _jit_compiled_convolution_op while saving (showing 5 of 7). These functions will not be directly callable after loading.\n"
     ]
    },
    {
     "name": "stdout",
     "output_type": "stream",
     "text": [
      "INFO:tensorflow:Assets written to: D:\\10.semester\\NN\\neural-networks\\2.zadanie\\src\\wandb\\run-20230413_110638-djymcad9\\files\\model-best\\assets\n"
     ]
    },
    {
     "name": "stderr",
     "output_type": "stream",
     "text": [
      "INFO:tensorflow:Assets written to: D:\\10.semester\\NN\\neural-networks\\2.zadanie\\src\\wandb\\run-20230413_110638-djymcad9\\files\\model-best\\assets\n",
      "\u001b[34m\u001b[1mwandb\u001b[0m: Adding directory to artifact (D:\\10.semester\\NN\\neural-networks\\2.zadanie\\src\\wandb\\run-20230413_110638-djymcad9\\files\\model-best)... Done. 0.0s\n"
     ]
    },
    {
     "name": "stdout",
     "output_type": "stream",
     "text": [
      "782/782 [==============================] - 120s 153ms/step - loss: 0.5344 - accuracy: 0.8176 - val_loss: 0.5811 - val_accuracy: 0.8020 - lr: 0.0010\n",
      "Epoch 10/40\n",
      "782/782 [==============================] - 120s 153ms/step - loss: 0.4988 - accuracy: 0.8295 - val_loss: 0.6482 - val_accuracy: 0.7864 - lr: 0.0010\n",
      "Epoch 11/40\n",
      "782/782 [==============================] - ETA: 0s - loss: 0.4709 - accuracy: 0.8392"
     ]
    },
    {
     "name": "stderr",
     "output_type": "stream",
     "text": [
      "WARNING:absl:Found untraced functions such as _jit_compiled_convolution_op, _jit_compiled_convolution_op, _jit_compiled_convolution_op, _jit_compiled_convolution_op, _jit_compiled_convolution_op while saving (showing 5 of 7). These functions will not be directly callable after loading.\n"
     ]
    },
    {
     "name": "stdout",
     "output_type": "stream",
     "text": [
      "INFO:tensorflow:Assets written to: D:\\10.semester\\NN\\neural-networks\\2.zadanie\\src\\wandb\\run-20230413_110638-djymcad9\\files\\model-best\\assets\n"
     ]
    },
    {
     "name": "stderr",
     "output_type": "stream",
     "text": [
      "INFO:tensorflow:Assets written to: D:\\10.semester\\NN\\neural-networks\\2.zadanie\\src\\wandb\\run-20230413_110638-djymcad9\\files\\model-best\\assets\n",
      "\u001b[34m\u001b[1mwandb\u001b[0m: Adding directory to artifact (D:\\10.semester\\NN\\neural-networks\\2.zadanie\\src\\wandb\\run-20230413_110638-djymcad9\\files\\model-best)... Done. 0.0s\n"
     ]
    },
    {
     "name": "stdout",
     "output_type": "stream",
     "text": [
      "782/782 [==============================] - 124s 158ms/step - loss: 0.4709 - accuracy: 0.8392 - val_loss: 0.5237 - val_accuracy: 0.8192 - lr: 0.0010\n",
      "Epoch 12/40\n",
      "782/782 [==============================] - 117s 150ms/step - loss: 0.4493 - accuracy: 0.8474 - val_loss: 0.6087 - val_accuracy: 0.7978 - lr: 0.0010\n",
      "Epoch 13/40\n",
      "782/782 [==============================] - 117s 150ms/step - loss: 0.4311 - accuracy: 0.8527 - val_loss: 0.5763 - val_accuracy: 0.8146 - lr: 0.0010\n",
      "Epoch 14/40\n",
      "782/782 [==============================] - 117s 149ms/step - loss: 0.4126 - accuracy: 0.8592 - val_loss: 0.6190 - val_accuracy: 0.7998 - lr: 0.0010\n",
      "Epoch 15/40\n",
      "782/782 [==============================] - 116s 149ms/step - loss: 0.4018 - accuracy: 0.8621 - val_loss: 0.5675 - val_accuracy: 0.8142 - lr: 0.0010\n",
      "Epoch 16/40\n",
      "782/782 [==============================] - ETA: 0s - loss: 0.3805 - accuracy: 0.8687"
     ]
    },
    {
     "name": "stderr",
     "output_type": "stream",
     "text": [
      "WARNING:absl:Found untraced functions such as _jit_compiled_convolution_op, _jit_compiled_convolution_op, _jit_compiled_convolution_op, _jit_compiled_convolution_op, _jit_compiled_convolution_op while saving (showing 5 of 7). These functions will not be directly callable after loading.\n"
     ]
    },
    {
     "name": "stdout",
     "output_type": "stream",
     "text": [
      "INFO:tensorflow:Assets written to: D:\\10.semester\\NN\\neural-networks\\2.zadanie\\src\\wandb\\run-20230413_110638-djymcad9\\files\\model-best\\assets\n"
     ]
    },
    {
     "name": "stderr",
     "output_type": "stream",
     "text": [
      "INFO:tensorflow:Assets written to: D:\\10.semester\\NN\\neural-networks\\2.zadanie\\src\\wandb\\run-20230413_110638-djymcad9\\files\\model-best\\assets\n",
      "\u001b[34m\u001b[1mwandb\u001b[0m: Adding directory to artifact (D:\\10.semester\\NN\\neural-networks\\2.zadanie\\src\\wandb\\run-20230413_110638-djymcad9\\files\\model-best)... Done. 0.0s\n"
     ]
    },
    {
     "name": "stdout",
     "output_type": "stream",
     "text": [
      "782/782 [==============================] - 119s 152ms/step - loss: 0.3805 - accuracy: 0.8687 - val_loss: 0.4942 - val_accuracy: 0.8432 - lr: 0.0010\n",
      "Epoch 17/40\n",
      "782/782 [==============================] - 116s 149ms/step - loss: 0.3766 - accuracy: 0.8705 - val_loss: 0.5146 - val_accuracy: 0.8322 - lr: 0.0010\n",
      "Epoch 18/40\n",
      "782/782 [==============================] - 118s 151ms/step - loss: 0.3612 - accuracy: 0.8753 - val_loss: 0.4966 - val_accuracy: 0.8354 - lr: 0.0010\n",
      "Epoch 19/40\n",
      "782/782 [==============================] - 122s 156ms/step - loss: 0.3510 - accuracy: 0.8783 - val_loss: 0.5194 - val_accuracy: 0.8314 - lr: 0.0010\n",
      "Epoch 20/40\n",
      "782/782 [==============================] - 119s 152ms/step - loss: 0.3418 - accuracy: 0.8820 - val_loss: 0.5048 - val_accuracy: 0.8356 - lr: 0.0010\n",
      "Epoch 21/40\n",
      "782/782 [==============================] - 119s 152ms/step - loss: 0.3310 - accuracy: 0.8835 - val_loss: 0.5367 - val_accuracy: 0.8314 - lr: 0.0010\n",
      "Epoch 22/40\n",
      "782/782 [==============================] - ETA: 0s - loss: 0.3000 - accuracy: 0.8969"
     ]
    },
    {
     "name": "stderr",
     "output_type": "stream",
     "text": [
      "WARNING:absl:Found untraced functions such as _jit_compiled_convolution_op, _jit_compiled_convolution_op, _jit_compiled_convolution_op, _jit_compiled_convolution_op, _jit_compiled_convolution_op while saving (showing 5 of 7). These functions will not be directly callable after loading.\n"
     ]
    },
    {
     "name": "stdout",
     "output_type": "stream",
     "text": [
      "INFO:tensorflow:Assets written to: D:\\10.semester\\NN\\neural-networks\\2.zadanie\\src\\wandb\\run-20230413_110638-djymcad9\\files\\model-best\\assets\n"
     ]
    },
    {
     "name": "stderr",
     "output_type": "stream",
     "text": [
      "INFO:tensorflow:Assets written to: D:\\10.semester\\NN\\neural-networks\\2.zadanie\\src\\wandb\\run-20230413_110638-djymcad9\\files\\model-best\\assets\n",
      "\u001b[34m\u001b[1mwandb\u001b[0m: Adding directory to artifact (D:\\10.semester\\NN\\neural-networks\\2.zadanie\\src\\wandb\\run-20230413_110638-djymcad9\\files\\model-best)... Done. 0.0s\n"
     ]
    },
    {
     "name": "stdout",
     "output_type": "stream",
     "text": [
      "782/782 [==============================] - 120s 154ms/step - loss: 0.3000 - accuracy: 0.8969 - val_loss: 0.4500 - val_accuracy: 0.8556 - lr: 8.0000e-04\n",
      "Epoch 23/40\n",
      "782/782 [==============================] - 120s 153ms/step - loss: 0.2890 - accuracy: 0.8995 - val_loss: 0.4842 - val_accuracy: 0.8494 - lr: 8.0000e-04\n",
      "Epoch 24/40\n",
      "782/782 [==============================] - 121s 155ms/step - loss: 0.2819 - accuracy: 0.9016 - val_loss: 0.4822 - val_accuracy: 0.8500 - lr: 8.0000e-04\n",
      "Epoch 25/40\n",
      "782/782 [==============================] - 120s 154ms/step - loss: 0.2717 - accuracy: 0.9041 - val_loss: 0.4574 - val_accuracy: 0.8536 - lr: 8.0000e-04\n",
      "Epoch 26/40\n",
      "782/782 [==============================] - 122s 156ms/step - loss: 0.2624 - accuracy: 0.9084 - val_loss: 0.4556 - val_accuracy: 0.8578 - lr: 8.0000e-04\n",
      "Epoch 27/40\n",
      "782/782 [==============================] - 121s 154ms/step - loss: 0.2552 - accuracy: 0.9119 - val_loss: 0.4843 - val_accuracy: 0.8540 - lr: 8.0000e-04\n",
      "Epoch 28/40\n",
      "782/782 [==============================] - 120s 154ms/step - loss: 0.2433 - accuracy: 0.9138 - val_loss: 0.4508 - val_accuracy: 0.8576 - lr: 6.4000e-04\n",
      "Epoch 29/40\n",
      "782/782 [==============================] - 121s 155ms/step - loss: 0.2330 - accuracy: 0.9196 - val_loss: 0.4623 - val_accuracy: 0.8592 - lr: 6.4000e-04\n",
      "Epoch 30/40\n",
      "782/782 [==============================] - 120s 154ms/step - loss: 0.2250 - accuracy: 0.9220 - val_loss: 0.4880 - val_accuracy: 0.8558 - lr: 6.4000e-04\n",
      "Epoch 31/40\n",
      "782/782 [==============================] - 127s 162ms/step - loss: 0.2239 - accuracy: 0.9208 - val_loss: 0.4565 - val_accuracy: 0.8592 - lr: 6.4000e-04\n",
      "Epoch 32/40\n",
      "782/782 [==============================] - 123s 157ms/step - loss: 0.2135 - accuracy: 0.9253 - val_loss: 0.4896 - val_accuracy: 0.8590 - lr: 6.4000e-04\n",
      "157/157 - 3s - loss: 0.4276 - accuracy: 0.8660 - 3s/epoch - 21ms/step\n",
      "Test accuracy: 0.8659999966621399\n",
      "Test loss: 0.42756807804107666\n"
     ]
    }
   ],
   "source": [
    "# Define the model architecture\n",
    "wandb.init(project=\"neural-network-assgiment2\")\n",
    "wandb.run.name = \"Pokus 9\"\n",
    "config = wandb.config\n",
    "config.learning_rate = 0.001\n",
    "config.batch_size = 64\n",
    "config.epochs = 20\n",
    "\n",
    "# Define the model architecture\n",
    "model = tf.keras.Sequential()\n",
    "\n",
    "# Add convolutional layers\n",
    "model.add(tf.keras.layers.Conv2D(32, (3, 3), padding='same', activation='relu', input_shape=(32, 32, 3)))\n",
    "model.add(tf.keras.layers.BatchNormalization())\n",
    "model.add(tf.keras.layers.Conv2D(32, (3, 3), padding='same', activation='relu'))\n",
    "model.add(tf.keras.layers.BatchNormalization())\n",
    "model.add(tf.keras.layers.MaxPooling2D(pool_size=(2, 2)))\n",
    "model.add(tf.keras.layers.Dropout(0.2))\n",
    "\n",
    "model.add(tf.keras.layers.Conv2D(64, (3, 3), padding='same', activation='relu'))\n",
    "model.add(tf.keras.layers.BatchNormalization())\n",
    "model.add(tf.keras.layers.Conv2D(64, (3, 3), padding='same', activation='relu'))\n",
    "model.add(tf.keras.layers.BatchNormalization())\n",
    "model.add(tf.keras.layers.MaxPooling2D(pool_size=(2, 2)))\n",
    "model.add(tf.keras.layers.Dropout(0.3))\n",
    "\n",
    "model.add(tf.keras.layers.Conv2D(128, (3, 3), padding='same', activation='relu'))\n",
    "model.add(tf.keras.layers.BatchNormalization())\n",
    "model.add(tf.keras.layers.Conv2D(128, (3, 3), padding='same', activation='relu'))\n",
    "model.add(tf.keras.layers.BatchNormalization())\n",
    "model.add(tf.keras.layers.MaxPooling2D(pool_size=(2, 2)))\n",
    "model.add(tf.keras.layers.Dropout(0.4))\n",
    "\n",
    "# Add dense layers\n",
    "model.add(tf.keras.layers.Flatten())\n",
    "model.add(tf.keras.layers.Dense(128, activation='relu'))\n",
    "model.add(tf.keras.layers.BatchNormalization())\n",
    "model.add(tf.keras.layers.Dropout(0.5))\n",
    "model.add(tf.keras.layers.Dense(10, activation='softmax'))\n",
    "\n",
    "optimizer = tf.keras.optimizers.Adam(learning_rate=config.learning_rate)\n",
    "\n",
    "model.compile(optimizer=optimizer, loss='categorical_crossentropy', metrics=['accuracy'])\n",
    "\n",
    "early_stop = tf.keras.callbacks.EarlyStopping(monitor='val_loss', patience=10)\n",
    "lr_scheduler = tf.keras.callbacks.ReduceLROnPlateau(monitor='val_loss', factor=0.8, patience=5, min_lr=0.000001)\n",
    "\n",
    "history = model.fit(X_train, y_train, epochs=config.epochs, batch_size=config.batch_size, validation_data=(X_val, y_val), callbacks=[lr_scheduler,early_stop,WandbCallback()])\n",
    "\n",
    "# Evaluate the model\n",
    "val_loss, val_acc = model.evaluate(X_test, y_test, verbose=2)\n",
    "print('Test accuracy:', val_acc)\n",
    "print('Test loss:', val_loss)\n",
    "\n",
    "# Evaluate the model on the val set and log the results\n",
    "wandb.log({'Test loss': val_loss, 'Test accuracy': val_acc})"
   ]
  },
  {
   "cell_type": "code",
   "execution_count": 21,
   "id": "7e280e49",
   "metadata": {},
   "outputs": [
    {
     "name": "stdout",
     "output_type": "stream",
     "text": [
      "Model: \"sequential\"\n",
      "_________________________________________________________________\n",
      " Layer (type)                Output Shape              Param #   \n",
      "=================================================================\n",
      " conv2d_22 (Conv2D)          (None, 32, 32, 32)        896       \n",
      "                                                                 \n",
      " batch_normalization_12 (Bat  (None, 32, 32, 32)       128       \n",
      " chNormalization)                                                \n",
      "                                                                 \n",
      " conv2d_23 (Conv2D)          (None, 32, 32, 32)        9248      \n",
      "                                                                 \n",
      " batch_normalization_13 (Bat  (None, 32, 32, 32)       128       \n",
      " chNormalization)                                                \n",
      "                                                                 \n",
      " max_pooling2d_2 (MaxPooling  (None, 16, 16, 32)       0         \n",
      " 2D)                                                             \n",
      "                                                                 \n",
      " dropout_4 (Dropout)         (None, 16, 16, 32)        0         \n",
      "                                                                 \n",
      " conv2d_24 (Conv2D)          (None, 16, 16, 64)        18496     \n",
      "                                                                 \n",
      " batch_normalization_14 (Bat  (None, 16, 16, 64)       256       \n",
      " chNormalization)                                                \n",
      "                                                                 \n",
      " conv2d_25 (Conv2D)          (None, 16, 16, 64)        36928     \n",
      "                                                                 \n",
      " batch_normalization_15 (Bat  (None, 16, 16, 64)       256       \n",
      " chNormalization)                                                \n",
      "                                                                 \n",
      " max_pooling2d_3 (MaxPooling  (None, 8, 8, 64)         0         \n",
      " 2D)                                                             \n",
      "                                                                 \n",
      " dropout_5 (Dropout)         (None, 8, 8, 64)          0         \n",
      "                                                                 \n",
      " conv2d_26 (Conv2D)          (None, 8, 8, 128)         73856     \n",
      "                                                                 \n",
      " batch_normalization_16 (Bat  (None, 8, 8, 128)        512       \n",
      " chNormalization)                                                \n",
      "                                                                 \n",
      " conv2d_27 (Conv2D)          (None, 8, 8, 128)         147584    \n",
      "                                                                 \n",
      " batch_normalization_17 (Bat  (None, 8, 8, 128)        512       \n",
      " chNormalization)                                                \n",
      "                                                                 \n",
      " max_pooling2d_4 (MaxPooling  (None, 4, 4, 128)        0         \n",
      " 2D)                                                             \n",
      "                                                                 \n",
      " dropout_6 (Dropout)         (None, 4, 4, 128)         0         \n",
      "                                                                 \n",
      " flatten_2 (Flatten)         (None, 2048)              0         \n",
      "                                                                 \n",
      " dense_6 (Dense)             (None, 128)               262272    \n",
      "                                                                 \n",
      " batch_normalization_18 (Bat  (None, 128)              512       \n",
      " chNormalization)                                                \n",
      "                                                                 \n",
      " dropout_7 (Dropout)         (None, 128)               0         \n",
      "                                                                 \n",
      " dense_7 (Dense)             (None, 10)                1290      \n",
      "                                                                 \n",
      "=================================================================\n",
      "Total params: 552,874\n",
      "Trainable params: 551,722\n",
      "Non-trainable params: 1,152\n",
      "_________________________________________________________________\n"
     ]
    }
   ],
   "source": [
    "model.summary()"
   ]
  },
  {
   "cell_type": "code",
   "execution_count": 22,
   "id": "0075e699",
   "metadata": {},
   "outputs": [
    {
     "data": {
      "image/png": "[encoded data removed]",
      "text/plain": [
       "<Figure size 640x480 with 1 Axes>"
      ]
     },
     "metadata": {},
     "output_type": "display_data"
    }
   ],
   "source": [
    "plt.plot(history.history['loss'], label='Training Loss')\n",
    "plt.plot(history.history['val_loss'], label='Validation Loss')\n",
    "plt.plot(history.history['accuracy'], label='Training Accuracy')\n",
    "plt.plot(history.history['val_accuracy'], label='Validation Accuracy')\n",
    "\n",
    "plt.xlabel('Epoch')\n",
    "plt.ylabel('Loss / Accuracy')\n",
    "plt.legend()\n",
    "plt.show()"
   ]
  },
  {
   "cell_type": "markdown",
   "id": "4db6fb70",
   "metadata": {},
   "source": [
    "# Pokus cislo 10\n",
    "\n",
    "__Test accuracy: 0.8178__\\\n",
    "__Test loss: 0.5547__"
   ]
  },
  {
   "cell_type": "code",
   "execution_count": null,
   "id": "65b4ba9c",
   "metadata": {},
   "outputs": [
    {
     "name": "stdout",
     "output_type": "stream",
     "text": [
      "782/782 [==============================] - ETA: 0s - loss: 0.6573 - accuracy: 0.7805"
     ]
    },
    {
     "name": "stderr",
     "output_type": "stream",
     "text": [
      "WARNING:absl:Found untraced functions such as _jit_compiled_convolution_op, _jit_compiled_convolution_op, _jit_compiled_convolution_op, _jit_compiled_convolution_op, _jit_compiled_convolution_op while saving (showing 5 of 13). These functions will not be directly callable after loading.\n"
     ]
    },
    {
     "name": "stdout",
     "output_type": "stream",
     "text": [
      "INFO:tensorflow:Assets written to: D:\\10.semester\\NN\\neural-networks\\2.zadanie\\src\\wandb\\run-20230412_194235-vahfuawd\\files\\model-best\\assets\n"
     ]
    },
    {
     "name": "stderr",
     "output_type": "stream",
     "text": [
      "INFO:tensorflow:Assets written to: D:\\10.semester\\NN\\neural-networks\\2.zadanie\\src\\wandb\\run-20230412_194235-vahfuawd\\files\\model-best\\assets\n",
      "\u001b[34m\u001b[1mwandb\u001b[0m: Adding directory to artifact (D:\\10.semester\\NN\\neural-networks\\2.zadanie\\src\\wandb\\run-20230412_194235-vahfuawd\\files\\model-best)... Done. 0.1s\n"
     ]
    },
    {
     "name": "stdout",
     "output_type": "stream",
     "text": [
      "782/782 [==============================] - 2037s 3s/step - loss: 0.6573 - accuracy: 0.7805 - val_loss: 0.7736 - val_accuracy: 0.7306 - lr: 0.0010\n",
      "Epoch 11/20\n",
      "782/782 [==============================] - ETA: 0s - loss: 0.6328 - accuracy: 0.7890"
     ]
    },
    {
     "name": "stderr",
     "output_type": "stream",
     "text": [
      "WARNING:absl:Found untraced functions such as _jit_compiled_convolution_op, _jit_compiled_convolution_op, _jit_compiled_convolution_op, _jit_compiled_convolution_op, _jit_compiled_convolution_op while saving (showing 5 of 13). These functions will not be directly callable after loading.\n"
     ]
    },
    {
     "name": "stdout",
     "output_type": "stream",
     "text": [
      "INFO:tensorflow:Assets written to: D:\\10.semester\\NN\\neural-networks\\2.zadanie\\src\\wandb\\run-20230412_194235-vahfuawd\\files\\model-best\\assets\n"
     ]
    },
    {
     "name": "stderr",
     "output_type": "stream",
     "text": [
      "INFO:tensorflow:Assets written to: D:\\10.semester\\NN\\neural-networks\\2.zadanie\\src\\wandb\\run-20230412_194235-vahfuawd\\files\\model-best\\assets\n",
      "\u001b[34m\u001b[1mwandb\u001b[0m: Adding directory to artifact (D:\\10.semester\\NN\\neural-networks\\2.zadanie\\src\\wandb\\run-20230412_194235-vahfuawd\\files\\model-best)... Done. 0.1s\n"
     ]
    },
    {
     "name": "stdout",
     "output_type": "stream",
     "text": [
      "782/782 [==============================] - 471s 602ms/step - loss: 0.6328 - accuracy: 0.7890 - val_loss: 0.6878 - val_accuracy: 0.7606 - lr: 0.0010\n",
      "Epoch 12/20\n",
      "265/782 [=========>....................] - ETA: 4:51 - loss: 0.5990 - accuracy: 0.7995"
     ]
    }
   ],
   "source": [
    "import tensorflow as tf\n",
    "\n",
    "# Define the model architecture\n",
    "wandb.init(project=\"neural-network-assgiment2\")\n",
    "wandb.run.name = \"Pokus 10\"\n",
    "config = wandb.config\n",
    "config.learning_rate = 0.001\n",
    "config.batch_size = 64\n",
    "config.epochs = 20\n",
    "\n",
    "# Define the model architecture\n",
    "model = tf.keras.models.Sequential([\n",
    "    tf.keras.layers.Conv2D(filters=16, kernel_size=3, padding='same', activation='relu', input_shape=(32, 32, 3)),\n",
    "    tf.keras.layers.BatchNormalization(),\n",
    "    tf.keras.layers.Conv2D(filters=16, kernel_size=3, padding='same', activation='relu'),\n",
    "    tf.keras.layers.BatchNormalization(),\n",
    "    tf.keras.layers.Conv2D(filters=16, kernel_size=3, padding='same', activation='relu'),\n",
    "    tf.keras.layers.BatchNormalization(),\n",
    "    tf.keras.layers.Conv2D(filters=16, kernel_size=3, padding='same', activation='relu'),\n",
    "    tf.keras.layers.MaxPooling2D(pool_size=2),\n",
    "    tf.keras.layers.Dropout(0.2),\n",
    "    \n",
    "    tf.keras.layers.Conv2D(filters=32, kernel_size=5, padding='same', activation='relu'),\n",
    "    tf.keras.layers.BatchNormalization(),\n",
    "    tf.keras.layers.Conv2D(filters=32, kernel_size=5, padding='same', activation='relu'),\n",
    "    tf.keras.layers.BatchNormalization(),\n",
    "    tf.keras.layers.Conv2D(filters=32, kernel_size=5, padding='same', activation='relu'),\n",
    "    tf.keras.layers.BatchNormalization(),\n",
    "    tf.keras.layers.Conv2D(filters=32, kernel_size=5, padding='same', activation='relu'),\n",
    "    tf.keras.layers.MaxPooling2D(pool_size=2),\n",
    "    tf.keras.layers.Dropout(0.3),\n",
    "    \n",
    "    tf.keras.layers.Conv2D(filters=128, kernel_size=7, padding='same', activation='relu'),\n",
    "    tf.keras.layers.Conv2D(filters=128, kernel_size=7, padding='same', activation='relu'),\n",
    "    tf.keras.layers.BatchNormalization(),\n",
    "    tf.keras.layers.Conv2D(filters=128, kernel_size=7, padding='same', activation='relu'),\n",
    "    tf.keras.layers.Conv2D(filters=128, kernel_size=7, padding='same', activation='relu'),\n",
    "    tf.keras.layers.MaxPooling2D(pool_size=2),\n",
    "    tf.keras.layers.Dropout(0.4),\n",
    "    \n",
    "    tf.keras.layers.Flatten(),\n",
    "    tf.keras.layers.Dense(units=128, activation='relu'),\n",
    "    tf.keras.layers.BatchNormalization(),\n",
    "    tf.keras.layers.Dropout(0.5),\n",
    "    tf.keras.layers.Dense(units=10, activation='softmax')\n",
    "])\n",
    "\n",
    "\n",
    "optimizer = tf.keras.optimizers.Adam(learning_rate=config.learning_rate)\n",
    "\n",
    "model.compile(optimizer=optimizer, loss='categorical_crossentropy', metrics=['accuracy'])\n",
    "\n",
    "early_stop = tf.keras.callbacks.EarlyStopping(monitor='val_loss', patience=10)\n",
    "lr_scheduler = tf.keras.callbacks.ReduceLROnPlateau(monitor='val_loss', factor=0.8, patience=5, min_lr=0.000001)\n",
    "\n",
    "history = model.fit(X_train, y_train, epochs=config.epochs, batch_size=config.batch_size, validation_data=(X_val, y_val), callbacks=[lr_scheduler,early_stop,WandbCallback()])\n",
    "\n",
    "# Evaluate the model\n",
    "val_loss, val_acc = model.evaluate(X_test, y_test, verbose=2)\n",
    "print('Test accuracy:', val_acc)\n",
    "print('Test loss:', val_loss)\n",
    "\n",
    "# Evaluate the model on the val set and log the results\n",
    "wandb.log({'Test loss': val_loss, 'Test accuracy': val_acc})\n"
   ]
  },
  {
   "cell_type": "code",
   "execution_count": 28,
   "id": "9336846f",
   "metadata": {},
   "outputs": [
    {
     "name": "stdout",
     "output_type": "stream",
     "text": [
      "Model: \"sequential_4\"\n",
      "_________________________________________________________________\n",
      " Layer (type)                Output Shape              Param #   \n",
      "=================================================================\n",
      " conv2d_45 (Conv2D)          (None, 32, 32, 16)        448       \n",
      "                                                                 \n",
      " batch_normalization_32 (Bat  (None, 32, 32, 16)       64        \n",
      " chNormalization)                                                \n",
      "                                                                 \n",
      " conv2d_46 (Conv2D)          (None, 32, 32, 16)        2320      \n",
      "                                                                 \n",
      " batch_normalization_33 (Bat  (None, 32, 32, 16)       64        \n",
      " chNormalization)                                                \n",
      "                                                                 \n",
      " conv2d_47 (Conv2D)          (None, 32, 32, 16)        2320      \n",
      "                                                                 \n",
      " batch_normalization_34 (Bat  (None, 32, 32, 16)       64        \n",
      " chNormalization)                                                \n",
      "                                                                 \n",
      " conv2d_48 (Conv2D)          (None, 32, 32, 16)        2320      \n",
      "                                                                 \n",
      " max_pooling2d_12 (MaxPoolin  (None, 16, 16, 16)       0         \n",
      " g2D)                                                            \n",
      "                                                                 \n",
      " dropout_14 (Dropout)        (None, 16, 16, 16)        0         \n",
      "                                                                 \n",
      " conv2d_49 (Conv2D)          (None, 16, 16, 32)        12832     \n",
      "                                                                 \n",
      " batch_normalization_35 (Bat  (None, 16, 16, 32)       128       \n",
      " chNormalization)                                                \n",
      "                                                                 \n",
      " conv2d_50 (Conv2D)          (None, 16, 16, 32)        25632     \n",
      "                                                                 \n",
      " batch_normalization_36 (Bat  (None, 16, 16, 32)       128       \n",
      " chNormalization)                                                \n",
      "                                                                 \n",
      " conv2d_51 (Conv2D)          (None, 16, 16, 32)        25632     \n",
      "                                                                 \n",
      " batch_normalization_37 (Bat  (None, 16, 16, 32)       128       \n",
      " chNormalization)                                                \n",
      "                                                                 \n",
      " conv2d_52 (Conv2D)          (None, 16, 16, 32)        25632     \n",
      "                                                                 \n",
      " max_pooling2d_13 (MaxPoolin  (None, 8, 8, 32)         0         \n",
      " g2D)                                                            \n",
      "                                                                 \n",
      " dropout_15 (Dropout)        (None, 8, 8, 32)          0         \n",
      "                                                                 \n",
      " conv2d_53 (Conv2D)          (None, 8, 8, 128)         200832    \n",
      "                                                                 \n",
      " conv2d_54 (Conv2D)          (None, 8, 8, 128)         802944    \n",
      "                                                                 \n",
      " batch_normalization_38 (Bat  (None, 8, 8, 128)        512       \n",
      " chNormalization)                                                \n",
      "                                                                 \n",
      " conv2d_55 (Conv2D)          (None, 8, 8, 128)         802944    \n",
      "                                                                 \n",
      " conv2d_56 (Conv2D)          (None, 8, 8, 128)         802944    \n",
      "                                                                 \n",
      " max_pooling2d_14 (MaxPoolin  (None, 4, 4, 128)        0         \n",
      " g2D)                                                            \n",
      "                                                                 \n",
      " dropout_16 (Dropout)        (None, 4, 4, 128)         0         \n",
      "                                                                 \n",
      " flatten_5 (Flatten)         (None, 2048)              0         \n",
      "                                                                 \n",
      " dense_14 (Dense)            (None, 128)               262272    \n",
      "                                                                 \n",
      " batch_normalization_39 (Bat  (None, 128)              512       \n",
      " chNormalization)                                                \n",
      "                                                                 \n",
      " dropout_17 (Dropout)        (None, 128)               0         \n",
      "                                                                 \n",
      " dense_15 (Dense)            (None, 10)                1290      \n",
      "                                                                 \n",
      "=================================================================\n",
      "Total params: 2,971,962\n",
      "Trainable params: 2,971,162\n",
      "Non-trainable params: 800\n",
      "_________________________________________________________________\n"
     ]
    }
   ],
   "source": [
    "model.summary()"
   ]
  },
  {
   "cell_type": "code",
   "execution_count": null,
   "id": "338aa0d6",
   "metadata": {},
   "outputs": [],
   "source": [
    "plt.plot(history.history['loss'], label='Training Loss')\n",
    "plt.plot(history.history['val_loss'], label='Validation Loss')\n",
    "plt.plot(history.history['accuracy'], label='Training Accuracy')\n",
    "plt.plot(history.history['val_accuracy'], label='Validation Accuracy')\n",
    "\n",
    "plt.xlabel('Epoch')\n",
    "plt.ylabel('Loss / Accuracy')\n",
    "plt.legend()\n",
    "plt.show()"
   ]
  },
  {
   "cell_type": "markdown",
   "id": "df9b070b",
   "metadata": {},
   "source": [
    "# Pokus cislo 11\n",
    "\n",
    "__Test accuracy: 0.7222__\\\n",
    "__Test loss: 1.2__"
   ]
  },
  {
   "cell_type": "code",
   "execution_count": 15,
   "id": "39f3792f",
   "metadata": {},
   "outputs": [
    {
     "name": "stderr",
     "output_type": "stream",
     "text": [
      "\u001b[34m\u001b[1mwandb\u001b[0m: Currently logged in as: \u001b[33mandrejbelak0\u001b[0m (\u001b[33mneural-netwok-nn\u001b[0m). Use \u001b[1m`wandb login --relogin`\u001b[0m to force relogin\n"
     ]
    },
    {
     "data": {
      "text/html": [
       "wandb version 0.14.2 is available!  To upgrade, please run:\n",
       " $ pip install wandb --upgrade"
      ],
      "text/plain": [
       "<IPython.core.display.HTML object>"
      ]
     },
     "metadata": {},
     "output_type": "display_data"
    },
    {
     "data": {
      "text/html": [
       "Tracking run with wandb version 0.14.0"
      ],
      "text/plain": [
       "<IPython.core.display.HTML object>"
      ]
     },
     "metadata": {},
     "output_type": "display_data"
    },
    {
     "data": {
      "text/html": [
       "Run data is saved locally in <code>D:\\10.semester\\NN\\neural-networks\\2.zadanie\\src\\wandb\\run-20230412_224138-4rzaymfy</code>"
      ],
      "text/plain": [
       "<IPython.core.display.HTML object>"
      ]
     },
     "metadata": {},
     "output_type": "display_data"
    },
    {
     "data": {
      "text/html": [
       "Syncing run <strong><a href='https://wandb.ai/neural-netwok-nn/neural-network-assgiment2/runs/4rzaymfy' target=\"_blank\">copper-cosmos-14</a></strong> to <a href='https://wandb.ai/neural-netwok-nn/neural-network-assgiment2' target=\"_blank\">Weights & Biases</a> (<a href='https://wandb.me/run' target=\"_blank\">docs</a>)<br/>"
      ],
      "text/plain": [
       "<IPython.core.display.HTML object>"
      ]
     },
     "metadata": {},
     "output_type": "display_data"
    },
    {
     "data": {
      "text/html": [
       " View project at <a href='https://wandb.ai/neural-netwok-nn/neural-network-assgiment2' target=\"_blank\">https://wandb.ai/neural-netwok-nn/neural-network-assgiment2</a>"
      ],
      "text/plain": [
       "<IPython.core.display.HTML object>"
      ]
     },
     "metadata": {},
     "output_type": "display_data"
    },
    {
     "data": {
      "text/html": [
       " View run at <a href='https://wandb.ai/neural-netwok-nn/neural-network-assgiment2/runs/4rzaymfy' target=\"_blank\">https://wandb.ai/neural-netwok-nn/neural-network-assgiment2/runs/4rzaymfy</a>"
      ],
      "text/plain": [
       "<IPython.core.display.HTML object>"
      ]
     },
     "metadata": {},
     "output_type": "display_data"
    },
    {
     "name": "stderr",
     "output_type": "stream",
     "text": [
      "\u001b[34m\u001b[1mwandb\u001b[0m: \u001b[33mWARNING\u001b[0m The save_model argument by default saves the model in the HDF5 format that cannot save custom objects like subclassed models and custom layers. This behavior will be deprecated in a future release in favor of the SavedModel format. Meanwhile, the HDF5 model is saved as W&B files and the SavedModel as W&B Artifacts.\n"
     ]
    },
    {
     "name": "stdout",
     "output_type": "stream",
     "text": [
      "Epoch 1/20\n",
      "1561/1563 [============================>.] - ETA: 0s - loss: 1.5134 - accuracy: 0.4691"
     ]
    },
    {
     "name": "stderr",
     "output_type": "stream",
     "text": [
      "WARNING:absl:Found untraced functions such as _jit_compiled_convolution_op, _jit_compiled_convolution_op, _jit_compiled_convolution_op, _update_step_xla while saving (showing 4 of 4). These functions will not be directly callable after loading.\n"
     ]
    },
    {
     "name": "stdout",
     "output_type": "stream",
     "text": [
      "INFO:tensorflow:Assets written to: D:\\10.semester\\NN\\neural-networks\\2.zadanie\\src\\wandb\\run-20230412_224138-4rzaymfy\\files\\model-best\\assets\n"
     ]
    },
    {
     "name": "stderr",
     "output_type": "stream",
     "text": [
      "INFO:tensorflow:Assets written to: D:\\10.semester\\NN\\neural-networks\\2.zadanie\\src\\wandb\\run-20230412_224138-4rzaymfy\\files\\model-best\\assets\n",
      "\u001b[34m\u001b[1mwandb\u001b[0m: Adding directory to artifact (D:\\10.semester\\NN\\neural-networks\\2.zadanie\\src\\wandb\\run-20230412_224138-4rzaymfy\\files\\model-best)... Done. 0.0s\n"
     ]
    },
    {
     "name": "stdout",
     "output_type": "stream",
     "text": [
      "1563/1563 [==============================] - 32s 19ms/step - loss: 1.5132 - accuracy: 0.4692 - val_loss: 1.3608 - val_accuracy: 0.5246 - lr: 0.0010\n",
      "Epoch 2/20\n",
      "1561/1563 [============================>.] - ETA: 0s - loss: 1.1229 - accuracy: 0.6028"
     ]
    },
    {
     "name": "stderr",
     "output_type": "stream",
     "text": [
      "WARNING:absl:Found untraced functions such as _jit_compiled_convolution_op, _jit_compiled_convolution_op, _jit_compiled_convolution_op, _update_step_xla while saving (showing 4 of 4). These functions will not be directly callable after loading.\n"
     ]
    },
    {
     "name": "stdout",
     "output_type": "stream",
     "text": [
      "INFO:tensorflow:Assets written to: D:\\10.semester\\NN\\neural-networks\\2.zadanie\\src\\wandb\\run-20230412_224138-4rzaymfy\\files\\model-best\\assets\n"
     ]
    },
    {
     "name": "stderr",
     "output_type": "stream",
     "text": [
      "INFO:tensorflow:Assets written to: D:\\10.semester\\NN\\neural-networks\\2.zadanie\\src\\wandb\\run-20230412_224138-4rzaymfy\\files\\model-best\\assets\n",
      "\u001b[34m\u001b[1mwandb\u001b[0m: Adding directory to artifact (D:\\10.semester\\NN\\neural-networks\\2.zadanie\\src\\wandb\\run-20230412_224138-4rzaymfy\\files\\model-best)... Done. 0.0s\n"
     ]
    },
    {
     "name": "stdout",
     "output_type": "stream",
     "text": [
      "1563/1563 [==============================] - 30s 19ms/step - loss: 1.1226 - accuracy: 0.6029 - val_loss: 1.1787 - val_accuracy: 0.5830 - lr: 0.0010\n",
      "Epoch 3/20\n",
      "1561/1563 [============================>.] - ETA: 0s - loss: 0.9445 - accuracy: 0.6660"
     ]
    },
    {
     "name": "stderr",
     "output_type": "stream",
     "text": [
      "WARNING:absl:Found untraced functions such as _jit_compiled_convolution_op, _jit_compiled_convolution_op, _jit_compiled_convolution_op, _update_step_xla while saving (showing 4 of 4). These functions will not be directly callable after loading.\n"
     ]
    },
    {
     "name": "stdout",
     "output_type": "stream",
     "text": [
      "INFO:tensorflow:Assets written to: D:\\10.semester\\NN\\neural-networks\\2.zadanie\\src\\wandb\\run-20230412_224138-4rzaymfy\\files\\model-best\\assets\n"
     ]
    },
    {
     "name": "stderr",
     "output_type": "stream",
     "text": [
      "INFO:tensorflow:Assets written to: D:\\10.semester\\NN\\neural-networks\\2.zadanie\\src\\wandb\\run-20230412_224138-4rzaymfy\\files\\model-best\\assets\n",
      "\u001b[34m\u001b[1mwandb\u001b[0m: Adding directory to artifact (D:\\10.semester\\NN\\neural-networks\\2.zadanie\\src\\wandb\\run-20230412_224138-4rzaymfy\\files\\model-best)... Done. 0.0s\n"
     ]
    },
    {
     "name": "stdout",
     "output_type": "stream",
     "text": [
      "1563/1563 [==============================] - 30s 19ms/step - loss: 0.9444 - accuracy: 0.6660 - val_loss: 1.0916 - val_accuracy: 0.6318 - lr: 0.0010\n",
      "Epoch 4/20\n",
      "1561/1563 [============================>.] - ETA: 0s - loss: 0.8107 - accuracy: 0.7153"
     ]
    },
    {
     "name": "stderr",
     "output_type": "stream",
     "text": [
      "WARNING:absl:Found untraced functions such as _jit_compiled_convolution_op, _jit_compiled_convolution_op, _jit_compiled_convolution_op, _update_step_xla while saving (showing 4 of 4). These functions will not be directly callable after loading.\n"
     ]
    },
    {
     "name": "stdout",
     "output_type": "stream",
     "text": [
      "INFO:tensorflow:Assets written to: D:\\10.semester\\NN\\neural-networks\\2.zadanie\\src\\wandb\\run-20230412_224138-4rzaymfy\\files\\model-best\\assets\n"
     ]
    },
    {
     "name": "stderr",
     "output_type": "stream",
     "text": [
      "INFO:tensorflow:Assets written to: D:\\10.semester\\NN\\neural-networks\\2.zadanie\\src\\wandb\\run-20230412_224138-4rzaymfy\\files\\model-best\\assets\n",
      "\u001b[34m\u001b[1mwandb\u001b[0m: Adding directory to artifact (D:\\10.semester\\NN\\neural-networks\\2.zadanie\\src\\wandb\\run-20230412_224138-4rzaymfy\\files\\model-best)... Done. 0.0s\n"
     ]
    },
    {
     "name": "stdout",
     "output_type": "stream",
     "text": [
      "1563/1563 [==============================] - 31s 20ms/step - loss: 0.8106 - accuracy: 0.7153 - val_loss: 0.9744 - val_accuracy: 0.6718 - lr: 0.0010\n",
      "Epoch 5/20\n",
      "1560/1563 [============================>.] - ETA: 0s - loss: 0.7095 - accuracy: 0.7501"
     ]
    },
    {
     "name": "stderr",
     "output_type": "stream",
     "text": [
      "WARNING:absl:Found untraced functions such as _jit_compiled_convolution_op, _jit_compiled_convolution_op, _jit_compiled_convolution_op, _update_step_xla while saving (showing 4 of 4). These functions will not be directly callable after loading.\n"
     ]
    },
    {
     "name": "stdout",
     "output_type": "stream",
     "text": [
      "INFO:tensorflow:Assets written to: D:\\10.semester\\NN\\neural-networks\\2.zadanie\\src\\wandb\\run-20230412_224138-4rzaymfy\\files\\model-best\\assets\n"
     ]
    },
    {
     "name": "stderr",
     "output_type": "stream",
     "text": [
      "INFO:tensorflow:Assets written to: D:\\10.semester\\NN\\neural-networks\\2.zadanie\\src\\wandb\\run-20230412_224138-4rzaymfy\\files\\model-best\\assets\n",
      "\u001b[34m\u001b[1mwandb\u001b[0m: Adding directory to artifact (D:\\10.semester\\NN\\neural-networks\\2.zadanie\\src\\wandb\\run-20230412_224138-4rzaymfy\\files\\model-best)... Done. 0.0s\n"
     ]
    },
    {
     "name": "stdout",
     "output_type": "stream",
     "text": [
      "1563/1563 [==============================] - 31s 20ms/step - loss: 0.7093 - accuracy: 0.7501 - val_loss: 0.9365 - val_accuracy: 0.6862 - lr: 0.0010\n",
      "Epoch 6/20\n",
      "1560/1563 [============================>.] - ETA: 0s - loss: 0.6117 - accuracy: 0.7833"
     ]
    },
    {
     "name": "stderr",
     "output_type": "stream",
     "text": [
      "WARNING:absl:Found untraced functions such as _jit_compiled_convolution_op, _jit_compiled_convolution_op, _jit_compiled_convolution_op, _update_step_xla while saving (showing 4 of 4). These functions will not be directly callable after loading.\n"
     ]
    },
    {
     "name": "stdout",
     "output_type": "stream",
     "text": [
      "INFO:tensorflow:Assets written to: D:\\10.semester\\NN\\neural-networks\\2.zadanie\\src\\wandb\\run-20230412_224138-4rzaymfy\\files\\model-best\\assets\n"
     ]
    },
    {
     "name": "stderr",
     "output_type": "stream",
     "text": [
      "INFO:tensorflow:Assets written to: D:\\10.semester\\NN\\neural-networks\\2.zadanie\\src\\wandb\\run-20230412_224138-4rzaymfy\\files\\model-best\\assets\n",
      "\u001b[34m\u001b[1mwandb\u001b[0m: Adding directory to artifact (D:\\10.semester\\NN\\neural-networks\\2.zadanie\\src\\wandb\\run-20230412_224138-4rzaymfy\\files\\model-best)... Done. 0.0s\n"
     ]
    },
    {
     "name": "stdout",
     "output_type": "stream",
     "text": [
      "1563/1563 [==============================] - 31s 20ms/step - loss: 0.6119 - accuracy: 0.7833 - val_loss: 0.9010 - val_accuracy: 0.7118 - lr: 0.0010\n",
      "Epoch 7/20\n",
      "1563/1563 [==============================] - 29s 19ms/step - loss: 0.5321 - accuracy: 0.8120 - val_loss: 0.9645 - val_accuracy: 0.6894 - lr: 0.0010\n",
      "Epoch 8/20\n",
      "1563/1563 [==============================] - 30s 19ms/step - loss: 0.4609 - accuracy: 0.8358 - val_loss: 1.0105 - val_accuracy: 0.6850 - lr: 0.0010\n",
      "Epoch 9/20\n",
      "1563/1563 [==============================] - 30s 19ms/step - loss: 0.4034 - accuracy: 0.8585 - val_loss: 1.0805 - val_accuracy: 0.6892 - lr: 0.0010\n",
      "Epoch 10/20\n",
      "1563/1563 [==============================] - 32s 20ms/step - loss: 0.3499 - accuracy: 0.8757 - val_loss: 1.0843 - val_accuracy: 0.6954 - lr: 0.0010\n",
      "Epoch 11/20\n",
      "1563/1563 [==============================] - 28s 18ms/step - loss: 0.3154 - accuracy: 0.8884 - val_loss: 1.1607 - val_accuracy: 0.6832 - lr: 0.0010\n",
      "Epoch 12/20\n",
      "1563/1563 [==============================] - 28s 18ms/step - loss: 0.2389 - accuracy: 0.9156 - val_loss: 1.1112 - val_accuracy: 0.7088 - lr: 8.0000e-04\n",
      "Epoch 13/20\n",
      "1563/1563 [==============================] - 28s 18ms/step - loss: 0.2030 - accuracy: 0.9283 - val_loss: 1.2459 - val_accuracy: 0.6818 - lr: 8.0000e-04\n",
      "Epoch 14/20\n",
      "1563/1563 [==============================] - 28s 18ms/step - loss: 0.1946 - accuracy: 0.9310 - val_loss: 1.2525 - val_accuracy: 0.6988 - lr: 8.0000e-04\n",
      "Epoch 15/20\n",
      "1563/1563 [==============================] - 30s 19ms/step - loss: 0.1745 - accuracy: 0.9380 - val_loss: 1.2861 - val_accuracy: 0.7016 - lr: 8.0000e-04\n",
      "Epoch 16/20\n",
      "1563/1563 [==============================] - 29s 19ms/step - loss: 0.1631 - accuracy: 0.9419 - val_loss: 1.2980 - val_accuracy: 0.7036 - lr: 8.0000e-04\n",
      "157/157 - 1s - loss: 1.2001 - accuracy: 0.7222 - 697ms/epoch - 4ms/step\n",
      "Test accuracy: 0.7221999764442444\n",
      "Test loss: 1.2000718116760254\n"
     ]
    }
   ],
   "source": [
    "import tensorflow as tf\n",
    "\n",
    "# Define the model architecture\n",
    "wandb.init(project=\"neural-network-assgiment2\")\n",
    "wandb.run.name = \"Pokus 11\"\n",
    "config = wandb.config\n",
    "config.learning_rate = 0.001\n",
    "config.batch_size = 32\n",
    "config.epochs = 20\n",
    "\n",
    "# Define the model architecture\n",
    "model = tf.keras.Sequential([\n",
    "    tf.keras.layers.Input(shape=(32, 32, 3)),\n",
    "    tf.keras.layers.Conv2D(filters=32, kernel_size=(3, 3), strides=(2, 2), activation='relu', padding='same'),\n",
    "    tf.keras.layers.BatchNormalization(),\n",
    "    tf.keras.layers.Dropout(0.25),\n",
    "    tf.keras.layers.Conv2D(filters=64, kernel_size=(3, 3), strides=(2, 2), activation='relu', padding='same'),\n",
    "    tf.keras.layers.BatchNormalization(),\n",
    "    tf.keras.layers.Conv2D(filters=64, kernel_size=(3, 3), strides=(2, 2), activation='relu', padding='same'),\n",
    "    tf.keras.layers.BatchNormalization(),\n",
    "    tf.keras.layers.Flatten(),\n",
    "    tf.keras.layers.Dense(units=512, activation='relu'),\n",
    "    tf.keras.layers.BatchNormalization(),\n",
    "    tf.keras.layers.Dense(units=10, activation='softmax')\n",
    "])\n",
    "\n",
    "optimizer = tf.keras.optimizers.Adam(learning_rate=config.learning_rate)\n",
    "\n",
    "model.compile(optimizer=optimizer, loss='categorical_crossentropy', metrics=['accuracy'])\n",
    "\n",
    "early_stop = tf.keras.callbacks.EarlyStopping(monitor='val_loss', patience=10)\n",
    "lr_scheduler = tf.keras.callbacks.ReduceLROnPlateau(monitor='val_loss', factor=0.8, patience=5, min_lr=0.000001)\n",
    "\n",
    "history = model.fit(X_train, y_train, epochs=config.epochs, batch_size=config.batch_size, validation_data=(X_val, y_val), callbacks=[lr_scheduler,early_stop,WandbCallback()])\n",
    "\n",
    "# Evaluate the model\n",
    "val_loss, val_acc = model.evaluate(X_test, y_test, verbose=2)\n",
    "print('Test accuracy:', val_acc)\n",
    "print('Test loss:', val_loss)\n",
    "\n",
    "# Evaluate the model on the val set and log the results\n",
    "wandb.log({'Test loss': val_loss, 'Test accuracy': val_acc})"
   ]
  },
  {
   "cell_type": "code",
   "execution_count": 16,
   "id": "1e592e1e",
   "metadata": {},
   "outputs": [
    {
     "name": "stdout",
     "output_type": "stream",
     "text": [
      "Model: \"sequential\"\n",
      "_________________________________________________________________\n",
      " Layer (type)                Output Shape              Param #   \n",
      "=================================================================\n",
      " conv2d (Conv2D)             (None, 16, 16, 32)        896       \n",
      "                                                                 \n",
      " batch_normalization (BatchN  (None, 16, 16, 32)       128       \n",
      " ormalization)                                                   \n",
      "                                                                 \n",
      " dropout (Dropout)           (None, 16, 16, 32)        0         \n",
      "                                                                 \n",
      " conv2d_1 (Conv2D)           (None, 8, 8, 64)          18496     \n",
      "                                                                 \n",
      " batch_normalization_1 (Batc  (None, 8, 8, 64)         256       \n",
      " hNormalization)                                                 \n",
      "                                                                 \n",
      " conv2d_2 (Conv2D)           (None, 4, 4, 64)          36928     \n",
      "                                                                 \n",
      " batch_normalization_2 (Batc  (None, 4, 4, 64)         256       \n",
      " hNormalization)                                                 \n",
      "                                                                 \n",
      " flatten (Flatten)           (None, 1024)              0         \n",
      "                                                                 \n",
      " dense (Dense)               (None, 512)               524800    \n",
      "                                                                 \n",
      " batch_normalization_3 (Batc  (None, 512)              2048      \n",
      " hNormalization)                                                 \n",
      "                                                                 \n",
      " dense_1 (Dense)             (None, 10)                5130      \n",
      "                                                                 \n",
      "=================================================================\n",
      "Total params: 588,938\n",
      "Trainable params: 587,594\n",
      "Non-trainable params: 1,344\n",
      "_________________________________________________________________\n"
     ]
    }
   ],
   "source": [
    "model.summary()"
   ]
  },
  {
   "cell_type": "code",
   "execution_count": 17,
   "id": "3e88c014",
   "metadata": {},
   "outputs": [
    {
     "data": {
      "image/png": "[encoded data removed]",
      "text/plain": [
       "<Figure size 640x480 with 1 Axes>"
      ]
     },
     "metadata": {},
     "output_type": "display_data"
    }
   ],
   "source": [
    "plt.plot(history.history['loss'], label='Training Loss')\n",
    "plt.plot(history.history['val_loss'], label='Validation Loss')\n",
    "plt.plot(history.history['accuracy'], label='Training Accuracy')\n",
    "plt.plot(history.history['val_accuracy'], label='Validation Accuracy')\n",
    "\n",
    "plt.xlabel('Epoch')\n",
    "plt.ylabel('Loss / Accuracy')\n",
    "plt.legend()\n",
    "plt.show()"
   ]
  },
  {
   "cell_type": "markdown",
   "id": "3ab0fe2f",
   "metadata": {},
   "source": [
    "# Pokus 12\n",
    "\n",
    "__Test accuracy: 0.762__\\\n",
    "__Test loss: 0.7438__"
   ]
  },
  {
   "cell_type": "code",
   "execution_count": 18,
   "id": "797f5cef",
   "metadata": {},
   "outputs": [
    {
     "data": {
      "text/html": [
       "Finishing last run (ID:4rzaymfy) before initializing another..."
      ],
      "text/plain": [
       "<IPython.core.display.HTML object>"
      ]
     },
     "metadata": {},
     "output_type": "display_data"
    },
    {
     "data": {
      "text/html": [
       "Waiting for W&B process to finish... <strong style=\"color:green\">(success).</strong>"
      ],
      "text/plain": [
       "<IPython.core.display.HTML object>"
      ]
     },
     "metadata": {},
     "output_type": "display_data"
    },
    {
     "data": {
      "text/html": [
       "<style>\n",
       "    table.wandb td:nth-child(1) { padding: 0 10px; text-align: left ; width: auto;} td:nth-child(2) {text-align: left ; width: 100%}\n",
       "    .wandb-row { display: flex; flex-direction: row; flex-wrap: wrap; justify-content: flex-start; width: 100% }\n",
       "    .wandb-col { display: flex; flex-direction: column; flex-basis: 100%; flex: 1; padding: 10px; }\n",
       "    </style>\n",
       "<div class=\"wandb-row\"><div class=\"wandb-col\"><h3>Run history:</h3><br/><table class=\"wandb\"><tr><td>Test accuracy</td><td>▁</td></tr><tr><td>Test loss</td><td>▁</td></tr><tr><td>accuracy</td><td>▁▃▄▅▅▆▆▆▇▇▇█████</td></tr><tr><td>epoch</td><td>▁▁▂▂▃▃▄▄▅▅▆▆▇▇██</td></tr><tr><td>loss</td><td>█▆▅▄▄▃▃▃▂▂▂▁▁▁▁▁</td></tr><tr><td>lr</td><td>███████████▁▁▁▁▁</td></tr><tr><td>val_accuracy</td><td>▁▃▅▇▇█▇▇▇▇▇█▇███</td></tr><tr><td>val_loss</td><td>█▅▄▂▂▁▂▃▄▄▅▄▆▆▇▇</td></tr></table><br/></div><div class=\"wandb-col\"><h3>Run summary:</h3><br/><table class=\"wandb\"><tr><td>Test accuracy</td><td>0.7222</td></tr><tr><td>Test loss</td><td>1.20007</td></tr><tr><td>accuracy</td><td>0.9419</td></tr><tr><td>best_epoch</td><td>5</td></tr><tr><td>best_val_loss</td><td>0.90095</td></tr><tr><td>epoch</td><td>15</td></tr><tr><td>loss</td><td>0.16306</td></tr><tr><td>lr</td><td>0.0008</td></tr><tr><td>val_accuracy</td><td>0.7036</td></tr><tr><td>val_loss</td><td>1.29796</td></tr></table><br/></div></div>"
      ],
      "text/plain": [
       "<IPython.core.display.HTML object>"
      ]
     },
     "metadata": {},
     "output_type": "display_data"
    },
    {
     "data": {
      "text/html": [
       " View run <strong style=\"color:#cdcd00\">copper-cosmos-14</strong> at: <a href='https://wandb.ai/neural-netwok-nn/neural-network-assgiment2/runs/4rzaymfy' target=\"_blank\">https://wandb.ai/neural-netwok-nn/neural-network-assgiment2/runs/4rzaymfy</a><br/>Synced 5 W&B file(s), 1 media file(s), 30 artifact file(s) and 1 other file(s)"
      ],
      "text/plain": [
       "<IPython.core.display.HTML object>"
      ]
     },
     "metadata": {},
     "output_type": "display_data"
    },
    {
     "data": {
      "text/html": [
       "Find logs at: <code>.\\wandb\\run-20230412_224138-4rzaymfy\\logs</code>"
      ],
      "text/plain": [
       "<IPython.core.display.HTML object>"
      ]
     },
     "metadata": {},
     "output_type": "display_data"
    },
    {
     "data": {
      "text/html": [
       "Successfully finished last run (ID:4rzaymfy). Initializing new run:<br/>"
      ],
      "text/plain": [
       "<IPython.core.display.HTML object>"
      ]
     },
     "metadata": {},
     "output_type": "display_data"
    },
    {
     "data": {
      "application/vnd.jupyter.widget-view+json": {
       "model_id": "f1e8aaec6fd543c7becf13dde2133f47",
       "version_major": 2,
       "version_minor": 0
      },
      "text/plain": [
       "VBox(children=(Label(value='Waiting for wandb.init()...\\r'), FloatProgress(value=0.01693333333338766, max=1.0)…"
      ]
     },
     "metadata": {},
     "output_type": "display_data"
    },
    {
     "data": {
      "text/html": [
       "wandb version 0.14.2 is available!  To upgrade, please run:\n",
       " $ pip install wandb --upgrade"
      ],
      "text/plain": [
       "<IPython.core.display.HTML object>"
      ]
     },
     "metadata": {},
     "output_type": "display_data"
    },
    {
     "data": {
      "text/html": [
       "Tracking run with wandb version 0.14.0"
      ],
      "text/plain": [
       "<IPython.core.display.HTML object>"
      ]
     },
     "metadata": {},
     "output_type": "display_data"
    },
    {
     "data": {
      "text/html": [
       "Run data is saved locally in <code>D:\\10.semester\\NN\\neural-networks\\2.zadanie\\src\\wandb\\run-20230412_224936-kp1fom2z</code>"
      ],
      "text/plain": [
       "<IPython.core.display.HTML object>"
      ]
     },
     "metadata": {},
     "output_type": "display_data"
    },
    {
     "data": {
      "text/html": [
       "Syncing run <strong><a href='https://wandb.ai/neural-netwok-nn/neural-network-assgiment2/runs/kp1fom2z' target=\"_blank\">desert-dragon-15</a></strong> to <a href='https://wandb.ai/neural-netwok-nn/neural-network-assgiment2' target=\"_blank\">Weights & Biases</a> (<a href='https://wandb.me/run' target=\"_blank\">docs</a>)<br/>"
      ],
      "text/plain": [
       "<IPython.core.display.HTML object>"
      ]
     },
     "metadata": {},
     "output_type": "display_data"
    },
    {
     "data": {
      "text/html": [
       " View project at <a href='https://wandb.ai/neural-netwok-nn/neural-network-assgiment2' target=\"_blank\">https://wandb.ai/neural-netwok-nn/neural-network-assgiment2</a>"
      ],
      "text/plain": [
       "<IPython.core.display.HTML object>"
      ]
     },
     "metadata": {},
     "output_type": "display_data"
    },
    {
     "data": {
      "text/html": [
       " View run at <a href='https://wandb.ai/neural-netwok-nn/neural-network-assgiment2/runs/kp1fom2z' target=\"_blank\">https://wandb.ai/neural-netwok-nn/neural-network-assgiment2/runs/kp1fom2z</a>"
      ],
      "text/plain": [
       "<IPython.core.display.HTML object>"
      ]
     },
     "metadata": {},
     "output_type": "display_data"
    },
    {
     "name": "stdout",
     "output_type": "stream",
     "text": [
      "Epoch 1/20\n",
      "781/782 [============================>.] - ETA: 0s - loss: 1.8277 - accuracy: 0.3285"
     ]
    },
    {
     "name": "stderr",
     "output_type": "stream",
     "text": [
      "WARNING:absl:Found untraced functions such as _jit_compiled_convolution_op, _jit_compiled_convolution_op, _jit_compiled_convolution_op, _jit_compiled_convolution_op, _jit_compiled_convolution_op while saving (showing 5 of 10). These functions will not be directly callable after loading.\n"
     ]
    },
    {
     "name": "stdout",
     "output_type": "stream",
     "text": [
      "INFO:tensorflow:Assets written to: D:\\10.semester\\NN\\neural-networks\\2.zadanie\\src\\wandb\\run-20230412_224936-kp1fom2z\\files\\model-best\\assets\n"
     ]
    },
    {
     "name": "stderr",
     "output_type": "stream",
     "text": [
      "INFO:tensorflow:Assets written to: D:\\10.semester\\NN\\neural-networks\\2.zadanie\\src\\wandb\\run-20230412_224936-kp1fom2z\\files\\model-best\\assets\n",
      "\u001b[34m\u001b[1mwandb\u001b[0m: Adding directory to artifact (D:\\10.semester\\NN\\neural-networks\\2.zadanie\\src\\wandb\\run-20230412_224936-kp1fom2z\\files\\model-best)... Done. 0.0s\n"
     ]
    },
    {
     "name": "stdout",
     "output_type": "stream",
     "text": [
      "782/782 [==============================] - 46s 56ms/step - loss: 1.8276 - accuracy: 0.3285 - val_loss: 1.5540 - val_accuracy: 0.4324 - lr: 0.0010\n",
      "Epoch 2/20\n",
      "782/782 [==============================] - 47s 60ms/step - loss: 1.4397 - accuracy: 0.4814 - val_loss: 1.8685 - val_accuracy: 0.4000 - lr: 0.0010\n",
      "Epoch 3/20\n",
      "781/782 [============================>.] - ETA: 0s - loss: 1.2665 - accuracy: 0.5494"
     ]
    },
    {
     "name": "stderr",
     "output_type": "stream",
     "text": [
      "WARNING:absl:Found untraced functions such as _jit_compiled_convolution_op, _jit_compiled_convolution_op, _jit_compiled_convolution_op, _jit_compiled_convolution_op, _jit_compiled_convolution_op while saving (showing 5 of 10). These functions will not be directly callable after loading.\n"
     ]
    },
    {
     "name": "stdout",
     "output_type": "stream",
     "text": [
      "INFO:tensorflow:Assets written to: D:\\10.semester\\NN\\neural-networks\\2.zadanie\\src\\wandb\\run-20230412_224936-kp1fom2z\\files\\model-best\\assets\n"
     ]
    },
    {
     "name": "stderr",
     "output_type": "stream",
     "text": [
      "INFO:tensorflow:Assets written to: D:\\10.semester\\NN\\neural-networks\\2.zadanie\\src\\wandb\\run-20230412_224936-kp1fom2z\\files\\model-best\\assets\n",
      "\u001b[34m\u001b[1mwandb\u001b[0m: Adding directory to artifact (D:\\10.semester\\NN\\neural-networks\\2.zadanie\\src\\wandb\\run-20230412_224936-kp1fom2z\\files\\model-best)... Done. 0.0s\n"
     ]
    },
    {
     "name": "stdout",
     "output_type": "stream",
     "text": [
      "782/782 [==============================] - 45s 58ms/step - loss: 1.2665 - accuracy: 0.5494 - val_loss: 1.2111 - val_accuracy: 0.5754 - lr: 0.0010\n",
      "Epoch 4/20\n",
      "781/782 [============================>.] - ETA: 0s - loss: 1.1560 - accuracy: 0.5959"
     ]
    },
    {
     "name": "stderr",
     "output_type": "stream",
     "text": [
      "WARNING:absl:Found untraced functions such as _jit_compiled_convolution_op, _jit_compiled_convolution_op, _jit_compiled_convolution_op, _jit_compiled_convolution_op, _jit_compiled_convolution_op while saving (showing 5 of 10). These functions will not be directly callable after loading.\n"
     ]
    },
    {
     "name": "stdout",
     "output_type": "stream",
     "text": [
      "INFO:tensorflow:Assets written to: D:\\10.semester\\NN\\neural-networks\\2.zadanie\\src\\wandb\\run-20230412_224936-kp1fom2z\\files\\model-best\\assets\n"
     ]
    },
    {
     "name": "stderr",
     "output_type": "stream",
     "text": [
      "INFO:tensorflow:Assets written to: D:\\10.semester\\NN\\neural-networks\\2.zadanie\\src\\wandb\\run-20230412_224936-kp1fom2z\\files\\model-best\\assets\n",
      "\u001b[34m\u001b[1mwandb\u001b[0m: Adding directory to artifact (D:\\10.semester\\NN\\neural-networks\\2.zadanie\\src\\wandb\\run-20230412_224936-kp1fom2z\\files\\model-best)... Done. 0.0s\n"
     ]
    },
    {
     "name": "stdout",
     "output_type": "stream",
     "text": [
      "782/782 [==============================] - 44s 57ms/step - loss: 1.1562 - accuracy: 0.5959 - val_loss: 1.1701 - val_accuracy: 0.5914 - lr: 0.0010\n",
      "Epoch 5/20\n",
      "781/782 [============================>.] - ETA: 0s - loss: 1.0652 - accuracy: 0.6321"
     ]
    },
    {
     "name": "stderr",
     "output_type": "stream",
     "text": [
      "WARNING:absl:Found untraced functions such as _jit_compiled_convolution_op, _jit_compiled_convolution_op, _jit_compiled_convolution_op, _jit_compiled_convolution_op, _jit_compiled_convolution_op while saving (showing 5 of 10). These functions will not be directly callable after loading.\n"
     ]
    },
    {
     "name": "stdout",
     "output_type": "stream",
     "text": [
      "INFO:tensorflow:Assets written to: D:\\10.semester\\NN\\neural-networks\\2.zadanie\\src\\wandb\\run-20230412_224936-kp1fom2z\\files\\model-best\\assets\n"
     ]
    },
    {
     "name": "stderr",
     "output_type": "stream",
     "text": [
      "INFO:tensorflow:Assets written to: D:\\10.semester\\NN\\neural-networks\\2.zadanie\\src\\wandb\\run-20230412_224936-kp1fom2z\\files\\model-best\\assets\n",
      "\u001b[34m\u001b[1mwandb\u001b[0m: Adding directory to artifact (D:\\10.semester\\NN\\neural-networks\\2.zadanie\\src\\wandb\\run-20230412_224936-kp1fom2z\\files\\model-best)... Done. 0.0s\n"
     ]
    },
    {
     "name": "stdout",
     "output_type": "stream",
     "text": [
      "782/782 [==============================] - 46s 59ms/step - loss: 1.0652 - accuracy: 0.6321 - val_loss: 1.1558 - val_accuracy: 0.6066 - lr: 0.0010\n",
      "Epoch 6/20\n",
      "782/782 [==============================] - ETA: 0s - loss: 0.9900 - accuracy: 0.6577"
     ]
    },
    {
     "name": "stderr",
     "output_type": "stream",
     "text": [
      "WARNING:absl:Found untraced functions such as _jit_compiled_convolution_op, _jit_compiled_convolution_op, _jit_compiled_convolution_op, _jit_compiled_convolution_op, _jit_compiled_convolution_op while saving (showing 5 of 10). These functions will not be directly callable after loading.\n"
     ]
    },
    {
     "name": "stdout",
     "output_type": "stream",
     "text": [
      "INFO:tensorflow:Assets written to: D:\\10.semester\\NN\\neural-networks\\2.zadanie\\src\\wandb\\run-20230412_224936-kp1fom2z\\files\\model-best\\assets\n"
     ]
    },
    {
     "name": "stderr",
     "output_type": "stream",
     "text": [
      "INFO:tensorflow:Assets written to: D:\\10.semester\\NN\\neural-networks\\2.zadanie\\src\\wandb\\run-20230412_224936-kp1fom2z\\files\\model-best\\assets\n",
      "\u001b[34m\u001b[1mwandb\u001b[0m: Adding directory to artifact (D:\\10.semester\\NN\\neural-networks\\2.zadanie\\src\\wandb\\run-20230412_224936-kp1fom2z\\files\\model-best)... Done. 0.0s\n"
     ]
    },
    {
     "name": "stdout",
     "output_type": "stream",
     "text": [
      "782/782 [==============================] - 44s 56ms/step - loss: 0.9900 - accuracy: 0.6577 - val_loss: 1.0634 - val_accuracy: 0.6412 - lr: 0.0010\n",
      "Epoch 7/20\n",
      "782/782 [==============================] - 40s 51ms/step - loss: 0.9314 - accuracy: 0.6805 - val_loss: 1.1086 - val_accuracy: 0.6120 - lr: 0.0010\n",
      "Epoch 8/20\n",
      "782/782 [==============================] - 40s 51ms/step - loss: 0.8791 - accuracy: 0.6999 - val_loss: 1.1207 - val_accuracy: 0.6122 - lr: 0.0010\n",
      "Epoch 9/20\n",
      "781/782 [============================>.] - ETA: 0s - loss: 0.8286 - accuracy: 0.7160"
     ]
    },
    {
     "name": "stderr",
     "output_type": "stream",
     "text": [
      "WARNING:absl:Found untraced functions such as _jit_compiled_convolution_op, _jit_compiled_convolution_op, _jit_compiled_convolution_op, _jit_compiled_convolution_op, _jit_compiled_convolution_op while saving (showing 5 of 10). These functions will not be directly callable after loading.\n"
     ]
    },
    {
     "name": "stdout",
     "output_type": "stream",
     "text": [
      "INFO:tensorflow:Assets written to: D:\\10.semester\\NN\\neural-networks\\2.zadanie\\src\\wandb\\run-20230412_224936-kp1fom2z\\files\\model-best\\assets\n"
     ]
    },
    {
     "name": "stderr",
     "output_type": "stream",
     "text": [
      "INFO:tensorflow:Assets written to: D:\\10.semester\\NN\\neural-networks\\2.zadanie\\src\\wandb\\run-20230412_224936-kp1fom2z\\files\\model-best\\assets\n",
      "\u001b[34m\u001b[1mwandb\u001b[0m: Adding directory to artifact (D:\\10.semester\\NN\\neural-networks\\2.zadanie\\src\\wandb\\run-20230412_224936-kp1fom2z\\files\\model-best)... Done. 0.0s\n"
     ]
    },
    {
     "name": "stdout",
     "output_type": "stream",
     "text": [
      "782/782 [==============================] - 43s 55ms/step - loss: 0.8286 - accuracy: 0.7160 - val_loss: 0.8703 - val_accuracy: 0.7062 - lr: 0.0010\n",
      "Epoch 10/20\n",
      "782/782 [==============================] - 39s 50ms/step - loss: 0.7882 - accuracy: 0.7315 - val_loss: 0.8750 - val_accuracy: 0.7040 - lr: 0.0010\n",
      "Epoch 11/20\n",
      "781/782 [============================>.] - ETA: 0s - loss: 0.7494 - accuracy: 0.7447"
     ]
    },
    {
     "name": "stderr",
     "output_type": "stream",
     "text": [
      "WARNING:absl:Found untraced functions such as _jit_compiled_convolution_op, _jit_compiled_convolution_op, _jit_compiled_convolution_op, _jit_compiled_convolution_op, _jit_compiled_convolution_op while saving (showing 5 of 10). These functions will not be directly callable after loading.\n"
     ]
    },
    {
     "name": "stdout",
     "output_type": "stream",
     "text": [
      "INFO:tensorflow:Assets written to: D:\\10.semester\\NN\\neural-networks\\2.zadanie\\src\\wandb\\run-20230412_224936-kp1fom2z\\files\\model-best\\assets\n"
     ]
    },
    {
     "name": "stderr",
     "output_type": "stream",
     "text": [
      "INFO:tensorflow:Assets written to: D:\\10.semester\\NN\\neural-networks\\2.zadanie\\src\\wandb\\run-20230412_224936-kp1fom2z\\files\\model-best\\assets\n",
      "\u001b[34m\u001b[1mwandb\u001b[0m: Adding directory to artifact (D:\\10.semester\\NN\\neural-networks\\2.zadanie\\src\\wandb\\run-20230412_224936-kp1fom2z\\files\\model-best)... Done. 0.0s\n"
     ]
    },
    {
     "name": "stdout",
     "output_type": "stream",
     "text": [
      "782/782 [==============================] - 43s 55ms/step - loss: 0.7494 - accuracy: 0.7447 - val_loss: 0.8566 - val_accuracy: 0.6954 - lr: 0.0010\n",
      "Epoch 12/20\n",
      "782/782 [==============================] - 39s 50ms/step - loss: 0.7164 - accuracy: 0.7572 - val_loss: 0.9091 - val_accuracy: 0.6980 - lr: 0.0010\n",
      "Epoch 13/20\n",
      "781/782 [============================>.] - ETA: 0s - loss: 0.6920 - accuracy: 0.7639"
     ]
    },
    {
     "name": "stderr",
     "output_type": "stream",
     "text": [
      "WARNING:absl:Found untraced functions such as _jit_compiled_convolution_op, _jit_compiled_convolution_op, _jit_compiled_convolution_op, _jit_compiled_convolution_op, _jit_compiled_convolution_op while saving (showing 5 of 10). These functions will not be directly callable after loading.\n"
     ]
    },
    {
     "name": "stdout",
     "output_type": "stream",
     "text": [
      "INFO:tensorflow:Assets written to: D:\\10.semester\\NN\\neural-networks\\2.zadanie\\src\\wandb\\run-20230412_224936-kp1fom2z\\files\\model-best\\assets\n"
     ]
    },
    {
     "name": "stderr",
     "output_type": "stream",
     "text": [
      "INFO:tensorflow:Assets written to: D:\\10.semester\\NN\\neural-networks\\2.zadanie\\src\\wandb\\run-20230412_224936-kp1fom2z\\files\\model-best\\assets\n",
      "\u001b[34m\u001b[1mwandb\u001b[0m: Adding directory to artifact (D:\\10.semester\\NN\\neural-networks\\2.zadanie\\src\\wandb\\run-20230412_224936-kp1fom2z\\files\\model-best)... Done. 0.0s\n"
     ]
    },
    {
     "name": "stdout",
     "output_type": "stream",
     "text": [
      "782/782 [==============================] - 42s 53ms/step - loss: 0.6921 - accuracy: 0.7638 - val_loss: 0.8490 - val_accuracy: 0.7148 - lr: 0.0010\n",
      "Epoch 14/20\n",
      "782/782 [==============================] - 39s 49ms/step - loss: 0.6615 - accuracy: 0.7745 - val_loss: 1.1559 - val_accuracy: 0.6494 - lr: 0.0010\n",
      "Epoch 15/20\n",
      "782/782 [==============================] - 39s 50ms/step - loss: 0.6349 - accuracy: 0.7811 - val_loss: 0.9851 - val_accuracy: 0.6888 - lr: 0.0010\n",
      "Epoch 16/20\n",
      "781/782 [============================>.] - ETA: 0s - loss: 0.6156 - accuracy: 0.7885"
     ]
    },
    {
     "name": "stderr",
     "output_type": "stream",
     "text": [
      "WARNING:absl:Found untraced functions such as _jit_compiled_convolution_op, _jit_compiled_convolution_op, _jit_compiled_convolution_op, _jit_compiled_convolution_op, _jit_compiled_convolution_op while saving (showing 5 of 10). These functions will not be directly callable after loading.\n"
     ]
    },
    {
     "name": "stdout",
     "output_type": "stream",
     "text": [
      "INFO:tensorflow:Assets written to: D:\\10.semester\\NN\\neural-networks\\2.zadanie\\src\\wandb\\run-20230412_224936-kp1fom2z\\files\\model-best\\assets\n"
     ]
    },
    {
     "name": "stderr",
     "output_type": "stream",
     "text": [
      "INFO:tensorflow:Assets written to: D:\\10.semester\\NN\\neural-networks\\2.zadanie\\src\\wandb\\run-20230412_224936-kp1fom2z\\files\\model-best\\assets\n",
      "\u001b[34m\u001b[1mwandb\u001b[0m: Adding directory to artifact (D:\\10.semester\\NN\\neural-networks\\2.zadanie\\src\\wandb\\run-20230412_224936-kp1fom2z\\files\\model-best)... Done. 0.0s\n"
     ]
    },
    {
     "name": "stdout",
     "output_type": "stream",
     "text": [
      "782/782 [==============================] - 45s 57ms/step - loss: 0.6156 - accuracy: 0.7884 - val_loss: 0.8257 - val_accuracy: 0.7298 - lr: 0.0010\n",
      "Epoch 17/20\n",
      "782/782 [==============================] - 41s 52ms/step - loss: 0.5902 - accuracy: 0.7984 - val_loss: 0.8374 - val_accuracy: 0.7254 - lr: 0.0010\n",
      "Epoch 18/20\n",
      "782/782 [==============================] - 40s 52ms/step - loss: 0.5705 - accuracy: 0.8049 - val_loss: 0.9022 - val_accuracy: 0.7080 - lr: 0.0010\n",
      "Epoch 19/20\n",
      "782/782 [==============================] - 40s 51ms/step - loss: 0.5548 - accuracy: 0.8112 - val_loss: 0.8259 - val_accuracy: 0.7392 - lr: 0.0010\n",
      "Epoch 20/20\n",
      "781/782 [============================>.] - ETA: 0s - loss: 0.5353 - accuracy: 0.8182"
     ]
    },
    {
     "name": "stderr",
     "output_type": "stream",
     "text": [
      "WARNING:absl:Found untraced functions such as _jit_compiled_convolution_op, _jit_compiled_convolution_op, _jit_compiled_convolution_op, _jit_compiled_convolution_op, _jit_compiled_convolution_op while saving (showing 5 of 10). These functions will not be directly callable after loading.\n"
     ]
    },
    {
     "name": "stdout",
     "output_type": "stream",
     "text": [
      "INFO:tensorflow:Assets written to: D:\\10.semester\\NN\\neural-networks\\2.zadanie\\src\\wandb\\run-20230412_224936-kp1fom2z\\files\\model-best\\assets\n"
     ]
    },
    {
     "name": "stderr",
     "output_type": "stream",
     "text": [
      "INFO:tensorflow:Assets written to: D:\\10.semester\\NN\\neural-networks\\2.zadanie\\src\\wandb\\run-20230412_224936-kp1fom2z\\files\\model-best\\assets\n",
      "\u001b[34m\u001b[1mwandb\u001b[0m: Adding directory to artifact (D:\\10.semester\\NN\\neural-networks\\2.zadanie\\src\\wandb\\run-20230412_224936-kp1fom2z\\files\\model-best)... Done. 0.0s\n"
     ]
    },
    {
     "name": "stdout",
     "output_type": "stream",
     "text": [
      "782/782 [==============================] - 45s 58ms/step - loss: 0.5353 - accuracy: 0.8182 - val_loss: 0.8128 - val_accuracy: 0.7430 - lr: 0.0010\n",
      "157/157 - 1s - loss: 0.7438 - accuracy: 0.7620 - 1s/epoch - 8ms/step\n",
      "Test accuracy: 0.7620000243186951\n",
      "Test loss: 0.7438197731971741\n"
     ]
    }
   ],
   "source": [
    "import tensorflow as tf\n",
    "\n",
    "# Define the model architecture\n",
    "wandb.init(project=\"neural-network-assgiment2\")\n",
    "wandb.run.name = \"Pokus 12\"\n",
    "config = wandb.config\n",
    "config.learning_rate = 0.001\n",
    "config.batch_size = 64\n",
    "config.epochs = 20\n",
    "\n",
    "# Define the model architecture\n",
    "model = tf.keras.models.Sequential([\n",
    "    # First Convolutional layer\n",
    "    tf.keras.layers.Conv2D(32, (3, 3), strides=(2,2), activation='relu', input_shape=(32, 32, 3), padding='same'),\n",
    "    tf.keras.layers.Conv2D(32, (3, 3), activation='relu', padding='same'),\n",
    "    tf.keras.layers.Conv2D(32, (3, 3), activation='relu', padding='same'),\n",
    "    tf.keras.layers.BatchNormalization(),\n",
    "    tf.keras.layers.MaxPooling2D((2, 2)),\n",
    "    tf.keras.layers.Dropout(0.25),\n",
    "\n",
    "    # Second Convolutional layer\n",
    "    tf.keras.layers.Conv2D(64, (3, 3), strides=(2,2), activation='relu', padding='same'),\n",
    "    tf.keras.layers.Conv2D(64, (3, 3), activation='relu', padding='same'),\n",
    "    tf.keras.layers.Conv2D(64, (3, 3), activation='relu', padding='same'),\n",
    "    tf.keras.layers.BatchNormalization(),\n",
    "    tf.keras.layers.Dropout(0.25),\n",
    "\n",
    "    # Third Convolutional layer\n",
    "    tf.keras.layers.Conv2D(128, (3, 3), strides=(2,2), activation='relu', padding='same'),\n",
    "    tf.keras.layers.Conv2D(128, (3, 3), activation='relu', padding='same'),\n",
    "    tf.keras.layers.Conv2D(128, (3, 3), activation='relu', padding='same'),\n",
    "    tf.keras.layers.BatchNormalization(),\n",
    "    tf.keras.layers.MaxPooling2D((2, 2)),\n",
    "    tf.keras.layers.Dropout(0.25),\n",
    "\n",
    "    # Flatten the output from the convolutional layers\n",
    "    tf.keras.layers.Flatten(),\n",
    "\n",
    "    # Dense layer\n",
    "    tf.keras.layers.Dense(256, activation='relu'),\n",
    "    tf.keras.layers.BatchNormalization(),\n",
    "    tf.keras.layers.Dense(64, activation='relu'),\n",
    "    tf.keras.layers.Dropout(0.25),\n",
    "\n",
    "    # Output layer\n",
    "    tf.keras.layers.Dense(10, activation='softmax')\n",
    "])\n",
    "\n",
    "optimizer = tf.keras.optimizers.Adam(learning_rate=config.learning_rate)\n",
    "\n",
    "model.compile(optimizer=optimizer, loss='categorical_crossentropy', metrics=['accuracy'])\n",
    "\n",
    "early_stop = tf.keras.callbacks.EarlyStopping(monitor='val_loss', patience=10)\n",
    "lr_scheduler = tf.keras.callbacks.ReduceLROnPlateau(monitor='val_loss', factor=0.8, patience=5, min_lr=0.000001)\n",
    "\n",
    "history = model.fit(X_train, y_train, epochs=config.epochs, batch_size=config.batch_size, validation_data=(X_val, y_val), callbacks=[lr_scheduler,early_stop,WandbCallback()])\n",
    "\n",
    "# Evaluate the model\n",
    "val_loss, val_acc = model.evaluate(X_test, y_test, verbose=2)\n",
    "print('Test accuracy:', val_acc)\n",
    "print('Test loss:', val_loss)\n",
    "\n",
    "# Evaluate the model on the val set and log the results\n",
    "wandb.log({'Test loss': val_loss, 'Test accuracy': val_acc})"
   ]
  },
  {
   "cell_type": "code",
   "execution_count": 19,
   "id": "39683b30",
   "metadata": {},
   "outputs": [
    {
     "name": "stdout",
     "output_type": "stream",
     "text": [
      "Model: \"sequential_1\"\n",
      "_________________________________________________________________\n",
      " Layer (type)                Output Shape              Param #   \n",
      "=================================================================\n",
      " conv2d_3 (Conv2D)           (None, 16, 16, 32)        896       \n",
      "                                                                 \n",
      " conv2d_4 (Conv2D)           (None, 16, 16, 32)        9248      \n",
      "                                                                 \n",
      " conv2d_5 (Conv2D)           (None, 16, 16, 32)        9248      \n",
      "                                                                 \n",
      " batch_normalization_4 (Batc  (None, 16, 16, 32)       128       \n",
      " hNormalization)                                                 \n",
      "                                                                 \n",
      " max_pooling2d (MaxPooling2D  (None, 8, 8, 32)         0         \n",
      " )                                                               \n",
      "                                                                 \n",
      " dropout_1 (Dropout)         (None, 8, 8, 32)          0         \n",
      "                                                                 \n",
      " conv2d_6 (Conv2D)           (None, 4, 4, 64)          18496     \n",
      "                                                                 \n",
      " conv2d_7 (Conv2D)           (None, 4, 4, 64)          36928     \n",
      "                                                                 \n",
      " conv2d_8 (Conv2D)           (None, 4, 4, 64)          36928     \n",
      "                                                                 \n",
      " batch_normalization_5 (Batc  (None, 4, 4, 64)         256       \n",
      " hNormalization)                                                 \n",
      "                                                                 \n",
      " dropout_2 (Dropout)         (None, 4, 4, 64)          0         \n",
      "                                                                 \n",
      " conv2d_9 (Conv2D)           (None, 2, 2, 128)         73856     \n",
      "                                                                 \n",
      " conv2d_10 (Conv2D)          (None, 2, 2, 128)         147584    \n",
      "                                                                 \n",
      " conv2d_11 (Conv2D)          (None, 2, 2, 128)         147584    \n",
      "                                                                 \n",
      " batch_normalization_6 (Batc  (None, 2, 2, 128)        512       \n",
      " hNormalization)                                                 \n",
      "                                                                 \n",
      " max_pooling2d_1 (MaxPooling  (None, 1, 1, 128)        0         \n",
      " 2D)                                                             \n",
      "                                                                 \n",
      " dropout_3 (Dropout)         (None, 1, 1, 128)         0         \n",
      "                                                                 \n",
      " flatten_1 (Flatten)         (None, 128)               0         \n",
      "                                                                 \n",
      " dense_2 (Dense)             (None, 256)               33024     \n",
      "                                                                 \n",
      " batch_normalization_7 (Batc  (None, 256)              1024      \n",
      " hNormalization)                                                 \n",
      "                                                                 \n",
      " dense_3 (Dense)             (None, 64)                16448     \n",
      "                                                                 \n",
      " dropout_4 (Dropout)         (None, 64)                0         \n",
      "                                                                 \n",
      " dense_4 (Dense)             (None, 10)                650       \n",
      "                                                                 \n",
      "=================================================================\n",
      "Total params: 532,810\n",
      "Trainable params: 531,850\n",
      "Non-trainable params: 960\n",
      "_________________________________________________________________\n"
     ]
    }
   ],
   "source": [
    "model.summary()"
   ]
  },
  {
   "cell_type": "code",
   "execution_count": 20,
   "id": "0cc3d672",
   "metadata": {},
   "outputs": [
    {
     "data": {
      "image/png": "[encoded data removed]",
      "text/plain": [
       "<Figure size 640x480 with 1 Axes>"
      ]
     },
     "metadata": {},
     "output_type": "display_data"
    }
   ],
   "source": [
    "plt.plot(history.history['loss'], label='Training Loss')\n",
    "plt.plot(history.history['val_loss'], label='Validation Loss')\n",
    "plt.plot(history.history['accuracy'], label='Training Accuracy')\n",
    "plt.plot(history.history['val_accuracy'], label='Validation Accuracy')\n",
    "\n",
    "plt.xlabel('Epoch')\n",
    "plt.ylabel('Loss / Accuracy')\n",
    "plt.legend()\n",
    "plt.show()"
   ]
  },
  {
   "cell_type": "markdown",
   "id": "bea411ec",
   "metadata": {},
   "source": [
    "#### Augmentovany a normalizovany dataset"
   ]
  },
  {
   "cell_type": "code",
   "execution_count": null,
   "id": "92c407a2",
   "metadata": {},
   "outputs": [],
   "source": [
    "(X_train, y_train), (X_val, y_val) = cifar10.load_data()\n",
    "\n",
    "X_train = dataNormalisation(X_train)\n",
    "X_val = dataNormalisation(X_val)\n",
    "\n",
    "X_val, X_test, y_val, y_test = train_test_split(X_val, y_val, test_size=0.5, random_state=25)"
   ]
  },
  {
   "cell_type": "markdown",
   "id": "36dc62b4",
   "metadata": {},
   "source": [
    "Augmentacia dat, zvysenie poctu obrazkov o dvojnasobok"
   ]
  },
  {
   "cell_type": "code",
   "execution_count": null,
   "id": "d1ffd23e",
   "metadata": {},
   "outputs": [],
   "source": [
    "# Define the data augmentation generator\n",
    "datagen = ImageDataGenerator(\n",
    "    rotation_range=20,\n",
    "    width_shift_range=0.1,\n",
    "    height_shift_range=0.1,\n",
    "    horizontal_flip=True,\n",
    "    zoom_range=0.1)\n",
    "\n",
    "# Generate augmented images and labels\n",
    "augmented_images = []\n",
    "augmented_labels = []\n",
    "for i in range(X_train.shape[0]):\n",
    "    # Generate augmented image\n",
    "    augmented_image = datagen.random_transform(X_train[i])\n",
    "    # Append augmented image to list of augmented images\n",
    "    augmented_images.append(augmented_image)\n",
    "    # Append corresponding label to list of augmented labels\n",
    "    augmented_labels.append(y_train[i])\n",
    "\n",
    "# Convert the list of augmented images and labels to numpy arrays\n",
    "augmented_images = np.array(augmented_images)\n",
    "augmented_labels = np.array(augmented_labels)\n",
    "\n",
    "# Concatenate original images and labels with augmented images and labels\n",
    "X_train = np.concatenate((X_train, augmented_images))\n",
    "y_train = np.concatenate((y_train, augmented_labels))\n",
    "\n",
    "# Plot the original and augmented images\n",
    "fig, axes = plt.subplots(5, 2, figsize=(8, 20))\n",
    "for i in range(5):\n",
    "    # Plot the original image\n",
    "    axes[i, 0].imshow(X_train[i])\n",
    "    axes[i, 0].set_title(f\"Original image (class {y_train[i][0]})\")\n",
    "\n",
    "    # Plot the augmented image\n",
    "    axes[i, 1].imshow(augmented_images[i])\n",
    "    axes[i, 1].set_title(\"Augmented image\")\n",
    "plt.show()"
   ]
  },
  {
   "cell_type": "code",
   "execution_count": null,
   "id": "2441f15f",
   "metadata": {},
   "outputs": [],
   "source": [
    "print(X_train.shape)\n",
    "print(y_train.shape)"
   ]
  },
  {
   "cell_type": "code",
   "execution_count": null,
   "id": "89b93407",
   "metadata": {},
   "outputs": [],
   "source": [
    "# one hot encoding\n",
    "y_train = tf.keras.utils.to_categorical(y_train)\n",
    "y_val = tf.keras.utils.to_categorical(y_val)\n",
    "y_test = tf.keras.utils.to_categorical(y_test)"
   ]
  },
  {
   "cell_type": "code",
   "execution_count": null,
   "id": "e3566b86",
   "metadata": {},
   "outputs": [],
   "source": [
    "model = keras.Sequential([\n",
    "    layers.Conv2D(32, kernel_size=(3, 3), activation='relu', input_shape=(32, 32, 3)),\n",
    "    layers.MaxPooling2D(pool_size=(2, 2)),\n",
    "    layers.Conv2D(64, kernel_size=(3, 3), activation='relu'),\n",
    "    layers.MaxPooling2D(pool_size=(2, 2)),\n",
    "    layers.Flatten(),\n",
    "    layers.Dense(512, activation='relu'),\n",
    "    layers.Dense(10, activation='softmax')\n",
    "])\n",
    "\n",
    "model.compile(optimizer='adam', loss='sparse_categorical_crossentropy', metrics=['accuracy'])\n",
    "\n",
    "history = model.fit(X_train, y_train, epochs=5, validation_data=(X_val, y_val))\n",
    "\n",
    "test_loss, test_acc = model.evaluate(X_test, y_test)"
   ]
  },
  {
   "cell_type": "code",
   "execution_count": null,
   "id": "023dd6eb",
   "metadata": {},
   "outputs": [],
   "source": [
    "print('Test loss:', test_loss)\n",
    "print('Test accuracy:', test_acc)"
   ]
  },
  {
   "cell_type": "code",
   "execution_count": null,
   "id": "59b8abe1",
   "metadata": {},
   "outputs": [],
   "source": [
    "plt.plot(history.history['loss'], label='Training Loss')\n",
    "plt.plot(history.history['val_loss'], label='Validation Loss')\n",
    "plt.plot(history.history['accuracy'], label='Training Accuracy')\n",
    "plt.plot(history.history['val_accuracy'], label='Validation Accuracy')\n",
    "\n",
    "plt.xlabel('Epoch')\n",
    "plt.ylabel('Loss / Accuracy')\n",
    "plt.legend()\n",
    "plt.show()"
   ]
  }
 ],
 "metadata": {
  "kernelspec": {
   "display_name": "Python 3 (ipykernel)",
   "language": "python",
   "name": "python3"
  },
  "language_info": {
   "codemirror_mode": {
    "name": "ipython",
    "version": 3
   },
   "file_extension": ".py",
   "mimetype": "text/x-python",
   "name": "python",
   "nbconvert_exporter": "python",
   "pygments_lexer": "ipython3",
   "version": "3.9.13"
  }
 },
 "nbformat": 4,
 "nbformat_minor": 5
}
